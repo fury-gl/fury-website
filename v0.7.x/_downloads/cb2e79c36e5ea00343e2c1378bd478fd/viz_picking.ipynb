{
  "cells": [
    {
      "cell_type": "code",
      "execution_count": null,
      "metadata": {
        "collapsed": false
      },
      "outputs": [],
      "source": [
        "%matplotlib inline"
      ]
    },
    {
      "cell_type": "markdown",
      "metadata": {},
      "source": [
        "\n# Simple picking\n\n\nHere we present a tutorial showing how to interact with objects in the\n3D world. All objects to be picked are part of a single actor.\nFURY likes to bundle objects in a few actors to reduce code and\nincrease speed.\n\nWhen the objects will be picked they will change size and color.\n"
      ]
    },
    {
      "cell_type": "code",
      "execution_count": null,
      "metadata": {
        "collapsed": false
      },
      "outputs": [],
      "source": [
        "import numpy as np\nfrom fury import actor, window, ui, utils, pick\n\ncenters = 0.5 * np.array([[0, 0, 0], [100, 0, 0], [200, 0, 0.]])\ncolors = np.array([[0.8, 0, 0], [0, 0.8, 0], [0, 0, 0.8]])\nradii = 0.1 * np.array([50, 100, 150.])\n\nselected = np.zeros(3, dtype=bool)"
      ]
    },
    {
      "cell_type": "markdown",
      "metadata": {},
      "source": [
        "Let's create a panel to show what is picked\n\n"
      ]
    },
    {
      "cell_type": "code",
      "execution_count": null,
      "metadata": {
        "collapsed": false
      },
      "outputs": [],
      "source": [
        "panel = ui.Panel2D(size=(400, 200), color=(1, .5, .0), align=\"right\")\npanel.center = (150, 200)\n\ntext_block = ui.TextBlock2D(text=\"Left click on object \\n\")\npanel.add_element(text_block, (0.3, 0.3))"
      ]
    },
    {
      "cell_type": "markdown",
      "metadata": {},
      "source": [
        "Build scene and add an actor with many objects.\n\n"
      ]
    },
    {
      "cell_type": "code",
      "execution_count": null,
      "metadata": {
        "collapsed": false
      },
      "outputs": [],
      "source": [
        "scene = window.Scene()\n\nlabel_actor = actor.label(text='Test')"
      ]
    },
    {
      "cell_type": "markdown",
      "metadata": {},
      "source": [
        "This actor is made with 3 cubes of different orientation\n\n"
      ]
    },
    {
      "cell_type": "code",
      "execution_count": null,
      "metadata": {
        "collapsed": false
      },
      "outputs": [],
      "source": [
        "directions = np.array([[np.sqrt(2)/2, 0, np.sqrt(2)/2],\n                       [np.sqrt(2)/2, np.sqrt(2)/2, 0],\n                       [0, np.sqrt(2)/2, np.sqrt(2)/2]])\nfury_actor = actor.cube(centers, directions, colors, heights=radii)"
      ]
    },
    {
      "cell_type": "markdown",
      "metadata": {},
      "source": [
        "Access the memory of the vertices of all the cubes\n\n"
      ]
    },
    {
      "cell_type": "code",
      "execution_count": null,
      "metadata": {
        "collapsed": false
      },
      "outputs": [],
      "source": [
        "vertices = utils.vertices_from_actor(fury_actor)\nnum_vertices = vertices.shape[0]\nnum_objects = centers.shape[0]"
      ]
    },
    {
      "cell_type": "markdown",
      "metadata": {},
      "source": [
        "Access the memory of the colors of all the cubes\n\n"
      ]
    },
    {
      "cell_type": "code",
      "execution_count": null,
      "metadata": {
        "collapsed": false
      },
      "outputs": [],
      "source": [
        "vcolors = utils.colors_from_actor(fury_actor, 'colors')"
      ]
    },
    {
      "cell_type": "markdown",
      "metadata": {},
      "source": [
        "Adding an actor showing the axes of the world coordinates\n\n"
      ]
    },
    {
      "cell_type": "code",
      "execution_count": null,
      "metadata": {
        "collapsed": false
      },
      "outputs": [],
      "source": [
        "ax = actor.axes(scale=(10, 10, 10))\n\nscene.add(fury_actor)\nscene.add(label_actor)\nscene.add(ax)\nscene.reset_camera()"
      ]
    },
    {
      "cell_type": "markdown",
      "metadata": {},
      "source": [
        "Create the Picking manager\n\n"
      ]
    },
    {
      "cell_type": "code",
      "execution_count": null,
      "metadata": {
        "collapsed": false
      },
      "outputs": [],
      "source": [
        "pickm = pick.PickingManager()"
      ]
    },
    {
      "cell_type": "markdown",
      "metadata": {},
      "source": [
        "Time to make the callback which will be called when we pick an object\n\n"
      ]
    },
    {
      "cell_type": "code",
      "execution_count": null,
      "metadata": {
        "collapsed": false
      },
      "outputs": [],
      "source": [
        "def left_click_callback(obj, event):\n\n    # Get the event position on display and pick\n\n    event_pos = pickm.event_position(showm.iren)\n    picked_info = pickm.pick(event_pos, showm.scene)\n\n    vertex_index = picked_info['vertex']\n\n    # Calculate the objects index\n\n    object_index = int(np.floor((vertex_index / num_vertices) *\n                          num_objects))\n\n    # Find how many vertices correspond to each object\n    sec = int(num_vertices / num_objects)\n\n    if not selected[object_index]:\n        scale = 6/5\n        color_add = np.array([30, 30, 30], dtype='uint8')\n        selected[object_index] = True\n    else:\n        scale = 5/6\n        color_add = np.array([-30, -30, -30], dtype='uint8')\n        selected[object_index] = False\n\n    # Update vertices positions\n    vertices[object_index * sec: object_index * sec + sec] = scale * \\\n        (vertices[object_index * sec: object_index * sec + sec] -\n         centers[object_index]) + centers[object_index]\n\n    # Update colors\n    vcolors[object_index * sec: object_index * sec + sec] += color_add\n\n    # Tell actor that memory is modified\n    utils.update_actor(fury_actor)\n\n    face_index = picked_info['face']\n\n    # Show some info\n    text = 'Object ' + str(object_index) + '\\n'\n    text += 'Vertex ID ' + str(vertex_index) + '\\n'\n    text += 'Face ID ' + str(face_index) + '\\n'\n    text += 'World pos ' + str(np.round(picked_info['xyz'], 2)) + '\\n'\n    text += 'Actor ID ' + str(id(picked_info['actor']))\n    text_block.message = text\n    showm.render()"
      ]
    },
    {
      "cell_type": "markdown",
      "metadata": {},
      "source": [
        "Bind the callback to the actor\n\n"
      ]
    },
    {
      "cell_type": "code",
      "execution_count": null,
      "metadata": {
        "collapsed": false
      },
      "outputs": [],
      "source": [
        "fury_actor.AddObserver('LeftButtonPressEvent', left_click_callback, 1)"
      ]
    },
    {
      "cell_type": "markdown",
      "metadata": {},
      "source": [
        "Make the window appear\n\n"
      ]
    },
    {
      "cell_type": "code",
      "execution_count": null,
      "metadata": {
        "collapsed": false
      },
      "outputs": [],
      "source": [
        "showm = window.ShowManager(scene, size=(1024, 768), order_transparent=True)\nshowm.initialize()\nscene.add(panel)"
      ]
    },
    {
      "cell_type": "markdown",
      "metadata": {},
      "source": [
        "Change interactive to True to start interacting with the scene\n\n"
      ]
    },
    {
      "cell_type": "code",
      "execution_count": null,
      "metadata": {
        "collapsed": false
      },
      "outputs": [],
      "source": [
        "interactive = False\n\nif interactive:\n\n    showm.start()"
      ]
    },
    {
      "cell_type": "markdown",
      "metadata": {},
      "source": [
        "Save the current framebuffer in a PNG file\n\n"
      ]
    },
    {
      "cell_type": "code",
      "execution_count": null,
      "metadata": {
        "collapsed": false
      },
      "outputs": [],
      "source": [
        "window.record(showm.scene, size=(1024, 768), out_path=\"viz_picking.png\")"
      ]
    }
  ],
  "metadata": {
    "kernelspec": {
      "display_name": "Python 3",
      "language": "python",
      "name": "python3"
    },
    "language_info": {
      "codemirror_mode": {
        "name": "ipython",
        "version": 3
      },
      "file_extension": ".py",
      "mimetype": "text/x-python",
      "name": "python",
      "nbconvert_exporter": "python",
      "pygments_lexer": "ipython3",
      "version": "3.7.4"
    }
  },
  "nbformat": 4,
  "nbformat_minor": 0
}