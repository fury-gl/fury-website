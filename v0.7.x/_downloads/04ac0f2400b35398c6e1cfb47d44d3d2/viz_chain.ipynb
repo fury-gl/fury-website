{
  "cells": [
    {
      "cell_type": "code",
      "execution_count": null,
      "metadata": {
        "collapsed": false
      },
      "outputs": [],
      "source": [
        "%matplotlib inline"
      ]
    },
    {
      "cell_type": "markdown",
      "metadata": {},
      "source": [
        "\n# Chain Simulation\n\n\nThis example simulation shows how to use pybullet to render physics simulations\nin fury. In this example we specifically render a Chain oscillating to and fro.\n\nFirst some imports.\n"
      ]
    },
    {
      "cell_type": "code",
      "execution_count": null,
      "metadata": {
        "collapsed": false
      },
      "outputs": [],
      "source": [
        "import numpy as np\nfrom fury import window, actor, ui, utils\nimport itertools\nimport pybullet as p"
      ]
    },
    {
      "cell_type": "markdown",
      "metadata": {},
      "source": [
        "Setup pybullet and add gravity.\n\n"
      ]
    },
    {
      "cell_type": "code",
      "execution_count": null,
      "metadata": {
        "collapsed": false
      },
      "outputs": [],
      "source": [
        "p.connect(p.DIRECT)\n\n# Apply gravity to the scene.\np.setGravity(0, 0, -10)"
      ]
    },
    {
      "cell_type": "markdown",
      "metadata": {},
      "source": [
        "Now we render the Chain using the following parameters and definitions.\n\n"
      ]
    },
    {
      "cell_type": "code",
      "execution_count": null,
      "metadata": {
        "collapsed": false
      },
      "outputs": [],
      "source": [
        "# Parameters\nn_links = 20\ndx_link = 0.1  # Size of segments\nlink_mass = 0.5\nbase_mass = 0.1\nradii = 0.5\n\njoint_friction = 0.0005  # rotational joint friction [N/(rad/s)]\n\nlink_shape = p.createCollisionShape(p.GEOM_CYLINDER,\n                                    radius=radii,\n                                    height=dx_link,\n                                    collisionFramePosition=[0, 0, -dx_link / 2])\n\nbase_shape = p.createCollisionShape(p.GEOM_BOX,\n                                    halfExtents=[0.01, 0.01, 0.01])\n\nvisualShapeId = -1\n\nlink_Masses = np.zeros(n_links)\nlink_Masses[:] = link_mass\n\nlinkCollisionShapeIndices = np.zeros(n_links)\nlinkCollisionShapeIndices[:] = np.array(link_shape)\nlinkVisualShapeIndices = -1 * np.ones(n_links)\nlinkPositions = np.zeros((n_links, 3))\nlinkPositions[:] = np.array([0, 0, -dx_link])\nlinkOrientations = np.zeros((n_links, 4))\nlinkOrientations[:] = np.array([0, 0, 0, 1])\nlinkInertialFramePositions = np.zeros((n_links, 3))\nlinkInertialFrameOrns = np.zeros((n_links, 4))\nlinkInertialFrameOrns[:] = np.array([0, 0, 0, 1])\nindices = np.arange(n_links)\njointTypes = np.zeros(n_links)\njointTypes[:] = np.array(p.JOINT_SPHERICAL)\naxis = np.zeros((n_links, 3))\naxis[:] = np.array([1, 0, 0])\n\nlinkDirections = np.zeros((n_links, 3))\nlinkDirections[:] = np.array([1, 1, 1])\n\nlink_radii = np.zeros(n_links)\nlink_radii[:] = radii\n\nlink_heights = np.zeros(n_links)\nlink_heights[:] = dx_link\n\nrope_actor = actor.cylinder(centers=linkPositions,\n                            directions=linkDirections,\n                            colors=np.random.rand(n_links, 3),\n                            radius=radii,\n                            heights=link_heights, capped=True)\n\nbasePosition = [0, 0, 2]\nbaseOrientation = [0, 0, 0, 1]\nrope = p.createMultiBody(base_mass,\n                         base_shape,\n                         visualShapeId,\n                         basePosition,\n                         baseOrientation,\n                         linkMasses=link_Masses,\n                         linkCollisionShapeIndices=linkCollisionShapeIndices,\n                         linkVisualShapeIndices=linkVisualShapeIndices,\n                         linkPositions=linkPositions,\n                         linkOrientations=linkOrientations,\n                         linkInertialFramePositions=linkInertialFramePositions,\n                         linkInertialFrameOrientations=linkInertialFrameOrns,\n                         linkParentIndices=indices,\n                         linkJointTypes=jointTypes,\n                         linkJointAxis=axis)"
      ]
    },
    {
      "cell_type": "markdown",
      "metadata": {},
      "source": [
        "We remove stiffness among the joints by adding friction to them.\n\n"
      ]
    },
    {
      "cell_type": "code",
      "execution_count": null,
      "metadata": {
        "collapsed": false
      },
      "outputs": [],
      "source": [
        "friction_vec = [joint_friction] * 3  # same all axis\ncontrol_mode = p.POSITION_CONTROL  # set pos control mode\nfor j in range(p.getNumJoints(rope)):\n    p.setJointMotorControlMultiDof(rope, j, control_mode,\n                                   targetPosition=[0, 0, 0, 1],\n                                   targetVelocity=[0, 0, 0],\n                                   positionGain=0,\n                                   velocityGain=1,\n                                   force=friction_vec)"
      ]
    },
    {
      "cell_type": "markdown",
      "metadata": {},
      "source": [
        "Next, we define a constraint base that will help us in the oscillation of the\nchain.\n\n"
      ]
    },
    {
      "cell_type": "code",
      "execution_count": null,
      "metadata": {
        "collapsed": false
      },
      "outputs": [],
      "source": [
        "root_robe_c = p.createConstraint(rope, -1, -1, -1,\n                                 p.JOINT_FIXED, [0, 0, 0],\n                                 [0, 0, 0], [0, 0, 2])\n\n# some traj to inject motion\namplitude_x = 0.3\namplitude_y = 0.0\nfreq = 0.6\n\nbase_actor = actor.box(centers=np.array([[0, 0, 0]]),\n                       directions=np.array([[0, 0, 0]]),\n                       scales=(0.02, 0.02, 0.02),\n                       colors=np.array([[1, 0, 0]]))"
      ]
    },
    {
      "cell_type": "markdown",
      "metadata": {},
      "source": [
        "We add the necessary actors to the scene.\n\n"
      ]
    },
    {
      "cell_type": "code",
      "execution_count": null,
      "metadata": {
        "collapsed": false
      },
      "outputs": [],
      "source": [
        "scene = window.Scene()\nscene.background((1, 1, 1))\nscene.set_camera((2.2, -3.0, 3.0), (-0.3, 0.6, 0.7), (-0.2, 0.2, 1.0))\nscene.add(actor.axes(scale=(0.1, 0.1, 0.1)))\nscene.add(rope_actor)\nscene.add(base_actor)\n\n# Create show manager.\nshowm = window.ShowManager(scene,\n                           size=(900, 768), reset_camera=False,\n                           order_transparent=True)\n\nshowm.initialize()\n\n# Counter interator for tracking simulation steps.\ncounter = itertools.count()"
      ]
    },
    {
      "cell_type": "markdown",
      "metadata": {},
      "source": [
        "We define a couple of syncing methods for the base and chain.\n\n"
      ]
    },
    {
      "cell_type": "code",
      "execution_count": null,
      "metadata": {
        "collapsed": false
      },
      "outputs": [],
      "source": [
        "# Function for syncing actors with multi-bodies.\ndef sync_actor(actor, multibody):\n    pos, orn = p.getBasePositionAndOrientation(multibody)\n    actor.SetPosition(*pos)\n    orn_deg = np.degrees(p.getEulerFromQuaternion(orn))\n    actor.SetOrientation(*orn_deg)\n\n\nvertices = utils.vertices_from_actor(rope_actor)\nnum_vertices = vertices.shape[0]\nnum_objects = linkPositions.shape[0]\nsec = np.int(num_vertices / num_objects)\n\n\ndef sync_joints(actor_list, multibody):\n    for joint in range(p.getNumJoints(multibody)):\n        # `p.getLinkState` offers various information about the joints\n        # as a list and the values in 4th and 5th index refer to the joint's\n        # position and orientation respectively.\n        pos, orn = p.getLinkState(multibody, joint)[4:6]\n\n        rot_mat = np.reshape(\n            p.getMatrixFromQuaternion(\n                p.getDifferenceQuaternion(orn, linkOrientations[joint])),\n            (3, 3))\n\n        vertices[joint * sec: joint * sec + sec] = \\\n            (vertices[joint * sec: joint * sec + sec] -\n             linkPositions[joint]) @ rot_mat + pos\n\n        linkPositions[joint] = pos\n        linkOrientations[joint] = orn"
      ]
    },
    {
      "cell_type": "markdown",
      "metadata": {},
      "source": [
        "We define a TextBlock to display the Avg. FPS and Simulation steps.\n\n"
      ]
    },
    {
      "cell_type": "code",
      "execution_count": null,
      "metadata": {
        "collapsed": false
      },
      "outputs": [],
      "source": [
        "fpss = np.array([])\ntb = ui.TextBlock2D(position=(0, 680), font_size=30, color=(1, 0.5, 0),\n                    text=\"Avg. FPS: \\nSim Steps: \")\nscene.add(tb)\n\nt = 0.0\nfreq_sim = 240"
      ]
    },
    {
      "cell_type": "markdown",
      "metadata": {},
      "source": [
        "Timer callback to sync objects, simulate steps and oscillate the base.\n\n"
      ]
    },
    {
      "cell_type": "code",
      "execution_count": null,
      "metadata": {
        "collapsed": false
      },
      "outputs": [],
      "source": [
        "def timer_callback(_obj, _event):\n    cnt = next(counter)\n    global t, fpss\n    showm.render()\n\n    t += 1. / freq_sim\n\n    if cnt % 1 == 0:\n        fps = scene.frame_rate\n        fpss = np.append(fpss, fps)\n        tb.message = \"Avg. FPS: \" + str(np.round(np.mean(fpss), 0)) + \\\n                     \"\\nSim Steps: \" + str(cnt)\n\n    # some trajectory\n    ux = amplitude_x * np.sin(2 * np.pi * freq * t)\n    uy = amplitude_y * np.cos(2 * np.pi * freq * t)\n\n    # move base around\n    pivot = [3 * ux, uy, 2]\n    orn = p.getQuaternionFromEuler([0, 0, 0])\n    p.changeConstraint(root_robe_c, pivot, jointChildFrameOrientation=orn,\n                       maxForce=500)\n\n    # Sync base and chain.\n    sync_actor(base_actor, rope)\n    sync_joints(rope_actor, rope)\n    utils.update_actor(rope_actor)\n\n    # Simulate a step.\n    p.stepSimulation()\n\n    # Exit after 2000 steps of simulation.\n    if cnt == 130:\n        showm.exit()\n\n\n# Add the timer callback to showmanager.\n# Increasing the duration value will slow down the simulation.\nshowm.add_timer_callback(True, 1, timer_callback)\n\ninteractive = False\n\n# start simulation\nif interactive:\n    showm.start()\n\nwindow.record(scene, size=(900, 768), out_path=\"viz_chain.png\")"
      ]
    }
  ],
  "metadata": {
    "kernelspec": {
      "display_name": "Python 3",
      "language": "python",
      "name": "python3"
    },
    "language_info": {
      "codemirror_mode": {
        "name": "ipython",
        "version": 3
      },
      "file_extension": ".py",
      "mimetype": "text/x-python",
      "name": "python",
      "nbconvert_exporter": "python",
      "pygments_lexer": "ipython3",
      "version": "3.7.4"
    }
  },
  "nbformat": 4,
  "nbformat_minor": 0
}