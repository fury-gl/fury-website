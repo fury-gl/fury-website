{
  "cells": [
    {
      "cell_type": "code",
      "execution_count": null,
      "metadata": {
        "collapsed": false
      },
      "outputs": [],
      "source": [
        "%matplotlib inline"
      ]
    },
    {
      "cell_type": "markdown",
      "metadata": {},
      "source": [
        "\n# Motion of a charged particle in a combined magnetic and electric field\n\n\nA charged particle follows a curved path in a magnetic field.\nIn an electric field, the particle tends to accelerate in a direction\nparallel/antiparallel to the electric field depending on the nature of\ncharge on the particle. In a combined electric and magnetic field,\nthe particle moves along a helical path.\n\nIn this animation, there's a magnetic and an electric field present in +x\ndirection under whose influence the positively charged particle follows a\nhelical path.\n\nImporting necessary modules\n"
      ]
    },
    {
      "cell_type": "code",
      "execution_count": null,
      "metadata": {
        "collapsed": false
      },
      "outputs": [],
      "source": [
        "from fury import window, actor, utils, ui\nimport numpy as np\nimport itertools"
      ]
    },
    {
      "cell_type": "markdown",
      "metadata": {},
      "source": [
        "Let's define some variable and their description:\n\n* `radius_particle`: radius of the point that will represent the particle\n  (default = 0.08)\n* `initial_velocity`: initial velocity of the particle along +x\n  (default = 0.09)\n* `acc`: acceleration of the particle along +x (due to the electric field)\n  (default = 0.004)\n* `time`: time (default time i.e. time at beginning of the animation = 0)\n* `incre_time`: value by which time is incremented for each call of\n  timer_callback (default = 0.09)\n* `angular_frq`: angular frequency (default = 0.1)\n* `phase_angle`: phase angle (default = 0.002)\n\n\n"
      ]
    },
    {
      "cell_type": "code",
      "execution_count": null,
      "metadata": {
        "collapsed": false
      },
      "outputs": [],
      "source": [
        "radius_particle = 0.08\ninitial_velocity = 0.09\nacc = 0.004\ntime = 0\nincre_time = 0.09\nangular_frq = 0.1\nphase_angle = 0.002"
      ]
    },
    {
      "cell_type": "markdown",
      "metadata": {},
      "source": [
        "Creating a scene object and configuring the camera's position\n\n"
      ]
    },
    {
      "cell_type": "code",
      "execution_count": null,
      "metadata": {
        "collapsed": false
      },
      "outputs": [],
      "source": [
        "scene = window.Scene()\nscene.zoom(1.2)\nscene.set_camera(position=(10, 12.5, 19), focal_point=(3.0, 0.0, 0.0),\n                 view_up=(0.0, 0.0, 0.0))\nshowm = window.ShowManager(scene,\n                           size=(800, 600), reset_camera=True,\n                           order_transparent=True)\nshowm.initialize()"
      ]
    },
    {
      "cell_type": "markdown",
      "metadata": {},
      "source": [
        "Creating a blue colored arrow which shows the direction of magnetic field and\nelectric field.\n\n"
      ]
    },
    {
      "cell_type": "code",
      "execution_count": null,
      "metadata": {
        "collapsed": false
      },
      "outputs": [],
      "source": [
        "color_arrow = window.colors.blue  # color of the arrow can be manipulated\ncenters = np.array([[0, 0, 0]])\ndirections = np.array([[1, 0, 0]])\nheights = np.array([8])\narrow_actor = actor.arrow(centers, directions, color_arrow, heights,\n                          resolution=20, tip_length=0.06, tip_radius=0.012,\n                          shaft_radius=0.005)\nscene.add(arrow_actor)"
      ]
    },
    {
      "cell_type": "markdown",
      "metadata": {},
      "source": [
        "Initializing the initial coordinates of the particle\n\n"
      ]
    },
    {
      "cell_type": "code",
      "execution_count": null,
      "metadata": {
        "collapsed": false
      },
      "outputs": [],
      "source": [
        "x = initial_velocity*time + 0.5*acc*(time**2)\ny = np.sin(angular_frq*time + phase_angle)\nz = np.cos(angular_frq*time + phase_angle)"
      ]
    },
    {
      "cell_type": "markdown",
      "metadata": {},
      "source": [
        "Initializing point actor which will represent the charged particle\n\n"
      ]
    },
    {
      "cell_type": "code",
      "execution_count": null,
      "metadata": {
        "collapsed": false
      },
      "outputs": [],
      "source": [
        "color_particle = window.colors.red  # color of particle can be manipulated\npts = np.array([[x, y, z]])\ncharge_actor = actor.point(pts, color_particle, point_radius=radius_particle)\nscene.add(charge_actor)\n\nvertices = utils.vertices_from_actor(charge_actor)\nvcolors = utils.colors_from_actor(charge_actor, 'colors')\nno_vertices_per_point = len(vertices)\ninitial_vertices = vertices.copy() - \\\n    np.repeat(pts, no_vertices_per_point, axis=0)"
      ]
    },
    {
      "cell_type": "markdown",
      "metadata": {},
      "source": [
        "Initializing text box to display the name of the animation\n\n"
      ]
    },
    {
      "cell_type": "code",
      "execution_count": null,
      "metadata": {
        "collapsed": false
      },
      "outputs": [],
      "source": [
        "tb = ui.TextBlock2D(bold=True, position=(100, 90))\nm1 = \"Motion of a charged particle in a \"\nm2 = \"combined electric and magnetic field\"\ntb.message = m1 + m2\nscene.add(tb)"
      ]
    },
    {
      "cell_type": "markdown",
      "metadata": {},
      "source": [
        "Initializing counter\n\n"
      ]
    },
    {
      "cell_type": "code",
      "execution_count": null,
      "metadata": {
        "collapsed": false
      },
      "outputs": [],
      "source": [
        "counter = itertools.count()"
      ]
    },
    {
      "cell_type": "markdown",
      "metadata": {},
      "source": [
        "end is used to decide when to end the animation\n\n"
      ]
    },
    {
      "cell_type": "code",
      "execution_count": null,
      "metadata": {
        "collapsed": false
      },
      "outputs": [],
      "source": [
        "end = 200"
      ]
    },
    {
      "cell_type": "markdown",
      "metadata": {},
      "source": [
        "This will be useful for plotting path of the particle\n\n"
      ]
    },
    {
      "cell_type": "code",
      "execution_count": null,
      "metadata": {
        "collapsed": false
      },
      "outputs": [],
      "source": [
        "coor_1 = np.array([0, 0, 0])"
      ]
    },
    {
      "cell_type": "markdown",
      "metadata": {},
      "source": [
        "Coordinates to be plotted are changed everytime timer_callback is called by\nusing the update_coordinates function. The wave is rendered here.\n\n"
      ]
    },
    {
      "cell_type": "code",
      "execution_count": null,
      "metadata": {
        "collapsed": false
      },
      "outputs": [],
      "source": [
        "def timer_callback(_obj, _event):\n    global pts, time, incre_time, coor_1\n    time += incre_time\n    cnt = next(counter)\n\n    x = initial_velocity*time + 0.5*acc*(time**2)\n    y = np.sin(10*angular_frq*time + phase_angle)\n    z = np.cos(10*angular_frq*time + phase_angle)\n    pts = np.array([[x, y, z]])\n\n    vertices[:] = initial_vertices + \\\n        np.repeat(pts, no_vertices_per_point, axis=0)\n\n    utils.update_actor(charge_actor)\n\n    # Plotting the path followed by the particle\n    coor_2 = np.array([x, y, z])\n    coors = np.array([coor_1, coor_2])\n    coors = [coors]\n    line_actor = actor.line(coors, window.colors.cyan, linewidth=3)\n    scene.add(line_actor)\n    coor_1 = coor_2\n\n    showm.render()\n\n    # to end the animation\n    if cnt == end:\n        showm.exit()"
      ]
    },
    {
      "cell_type": "markdown",
      "metadata": {},
      "source": [
        "Run every 15 milliseconds\n\n"
      ]
    },
    {
      "cell_type": "code",
      "execution_count": null,
      "metadata": {
        "collapsed": false
      },
      "outputs": [],
      "source": [
        "showm.add_timer_callback(True, 15, timer_callback)\nshowm.start()\nwindow.record(showm.scene, size=(800, 600), out_path=\"viz_helical_motion.png\")"
      ]
    }
  ],
  "metadata": {
    "kernelspec": {
      "display_name": "Python 3",
      "language": "python",
      "name": "python3"
    },
    "language_info": {
      "codemirror_mode": {
        "name": "ipython",
        "version": 3
      },
      "file_extension": ".py",
      "mimetype": "text/x-python",
      "name": "python",
      "nbconvert_exporter": "python",
      "pygments_lexer": "ipython3",
      "version": "3.7.4"
    }
  },
  "nbformat": 4,
  "nbformat_minor": 0
}