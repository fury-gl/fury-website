{
  "cells": [
    {
      "cell_type": "code",
      "execution_count": null,
      "metadata": {
        "collapsed": false
      },
      "outputs": [],
      "source": [
        "%matplotlib inline"
      ]
    },
    {
      "cell_type": "markdown",
      "metadata": {},
      "source": [
        "\n# Solar System Animation\n\n\nIn this tutorial, we will create an animation of the solar system\nusing textured spheres. We will also show how to manipulate the\nposition of these sphere actors in a timer_callback function\nto simulate orbital motion.\n"
      ]
    },
    {
      "cell_type": "code",
      "execution_count": null,
      "metadata": {
        "collapsed": false
      },
      "outputs": [],
      "source": [
        "import numpy as np\nfrom fury import window, actor, utils, io\nimport itertools\nfrom fury.data import read_viz_textures, fetch_viz_textures"
      ]
    },
    {
      "cell_type": "markdown",
      "metadata": {},
      "source": [
        "Create a scene to start.\n\n"
      ]
    },
    {
      "cell_type": "code",
      "execution_count": null,
      "metadata": {
        "collapsed": false
      },
      "outputs": [],
      "source": [
        "scene = window.Scene()"
      ]
    },
    {
      "cell_type": "markdown",
      "metadata": {},
      "source": [
        "Load in a texture for each of the actors. To do this, we will create\na function called ``init_planet``, which will initialize each planet actor\ngiven its corresponding filename and actor name. It will also add each\nactor to the scene that has already been created.\n\n"
      ]
    },
    {
      "cell_type": "code",
      "execution_count": null,
      "metadata": {
        "collapsed": false
      },
      "outputs": [],
      "source": [
        "planet_filenames = [\"8k_mercury.jpg\", \"8k_venus_surface.jpg\",\n                    \"1_earth_8k.jpg\", \"8k_mars.jpg\", \"jupiter.jpg\",\n                    \"8k_saturn.jpg\", \"8k_saturn_ring_alpha.png\",\n                    \"2k_uranus.jpg\", \"2k_neptune.jpg\",\n                    \"8k_sun.jpg\"]\nfetch_viz_textures()\n\n\ndef init_planet(filename):\n    \"\"\"Initialize a planet actor.\n\n    Parameters\n    ----------\n    filename : str\n        The filename for the corresponding planet texture.\n\n    Returns\n    -------\n    planet_actor: actor\n        The corresponding sphere actor with texture applied.\n    \"\"\"\n    planet_file = read_viz_textures(filename)\n    planet_image = io.load_image(planet_file)\n    planet_actor = actor.texture_on_sphere(planet_image)\n    scene.add(planet_actor)\n    return planet_actor"
      ]
    },
    {
      "cell_type": "markdown",
      "metadata": {},
      "source": [
        "Use the ``map`` function to create actors for each of the texture files\nin the ``planet_files`` list. Then, assign each actor to its corresponding\nactor in the list.\n\n"
      ]
    },
    {
      "cell_type": "code",
      "execution_count": null,
      "metadata": {
        "collapsed": false
      },
      "outputs": [],
      "source": [
        "planet_actor_list = list(map(init_planet, planet_filenames))\n\nmercury_actor = planet_actor_list[0]\nvenus_actor = planet_actor_list[1]\nearth_actor = planet_actor_list[2]\nmars_actor = planet_actor_list[3]\njupiter_actor = planet_actor_list[4]\nsaturn_actor = planet_actor_list[5]\nsaturn_rings_actor = planet_actor_list[6]\nuranus_actor = planet_actor_list[7]\nneptune_actor = planet_actor_list[8]\nsun_actor = planet_actor_list[9]\n\n# Rotate this actor to correctly orient the texture\nutils.rotate(jupiter_actor, (90, 1, 0, 0))"
      ]
    },
    {
      "cell_type": "markdown",
      "metadata": {},
      "source": [
        "Next, change the positions and scales of the planets according to their\nposition and size within the solar system (relatively). For the purpose\nof this tutorial, planet sizes and positions will not be completely\naccurate.\n\n"
      ]
    },
    {
      "cell_type": "code",
      "execution_count": null,
      "metadata": {
        "collapsed": false
      },
      "outputs": [],
      "source": [
        "sun_actor.SetScale(10, 10, 10)\nmercury_actor.SetScale(0.4, 0.4, 0.4)\nvenus_actor.SetScale(0.6, 0.6, 0.6)\nearth_actor.SetScale(0.4, 0.4, 0.4)\nmars_actor.SetScale(0.8, 0.8, 0.8)\njupiter_actor.SetScale(2, 2, 2)\nsaturn_actor.SetScale(2, 2, 2)\nsaturn_rings_actor.SetScale(3, 0.5, 3)\nuranus_actor.SetScale(1, 1, 1)\nneptune_actor.SetScale(1, 1, 1)\n\nmercury_actor.SetPosition(7, 0, 0)\nvenus_actor.SetPosition(9, 0, 0)\nearth_actor.SetPosition(11, 0, 0)\nmars_actor.SetPosition(13, 0, 0)\njupiter_actor.SetPosition(16, 0, 0)\nsaturn_actor.SetPosition(19, 0, 0)\nsaturn_rings_actor.SetPosition(19, 0, 0)\nuranus_actor.SetPosition(22, 0, 0)\nneptune_actor.SetPosition(25, 0, 0)"
      ]
    },
    {
      "cell_type": "markdown",
      "metadata": {},
      "source": [
        "Define the gravitational constant G, the orbital radii of each of the\nplanets, and the central mass of the sun. The gravity and mass will be used\nto calculate the orbital position, so multiply these two together to create\na new constant, which we will call miu.\n\n"
      ]
    },
    {
      "cell_type": "code",
      "execution_count": null,
      "metadata": {
        "collapsed": false
      },
      "outputs": [],
      "source": [
        "r_mercury = 7\nr_venus = 9\nr_earth = 11\nr_mars = 13\nr_jupiter = 16\nr_saturn = 19\nr_uranus = 22\nr_neptune = 25\n\ng_exponent = np.float_power(10, -11)\ng_constant = 6.673*g_exponent\n\nm_exponent = np.power(10, 30)\nm_constant = 1.989*m_exponent\n\nmiu = m_constant*g_constant"
      ]
    },
    {
      "cell_type": "markdown",
      "metadata": {},
      "source": [
        "Let's define two functions that will help us calculate the position of each\nplanet as it orbits around the sun: ``get_orbit_period`` and\n``get_orbital_position``, using the constant miu and the orbital radii\nof each planet.\n\n"
      ]
    },
    {
      "cell_type": "code",
      "execution_count": null,
      "metadata": {
        "collapsed": false
      },
      "outputs": [],
      "source": [
        "def get_orbit_period(radius):\n    return np.sqrt(2*np.pi * np.power(radius, 3)/miu)\n\n\ndef get_orbital_position(radius, time):\n    orbit_period = get_orbit_period(radius)\n    x = radius * np.cos((2*np.pi*time)/orbit_period)\n    y = radius * np.sin((2*np.pi*time)/orbit_period)\n    return (x, y)"
      ]
    },
    {
      "cell_type": "markdown",
      "metadata": {},
      "source": [
        "Let's change the camera position to visualize the planets better.\n\n"
      ]
    },
    {
      "cell_type": "code",
      "execution_count": null,
      "metadata": {
        "collapsed": false
      },
      "outputs": [],
      "source": [
        "scene.set_camera(position=(-20, 60, 100))"
      ]
    },
    {
      "cell_type": "markdown",
      "metadata": {},
      "source": [
        "Next, create a ShowManager object. The ShowManager class is the interface\nbetween the scene, the window and the interactor.\n\n"
      ]
    },
    {
      "cell_type": "code",
      "execution_count": null,
      "metadata": {
        "collapsed": false
      },
      "outputs": [],
      "source": [
        "showm = window.ShowManager(scene,\n                           size=(900, 768), reset_camera=False,\n                           order_transparent=True)"
      ]
    },
    {
      "cell_type": "markdown",
      "metadata": {},
      "source": [
        "Next, let's focus on creating the animation.\nWe can determine the duration of animation with using the ``counter``.\nUse itertools to avoid global variables.\n\n"
      ]
    },
    {
      "cell_type": "code",
      "execution_count": null,
      "metadata": {
        "collapsed": false
      },
      "outputs": [],
      "source": [
        "counter = itertools.count()"
      ]
    },
    {
      "cell_type": "markdown",
      "metadata": {},
      "source": [
        "To track and visualize the orbital paths of the planets, we will create\nseveral new variables to map each planet's orbits using ``actor.dots``.\nIt is important to define the track variable for each planet as global,\nallowing it to be used within the ``timer_callback`` function. To do this,\ncreate a function called ``get_orbit_actor``.\n\n"
      ]
    },
    {
      "cell_type": "code",
      "execution_count": null,
      "metadata": {
        "collapsed": false
      },
      "outputs": [],
      "source": [
        "def get_orbit_actor(orbit_points):\n    orbit_actor = actor.dots(orbit_points, color=(1, 1, 1),\n                             opacity=1, dot_size=1)\n    return orbit_actor"
      ]
    },
    {
      "cell_type": "markdown",
      "metadata": {},
      "source": [
        "All of the planets will have the same initial positions, so assign each of\nthose to the positions variables for each planet. These variables will be\nupdated within the ``timer_callback`` function. Initialize and add the\norbit actors into the scene. Also initialize the track variables for each\nplanet.\n\n"
      ]
    },
    {
      "cell_type": "code",
      "execution_count": null,
      "metadata": {
        "collapsed": false
      },
      "outputs": [],
      "source": [
        "orbit_points = np.zeros((1000, 3), dtype='f8')\n\nmercury_orbit_actor = get_orbit_actor(orbit_points)\nscene.add(mercury_orbit_actor)\npositions_mercury = utils.vertices_from_actor(mercury_orbit_actor)\n\nvenus_orbit_actor = get_orbit_actor(orbit_points)\nscene.add(venus_orbit_actor)\npositions_venus = utils.vertices_from_actor(venus_orbit_actor)\n\nearth_orbit_actor = get_orbit_actor(orbit_points)\nscene.add(earth_orbit_actor)\npositions_earth = utils.vertices_from_actor(earth_orbit_actor)\n\nmars_orbit_actor = get_orbit_actor(orbit_points)\nscene.add(mars_orbit_actor)\npositions_mars = utils.vertices_from_actor(mars_orbit_actor)\n\njupiter_orbit_actor = get_orbit_actor(orbit_points)\nscene.add(jupiter_orbit_actor)\npositions_jupiter = utils.vertices_from_actor(jupiter_orbit_actor)\n\nsaturn_orbit_actor = get_orbit_actor(orbit_points)\nscene.add(saturn_orbit_actor)\npositions_saturn = utils.vertices_from_actor(saturn_orbit_actor)\n\nuranus_orbit_actor = get_orbit_actor(orbit_points)\nscene.add(uranus_orbit_actor)\npositions_uranus = utils.vertices_from_actor(uranus_orbit_actor)\n\nneptune_orbit_actor = get_orbit_actor(orbit_points)\nscene.add(neptune_orbit_actor)\npositions_neptune = utils.vertices_from_actor(neptune_orbit_actor)\n\nmercury_track = []\nvenus_track = []\nearth_track = []\nmars_track = []\njupiter_track = []\nsaturn_track = []\nuranus_track = []\nneptune_track = []"
      ]
    },
    {
      "cell_type": "markdown",
      "metadata": {},
      "source": [
        "Define two new functions to use in ``timer_callback`` to update the planet\npositions and their tracks to visualize their orbit: ``update_track`` and\n``update_planet_position``.\n\n"
      ]
    },
    {
      "cell_type": "code",
      "execution_count": null,
      "metadata": {
        "collapsed": false
      },
      "outputs": [],
      "source": [
        "def update_planet_position(r_planet, planet_actor, planet_track, cnt):\n    pos_planet = get_orbital_position(r_planet, cnt)\n    planet_actor.SetPosition(pos_planet[0], 0, pos_planet[1])\n    planet_track.append([pos_planet[0], 0, pos_planet[1]])\n    return pos_planet\n\n\ndef update_track(positions_planet, planet_track, planet_orbit_actor):\n    positions_planet[:] = np.array(planet_track)\n    utils.update_actor(planet_orbit_actor)"
      ]
    },
    {
      "cell_type": "markdown",
      "metadata": {},
      "source": [
        "Define the ``timer_callback`` function, which controls what events happen\nat certain times, using the counter. Redefine the position of each planet\nactor using ``get_orbital_position,`` assigning the x and y values of\neach planet's position with the newly calculated ones. Append each new\nplanet position to its corresponding track array.\n\n"
      ]
    },
    {
      "cell_type": "code",
      "execution_count": null,
      "metadata": {
        "collapsed": false
      },
      "outputs": [],
      "source": [
        "def timer_callback(_obj, _event):\n    cnt = next(counter)\n    showm.render()\n\n    global mercury_track, venus_track, earth_track, mars_track, jupiter_track\n    global saturn_track, uranus_track, neptune_track\n\n    update_planet_position(r_mercury, mercury_actor, mercury_track, cnt)\n\n    update_planet_position(r_venus, venus_actor, venus_track, cnt)\n\n    update_planet_position(r_earth, earth_actor, earth_track, cnt)\n\n    update_planet_position(r_mars, mars_actor, mars_track, cnt)\n\n    update_planet_position(r_jupiter, jupiter_actor, jupiter_track, cnt)\n\n    pos_saturn = update_planet_position(r_saturn, saturn_actor, saturn_track,\n                                        cnt)\n    saturn_rings_actor.SetPosition(pos_saturn[0], 0, pos_saturn[1])\n\n    update_planet_position(r_uranus, uranus_actor, uranus_track, cnt)\n\n    update_planet_position(r_neptune, neptune_actor, neptune_track, cnt)\n\n    if cnt == 999:\n        update_track(positions_mercury, mercury_track, mercury_orbit_actor)\n\n        update_track(positions_venus, venus_track, venus_orbit_actor)\n\n        update_track(positions_earth, earth_track, earth_orbit_actor)\n\n        update_track(positions_mars, mars_track, mars_orbit_actor)\n\n        update_track(positions_jupiter, jupiter_track, jupiter_orbit_actor)\n\n        update_track(positions_saturn, saturn_track, saturn_orbit_actor)\n\n        update_track(positions_uranus, uranus_track, uranus_orbit_actor)\n\n        update_track(positions_neptune, neptune_track, neptune_orbit_actor)\n\n    if cnt == 1500:\n        showm.exit()"
      ]
    },
    {
      "cell_type": "markdown",
      "metadata": {},
      "source": [
        "Watch the planets orbit the sun in your new animation!\n\n"
      ]
    },
    {
      "cell_type": "code",
      "execution_count": null,
      "metadata": {
        "collapsed": false
      },
      "outputs": [],
      "source": [
        "showm.initialize()\nshowm.add_timer_callback(True, 5, timer_callback)\nshowm.start()\n\nwindow.record(showm.scene, size=(900, 768),\n              out_path=\"viz_solar_system_animation.png\")"
      ]
    }
  ],
  "metadata": {
    "kernelspec": {
      "display_name": "Python 3",
      "language": "python",
      "name": "python3"
    },
    "language_info": {
      "codemirror_mode": {
        "name": "ipython",
        "version": 3
      },
      "file_extension": ".py",
      "mimetype": "text/x-python",
      "name": "python",
      "nbconvert_exporter": "python",
      "pygments_lexer": "ipython3",
      "version": "3.7.4"
    }
  },
  "nbformat": 4,
  "nbformat_minor": 0
}