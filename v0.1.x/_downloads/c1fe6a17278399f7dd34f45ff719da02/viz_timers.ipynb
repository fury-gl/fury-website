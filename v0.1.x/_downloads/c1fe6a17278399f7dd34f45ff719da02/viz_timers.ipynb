{
  "cells": [
    {
      "cell_type": "code",
      "execution_count": null,
      "metadata": {
        "collapsed": false
      },
      "outputs": [],
      "source": [
        "%matplotlib inline"
      ]
    },
    {
      "cell_type": "markdown",
      "metadata": {},
      "source": [
        "\n# Using a timer\n\n\nThis example shows how to create a simple animation using a timer callback.\n\nWe will use a sphere actor that generates many spheres of different colors,\nradii and opacity. Then we will animate this actor by rotating and changing\nglobal opacity levels from inside a user defined callback.\n\nThe timer will call this user defined callback every 200 milliseconds. The\napplication will exit after the callback has been called 100 times.\n\n"
      ]
    },
    {
      "cell_type": "code",
      "execution_count": null,
      "metadata": {
        "collapsed": false
      },
      "outputs": [],
      "source": [
        "import numpy as np\nfrom fury import window, actor, ui\nimport itertools\n\nxyz = 10 * np.random.rand(100, 3)\ncolors = np.random.rand(100, 4)\nradii = np.random.rand(100) + 0.5\n\nrenderer = window.Renderer()\n\nsphere_actor = actor.sphere(centers=xyz,\n                            colors=colors,\n                            radii=radii)\n\nrenderer.add(sphere_actor)\n\nshowm = window.ShowManager(renderer,\n                           size=(900, 768), reset_camera=False,\n                           order_transparent=True)\n\nshowm.initialize()\n\ntb = ui.TextBlock2D(bold=True)\n\n# use itertools to avoid global variables\ncounter = itertools.count()\n\n\ndef timer_callback(obj, event):\n    cnt = next(counter)\n    tb.message = \"Let's count up to 100 and exit :\" + str(cnt)\n    showm.ren.azimuth(0.05 * cnt)\n    sphere_actor.GetProperty().SetOpacity(cnt/100.)\n    showm.render()\n    if cnt == 100:\n        showm.exit()\n\n\nrenderer.add(tb)\n\n# Run every 200 milliseconds\nshowm.add_timer_callback(True, 200, timer_callback)\n\nshowm.start()\n\nwindow.record(showm.ren, size=(900, 768), out_path=\"viz_timer.png\")"
      ]
    }
  ],
  "metadata": {
    "kernelspec": {
      "display_name": "Python 3",
      "language": "python",
      "name": "python3"
    },
    "language_info": {
      "codemirror_mode": {
        "name": "ipython",
        "version": 3
      },
      "file_extension": ".py",
      "mimetype": "text/x-python",
      "name": "python",
      "nbconvert_exporter": "python",
      "pygments_lexer": "ipython3",
      "version": "3.6.7"
    }
  },
  "nbformat": 4,
  "nbformat_minor": 0
}