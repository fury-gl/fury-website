{
  "cells": [
    {
      "cell_type": "markdown",
      "metadata": {},
      "source": [
        "\n# Principled BRDF shader on spheres\n\nThe Principled Bidirectional Reflectance Distribution Function ([BRDF]\n(https://en.wikipedia.org/wiki/Bidirectional_reflectance_distribution_function)\n) was introduced by Brent Burley as part of the [SIGGRAPH 2012 Physically Based\nShading course]\n(https://blog.selfshadow.com/publications/s2012-shading-course/). Although it\nis not strictly physically based, it was designed so the parameters included\ncould model materials in the [MERL 100](https://www.merl.com/brdf/) (Material\nExchange and Research Library) database. Moreover, each parameter was\ncarefully chosen and limited to be easy to use and understand, so that\nblending multiple layers together would give intuitive results.\n\nIn this demo, we showcase our implementation of the Principled BRDF in FURY.\n\nLet's start by importing the necessary modules:\n"
      ]
    },
    {
      "cell_type": "code",
      "execution_count": null,
      "metadata": {
        "collapsed": false
      },
      "outputs": [],
      "source": [
        "import numpy as np\n\nfrom fury import actor, material, window"
      ]
    },
    {
      "cell_type": "markdown",
      "metadata": {},
      "source": [
        "Now set up a new scene.\n\n"
      ]
    },
    {
      "cell_type": "code",
      "execution_count": null,
      "metadata": {
        "collapsed": false
      },
      "outputs": [],
      "source": [
        "scene = window.Scene()\nscene.background((0.9, 0.9, 0.9))"
      ]
    },
    {
      "cell_type": "markdown",
      "metadata": {},
      "source": [
        "Let's define the parameters needed for our demo. In this demo we will see the\neffect of each one of the 10 parameters defined by the Principled shader.\nFor interpretability and usability purposes, each parameter is limited to\nvalues between the range 0 to 1.\n\n"
      ]
    },
    {
      "cell_type": "code",
      "execution_count": null,
      "metadata": {
        "collapsed": false
      },
      "outputs": [],
      "source": [
        "material_params = [\n    [(1, 1, 1), {'subsurface': 0}],\n    [[1, 1, 0], {'metallic': 0}],\n    [(1, 0, 0), {'specular': 0}],\n    [(1, 0, 0), {'specular_tint': 0, 'specular': 1}],\n    [(0, 0, 1), {'roughness': 0}],\n    [(1, 0, 1), {'anisotropic': 0, 'metallic': 0.25, 'roughness': 0.5}],\n    [[0, 1, 0.5], {'sheen': 0}],\n    [(0, 1, 0.5), {'sheen_tint': 0, 'sheen': 1}],\n    [(0, 1, 1), {'clearcoat': 0}],\n    [(0, 1, 1), {'clearcoat_gloss': 0, 'clearcoat': 1}],\n]"
      ]
    },
    {
      "cell_type": "markdown",
      "metadata": {},
      "source": [
        "We can start to add our actors to the scene and see how different values of\nthe parameters produce interesting effects.\n\n"
      ]
    },
    {
      "cell_type": "code",
      "execution_count": null,
      "metadata": {
        "collapsed": false
      },
      "outputs": [],
      "source": [
        "for i in range(10):\n    center = np.array([[0, -5 * i, 0]])\n    for j in range(11):\n        center[0][0] = -25 + 5 * j\n        sphere = actor.sphere(\n            center, colors=material_params[i][0], radii=2, theta=32, phi=32\n        )\n        keys = list(material_params[i][1])\n        material_params[i][1][keys[0]] = np.round(0.1 * j, decimals=1)\n        material.manifest_principled(sphere, **material_params[i][1])\n        scene.add(sphere)"
      ]
    },
    {
      "cell_type": "markdown",
      "metadata": {},
      "source": [
        "Finally, let's add some labels to guide us through our visualization.\n\n"
      ]
    },
    {
      "cell_type": "code",
      "execution_count": null,
      "metadata": {
        "collapsed": false
      },
      "outputs": [],
      "source": [
        "labels = [\n    'Subsurface',\n    'Metallic',\n    'Specular',\n    'Specular Tint',\n    'Roughness',\n    'Anisotropic',\n    'Sheen',\n    'Sheen Tint',\n    'Clearcoat',\n    'Clearcoat Gloss',\n]\n\nfor i in range(10):\n    pos = [-40, -5 * i, 0]\n    label = actor.vector_text(\n        labels[i], pos=pos, scale=(0.8, 0.8, 0.8), color=(0, 0, 0)\n    )\n    scene.add(label)\n\nfor j in range(11):\n    pos = [-26 + 5 * j, 5, 0]\n    label = actor.vector_text(\n        str(np.round(j * 0.1, decimals=1)),\n        pos=pos,\n        scale=(0.8, 0.8, 0.8),\n        color=(0, 0, 0),\n    )\n    scene.add(label)"
      ]
    },
    {
      "cell_type": "markdown",
      "metadata": {},
      "source": [
        "And visualize our demo.\n\n"
      ]
    },
    {
      "cell_type": "code",
      "execution_count": null,
      "metadata": {
        "collapsed": false
      },
      "outputs": [],
      "source": [
        "interactive = False\nif interactive:\n    window.show(scene)\n\nwindow.record(scene, size=(600, 600), out_path='viz_principled_spheres.png')"
      ]
    }
  ],
  "metadata": {
    "kernelspec": {
      "display_name": "Python 3",
      "language": "python",
      "name": "python3"
    },
    "language_info": {
      "codemirror_mode": {
        "name": "ipython",
        "version": 3
      },
      "file_extension": ".py",
      "mimetype": "text/x-python",
      "name": "python",
      "nbconvert_exporter": "python",
      "pygments_lexer": "ipython3",
      "version": "3.9.18"
    }
  },
  "nbformat": 4,
  "nbformat_minor": 0
}