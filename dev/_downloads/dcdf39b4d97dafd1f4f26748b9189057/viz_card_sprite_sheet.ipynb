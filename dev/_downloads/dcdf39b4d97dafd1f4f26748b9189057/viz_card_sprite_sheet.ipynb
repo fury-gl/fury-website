{
  "cells": [
    {
      "cell_type": "markdown",
      "metadata": {},
      "source": [
        "\n# Card\n\nThis example shows how to create a card and use a sprite\nsheet to update the image in the card.\n\nFirst, some imports.\n"
      ]
    },
    {
      "cell_type": "code",
      "execution_count": null,
      "metadata": {
        "collapsed": false
      },
      "outputs": [],
      "source": [
        "import os\nfrom tempfile import TemporaryDirectory as InTemporaryDirectory\n\nfrom fury import ui, window\nfrom fury.data import fetch_viz_icons\nfrom fury.io import load_image, load_sprite_sheet, save_image"
      ]
    },
    {
      "cell_type": "markdown",
      "metadata": {},
      "source": [
        "First we need to fetch some icons that are included in FURY.\n\n"
      ]
    },
    {
      "cell_type": "code",
      "execution_count": null,
      "metadata": {
        "collapsed": false
      },
      "outputs": [],
      "source": [
        "TARGET_FPS = 15\nFRAME_TIME = (1.0 / TARGET_FPS) * 1000\n\nfetch_viz_icons()\n\nsprite_sheet = load_sprite_sheet('https://raw.githubusercontent.com/fury-gl/'\n                                 'fury-data/master/unittests/fury_sprite.png',\n                                 5, 5)\nCURRENT_SPRITE_IDX = 0\n\nvtk_sprites = []"
      ]
    },
    {
      "cell_type": "markdown",
      "metadata": {},
      "source": [
        "Let's create a card and add it to the show manager\n\n"
      ]
    },
    {
      "cell_type": "code",
      "execution_count": null,
      "metadata": {
        "collapsed": false
      },
      "outputs": [],
      "source": [
        "img_url = \"https://raw.githubusercontent.com/fury-gl\"\\\n          \"/fury-communication-assets/main/fury-logo.png\"\n\ntitle = \"FURY\"\nbody = \"FURY - Free Unified Rendering in pYthon.\"\\\n       \"A software library for scientific visualization in Python.\"\n\ncard = ui.elements.Card2D(image_path=img_url, title_text=title,\n                          body_text=body,\n                          image_scale=0.55, size=(300, 300),\n                          bg_color=(1, 0.294, 0.180),\n                          bg_opacity=0.8, border_width=5,\n                          border_color=(0.1, 0.4, 0.8))"
      ]
    },
    {
      "cell_type": "markdown",
      "metadata": {},
      "source": [
        "Now we define the callback to update the image on card after some delay.\n\n"
      ]
    },
    {
      "cell_type": "code",
      "execution_count": null,
      "metadata": {
        "collapsed": false
      },
      "outputs": [],
      "source": [
        "def timer_callback(_obj, _evt):\n    global CURRENT_SPRITE_IDX, show_manager\n    CURRENT_SPRITE_IDX += 1\n    sprite = vtk_sprites[CURRENT_SPRITE_IDX % len(vtk_sprites)]\n    card.image.set_img(sprite)\n    i_ren = show_manager.scene.GetRenderWindow()\\\n        .GetInteractor().GetInteractorStyle()\n\n    i_ren.force_render()"
      ]
    },
    {
      "cell_type": "markdown",
      "metadata": {},
      "source": [
        "Lets create a function to convert the sprite to vtkImageData\n\n"
      ]
    },
    {
      "cell_type": "code",
      "execution_count": null,
      "metadata": {
        "collapsed": false
      },
      "outputs": [],
      "source": [
        "def sprite_to_vtk():\n    with InTemporaryDirectory() as tdir:\n        for idx, sprite in enumerate(list(sprite_sheet.values())):\n            sprite_path = os.path.join(tdir, f'{idx}.png')\n            save_image(sprite, sprite_path, compression_quality=100)\n            vtk_sprite = load_image(sprite_path, as_vtktype=True)\n            vtk_sprites.append(vtk_sprite)"
      ]
    },
    {
      "cell_type": "markdown",
      "metadata": {},
      "source": [
        "Now that the card has been initialised, we add it to the show\nmanager.\n\n"
      ]
    },
    {
      "cell_type": "code",
      "execution_count": null,
      "metadata": {
        "collapsed": false
      },
      "outputs": [],
      "source": [
        "current_size = (1000, 1000)\nshow_manager = window.ShowManager(size=current_size,\n                                  title=\"FURY Card Example\")\n\nshow_manager.scene.add(card)\nshow_manager.initialize()"
      ]
    },
    {
      "cell_type": "markdown",
      "metadata": {},
      "source": [
        "Converting numpy array sprites to vtk images\n\n"
      ]
    },
    {
      "cell_type": "code",
      "execution_count": null,
      "metadata": {
        "collapsed": false
      },
      "outputs": [],
      "source": [
        "sprite_to_vtk()"
      ]
    },
    {
      "cell_type": "markdown",
      "metadata": {},
      "source": [
        "Adding a timer to update the card image\n\n"
      ]
    },
    {
      "cell_type": "code",
      "execution_count": null,
      "metadata": {
        "collapsed": false
      },
      "outputs": [],
      "source": [
        "show_manager.add_timer_callback(True, int(FRAME_TIME), timer_callback)\n\n# To interact with the UI, set interactive = True\ninteractive = False\n\nif interactive:\n    show_manager.start()\n\nwindow.record(show_manager.scene, out_path=\"card_ui.png\", size=(1000, 1000))"
      ]
    }
  ],
  "metadata": {
    "kernelspec": {
      "display_name": "Python 3",
      "language": "python",
      "name": "python3"
    },
    "language_info": {
      "codemirror_mode": {
        "name": "ipython",
        "version": 3
      },
      "file_extension": ".py",
      "mimetype": "text/x-python",
      "name": "python",
      "nbconvert_exporter": "python",
      "pygments_lexer": "ipython3",
      "version": "3.9.18"
    }
  },
  "nbformat": 4,
  "nbformat_minor": 0
}