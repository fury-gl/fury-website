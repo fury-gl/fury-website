{
  "cells": [
    {
      "cell_type": "code",
      "execution_count": null,
      "metadata": {
        "collapsed": false
      },
      "outputs": [],
      "source": [
        "%matplotlib inline"
      ]
    },
    {
      "cell_type": "markdown",
      "metadata": {},
      "source": [
        "\n# Keyframe animation\n\nMinimal tutorial of making keyframe-based animation in FURY.\n"
      ]
    },
    {
      "cell_type": "markdown",
      "metadata": {},
      "source": [
        "## What is an ``Animation``\n\n``Animation`` is responsible for animating FURY actors using a set of\nkeyframes by interpolating values between timestamps of these keyframes.\n\n"
      ]
    },
    {
      "cell_type": "code",
      "execution_count": null,
      "metadata": {
        "collapsed": false
      },
      "outputs": [],
      "source": [
        "import numpy as np\nfrom fury import actor, window\nfrom fury.animation import Animation\nfrom fury.animation.interpolator import cubic_spline_interpolator\n\nkeyframes = {\n    1.0: {'value': np.array([0, 0, 0])},\n    2.0: {'value': np.array([-4, 1, 0])},\n    5.0: {'value': np.array([0, 0, 12])},\n    6.0: {'value': np.array([25, 0, 12])}\n}"
      ]
    },
    {
      "cell_type": "markdown",
      "metadata": {},
      "source": [
        "Why keyframes data are also a dictionary ``{'value': np.array([0, 0, 0])})``?\n-> Since some keyframes data can only be defined by a set of data i.e. a\nsingle position keyframe could consist of a position, in control point, and\nout control point or any other data that helps to define this keyframe.\n\n"
      ]
    },
    {
      "cell_type": "markdown",
      "metadata": {},
      "source": [
        "## What are the interpolators\n\nThe keyframes interpolators are functions that takes a set of keyframes and\nreturns a function that calculates an interpolated value between these\nkeyframes.\nBelow there is an example on how to use interpolators manually to interpolate\nthe above defined ``keyframes``.\n\n"
      ]
    },
    {
      "cell_type": "code",
      "execution_count": null,
      "metadata": {
        "collapsed": false
      },
      "outputs": [],
      "source": [
        "interpolation_function = cubic_spline_interpolator(keyframes)"
      ]
    },
    {
      "cell_type": "markdown",
      "metadata": {},
      "source": [
        "Now, if we feed any time to this function it would return the cubic\ninterpolated position at that time.\n\n"
      ]
    },
    {
      "cell_type": "code",
      "execution_count": null,
      "metadata": {
        "collapsed": false
      },
      "outputs": [],
      "source": [
        "position = interpolation_function(1.44434)"
      ]
    },
    {
      "cell_type": "markdown",
      "metadata": {},
      "source": [
        "``position`` would contain an interpolated position at time equals 1.44434\n\n"
      ]
    },
    {
      "cell_type": "markdown",
      "metadata": {},
      "source": [
        "## Creating the environment\n\nIn order to make any animations in FURY, a `ShowManager` is needed to handle\nupdating the animation and rendering the scene.\n\n"
      ]
    },
    {
      "cell_type": "code",
      "execution_count": null,
      "metadata": {
        "collapsed": false
      },
      "outputs": [],
      "source": [
        "scene = window.Scene()\n\nshowm = window.ShowManager(scene,\n                           size=(900, 768), reset_camera=False,\n                           order_transparent=True)\nshowm.initialize()\n\narrow = actor.arrow(np.array([[0, 0, 0]]), (0, 0, 0), (1, 0, 1), scales=6)"
      ]
    },
    {
      "cell_type": "markdown",
      "metadata": {},
      "source": [
        "## Creating an ``Animation``\n\nFirst step is creating the Animation.\n\n"
      ]
    },
    {
      "cell_type": "code",
      "execution_count": null,
      "metadata": {
        "collapsed": false
      },
      "outputs": [],
      "source": [
        "animation = Animation()"
      ]
    },
    {
      "cell_type": "markdown",
      "metadata": {},
      "source": [
        "Adding the sphere actor to the timeline\nThis could've been done during initialization.\n\n"
      ]
    },
    {
      "cell_type": "code",
      "execution_count": null,
      "metadata": {
        "collapsed": false
      },
      "outputs": [],
      "source": [
        "animation.add_actor(arrow)"
      ]
    },
    {
      "cell_type": "markdown",
      "metadata": {},
      "source": [
        "## Setting position keyframes\n\nAdding some position keyframes\n\n"
      ]
    },
    {
      "cell_type": "code",
      "execution_count": null,
      "metadata": {
        "collapsed": false
      },
      "outputs": [],
      "source": [
        "animation.set_position(0.0, np.array([0, 0, 0]))\nanimation.set_position(2.0, np.array([10, 10, 10]))\nanimation.set_position(5.0, np.array([-10, -3, -6]))\nanimation.set_position(9.0, np.array([10, 6, 20]))"
      ]
    },
    {
      "cell_type": "markdown",
      "metadata": {},
      "source": [
        "## Changing the default interpolator for a single property\n\nFor all properties except **rotation**, linear interpolator is used by\ndefault. In order to change the default interpolator and set another\ninterpolator, call ``animation.set_<property>_interpolator(interpolator)``\nFURY already has some interpolators located at:\n``fury.animation.interpolator``.\n\nBelow we set the interpolator for position keyframes to be\n**cubic spline interpolator**.\n\n"
      ]
    },
    {
      "cell_type": "code",
      "execution_count": null,
      "metadata": {
        "collapsed": false
      },
      "outputs": [],
      "source": [
        "animation.set_position_interpolator(cubic_spline_interpolator)"
      ]
    },
    {
      "cell_type": "markdown",
      "metadata": {},
      "source": [
        "Adding some rotation keyframes.\n\n"
      ]
    },
    {
      "cell_type": "code",
      "execution_count": null,
      "metadata": {
        "collapsed": false
      },
      "outputs": [],
      "source": [
        "animation.set_rotation(0.0, np.array([160, 50, 0]))\nanimation.set_rotation(8.0, np.array([60, 160, 0]))"
      ]
    },
    {
      "cell_type": "markdown",
      "metadata": {},
      "source": [
        "For Rotation keyframes, Slerp is used as the default interpolator.\nWhat is Slerp?\nSlerp (spherical linear interpolation) of quaternions results in a constant\nspeed rotation in keyframe animation.\nReed more about Slerp: https://en.wikipedia.org/wiki/Slerp\n\n"
      ]
    },
    {
      "cell_type": "markdown",
      "metadata": {},
      "source": [
        "Setting camera position to see the animation better.\n\n"
      ]
    },
    {
      "cell_type": "code",
      "execution_count": null,
      "metadata": {
        "collapsed": false
      },
      "outputs": [],
      "source": [
        "scene.set_camera(position=(0, 0, 90))"
      ]
    },
    {
      "cell_type": "markdown",
      "metadata": {},
      "source": [
        "Adding main animation to the ``ShowManager``.\n\n"
      ]
    },
    {
      "cell_type": "code",
      "execution_count": null,
      "metadata": {
        "collapsed": false
      },
      "outputs": [],
      "source": [
        "showm.add_animation(animation)"
      ]
    },
    {
      "cell_type": "markdown",
      "metadata": {},
      "source": [
        "Start the ``ShowManager`` to start playing the animation\n\n"
      ]
    },
    {
      "cell_type": "code",
      "execution_count": null,
      "metadata": {
        "collapsed": false
      },
      "outputs": [],
      "source": [
        "interactive = False\n\nif interactive:\n    showm.start()\n\nwindow.record(scene, out_path='viz_keyframe_interpolator.png',\n              size=(900, 768))"
      ]
    }
  ],
  "metadata": {
    "kernelspec": {
      "display_name": "Python 3",
      "language": "python",
      "name": "python3"
    },
    "language_info": {
      "codemirror_mode": {
        "name": "ipython",
        "version": 3
      },
      "file_extension": ".py",
      "mimetype": "text/x-python",
      "name": "python",
      "nbconvert_exporter": "python",
      "pygments_lexer": "ipython3",
      "version": "3.9.16"
    }
  },
  "nbformat": 4,
  "nbformat_minor": 0
}