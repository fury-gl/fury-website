{
  "cells": [
    {
      "cell_type": "markdown",
      "metadata": {},
      "source": [
        "\n# Interactive PBR demo\n\nThis is a demonstration of how Physically-Based Rendering (PBR) can be used to\nsimulate different materials.\n\nLet's start by importing the necessary modules:\n"
      ]
    },
    {
      "cell_type": "code",
      "execution_count": null,
      "metadata": {
        "collapsed": false
      },
      "outputs": [],
      "source": [
        "from fury import actor, material, ui, window\nfrom fury.data import fetch_viz_cubemaps, read_viz_cubemap\nfrom fury.io import load_cubemap_texture\nfrom fury.utils import (\n    normals_from_actor,\n    tangents_from_direction_of_anisotropy,\n    tangents_to_actor,\n)"
      ]
    },
    {
      "cell_type": "markdown",
      "metadata": {},
      "source": [
        "The following functions will help us to manage the sliders events.\n\n"
      ]
    },
    {
      "cell_type": "code",
      "execution_count": null,
      "metadata": {
        "collapsed": false
      },
      "outputs": [],
      "source": [
        "def change_slice_metallic(slider):\n    global pbr_params\n    pbr_params.metallic = slider.value\n\n\ndef change_slice_roughness(slider):\n    global pbr_params\n    pbr_params.roughness = slider.value\n\n\ndef change_slice_anisotropy(slider):\n    global pbr_params\n    pbr_params.anisotropy = slider.value\n\n\ndef change_slice_anisotropy_direction_x(slider):\n    global doa, normals, sphere\n    doa[0] = slider.value\n    tangents = tangents_from_direction_of_anisotropy(normals, doa)\n    tangents_to_actor(sphere, tangents)\n\n\ndef change_slice_anisotropy_direction_y(slider):\n    global doa, normals, sphere\n    doa[1] = slider.value\n    tangents = tangents_from_direction_of_anisotropy(normals, doa)\n    tangents_to_actor(sphere, tangents)\n\n\ndef change_slice_anisotropy_direction_z(slider):\n    global doa, normals, sphere\n    doa[2] = slider.value\n    tangents = tangents_from_direction_of_anisotropy(normals, doa)\n    tangents_to_actor(sphere, tangents)\n\n\ndef change_slice_anisotropy_rotation(slider):\n    global pbr_params\n    pbr_params.anisotropy_rotation = slider.value\n\n\ndef change_slice_coat_strength(slider):\n    global pbr_params\n    pbr_params.coat_strength = slider.value\n\n\ndef change_slice_coat_roughness(slider):\n    global pbr_params\n    pbr_params.coat_roughness = slider.value\n\n\ndef change_slice_base_ior(slider):\n    global pbr_params\n    pbr_params.base_ior = slider.value\n\n\ndef change_slice_coat_ior(slider):\n    global pbr_params\n    pbr_params.coat_ior = slider.value"
      ]
    },
    {
      "cell_type": "markdown",
      "metadata": {},
      "source": [
        "Last, but not least, we define the following function to help us to\nreposition the UI elements every time we resize the window.\n\n"
      ]
    },
    {
      "cell_type": "code",
      "execution_count": null,
      "metadata": {
        "collapsed": false
      },
      "outputs": [],
      "source": [
        "def win_callback(obj, event):\n    global control_panel, size\n    if size != obj.GetSize():\n        size_old = size\n        size = obj.GetSize()\n        size_change = [size[0] - size_old[0], 0]\n        control_panel.re_align(size_change)"
      ]
    },
    {
      "cell_type": "markdown",
      "metadata": {},
      "source": [
        "Let's fetch a skybox texture from the FURY data repository.\n\n"
      ]
    },
    {
      "cell_type": "code",
      "execution_count": null,
      "metadata": {
        "collapsed": false
      },
      "outputs": [],
      "source": [
        "fetch_viz_cubemaps()"
      ]
    },
    {
      "cell_type": "markdown",
      "metadata": {},
      "source": [
        "The following function returns the full path of the 6 images composing the\nskybox.\n\n"
      ]
    },
    {
      "cell_type": "code",
      "execution_count": null,
      "metadata": {
        "collapsed": false
      },
      "outputs": [],
      "source": [
        "textures = read_viz_cubemap('skybox')"
      ]
    },
    {
      "cell_type": "markdown",
      "metadata": {},
      "source": [
        "Now that we have the location of the textures, let's load them and create a\nCube Map Texture object.\n\n"
      ]
    },
    {
      "cell_type": "code",
      "execution_count": null,
      "metadata": {
        "collapsed": false
      },
      "outputs": [],
      "source": [
        "cubemap = load_cubemap_texture(textures)"
      ]
    },
    {
      "cell_type": "markdown",
      "metadata": {},
      "source": [
        "The Scene object in FURY can handle cube map textures and extract light\ninformation from them, so it can be used to create more plausible materials\ninteractions. The ``skybox`` parameter takes as input a cube map texture and\nperforms the previously described process.\n\n"
      ]
    },
    {
      "cell_type": "code",
      "execution_count": null,
      "metadata": {
        "collapsed": false
      },
      "outputs": [],
      "source": [
        "scene = window.Scene(skybox=cubemap)"
      ]
    },
    {
      "cell_type": "markdown",
      "metadata": {},
      "source": [
        "With the scene created, we can then populate it. In this demo we will only\nadd a sphere actor.\n\n"
      ]
    },
    {
      "cell_type": "code",
      "execution_count": null,
      "metadata": {
        "collapsed": false
      },
      "outputs": [],
      "source": [
        "sphere = actor.sphere([[0, 0, 0]], (0.7, 0.7, 0.7), radii=2, theta=64, phi=64)"
      ]
    },
    {
      "cell_type": "markdown",
      "metadata": {},
      "source": [
        "The direction of anisotropy (DoA) defines the direction at which all the\ntangents of our actor are pointing.\n\n"
      ]
    },
    {
      "cell_type": "code",
      "execution_count": null,
      "metadata": {
        "collapsed": false
      },
      "outputs": [],
      "source": [
        "doa = [0, 1, 0.5]"
      ]
    },
    {
      "cell_type": "markdown",
      "metadata": {},
      "source": [
        "The following process gets the normals of the actor and computes the tangents\nthat are aligned to the provided DoA. Then it registers those tangents to the\nactor.\n\n"
      ]
    },
    {
      "cell_type": "code",
      "execution_count": null,
      "metadata": {
        "collapsed": false
      },
      "outputs": [],
      "source": [
        "normals = normals_from_actor(sphere)\ntangents = tangents_from_direction_of_anisotropy(normals, doa)\ntangents_to_actor(sphere, tangents)"
      ]
    },
    {
      "cell_type": "markdown",
      "metadata": {},
      "source": [
        "With the tangents computed and in place, we have all the elements needed to\nadd some material properties to the actor.\n\n"
      ]
    },
    {
      "cell_type": "code",
      "execution_count": null,
      "metadata": {
        "collapsed": false
      },
      "outputs": [],
      "source": [
        "pbr_params = material.manifest_pbr(sphere)"
      ]
    },
    {
      "cell_type": "markdown",
      "metadata": {},
      "source": [
        "Our actor is now ready to be added to the scene.\n\n"
      ]
    },
    {
      "cell_type": "code",
      "execution_count": null,
      "metadata": {
        "collapsed": false
      },
      "outputs": [],
      "source": [
        "scene.add(sphere)"
      ]
    },
    {
      "cell_type": "markdown",
      "metadata": {},
      "source": [
        "Let's setup now the window and the UI.\n\n"
      ]
    },
    {
      "cell_type": "code",
      "execution_count": null,
      "metadata": {
        "collapsed": false
      },
      "outputs": [],
      "source": [
        "show_m = window.ShowManager(\n    scene=scene, size=(1920, 1080), reset_camera=False, order_transparent=True\n)"
      ]
    },
    {
      "cell_type": "markdown",
      "metadata": {},
      "source": [
        "We will create one single panel with all of our labels and sliders.\n\n"
      ]
    },
    {
      "cell_type": "code",
      "execution_count": null,
      "metadata": {
        "collapsed": false
      },
      "outputs": [],
      "source": [
        "control_panel = ui.Panel2D(\n    (400, 500), position=(5, 5), color=(0.25, 0.25, 0.25), opacity=0.75, align='right'\n)"
      ]
    },
    {
      "cell_type": "markdown",
      "metadata": {},
      "source": [
        "By using our previously defined function, we can easily create all the labels\nwe need for this demo. And then add them to the panel.\n\n"
      ]
    },
    {
      "cell_type": "code",
      "execution_count": null,
      "metadata": {
        "collapsed": false
      },
      "outputs": [],
      "source": [
        "slider_label_metallic = ui.TextBlock2D(text='Metallic', font_size=16)\nslider_label_roughness = ui.TextBlock2D(text='Roughness', font_size=16)\nslider_label_anisotropy = ui.TextBlock2D(text='Anisotropy', font_size=16)\nslider_label_anisotropy_rotation = ui.TextBlock2D(\n    text='Anisotropy Rotation', font_size=16\n)\nslider_label_anisotropy_direction_x = ui.TextBlock2D(\n    text='Anisotropy Direction X', font_size=16\n)\nslider_label_anisotropy_direction_y = ui.TextBlock2D(\n    text='Anisotropy Direction Y', font_size=16\n)\nslider_label_anisotropy_direction_z = ui.TextBlock2D(\n    text='Anisotropy Direction Z', font_size=16\n)\nslider_label_coat_strength = ui.TextBlock2D(text='Coat Strength', font_size=16)\nslider_label_coat_roughness = ui.TextBlock2D(text='Coat Roughness', font_size=16)\nslider_label_base_ior = ui.TextBlock2D(text='Base IoR', font_size=16)\nslider_label_coat_ior = ui.TextBlock2D(text='Coat IoR', font_size=16)\n\ncontrol_panel.add_element(slider_label_metallic, (0.01, 0.95))\ncontrol_panel.add_element(slider_label_roughness, (0.01, 0.86))\ncontrol_panel.add_element(slider_label_anisotropy, (0.01, 0.77))\ncontrol_panel.add_element(slider_label_anisotropy_rotation, (0.01, 0.68))\ncontrol_panel.add_element(slider_label_anisotropy_direction_x, (0.01, 0.59))\ncontrol_panel.add_element(slider_label_anisotropy_direction_y, (0.01, 0.5))\ncontrol_panel.add_element(slider_label_anisotropy_direction_z, (0.01, 0.41))\ncontrol_panel.add_element(slider_label_coat_strength, (0.01, 0.32))\ncontrol_panel.add_element(slider_label_coat_roughness, (0.01, 0.23))\ncontrol_panel.add_element(slider_label_base_ior, (0.01, 0.14))\ncontrol_panel.add_element(slider_label_coat_ior, (0.01, 0.05))"
      ]
    },
    {
      "cell_type": "markdown",
      "metadata": {},
      "source": [
        "Our sliders are created and added to the panel in the following way.\n\n"
      ]
    },
    {
      "cell_type": "code",
      "execution_count": null,
      "metadata": {
        "collapsed": false
      },
      "outputs": [],
      "source": [
        "slider_slice_metallic = ui.LineSlider2D(\n    initial_value=pbr_params.metallic,\n    max_value=1,\n    length=195,\n    text_template='{value:.1f}',\n)\nslider_slice_roughness = ui.LineSlider2D(\n    initial_value=pbr_params.roughness,\n    max_value=1,\n    length=195,\n    text_template='{value:.1f}',\n)\nslider_slice_anisotropy = ui.LineSlider2D(\n    initial_value=pbr_params.anisotropy,\n    max_value=1,\n    length=195,\n    text_template='{value:.1f}',\n)\nslider_slice_anisotropy_rotation = ui.LineSlider2D(\n    initial_value=pbr_params.anisotropy_rotation,\n    max_value=1,\n    length=195,\n    text_template='{value:.1f}',\n)\nslider_slice_coat_strength = ui.LineSlider2D(\n    initial_value=pbr_params.coat_strength,\n    max_value=1,\n    length=195,\n    text_template='{value:.1f}',\n)\nslider_slice_coat_roughness = ui.LineSlider2D(\n    initial_value=pbr_params.coat_roughness,\n    max_value=1,\n    length=195,\n    text_template='{value:.1f}',\n)"
      ]
    },
    {
      "cell_type": "markdown",
      "metadata": {},
      "source": [
        "Notice that we are defining a range of [-1, 1] for the DoA. This is because\nwithin that range we cover all the possible 3D directions needed to align the\ntangents.\n\n"
      ]
    },
    {
      "cell_type": "code",
      "execution_count": null,
      "metadata": {
        "collapsed": false
      },
      "outputs": [],
      "source": [
        "slider_slice_anisotropy_direction_x = ui.LineSlider2D(\n    initial_value=doa[0],\n    min_value=-1,\n    max_value=1,\n    length=195,\n    text_template='{value:.1f}',\n)\nslider_slice_anisotropy_direction_y = ui.LineSlider2D(\n    initial_value=doa[1],\n    min_value=-1,\n    max_value=1,\n    length=195,\n    text_template='{value:.1f}',\n)\nslider_slice_anisotropy_direction_z = ui.LineSlider2D(\n    initial_value=doa[2],\n    min_value=-1,\n    max_value=1,\n    length=195,\n    text_template='{value:.1f}',\n)"
      ]
    },
    {
      "cell_type": "markdown",
      "metadata": {},
      "source": [
        "Another special case are the Index of Refraction (IoR) sliders. In these\ncases, the values are defined in the range [1, 2.3] according to the\ndocumentation of the material.\n\n"
      ]
    },
    {
      "cell_type": "code",
      "execution_count": null,
      "metadata": {
        "collapsed": false
      },
      "outputs": [],
      "source": [
        "slider_slice_base_ior = ui.LineSlider2D(\n    initial_value=pbr_params.base_ior,\n    min_value=1,\n    max_value=2.3,\n    length=195,\n    text_template='{value:.02f}',\n)\nslider_slice_coat_ior = ui.LineSlider2D(\n    initial_value=pbr_params.coat_ior,\n    min_value=1,\n    max_value=2.3,\n    length=195,\n    text_template='{value:.02f}',\n)"
      ]
    },
    {
      "cell_type": "markdown",
      "metadata": {},
      "source": [
        "Let's add the event handlers functions to the corresponding sliders.\n\n"
      ]
    },
    {
      "cell_type": "code",
      "execution_count": null,
      "metadata": {
        "collapsed": false
      },
      "outputs": [],
      "source": [
        "slider_slice_metallic.on_change = change_slice_metallic\nslider_slice_roughness.on_change = change_slice_roughness\nslider_slice_anisotropy.on_change = change_slice_anisotropy\nslider_slice_anisotropy_rotation.on_change = change_slice_anisotropy_rotation\nslider_slice_anisotropy_direction_x.on_change = change_slice_anisotropy_direction_x\nslider_slice_anisotropy_direction_y.on_change = change_slice_anisotropy_direction_y\nslider_slice_anisotropy_direction_z.on_change = change_slice_anisotropy_direction_z\nslider_slice_coat_strength.on_change = change_slice_coat_strength\nslider_slice_coat_roughness.on_change = change_slice_coat_roughness\nslider_slice_base_ior.on_change = change_slice_base_ior\nslider_slice_coat_ior.on_change = change_slice_coat_ior"
      ]
    },
    {
      "cell_type": "markdown",
      "metadata": {},
      "source": [
        "And then add the sliders to the panel.\n\n"
      ]
    },
    {
      "cell_type": "code",
      "execution_count": null,
      "metadata": {
        "collapsed": false
      },
      "outputs": [],
      "source": [
        "control_panel.add_element(slider_slice_metallic, (0.44, 0.95))\ncontrol_panel.add_element(slider_slice_roughness, (0.44, 0.86))\ncontrol_panel.add_element(slider_slice_anisotropy, (0.44, 0.77))\ncontrol_panel.add_element(slider_slice_anisotropy_rotation, (0.44, 0.68))\ncontrol_panel.add_element(slider_slice_anisotropy_direction_x, (0.44, 0.59))\ncontrol_panel.add_element(slider_slice_anisotropy_direction_y, (0.44, 0.5))\ncontrol_panel.add_element(slider_slice_anisotropy_direction_z, (0.44, 0.41))\ncontrol_panel.add_element(slider_slice_coat_strength, (0.44, 0.32))\ncontrol_panel.add_element(slider_slice_coat_roughness, (0.44, 0.23))\ncontrol_panel.add_element(slider_slice_base_ior, (0.44, 0.14))\ncontrol_panel.add_element(slider_slice_coat_ior, (0.44, 0.05))"
      ]
    },
    {
      "cell_type": "markdown",
      "metadata": {},
      "source": [
        "Consequently, we add the panel to the scene.\n\n"
      ]
    },
    {
      "cell_type": "code",
      "execution_count": null,
      "metadata": {
        "collapsed": false
      },
      "outputs": [],
      "source": [
        "scene.add(control_panel)"
      ]
    },
    {
      "cell_type": "markdown",
      "metadata": {},
      "source": [
        "Previously we defined a function to help us when we resize the window, so\nlet's capture the current size and add our helper function as a\n`window_callback` to the window.\n\n"
      ]
    },
    {
      "cell_type": "code",
      "execution_count": null,
      "metadata": {
        "collapsed": false
      },
      "outputs": [],
      "source": [
        "size = scene.GetSize()\n\nshow_m.add_window_callback(win_callback)"
      ]
    },
    {
      "cell_type": "markdown",
      "metadata": {},
      "source": [
        "Finally, let's visualize our demo.\n\n"
      ]
    },
    {
      "cell_type": "code",
      "execution_count": null,
      "metadata": {
        "collapsed": false
      },
      "outputs": [],
      "source": [
        "interactive = False\nif interactive:\n    show_m.start()\n\nwindow.record(scene, size=(1920, 1080), out_path='viz_pbr_interactive.png')"
      ]
    }
  ],
  "metadata": {
    "kernelspec": {
      "display_name": "Python 3",
      "language": "python",
      "name": "python3"
    },
    "language_info": {
      "codemirror_mode": {
        "name": "ipython",
        "version": 3
      },
      "file_extension": ".py",
      "mimetype": "text/x-python",
      "name": "python",
      "nbconvert_exporter": "python",
      "pygments_lexer": "ipython3",
      "version": "3.9.18"
    }
  },
  "nbformat": 4,
  "nbformat_minor": 0
}