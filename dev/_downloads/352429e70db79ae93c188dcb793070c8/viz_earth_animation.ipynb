{
  "cells": [
    {
      "cell_type": "markdown",
      "metadata": {},
      "source": [
        "\n# Texture Sphere Animation\nIn this tutorial, we will show how to animate a textured sphere.\n"
      ]
    },
    {
      "cell_type": "code",
      "execution_count": null,
      "metadata": {
        "collapsed": false
      },
      "outputs": [],
      "source": [
        "import itertools\n\nimport numpy as np\n\nfrom fury import actor, io, utils, window\nfrom fury.data import (\n    fetch_viz_models,\n    fetch_viz_textures,\n    read_viz_models,\n    read_viz_textures,\n)"
      ]
    },
    {
      "cell_type": "markdown",
      "metadata": {},
      "source": [
        "Create a scene to start.\n\n"
      ]
    },
    {
      "cell_type": "code",
      "execution_count": null,
      "metadata": {
        "collapsed": false
      },
      "outputs": [],
      "source": [
        "scene = window.Scene()"
      ]
    },
    {
      "cell_type": "markdown",
      "metadata": {},
      "source": [
        "Next, load in a texture for each of the actors. For this tutorial, we will\nbe creating one textured sphere for the Earth, and another for the moon.\nCollect the Earth texture from the FURY github using ``fetch_viz_textures``\nand  ``read_viz_textures``, then use ``io.load_image`` to load in the\nimage.\n\n"
      ]
    },
    {
      "cell_type": "code",
      "execution_count": null,
      "metadata": {
        "collapsed": false
      },
      "outputs": [],
      "source": [
        "fetch_viz_textures()\nearth_filename = read_viz_textures(\"1_earth_8k.jpg\")\nearth_image = io.load_image(earth_filename)"
      ]
    },
    {
      "cell_type": "markdown",
      "metadata": {},
      "source": [
        "Using ``actor.texture_on_sphere()``, create an earth_actor with your newly\nloaded texture.\n\n"
      ]
    },
    {
      "cell_type": "code",
      "execution_count": null,
      "metadata": {
        "collapsed": false
      },
      "outputs": [],
      "source": [
        "earth_actor = actor.texture_on_sphere(earth_image)"
      ]
    },
    {
      "cell_type": "markdown",
      "metadata": {},
      "source": [
        "Then, do the same for the moon.\n\n"
      ]
    },
    {
      "cell_type": "code",
      "execution_count": null,
      "metadata": {
        "collapsed": false
      },
      "outputs": [],
      "source": [
        "moon_filename = read_viz_textures(\"moon-8k.jpg\")\nmoon_image = io.load_image(moon_filename)\n\nmoon_actor = actor.texture_on_sphere(moon_image)"
      ]
    },
    {
      "cell_type": "markdown",
      "metadata": {},
      "source": [
        "Add both actors to the already existing scene.\n\n"
      ]
    },
    {
      "cell_type": "code",
      "execution_count": null,
      "metadata": {
        "collapsed": false
      },
      "outputs": [],
      "source": [
        "scene.add(earth_actor)\nscene.add(moon_actor)"
      ]
    },
    {
      "cell_type": "markdown",
      "metadata": {},
      "source": [
        "Next, alter the position and scale of the moon to correctly size it in\ncomparison to the Earth using ``actor.SetPosition()`` and\n``actor.SetScale()``, and rotate the Earth using ``utils.rotate`` to\ncorrectly align the texture.\n\n"
      ]
    },
    {
      "cell_type": "code",
      "execution_count": null,
      "metadata": {
        "collapsed": false
      },
      "outputs": [],
      "source": [
        "moon_actor.SetPosition(1, 0.1, 0.5)\nmoon_actor.SetScale(0.25, 0.25, 0.25)\nutils.rotate(earth_actor, (-90, 1, 0, 0))"
      ]
    },
    {
      "cell_type": "markdown",
      "metadata": {},
      "source": [
        "The ShowManager class is the interface between the scene, the window and the\ninteractor.\n\n"
      ]
    },
    {
      "cell_type": "code",
      "execution_count": null,
      "metadata": {
        "collapsed": false
      },
      "outputs": [],
      "source": [
        "showm = window.ShowManager(\n    scene, size=(900, 768), reset_camera=False, order_transparent=True\n)"
      ]
    },
    {
      "cell_type": "markdown",
      "metadata": {},
      "source": [
        "Next, let's focus on creating the animation.\nWe can determine the duration of animation with using the ``counter``.\nUse itertools to avoid global variables.\n\n"
      ]
    },
    {
      "cell_type": "code",
      "execution_count": null,
      "metadata": {
        "collapsed": false
      },
      "outputs": [],
      "source": [
        "counter = itertools.count()"
      ]
    },
    {
      "cell_type": "markdown",
      "metadata": {},
      "source": [
        "Use ``set_camera`` to ensure the camera is in the optimal position for the\nscene.\n\n"
      ]
    },
    {
      "cell_type": "code",
      "execution_count": null,
      "metadata": {
        "collapsed": false
      },
      "outputs": [],
      "source": [
        "scene.set_camera(\n    position=(0.24, 0.00, 4.34),\n    focal_point=(0.00, 0.00, 0.00),\n    view_up=(0.00, 1.00, 0.00),\n)"
      ]
    },
    {
      "cell_type": "markdown",
      "metadata": {},
      "source": [
        "Let's create a sphere actor to add to the Earth. We will place this sphere\non the Earth's surface on Bloomington, IN, home of FURY's headquarters!\n\n"
      ]
    },
    {
      "cell_type": "code",
      "execution_count": null,
      "metadata": {
        "collapsed": false
      },
      "outputs": [],
      "source": [
        "center = np.array([[-0.39, 0.3175, 0.025]])\nradius = 0.002\nsphere_actor = actor.sphere(center, window.colors.blue_medium, radius)"
      ]
    },
    {
      "cell_type": "markdown",
      "metadata": {},
      "source": [
        "Also creating a text actor to add below the sphere.\n\n"
      ]
    },
    {
      "cell_type": "code",
      "execution_count": null,
      "metadata": {
        "collapsed": false
      },
      "outputs": [],
      "source": [
        "text_actor = actor.text_3d(\n    \"Bloomington, Indiana\", (-0.42, 0.31, 0.03), window.colors.white, 0.004\n)\nutils.rotate(text_actor, (-90, 0, 1, 0))"
      ]
    },
    {
      "cell_type": "markdown",
      "metadata": {},
      "source": [
        "Let's also import a model of a satellite to visualize circling the moon.\n\n"
      ]
    },
    {
      "cell_type": "code",
      "execution_count": null,
      "metadata": {
        "collapsed": false
      },
      "outputs": [],
      "source": [
        "fetch_viz_models()\nsatellite_filename = read_viz_models(\"satellite_obj.obj\")\nsatellite = io.load_polydata(satellite_filename)\nsatellite_actor = utils.get_actor_from_polydata(satellite)\n\nsatellite_actor.SetPosition(-0.75, 0.1, 0.4)\nsatellite_actor.SetScale(0.005, 0.005, 0.005)"
      ]
    },
    {
      "cell_type": "markdown",
      "metadata": {},
      "source": [
        "In the ``timer_callback`` function, use if statements to specify when\ncertain events will happen in the animation, based on the position that\nthe counter is at. So, for example, the earth actor will continue to\nrotate while the count is less than 450.\n\n"
      ]
    },
    {
      "cell_type": "code",
      "execution_count": null,
      "metadata": {
        "collapsed": false
      },
      "outputs": [],
      "source": [
        "def timer_callback(_obj, _event):\n    cnt = next(counter)\n    showm.render()\n    if cnt < 450:\n        utils.rotate(earth_actor, (1, 0, 1, 0))\n    if cnt % 5 == 0 and cnt < 450:\n        showm.scene.azimuth(-1)\n    if cnt == 300:\n        scene.set_camera(\n            position=(-3.679, 0.00, 2.314),\n            focal_point=(0.0, 0.35, 0.00),\n            view_up=(0.00, 1.00, 0.00),\n        )\n    if cnt > 300 and cnt < 450:\n        scene.zoom(1.01)\n    if cnt >= 450 and cnt < 1500:\n        scene.add(sphere_actor)\n        scene.add(text_actor)\n    if cnt >= 450 and cnt < 550:\n        scene.zoom(1.01)\n    if cnt == 575:\n        moon_actor.SetPosition(-1, 0.1, 0.5)\n        scene.set_camera(\n            position=(-0.5, 0.1, 0.00),\n            focal_point=(-1, 0.1, 0.5),\n            view_up=(0.00, 1.00, 0.00),\n        )\n        scene.zoom(0.03)\n        scene.add(satellite_actor)\n        utils.rotate(satellite_actor, (180, 0, 1, 0))\n        scene.rm(earth_actor)\n    if cnt > 575 and cnt < 750:\n        showm.scene.azimuth(-2)\n        utils.rotate(moon_actor, (-2, 0, 1, 0))\n        satellite_actor.SetPosition(-0.8, 0.1 - cnt / 10000, 0.4)\n    if cnt >= 750 and cnt < 1100:\n        showm.scene.azimuth(-2)\n        utils.rotate(moon_actor, (-2, 0, 1, 0))\n        satellite_actor.SetPosition(-0.8, -0.07 + cnt / 10000, 0.4)\n    if cnt == 1100:\n        showm.exit()"
      ]
    },
    {
      "cell_type": "markdown",
      "metadata": {},
      "source": [
        "Watch your new animation take place!\n\n"
      ]
    },
    {
      "cell_type": "code",
      "execution_count": null,
      "metadata": {
        "collapsed": false
      },
      "outputs": [],
      "source": [
        "showm.add_timer_callback(True, 35, timer_callback)\nshowm.start()\nwindow.record(showm.scene, size=(900, 768), out_path=\"viz_earth_animation.png\")"
      ]
    }
  ],
  "metadata": {
    "kernelspec": {
      "display_name": "Python 3",
      "language": "python",
      "name": "python3"
    },
    "language_info": {
      "codemirror_mode": {
        "name": "ipython",
        "version": 3
      },
      "file_extension": ".py",
      "mimetype": "text/x-python",
      "name": "python",
      "nbconvert_exporter": "python",
      "pygments_lexer": "ipython3",
      "version": "3.9.19"
    }
  },
  "nbformat": 4,
  "nbformat_minor": 0
}