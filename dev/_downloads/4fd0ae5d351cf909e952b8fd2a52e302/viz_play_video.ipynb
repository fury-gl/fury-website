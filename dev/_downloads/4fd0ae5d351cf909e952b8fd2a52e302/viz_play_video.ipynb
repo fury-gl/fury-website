{
  "cells": [
    {
      "cell_type": "code",
      "execution_count": null,
      "metadata": {
        "collapsed": false
      },
      "outputs": [],
      "source": [
        "%matplotlib inline"
      ]
    },
    {
      "cell_type": "markdown",
      "metadata": {},
      "source": [
        "\n# Play a video in the 3D world\n\nThe goal of this demo is to show how to visualize a video\non a rectangle by updating a texture.\n"
      ]
    },
    {
      "cell_type": "code",
      "execution_count": null,
      "metadata": {
        "collapsed": false
      },
      "outputs": [],
      "source": [
        "import time\n\nimport cv2\nimport numpy as np\n\nfrom fury import actor, window\n\n\n# The VideoCapturer Class\n# This Class wraps OpenCV Videocapture\nclass VideoCapturer:\n    def __init__(self, video, time):\n        self.path = video\n        self.video = cv2.VideoCapture(self.path)\n        self.fps = int(self.video.get(cv2.CAP_PROP_FPS))\n        self.frames = int(self.video.get(cv2.CAP_PROP_FRAME_COUNT))\n        self.time = time\n\n    # A generator to yield video frames on every call\n    def get_frame(self):\n        start = time.time()\n        for _ in range(self.frames):\n            isframe, frame = self.video.read()\n            dur = time.time() - start\n            if dur > self.time:\n                break\n            if isframe:\n                yield cv2.cvtColor(frame, cv2.COLOR_BGR2RGB)\n        self.video.release()\n        yield None\n\n\nclass VideoPlayer:\n    def __init__(self, video, time=10):\n        # Initializes the Video object with the given Video\n        self.video = VideoCapturer(video, time)\n        self.video_generator = self.video.get_frame()\n        self.current_video_frame = next(self.video_generator)\n        # Initialize Scene\n        self.initialize_scene()\n        # Create a Show Manager and Initialize it\n        self.show_manager = window.ShowManager(\n            self.scene, size=(900, 768), reset_camera=False, order_transparent=True\n        )\n\n    # Initialize the Scene with actors\n    def initialize_scene(self):\n        self.scene = window.Scene()\n        # Initialize a Plane actor with the 1st video frame along with\n        # the actor grid which is to be updated in each iteration\n        self.plane_actor = actor.texture(self.current_video_frame)\n        self.scene.add(self.plane_actor)\n\n    # The timer_callback function getting called by the show manager\n    def timer_callback(self, _obj, _event):\n        self.current_video_frame = next(self.video_generator)\n        if isinstance(self.current_video_frame, np.ndarray):\n            # update texture of the actor with the current frame image\n            # by updating the actor grid\n            actor.texture_update(self.plane_actor, self.current_video_frame)\n            self.show_manager.scene.azimuth(1.5)  # to rotate the camera\n        else:\n            self.show_manager.exit()\n\n        self.show_manager.render()\n\n    def run(self):\n        # Add a timer callback to show manager after with\n        # video frame duration as the interval\n        self.frame_duration = int(1000 / self.video.fps)\n        self.show_manager.add_timer_callback(\n            True, self.frame_duration, self.timer_callback\n        )\n        self.show_manager.start()\n\n\n# Create VideoPlayer Object and run it\nvideo_url = (\n    'http://commondatastorage.googleapis.com/'\n    + 'gtv-videos-bucket/sample/BigBuckBunny.mp4'\n)\nvp = VideoPlayer(video_url)\nvp.run()\nwindow.record(vp.show_manager.scene, out_path='viz_play_video.png', size=(600, 600))"
      ]
    }
  ],
  "metadata": {
    "kernelspec": {
      "display_name": "Python 3",
      "language": "python",
      "name": "python3"
    },
    "language_info": {
      "codemirror_mode": {
        "name": "ipython",
        "version": 3
      },
      "file_extension": ".py",
      "mimetype": "text/x-python",
      "name": "python",
      "nbconvert_exporter": "python",
      "pygments_lexer": "ipython3",
      "version": "3.9.16"
    }
  },
  "nbformat": 4,
  "nbformat_minor": 0
}