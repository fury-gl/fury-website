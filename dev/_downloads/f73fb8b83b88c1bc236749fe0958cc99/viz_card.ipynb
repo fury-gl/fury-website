{
  "cells": [
    {
      "cell_type": "markdown",
      "metadata": {},
      "source": [
        "\n# Card\n\nThis example shows how to create a card.\n\nFirst, some imports.\n"
      ]
    },
    {
      "cell_type": "code",
      "execution_count": null,
      "metadata": {
        "collapsed": false
      },
      "outputs": [],
      "source": [
        "from fury import ui, window\nfrom fury.data import fetch_viz_icons"
      ]
    },
    {
      "cell_type": "markdown",
      "metadata": {},
      "source": [
        "First we need to fetch some icons that are included in FURY.\n\n"
      ]
    },
    {
      "cell_type": "code",
      "execution_count": null,
      "metadata": {
        "collapsed": false
      },
      "outputs": [],
      "source": [
        "fetch_viz_icons()"
      ]
    },
    {
      "cell_type": "markdown",
      "metadata": {},
      "source": [
        "Let's create a card and add it to the show manager\n\n"
      ]
    },
    {
      "cell_type": "code",
      "execution_count": null,
      "metadata": {
        "collapsed": false
      },
      "outputs": [],
      "source": [
        "img_url = \"https://raw.githubusercontent.com/fury-gl\"\\\n          \"/fury-communication-assets/main/fury-logo.png\"\n\ntitle = \"FURY\"\nbody = \"FURY - Free Unified Rendering in pYthon.\"\\\n       \"A software library for scientific visualization in Python.\"\n\ncard = ui.elements.Card2D(image_path=img_url, title_text=title,\n                          body_text=body,\n                          image_scale=0.55, size=(300, 300),\n                          bg_color=(1, 0.294, 0.180),\n                          bg_opacity=0.8, border_width=5,\n                          border_color=(0.1, 0.4, 0.4))"
      ]
    },
    {
      "cell_type": "markdown",
      "metadata": {},
      "source": [
        "Now that the card has been initialised, we add it to the show\nmanager.\n\n"
      ]
    },
    {
      "cell_type": "code",
      "execution_count": null,
      "metadata": {
        "collapsed": false
      },
      "outputs": [],
      "source": [
        "current_size = (1000, 1000)\nshow_manager = window.ShowManager(size=current_size,\n                                  title=\"FURY Card Example\")\n\nshow_manager.scene.add(card)\n# To interact with the UI, set interactive = True\ninteractive = False\n\nif interactive:\n    show_manager.start()\n\nwindow.record(show_manager.scene, out_path=\"card_ui.png\", size=(1000, 1000))"
      ]
    }
  ],
  "metadata": {
    "kernelspec": {
      "display_name": "Python 3",
      "language": "python",
      "name": "python3"
    },
    "language_info": {
      "codemirror_mode": {
        "name": "ipython",
        "version": 3
      },
      "file_extension": ".py",
      "mimetype": "text/x-python",
      "name": "python",
      "nbconvert_exporter": "python",
      "pygments_lexer": "ipython3",
      "version": "3.9.19"
    }
  },
  "nbformat": 4,
  "nbformat_minor": 0
}