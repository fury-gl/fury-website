{
  "cells": [
    {
      "cell_type": "code",
      "execution_count": null,
      "metadata": {
        "collapsed": false
      },
      "outputs": [],
      "source": [
        "%matplotlib inline"
      ]
    },
    {
      "cell_type": "markdown",
      "metadata": {},
      "source": [
        "\n=====================\nCube & Slider Control\n=====================\n\nThis example shows how to use the UI API. We will demonstrate how to\ncreate a cube and control with sliders.\n\nFirst, some imports.\n\n"
      ]
    },
    {
      "cell_type": "code",
      "execution_count": null,
      "metadata": {
        "collapsed": false
      },
      "outputs": [],
      "source": [
        "from fury import ui, window"
      ]
    },
    {
      "cell_type": "markdown",
      "metadata": {},
      "source": [
        "Cube and sliders\n================\n\nAdd a cube to the scene .\n\n"
      ]
    },
    {
      "cell_type": "code",
      "execution_count": null,
      "metadata": {
        "collapsed": false
      },
      "outputs": [],
      "source": [
        "def cube_maker(color=(1, 1, 1), size=(0.2, 0.2, 0.2), center=(0, 0, 0)):\n    cube = window.vtk.vtkCubeSource()\n    cube.SetXLength(size[0])\n    cube.SetYLength(size[1])\n    cube.SetZLength(size[2])\n    if center is not None:\n        cube.SetCenter(*center)\n    cube_mapper = window.vtk.vtkPolyDataMapper()\n    cube_mapper.SetInputConnection(cube.GetOutputPort())\n    cube_actor = window.vtk.vtkActor()\n    cube_actor.SetMapper(cube_mapper)\n    if color is not None:\n        cube_actor.GetProperty().SetColor(color)\n    return cube_actor\n\n\ncube = cube_maker(color=(0, 0, 1), size=(20, 20, 20), center=(15, 0, 0))"
      ]
    },
    {
      "cell_type": "markdown",
      "metadata": {},
      "source": [
        "Now we'll add five sliders: 1 circular and 4 linear sliders.\nBy default the alignments are 'bottom' for horizontal and 'top' for vertical.\n\n"
      ]
    },
    {
      "cell_type": "code",
      "execution_count": null,
      "metadata": {
        "collapsed": false
      },
      "outputs": [],
      "source": [
        "ring_slider = ui.RingSlider2D(center=(630, 400), initial_value=0,\n                              text_template=\"{angle:5.1f}\u00b0\")\n\nhor_line_slider_text_top = ui.LineSlider2D(center=(400, 230), initial_value=0,\n                                           orientation='horizontal',\n                                           min_value=-10, max_value=10,\n                                           text_alignment='top')\n\nhor_line_slider_text_bottom = ui.LineSlider2D(center=(400, 200),\n                                              initial_value=0,\n                                              orientation='horizontal',\n                                              min_value=-10, max_value=10,\n                                              text_alignment='bottom')\n\nver_line_slider_text_left = ui.LineSlider2D(center=(100, 400), initial_value=0,\n                                            orientation='vertical',\n                                            min_value=-10, max_value=10,\n                                            text_alignment='left')\n\nver_line_slider_text_right = ui.LineSlider2D(center=(150, 400),\n                                             initial_value=0,\n                                             orientation='vertical',\n                                             min_value=-10, max_value=10,\n                                             text_alignment='right')"
      ]
    },
    {
      "cell_type": "markdown",
      "metadata": {},
      "source": [
        "We can use a callback to rotate the cube with the ring slider.\n\n"
      ]
    },
    {
      "cell_type": "code",
      "execution_count": null,
      "metadata": {
        "collapsed": false
      },
      "outputs": [],
      "source": [
        "def rotate_cube(slider):\n    angle = slider.value\n    previous_angle = slider.previous_value\n    rotation_angle = angle - previous_angle\n    cube.RotateX(rotation_angle)\n\n\nring_slider.on_change = rotate_cube"
      ]
    },
    {
      "cell_type": "markdown",
      "metadata": {},
      "source": [
        "Similarly, we can translate the cube with the line slider.\n\n"
      ]
    },
    {
      "cell_type": "code",
      "execution_count": null,
      "metadata": {
        "collapsed": false
      },
      "outputs": [],
      "source": [
        "def translate_cube(slider):\n    value = slider.value\n    cube.SetPosition(value, 0, 0)\n\n\nhor_line_slider_text_top.on_change = translate_cube\nhor_line_slider_text_bottom.on_change = translate_cube\nver_line_slider_text_left.on_change = translate_cube\nver_line_slider_text_right.on_change = translate_cube"
      ]
    },
    {
      "cell_type": "markdown",
      "metadata": {},
      "source": [
        "Show Manager\n==================================\n\nNow that all the elements have been initialised, we add them to the show\nmanager.\n\n"
      ]
    },
    {
      "cell_type": "code",
      "execution_count": null,
      "metadata": {
        "collapsed": false
      },
      "outputs": [],
      "source": [
        "current_size = (800, 800)\nshow_manager = window.ShowManager(size=current_size, title=\"DIPY Cube Example\")\n\nshow_manager.scene.add(cube)\nshow_manager.scene.add(ring_slider)\nshow_manager.scene.add(hor_line_slider_text_top)\nshow_manager.scene.add(hor_line_slider_text_bottom)\nshow_manager.scene.add(ver_line_slider_text_left)\nshow_manager.scene.add(ver_line_slider_text_right)"
      ]
    },
    {
      "cell_type": "markdown",
      "metadata": {},
      "source": [
        "Visibility by default is True\n\n"
      ]
    },
    {
      "cell_type": "code",
      "execution_count": null,
      "metadata": {
        "collapsed": false
      },
      "outputs": [],
      "source": [
        "cube.SetVisibility(True)\nring_slider.set_visibility(True)\nhor_line_slider_text_top.set_visibility(True)\nhor_line_slider_text_bottom.set_visibility(True)\nver_line_slider_text_left.set_visibility(True)\nver_line_slider_text_right.set_visibility(True)"
      ]
    },
    {
      "cell_type": "markdown",
      "metadata": {},
      "source": [
        "Set camera for better visualization\n\n"
      ]
    },
    {
      "cell_type": "code",
      "execution_count": null,
      "metadata": {
        "collapsed": false
      },
      "outputs": [],
      "source": [
        "show_manager.scene.reset_camera()\nshow_manager.scene.set_camera(position=(0, 0, 150))\nshow_manager.scene.reset_clipping_range()\nshow_manager.scene.azimuth(30)\ninteractive = False\n\nif interactive:\n    show_manager.start()\n\nwindow.record(show_manager.scene,\n              size=current_size, out_path=\"viz_slider.png\")"
      ]
    }
  ],
  "metadata": {
    "kernelspec": {
      "display_name": "Python 3",
      "language": "python",
      "name": "python3"
    },
    "language_info": {
      "codemirror_mode": {
        "name": "ipython",
        "version": 3
      },
      "file_extension": ".py",
      "mimetype": "text/x-python",
      "name": "python",
      "nbconvert_exporter": "python",
      "pygments_lexer": "ipython3",
      "version": "3.6.10"
    }
  },
  "nbformat": 4,
  "nbformat_minor": 0
}