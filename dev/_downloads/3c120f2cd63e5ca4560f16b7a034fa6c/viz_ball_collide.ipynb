{
  "cells": [
    {
      "cell_type": "markdown",
      "metadata": {},
      "source": [
        "\n# Ball Collision Simulation\n\nThis example simulation shows how to use pybullet to render physics simulations\nin fury. In this example we render the collision between a blue ball and red\nball and also display a message by confirming the collision.\n\nFirst some imports.\n"
      ]
    },
    {
      "cell_type": "code",
      "execution_count": null,
      "metadata": {
        "collapsed": false
      },
      "outputs": [],
      "source": [
        "import itertools\n\nimport numpy as np\nimport pybullet as p\n\nfrom fury import actor, ui, window\n\nclient = p.connect(p.DIRECT)"
      ]
    },
    {
      "cell_type": "markdown",
      "metadata": {},
      "source": [
        "Parameters and definition of red and blue balls.\n\n"
      ]
    },
    {
      "cell_type": "code",
      "execution_count": null,
      "metadata": {
        "collapsed": false
      },
      "outputs": [],
      "source": [
        "red_radius = 0.5\nblue_radius = 0.5\nduration = 50\n\n# Red Ball\nred_ball_actor = actor.sphere(\n    centers=np.array([[0, 0, 0]]), colors=np.array([[1, 0, 0]]), radii=red_radius\n)\n\nred_ball_coll = p.createCollisionShape(p.GEOM_SPHERE, radius=red_radius)\n\nred_ball = p.createMultiBody(\n    baseMass=0.5,\n    baseCollisionShapeIndex=red_ball_coll,\n    basePosition=[10, 0, 0],\n    baseOrientation=[0, 0, 0, 1],\n)\n\n# Blue ball\nblue_ball_actor = actor.sphere(\n    centers=np.array([[0, 0, 0]]), colors=np.array([[0, 0, 1]]), radii=blue_radius\n)\n\nblue_ball_coll = p.createCollisionShape(p.GEOM_SPHERE, radius=blue_radius)\n\nblue_ball = p.createMultiBody(\n    baseMass=0.5,\n    baseCollisionShapeIndex=blue_ball_coll,\n    basePosition=[-10, 0, 0],\n    baseOrientation=[0, 0, 0, 1],\n)"
      ]
    },
    {
      "cell_type": "markdown",
      "metadata": {},
      "source": [
        "We set the coefficient of restitution of both the balls to `0.6`.\n\n"
      ]
    },
    {
      "cell_type": "code",
      "execution_count": null,
      "metadata": {
        "collapsed": false
      },
      "outputs": [],
      "source": [
        "p.changeDynamics(red_ball, -1, restitution=0.6)\np.changeDynamics(blue_ball, -1, restitution=0.6)"
      ]
    },
    {
      "cell_type": "markdown",
      "metadata": {},
      "source": [
        "We add all the actors to the scene.\n\n"
      ]
    },
    {
      "cell_type": "code",
      "execution_count": null,
      "metadata": {
        "collapsed": false
      },
      "outputs": [],
      "source": [
        "scene = window.Scene()\nscene.add(actor.axes())\nscene.add(red_ball_actor)\nscene.add(blue_ball_actor)\n\nshowm = window.ShowManager(\n    scene, size=(900, 700), reset_camera=False, order_transparent=True\n)\n\n\ncounter = itertools.count()"
      ]
    },
    {
      "cell_type": "markdown",
      "metadata": {},
      "source": [
        "Method to sync objects.\n\n"
      ]
    },
    {
      "cell_type": "code",
      "execution_count": null,
      "metadata": {
        "collapsed": false
      },
      "outputs": [],
      "source": [
        "def sync_actor(actor, multibody):\n    pos, orn = p.getBasePositionAndOrientation(multibody)\n    actor.SetPosition(*pos)\n    orn_deg = np.degrees(p.getEulerFromQuaternion(orn))\n    actor.SetOrientation(*orn_deg)\n\n\napply_force = True\ntb = ui.TextBlock2D(position=(0, 600), font_size=30, color=(1, 0.5, 0), text='')\nscene.add(tb)\nscene.set_camera(\n    position=(0.30, -18.78, 0.89), focal_point=(0.15, 0.25, 0.40), view_up=(0, 0, 1.00)\n)"
      ]
    },
    {
      "cell_type": "markdown",
      "metadata": {},
      "source": [
        "Timer callback to sync and step simulation every second.\n\n"
      ]
    },
    {
      "cell_type": "code",
      "execution_count": null,
      "metadata": {
        "collapsed": false
      },
      "outputs": [],
      "source": [
        "def timer_callback(_obj, _event):\n    global apply_force\n    cnt = next(counter)\n    showm.render()\n    red_pos, red_orn = p.getBasePositionAndOrientation(red_ball)\n    blue_pos, blue_orn = p.getBasePositionAndOrientation(blue_ball)\n\n    # Apply force for the first step of the simulation.\n    if apply_force:\n        p.applyExternalForce(\n            red_ball, -1, forceObj=[-40000, 0, 0], posObj=red_pos, flags=p.WORLD_FRAME\n        )\n\n        p.applyExternalForce(\n            blue_ball, -1, forceObj=[40000, 0, 0], posObj=blue_pos, flags=p.WORLD_FRAME\n        )\n\n        apply_force = 0\n\n    sync_actor(blue_ball_actor, blue_ball)\n    sync_actor(red_ball_actor, red_ball)\n\n    # Get various collision information using `p.getContactPoints`.\n    contact = p.getContactPoints(red_ball, blue_ball, -1, -1)\n    if len(contact) != 0:\n        tb.message = 'Collision!!'\n\n    p.stepSimulation()\n\n    if cnt == 50:\n        showm.exit()\n\n\nshowm.add_timer_callback(True, duration, timer_callback)\n\ninteractive = False\n\nif interactive:\n    showm.start()\n\nwindow.record(scene, size=(900, 700), out_path='viz_ball_collide.png')"
      ]
    }
  ],
  "metadata": {
    "kernelspec": {
      "display_name": "Python 3",
      "language": "python",
      "name": "python3"
    },
    "language_info": {
      "codemirror_mode": {
        "name": "ipython",
        "version": 3
      },
      "file_extension": ".py",
      "mimetype": "text/x-python",
      "name": "python",
      "nbconvert_exporter": "python",
      "pygments_lexer": "ipython3",
      "version": "3.9.18"
    }
  },
  "nbformat": 4,
  "nbformat_minor": 0
}