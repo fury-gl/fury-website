{
  "cells": [
    {
      "cell_type": "markdown",
      "metadata": {},
      "source": [
        "\n# Streaming FURY with user interaction\n\nIn this tutorial, we show how to use the FURY Streaming system to\nserve an interactive visualization through a web browser.\n\nYou can choose between two different encodings: WebRTC or MJPEG.\nWebRTC is a more robust option and can be used to perform\na live streaming with a low-latency connection for example using\nngrok. However, to use webRTC you need to install the aiortc library.\n\n```bash\npip install aiortc\n```\n## Notes\n\nIf you don't have ffmpeg installed, you need to install it to use WebRTC\n\nLinux\n\n\n`apt install libavdevice-dev libavfilter-dev libopus-dev libvpx-dev pkg-config`\n\nOS X\n\n`brew install ffmpeg opus libvpx pkg-config`\n"
      ]
    },
    {
      "cell_type": "code",
      "execution_count": null,
      "metadata": {
        "collapsed": false
      },
      "outputs": [],
      "source": [
        "import multiprocessing\nimport sys\n\nimport numpy as np\n\nfrom fury import actor, window\nfrom fury.stream.client import FuryStreamClient, FuryStreamInteraction\n\n# if this example it's not working for you and you're using MacOs\n# uncomment the following line\n# multiprocessing.set_start_method('spawn')\nfrom fury.stream.server.main import WEBRTC_AVAILABLE, web_server, web_server_raw_array\n\nif __name__ == '__main__':\n    interactive = False\n    # `use_raw_array` is a flag to tell the server to use python RawArray\n    # instead of SharedMemory which is a new feature in python 3.8\n    # https://docs.python.org/3/library/multiprocessing.html#multiprocessing.Array\n    # https://docs.python.org/3/library/multiprocessing.html#shared-memory-objects\n\n    use_raw_array = sys.version_info < (3, 8)\n    window_size = (300, 300)\n    # `max_window_size` are the maximum size of the window that will be\n    # allowed to be sent to the browser. For example, if you set\n    # `max_window_size=(800, 800)` then the browser will be limited to\n    # a window of size (800, 800).\n\n    max_window_size = (400, 400)\n    # 0 ms_stream means that the frame will be sent to the server\n    # right after the rendering\n\n    # `ms_interaction` is the time in milliseconds that the user will have\n    # to interact with the visualization\n\n    ms_interaction = 1\n    # `ms_stream` is the number of milliseconds that the server will\n    # wait before sending a new frame to the browser. If `ms_stream=0`\n    # then the server will send the frame right after the rendering.\n\n    ms_stream = 0\n    # max number of interactions to be stored inside the queue\n    max_queue_size = 17\n    ######################################################################\n    centers = np.array([[0, 0, 0], [-1, 0, 0], [1, 0, 0]])\n    colors = np.array([[1, 0, 0], [0, 1, 0], [0, 0, 1]])\n\n    actors = actor.sphere(centers, opacity=0.5, radii=0.4, colors=colors)\n    scene = window.Scene()\n\n    scene.add(actors)\n\n    showm = window.ShowManager(scene, size=(window_size[0], window_size[1]))\n\n    stream = FuryStreamClient(\n        showm, max_window_size=max_window_size, use_raw_array=use_raw_array\n    )\n    stream_interaction = FuryStreamInteraction(\n        showm, max_queue_size=max_queue_size, use_raw_array=use_raw_array\n    )\n\n    if use_raw_array:\n        p = multiprocessing.Process(\n            target=web_server_raw_array,\n            args=(\n                stream.img_manager.image_buffers,\n                stream.img_manager.info_buffer,\n                stream_interaction.circular_queue.head_tail_buffer,\n                stream_interaction.circular_queue.buffer._buffer,\n                8000,\n                'localhost',\n                True,\n                WEBRTC_AVAILABLE,\n            ),\n        )\n\n    else:\n        p = multiprocessing.Process(\n            target=web_server,\n            args=(\n                stream.img_manager.image_buffer_names,\n                stream.img_manager.info_buffer_name,\n                stream_interaction.circular_queue.head_tail_buffer_name,\n                stream_interaction.circular_queue.buffer.buffer_name,\n                8000,\n                'localhost',\n                True,\n                WEBRTC_AVAILABLE,\n            ),\n        )\n    p.start()\n    stream_interaction.start(ms=ms_interaction)\n    stream.start(\n        ms_stream,\n    )\n    ###########################################################################\n    # If you have aiortc in your system, you can see your live streaming\n    # through the following url: htttp://localhost:8000/?encoding=webrtc\n    # Other wise, you can use the following url:\n    # http://localhost:8000/?encoding=mjpeg\n\n    if interactive:\n        showm.start()\n\n    # We need to close the server after the show is over\n    p.kill()\n    ###########################################################################\n    # We release the resources and stop the interactive mode\n    stream.stop()\n    stream_interaction.stop()\n    stream.cleanup()\n    stream_interaction.cleanup()\n\n    window.record(showm.scene, size=window_size, out_path='viz_interaction.png')"
      ]
    }
  ],
  "metadata": {
    "kernelspec": {
      "display_name": "Python 3",
      "language": "python",
      "name": "python3"
    },
    "language_info": {
      "codemirror_mode": {
        "name": "ipython",
        "version": 3
      },
      "file_extension": ".py",
      "mimetype": "text/x-python",
      "name": "python",
      "nbconvert_exporter": "python",
      "pygments_lexer": "ipython3",
      "version": "3.9.16"
    }
  },
  "nbformat": 4,
  "nbformat_minor": 0
}