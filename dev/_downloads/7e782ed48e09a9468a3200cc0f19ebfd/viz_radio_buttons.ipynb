{
  "cells": [
    {
      "cell_type": "markdown",
      "metadata": {},
      "source": [
        "\n# Sphere Color Control using Radio Buttons\n\nThis example shows how to use the UI API. We will demonstrate how to\ncreate a Sphere and control its color using radio buttons.\n\nFirst, some imports.\n"
      ]
    },
    {
      "cell_type": "code",
      "execution_count": null,
      "metadata": {
        "collapsed": false
      },
      "outputs": [],
      "source": [
        "import numpy as np\n\nimport fury"
      ]
    },
    {
      "cell_type": "markdown",
      "metadata": {},
      "source": [
        "First we need to fetch some icons that are included in FURY.\n\n"
      ]
    },
    {
      "cell_type": "code",
      "execution_count": null,
      "metadata": {
        "collapsed": false
      },
      "outputs": [],
      "source": [
        "fury.data.fetch_viz_icons()"
      ]
    },
    {
      "cell_type": "markdown",
      "metadata": {},
      "source": [
        "## Sphere and Radio Buttons\n\nAdd a Sphere to the scene.\n\n"
      ]
    },
    {
      "cell_type": "code",
      "execution_count": null,
      "metadata": {
        "collapsed": false
      },
      "outputs": [],
      "source": [
        "sphere = fury.actor.sphere(\n    centers=np.array([[50, 0, 0]]),\n    colors=np.array([[0, 0, 1]]),\n    radii=11.0,\n    theta=360,\n    phi=360,\n)\n\n# Creating a dict of possible options and mapping it with their values.\noptions = {\"Blue\": (0, 0, 255), \"Red\": (255, 0, 0), \"Green\": (0, 255, 0)}\n\ncolor_toggler = fury.ui.RadioButton(\n    list(options),\n    checked_labels=[\"Blue\"],\n    padding=1,\n    font_size=16,\n    font_family=\"Arial\",\n    position=(200, 200),\n)\n\n\n# A callback which will set the values for the box\ndef toggle_color(radio):\n    vcolors = fury.utils.colors_from_actor(sphere)\n    color = options[radio.checked_labels[0]]\n    vcolors[:] = np.array(color)\n    fury.utils.update_actor(sphere)\n\n\ncolor_toggler.on_change = toggle_color"
      ]
    },
    {
      "cell_type": "markdown",
      "metadata": {},
      "source": [
        "## Show Manager\n\nNow that all the elements have been initialised, we add them to the show\nmanager.\n\n"
      ]
    },
    {
      "cell_type": "code",
      "execution_count": null,
      "metadata": {
        "collapsed": false
      },
      "outputs": [],
      "source": [
        "current_size = (800, 800)\nshow_manager = fury.window.ShowManager(size=current_size, title=\"FURY Sphere Example\")\n\nshow_manager.scene.add(sphere)\nshow_manager.scene.add(color_toggler)"
      ]
    },
    {
      "cell_type": "markdown",
      "metadata": {},
      "source": [
        "Set camera for better visualization\n\n"
      ]
    },
    {
      "cell_type": "code",
      "execution_count": null,
      "metadata": {
        "collapsed": false
      },
      "outputs": [],
      "source": [
        "show_manager.scene.reset_camera()\nshow_manager.scene.set_camera(position=(0, 0, 150))\nshow_manager.scene.reset_clipping_range()\nshow_manager.scene.azimuth(30)\ninteractive = False\n\nif interactive:\n    show_manager.start()\n\nfury.window.record(\n    show_manager.scene, size=current_size, out_path=\"viz_radio_buttons.png\"\n)"
      ]
    }
  ],
  "metadata": {
    "kernelspec": {
      "display_name": "Python 3",
      "language": "python",
      "name": "python3"
    },
    "language_info": {
      "codemirror_mode": {
        "name": "ipython",
        "version": 3
      },
      "file_extension": ".py",
      "mimetype": "text/x-python",
      "name": "python",
      "nbconvert_exporter": "python",
      "pygments_lexer": "ipython3",
      "version": "3.9.19"
    }
  },
  "nbformat": 4,
  "nbformat_minor": 0
}