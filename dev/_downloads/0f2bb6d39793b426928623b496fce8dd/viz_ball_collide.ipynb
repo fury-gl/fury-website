{
  "cells": [
    {
      "cell_type": "code",
      "execution_count": null,
      "metadata": {
        "collapsed": false
      },
      "outputs": [],
      "source": [
        "%matplotlib inline"
      ]
    },
    {
      "cell_type": "markdown",
      "metadata": {},
      "source": [
        "\n# Ball Collision Simulation\n\n\nThis example simulation shows how to use pybullet to render physics simulations\nin fury. In this example we render the collision between a blue ball and red\nball and also display a message by confirming the collision.\n\nFirst some imports.\n\n"
      ]
    },
    {
      "cell_type": "code",
      "execution_count": null,
      "metadata": {
        "collapsed": false
      },
      "outputs": [],
      "source": [
        "import numpy as np\nfrom fury import window, actor, ui\nimport itertools\nimport pybullet as p\n\nclient = p.connect(p.DIRECT)"
      ]
    },
    {
      "cell_type": "markdown",
      "metadata": {},
      "source": [
        "Parameters and definition of red and blue balls.\n\n"
      ]
    },
    {
      "cell_type": "code",
      "execution_count": null,
      "metadata": {
        "collapsed": false
      },
      "outputs": [],
      "source": [
        "red_radius = 0.5\nblue_radius = 0.5\nduration = 50\n\n# Red Ball\nred_ball_actor = actor.sphere(centers=np.array([[0, 0, 0]]),\n                              colors=np.array([[1, 0, 0]]),\n                              radii=red_radius)\n\nred_ball_coll = p.createCollisionShape(p.GEOM_SPHERE, radius=red_radius)\n\nred_ball = p.createMultiBody(baseMass=0.5,\n                             baseCollisionShapeIndex=red_ball_coll,\n                             basePosition=[10, 0, 0],\n                             baseOrientation=[0, 0, 0, 1])\n\n# Blue ball\nblue_ball_actor = actor.sphere(centers=np.array([[0, 0, 0]]),\n                               colors=np.array([[0, 0, 1]]),\n                               radii=blue_radius)\n\nblue_ball_coll = p.createCollisionShape(\n    p.GEOM_SPHERE,\n    radius=blue_radius)\n\nblue_ball = p.createMultiBody(baseMass=0.5,\n                              baseCollisionShapeIndex=blue_ball_coll,\n                              basePosition=[-10, 0, 0],\n                              baseOrientation=[0, 0, 0, 1])"
      ]
    },
    {
      "cell_type": "markdown",
      "metadata": {},
      "source": [
        "We set the coefficient of restitution of both the balls to `0.6`.\n\n"
      ]
    },
    {
      "cell_type": "code",
      "execution_count": null,
      "metadata": {
        "collapsed": false
      },
      "outputs": [],
      "source": [
        "p.changeDynamics(red_ball, -1, restitution=0.6)\np.changeDynamics(blue_ball, -1, restitution=0.6)"
      ]
    },
    {
      "cell_type": "markdown",
      "metadata": {},
      "source": [
        "We add all the actors to the scene.\n\n"
      ]
    },
    {
      "cell_type": "code",
      "execution_count": null,
      "metadata": {
        "collapsed": false
      },
      "outputs": [],
      "source": [
        "scene = window.Scene()\nscene.add(actor.axes())\nscene.add(red_ball_actor)\nscene.add(blue_ball_actor)\n\nshowm = window.ShowManager(scene,\n                           size=(900, 700), reset_camera=False,\n                           order_transparent=True)\n\nshowm.initialize()\ncounter = itertools.count()"
      ]
    },
    {
      "cell_type": "markdown",
      "metadata": {},
      "source": [
        "Method to sync objects.\n\n"
      ]
    },
    {
      "cell_type": "code",
      "execution_count": null,
      "metadata": {
        "collapsed": false
      },
      "outputs": [],
      "source": [
        "def sync_actor(actor, multibody):\n    pos, orn = p.getBasePositionAndOrientation(multibody)\n    actor.SetPosition(*pos)\n    orn_deg = np.degrees(p.getEulerFromQuaternion(orn))\n    actor.SetOrientation(*orn_deg)\n\n\napply_force = True\ntb = ui.TextBlock2D(position=(0, 600), font_size=30, color=(1, 0.5, 0),\n                    text=\"\")\nscene.add(tb)\nscene.set_camera(position=(0.30, -18.78, 0.89),\n                 focal_point=(0.15, 0.25, 0.40),\n                 view_up=(0, 0, 1.00))"
      ]
    },
    {
      "cell_type": "markdown",
      "metadata": {},
      "source": [
        "Timer callback to sync and step simulation every second.\n\n"
      ]
    },
    {
      "cell_type": "code",
      "execution_count": null,
      "metadata": {
        "collapsed": false
      },
      "outputs": [],
      "source": [
        "def timer_callback(_obj, _event):\n    global apply_force\n    cnt = next(counter)\n    showm.render()\n    red_pos, red_orn = p.getBasePositionAndOrientation(red_ball)\n    blue_pos, blue_orn = p.getBasePositionAndOrientation(blue_ball)\n\n    # Apply force for the first step of the simulation.\n    if apply_force:\n        p.applyExternalForce(red_ball, -1,\n                             forceObj=[-40000, 0, 0],\n                             posObj=red_pos,\n                             flags=p.WORLD_FRAME)\n\n        p.applyExternalForce(blue_ball, -1,\n                             forceObj=[40000, 0, 0],\n                             posObj=blue_pos,\n                             flags=p.WORLD_FRAME)\n\n        apply_force = 0\n\n    sync_actor(blue_ball_actor, blue_ball)\n    sync_actor(red_ball_actor, red_ball)\n\n    # Get various collision information using `p.getContactPoints`.\n    contact = p.getContactPoints(red_ball, blue_ball, -1, -1)\n    if len(contact) != 0:\n        tb.message = \"Collision!!\"\n\n    p.stepSimulation()\n\n    if cnt == 50:\n        showm.exit()\n\n\nshowm.add_timer_callback(True, duration, timer_callback)\n\ninteractive = False\n\nif interactive:\n    showm.start()\n\nwindow.record(scene, size=(900, 700), out_path=\"viz_ball_collide.png\")"
      ]
    }
  ],
  "metadata": {
    "kernelspec": {
      "display_name": "Python 3",
      "language": "python",
      "name": "python3"
    },
    "language_info": {
      "codemirror_mode": {
        "name": "ipython",
        "version": 3
      },
      "file_extension": ".py",
      "mimetype": "text/x-python",
      "name": "python",
      "nbconvert_exporter": "python",
      "pygments_lexer": "ipython3",
      "version": "3.6.11"
    }
  },
  "nbformat": 4,
  "nbformat_minor": 0
}