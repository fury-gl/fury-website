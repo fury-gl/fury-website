{
  "cells": [
    {
      "cell_type": "markdown",
      "metadata": {},
      "source": [
        "\n# Keyframe hierarchical Animation\n\nCreating hierarchical keyframes animation in fury\n"
      ]
    },
    {
      "cell_type": "code",
      "execution_count": null,
      "metadata": {
        "collapsed": false
      },
      "outputs": [],
      "source": [
        "import numpy as np\n\nimport fury\n\nscene = fury.window.Scene()\n\nshowm = fury.window.ShowManager(\n    scene, size=(900, 768), reset_camera=False, order_transparent=True\n)\nshowm.initialize()"
      ]
    },
    {
      "cell_type": "markdown",
      "metadata": {},
      "source": [
        "Creating the road\n\n"
      ]
    },
    {
      "cell_type": "code",
      "execution_count": null,
      "metadata": {
        "collapsed": false
      },
      "outputs": [],
      "source": [
        "road = fury.actor.box(\n    np.array([[0, 0, 0]]), colors=np.array([[1, 1, 1]]), scales=np.array([[22, 0.1, 5]])\n)"
      ]
    },
    {
      "cell_type": "markdown",
      "metadata": {},
      "source": [
        "Constructing the car geometry\n\n"
      ]
    },
    {
      "cell_type": "code",
      "execution_count": null,
      "metadata": {
        "collapsed": false
      },
      "outputs": [],
      "source": [
        "body_actor = fury.actor.box(\n    np.array([[0, 0.5, 0], [-0.2, 1, 0]]),\n    scales=((4, 1, 2), (2.5, 1.5, 1.8)),\n    colors=(0.6, 0.3, 0.1),\n)"
      ]
    },
    {
      "cell_type": "markdown",
      "metadata": {},
      "source": [
        "Adding the the car's body to an Animation to be able to animate it later.\n\n"
      ]
    },
    {
      "cell_type": "code",
      "execution_count": null,
      "metadata": {
        "collapsed": false
      },
      "outputs": [],
      "source": [
        "car_anim = fury.animation.Animation(body_actor)"
      ]
    },
    {
      "cell_type": "markdown",
      "metadata": {},
      "source": [
        "Creating the wheels of the car\n\n"
      ]
    },
    {
      "cell_type": "code",
      "execution_count": null,
      "metadata": {
        "collapsed": false
      },
      "outputs": [],
      "source": [
        "wheel_center = np.array([[0, 0, 0]])\n\nwheel_direction = np.array([[0, 0, 1]])\nwheel_positions = [\n    [1.2, 0, 1.1],\n    [-1.2, 0, 1.1],\n    [1.2, 0, -1.1],\n    [-1.2, 0, -1.1],\n]\n\nwheels = [\n    fury.actor.cylinder(\n        wheel_center,\n        wheel_direction,\n        (0.1, 0.7, 0.3),\n        radius=1.7,\n        heights=0.3,\n        resolution=10,\n        capped=True,\n    )\n    for _ in range(4)\n]"
      ]
    },
    {
      "cell_type": "markdown",
      "metadata": {},
      "source": [
        "Animating each wheel and setting its position to the right position using a\nsingle keyframe that will not change.\n\n"
      ]
    },
    {
      "cell_type": "code",
      "execution_count": null,
      "metadata": {
        "collapsed": false
      },
      "outputs": [],
      "source": [
        "wheels_animations = [fury.animation.Animation(wheel) for wheel in wheels]\n\nfor wheel_anim in wheels_animations:\n    wheel_anim.set_position(0.0, wheel_positions.pop())\n    wheel_anim.set_rotation(0.0, [0, 0, 1, 1])\n    wheel_anim.set_rotation(1.0, [0, 0, 1, -1])"
      ]
    },
    {
      "cell_type": "markdown",
      "metadata": {},
      "source": [
        "Creating a radar on top of the car\n\n"
      ]
    },
    {
      "cell_type": "markdown",
      "metadata": {},
      "source": [
        "First we create the shaft holding and rotating the radar\n\n"
      ]
    },
    {
      "cell_type": "code",
      "execution_count": null,
      "metadata": {
        "collapsed": false
      },
      "outputs": [],
      "source": [
        "radar_shaft = fury.actor.cylinder(\n    np.array([[0, 0, 0]]), np.array([[0, 1, 0]]), (0, 1, 0), heights=1\n)"
      ]
    },
    {
      "cell_type": "markdown",
      "metadata": {},
      "source": [
        "In order to animate the shaft actor we have to add it to an Animation\n\n"
      ]
    },
    {
      "cell_type": "code",
      "execution_count": null,
      "metadata": {
        "collapsed": false
      },
      "outputs": [],
      "source": [
        "radar_shaft_anim = fury.animation.Animation(radar_shaft)"
      ]
    },
    {
      "cell_type": "markdown",
      "metadata": {},
      "source": [
        "Setting a single position keyframe will make sure the actor will be placed at\nthat position\n\n"
      ]
    },
    {
      "cell_type": "code",
      "execution_count": null,
      "metadata": {
        "collapsed": false
      },
      "outputs": [],
      "source": [
        "radar_shaft_anim.set_position(0.0, [0, 2, 0])"
      ]
    },
    {
      "cell_type": "markdown",
      "metadata": {},
      "source": [
        "Rotating the shaft around Y axis\n\n"
      ]
    },
    {
      "cell_type": "code",
      "execution_count": null,
      "metadata": {
        "collapsed": false
      },
      "outputs": [],
      "source": [
        "radar_shaft_anim.set_rotation(0.0, [0, -250, 0])\nradar_shaft_anim.set_rotation(1.0, [0, 250, 0])\nradar_shaft_anim.set_rotation(2.0, [0, -250, 0])"
      ]
    },
    {
      "cell_type": "markdown",
      "metadata": {},
      "source": [
        "Now we create the radar itself\n\n"
      ]
    },
    {
      "cell_type": "code",
      "execution_count": null,
      "metadata": {
        "collapsed": false
      },
      "outputs": [],
      "source": [
        "radar = fury.actor.cone(\n    np.array([[0, 0, 0]]), directions=(0, 0, 0), colors=(0.2, 0.2, 0.9)\n)"
      ]
    },
    {
      "cell_type": "markdown",
      "metadata": {},
      "source": [
        "Then add it to an animation in order to rotate it\n\n"
      ]
    },
    {
      "cell_type": "code",
      "execution_count": null,
      "metadata": {
        "collapsed": false
      },
      "outputs": [],
      "source": [
        "radar_animation = fury.animation.Animation(radar)"
      ]
    },
    {
      "cell_type": "markdown",
      "metadata": {},
      "source": [
        "Set position and rotation as done above with the shaft.\n\n"
      ]
    },
    {
      "cell_type": "code",
      "execution_count": null,
      "metadata": {
        "collapsed": false
      },
      "outputs": [],
      "source": [
        "radar_animation.set_position(0, [-0.4, 0.5, 0])\nradar_animation.set_rotation(0.0, [0, 0, 0])\nradar_animation.set_rotation(1.0, [180, 0, 0])\nradar_animation.set_rotation(2.0, [0, 0, 0])"
      ]
    },
    {
      "cell_type": "markdown",
      "metadata": {},
      "source": [
        "Now, we want the radar to rotate when the shaft rotates in hierarchical way.\nTo do that we must add the radar animation as a child animation of the shaft\nanimation as below:\n\n"
      ]
    },
    {
      "cell_type": "code",
      "execution_count": null,
      "metadata": {
        "collapsed": false
      },
      "outputs": [],
      "source": [
        "radar_shaft_anim.add_child_animation(radar_animation)"
      ]
    },
    {
      "cell_type": "markdown",
      "metadata": {},
      "source": [
        "After that we want everything to animate related to the car.\nThe wheels should always be attached to the car no matter where it moves.\nwe do that by adding them as child animations of the car's body animation\n\n"
      ]
    },
    {
      "cell_type": "code",
      "execution_count": null,
      "metadata": {
        "collapsed": false
      },
      "outputs": [],
      "source": [
        "car_anim.add_child_animation([wheels_animations, radar_shaft_anim])"
      ]
    },
    {
      "cell_type": "markdown",
      "metadata": {},
      "source": [
        "Moving the car\n\n"
      ]
    },
    {
      "cell_type": "code",
      "execution_count": null,
      "metadata": {
        "collapsed": false
      },
      "outputs": [],
      "source": [
        "car_anim.set_position(0.0, [-10, 0.5, 0])\ncar_anim.set_position(6.0, [10, 0.5, 0])"
      ]
    },
    {
      "cell_type": "markdown",
      "metadata": {},
      "source": [
        "Adding the car Animation to the show manager\n\n"
      ]
    },
    {
      "cell_type": "code",
      "execution_count": null,
      "metadata": {
        "collapsed": false
      },
      "outputs": [],
      "source": [
        "showm.add_animation(car_anim)\nscene.add(road)\nscene.camera().SetPosition(0, 20, 30)\n\ninteractive = False\n\nif interactive:\n    showm.start()\n\nfury.window.record(\n    scene, out_path=\"viz_keyframe_hierarchical_animation.png\", size=(900, 768)\n)"
      ]
    }
  ],
  "metadata": {
    "kernelspec": {
      "display_name": "Python 3",
      "language": "python",
      "name": "python3"
    },
    "language_info": {
      "codemirror_mode": {
        "name": "ipython",
        "version": 3
      },
      "file_extension": ".py",
      "mimetype": "text/x-python",
      "name": "python",
      "nbconvert_exporter": "python",
      "pygments_lexer": "ipython3",
      "version": "3.9.20"
    }
  },
  "nbformat": 4,
  "nbformat_minor": 0
}