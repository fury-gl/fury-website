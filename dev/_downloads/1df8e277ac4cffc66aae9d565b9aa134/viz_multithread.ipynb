{
  "cells": [
    {
      "cell_type": "code",
      "execution_count": null,
      "metadata": {
        "collapsed": false
      },
      "outputs": [],
      "source": [
        "%matplotlib inline"
      ]
    },
    {
      "cell_type": "markdown",
      "metadata": {},
      "source": [
        "\n# Multithreading Example\n\nThe goal of this demo is to show how to use different threads\nto interact with FURY. In particular, the main thread is used\nto update interactions and render the scene, while thread A\nrotates the camera, thread B prints a counter, and thread C\nadds and removes elements from the scene.\n"
      ]
    },
    {
      "cell_type": "code",
      "execution_count": null,
      "metadata": {
        "collapsed": false
      },
      "outputs": [],
      "source": [
        "import time\nfrom threading import Thread\n\nimport numpy as np\n\nfrom fury import actor, ui, window\n\n# Preparing to draw some spheres\nxyz = 10 * (np.random.random((100, 3)) - 0.5)\ncolors = np.random.random((100, 4))\nradii = np.random.random(100) + 0.5\n\nscene = window.Scene()\nsphere_actor = actor.sphere(\n    centers=xyz, colors=colors, radii=radii, use_primitive=False\n)\nscene.add(sphere_actor)\n\n\n# Preparing the show manager as usual\nshowm = window.ShowManager(\n    scene, size=(900, 768), reset_camera=False, order_transparent=True\n)\n\n# showm.initialize()\n\n# Creating a text block to show a message and reset the camera\ntb = ui.TextBlock2D(bold=True)\nscene.add(tb)\nscene.ResetCamera()\n\n\n# Create a function to print a counter to the console\ndef print_counter():\n    print('')\n    for i in range(100):\n        print('\\rCounter: %d' % i, end='')\n        message = \"Let's count up to 100 and exit :\" + str(i + 1)\n        tb.message = message\n        time.sleep(0.05)\n        if showm.is_done():\n            break\n    showm.exit()\n    print('')\n\n\n# Create a function to rotate the camera\n\n\ndef rotate_camera():\n    for i in range(100):\n        if showm.lock_current():\n            scene.azimuth(0.01 * i)\n            showm.release_current()\n            time.sleep(0.05)\n        else:\n            break\n\n\n# Create a function to add or remove the axes and increase its scale\n\n\ndef add_remove_axes():\n    current_axes = None\n    for i in range(100):\n        if showm.lock_current():\n            if current_axes is None:\n                current_axes = actor.axes(scale=(0.20 * i, 0.20 * i, 0.20 * i))\n                scene.add(current_axes)\n                pass\n            else:\n                scene.rm(current_axes)\n                current_axes = None\n                pass\n            showm.release_current()\n            time.sleep(0.1)\n        else:\n            break\n\n\n# Start the threads\n# Multiple threads can be started here\n# First, one to rotate the camera\nthread_a = Thread(target=rotate_camera)\nthread_a.start()\n\n# Now let's start a thread that will print a counter\nthread_b = Thread(target=print_counter)\nthread_b.start()\n\n# Now let's start a thread that will add or remove axes\nthread_c = Thread(target=add_remove_axes)\nthread_c.start()\n\n# Let's start the show manager loop with multithreading option\nshowm.start(multithreaded=True)\n\n# Wait for the threads to finish\nthread_a.join()\nthread_b.join()\nthread_c.join()"
      ]
    }
  ],
  "metadata": {
    "kernelspec": {
      "display_name": "Python 3",
      "language": "python",
      "name": "python3"
    },
    "language_info": {
      "codemirror_mode": {
        "name": "ipython",
        "version": 3
      },
      "file_extension": ".py",
      "mimetype": "text/x-python",
      "name": "python",
      "nbconvert_exporter": "python",
      "pygments_lexer": "ipython3",
      "version": "3.9.16"
    }
  },
  "nbformat": 4,
  "nbformat_minor": 0
}