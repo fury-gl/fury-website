{
  "cells": [
    {
      "cell_type": "markdown",
      "metadata": {},
      "source": [
        "\n# Keyframe animation\n\nTutorial on making keyframe-based animation in FURY using custom functions.\n"
      ]
    },
    {
      "cell_type": "code",
      "execution_count": null,
      "metadata": {
        "collapsed": false
      },
      "outputs": [],
      "source": [
        "import numpy as np\n\nimport fury\n\nscene = fury.window.Scene()\n\nshowm = fury.window.ShowManager(\n    scene=scene, size=(900, 768), reset_camera=False, order_transparent=True\n)\n\n\ncube = fury.actor.cube(\n    np.array([[0, 0, 0]]), directions=(0, 0, 0), colors=(1, 0, 1), scales=6\n)"
      ]
    },
    {
      "cell_type": "markdown",
      "metadata": {},
      "source": [
        "Creating an ``Animation`` to animate the actor and show its motion path.\n\n"
      ]
    },
    {
      "cell_type": "code",
      "execution_count": null,
      "metadata": {
        "collapsed": false
      },
      "outputs": [],
      "source": [
        "anim = fury.animation.Animation(length=2 * np.pi, loop=True, motion_path_res=200)"
      ]
    },
    {
      "cell_type": "markdown",
      "metadata": {},
      "source": [
        "Adding the sphere actor to the timeline\nThis could've been done during initialization.\n\n"
      ]
    },
    {
      "cell_type": "code",
      "execution_count": null,
      "metadata": {
        "collapsed": false
      },
      "outputs": [],
      "source": [
        "anim.add_actor(cube)"
      ]
    },
    {
      "cell_type": "markdown",
      "metadata": {},
      "source": [
        "Creating time dependent functions.\n\n"
      ]
    },
    {
      "cell_type": "code",
      "execution_count": null,
      "metadata": {
        "collapsed": false
      },
      "outputs": [],
      "source": [
        "def pos_eval(t):\n    return np.array([np.sin(t), np.cos(t) * np.sin(t), 0]) * 15\n\n\ndef color_eval(t):\n    return (\n        np.array([np.sin(t), np.sin(t - 2 * np.pi / 3), np.sin(t + np.pi / 3)])\n        + np.ones(3)\n    ) / 2\n\n\ndef rotation_eval(t):\n    return np.array([np.sin(t) * 360, np.cos(t) * 360, 0])\n\n\ndef scale_eval(t):\n    return (\n        np.array([np.sin(t), np.sin(t - 2 * np.pi / 3), np.sin(t + np.pi / 3)])\n        + np.ones(3) * 2\n    ) / 5"
      ]
    },
    {
      "cell_type": "markdown",
      "metadata": {},
      "source": [
        "Setting evaluator functions is the same as setting interpolators, but with\none extra argument: `is_evaluator=True` since these functions does not need\nkeyframes as input.\n\n"
      ]
    },
    {
      "cell_type": "code",
      "execution_count": null,
      "metadata": {
        "collapsed": false
      },
      "outputs": [],
      "source": [
        "anim.set_position_interpolator(pos_eval, is_evaluator=True)\nanim.set_rotation_interpolator(rotation_eval, is_evaluator=True)\nanim.set_color_interpolator(color_eval, is_evaluator=True)\nanim.set_interpolator(\"scale\", scale_eval, is_evaluator=True)"
      ]
    },
    {
      "cell_type": "markdown",
      "metadata": {},
      "source": [
        "changing camera position to observe the animation better.\n\n"
      ]
    },
    {
      "cell_type": "code",
      "execution_count": null,
      "metadata": {
        "collapsed": false
      },
      "outputs": [],
      "source": [
        "scene.set_camera(position=(0, 0, 90))"
      ]
    },
    {
      "cell_type": "markdown",
      "metadata": {},
      "source": [
        "Adding the animation to the show manager.\n\n"
      ]
    },
    {
      "cell_type": "code",
      "execution_count": null,
      "metadata": {
        "collapsed": false
      },
      "outputs": [],
      "source": [
        "showm.add_animation(anim)\n\n\ninteractive = False\n\nif interactive:\n    showm.start()\n\nfury.window.record(\n    scene=scene, out_path=\"viz_keyframe_animation_evaluators.png\", size=(900, 768)\n)"
      ]
    }
  ],
  "metadata": {
    "kernelspec": {
      "display_name": "Python 3",
      "language": "python",
      "name": "python3"
    },
    "language_info": {
      "codemirror_mode": {
        "name": "ipython",
        "version": 3
      },
      "file_extension": ".py",
      "mimetype": "text/x-python",
      "name": "python",
      "nbconvert_exporter": "python",
      "pygments_lexer": "ipython3",
      "version": "3.9.20"
    }
  },
  "nbformat": 4,
  "nbformat_minor": 0
}