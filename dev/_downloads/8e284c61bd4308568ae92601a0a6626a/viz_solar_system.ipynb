{
  "cells": [
    {
      "cell_type": "markdown",
      "metadata": {},
      "source": [
        "\n# Solar System Animation\n\nIn this tutorial, we will create an animation of the solar system\nusing textured spheres. We will also show how to manipulate the\nposition of these sphere actors in a timer_callback function\nto simulate orbital motion.\n"
      ]
    },
    {
      "cell_type": "code",
      "execution_count": null,
      "metadata": {
        "collapsed": false
      },
      "outputs": [],
      "source": [
        "import itertools\n\nimport numpy as np\n\nimport fury"
      ]
    },
    {
      "cell_type": "markdown",
      "metadata": {},
      "source": [
        "Create a scene to start.\n\n"
      ]
    },
    {
      "cell_type": "code",
      "execution_count": null,
      "metadata": {
        "collapsed": false
      },
      "outputs": [],
      "source": [
        "scene = fury.window.Scene()\n\n# Create a panel and the start/pause buttons\n\npanel = fury.ui.Panel2D(size=(300, 100), color=(1, 1, 1), align=\"right\")\npanel.center = (400, 50)\n\npause_button = fury.ui.Button2D(\n    icon_fnames=[(\"square\", fury.data.read_viz_icons(fname=\"pause2.png\"))]\n)\nstart_button = fury.ui.Button2D(\n    icon_fnames=[(\"square\", fury.data.read_viz_icons(fname=\"play3.png\"))]\n)\n\n# Add the buttons on the panel\n\npanel.add_element(pause_button, (0.25, 0.33))\npanel.add_element(start_button, (0.66, 0.33))"
      ]
    },
    {
      "cell_type": "markdown",
      "metadata": {},
      "source": [
        "Define information relevant for each planet actor including its\ntexture name, relative position, and scale.\n\n"
      ]
    },
    {
      "cell_type": "code",
      "execution_count": null,
      "metadata": {
        "collapsed": false
      },
      "outputs": [],
      "source": [
        "planets_data = [\n    {\n        \"filename\": \"8k_mercury.jpg\",\n        \"position\": 7,\n        \"earth_days\": 58,\n        \"scale\": (0.4, 0.4, 0.4),\n    },\n    {\n        \"filename\": \"8k_venus_surface.jpg\",\n        \"position\": 9,\n        \"earth_days\": 243,\n        \"scale\": (0.6, 0.6, 0.6),\n    },\n    {\n        \"filename\": \"1_earth_8k.jpg\",\n        \"position\": 11,\n        \"earth_days\": 1,\n        \"scale\": (0.4, 0.4, 0.4),\n    },\n    {\n        \"filename\": \"8k_mars.jpg\",\n        \"position\": 13,\n        \"earth_days\": 1,\n        \"scale\": (0.8, 0.8, 0.8),\n    },\n    {\"filename\": \"jupiter.jpg\", \"position\": 16, \"earth_days\": 0.41, \"scale\": (2, 2, 2)},\n    {\n        \"filename\": \"8k_saturn.jpg\",\n        \"position\": 19,\n        \"earth_days\": 0.45,\n        \"scale\": (2, 2, 2),\n    },\n    {\n        \"filename\": \"8k_saturn_ring_alpha.png\",\n        \"position\": 19,\n        \"earth_days\": 0.45,\n        \"scale\": (3, 0.5, 3),\n    },\n    {\n        \"filename\": \"2k_uranus.jpg\",\n        \"position\": 22,\n        \"earth_days\": 0.70,\n        \"scale\": (1, 1, 1),\n    },\n    {\n        \"filename\": \"2k_neptune.jpg\",\n        \"position\": 25,\n        \"earth_days\": 0.70,\n        \"scale\": (1, 1, 1),\n    },\n    {\"filename\": \"8k_sun.jpg\", \"position\": 0, \"earth_days\": 27, \"scale\": (5, 5, 5)},\n]\nfury.data.fetch_viz_textures()"
      ]
    },
    {
      "cell_type": "markdown",
      "metadata": {},
      "source": [
        "To take advantage of the previously defined data structure we are going to\ncreate an auxiliary function that will load and apply the respective\ntexture, set its respective properties (relative position and scale),\nand add the actor to a previously created scene.\n\n"
      ]
    },
    {
      "cell_type": "code",
      "execution_count": null,
      "metadata": {
        "collapsed": false
      },
      "outputs": [],
      "source": [
        "def init_planet(planet_data):\n    \"\"\"Initialize a planet actor.\n\n    Parameters\n    ----------\n    planet_data : dict\n        The planet_data is a dictionary, and the keys are filename(texture),\n        position and scale.\n\n    Returns\n    -------\n    planet_actor: actor\n        The corresponding sphere actor with texture applied.\n    \"\"\"\n    planet_file = fury.data.read_viz_textures(planet_data[\"filename\"])\n    planet_image = fury.io.load_image(planet_file)\n    planet_actor = fury.actor.texture_on_sphere(planet_image)\n    planet_actor.SetPosition(planet_data[\"position\"], 0, 0)\n    if planet_data[\"filename\"] != \"8k_saturn_ring_alpha.png\":\n        fury.utils.rotate(planet_actor, (90, 1, 0, 0))\n    planet_actor.SetScale(planet_data[\"scale\"])\n    scene.add(planet_actor)\n    return planet_actor"
      ]
    },
    {
      "cell_type": "markdown",
      "metadata": {},
      "source": [
        "Use the ``map`` function to create actors for each of the texture files\nin the ``planet_files`` list. Then, assign each actor to its corresponding\nactor in the list.\n\n"
      ]
    },
    {
      "cell_type": "code",
      "execution_count": null,
      "metadata": {
        "collapsed": false
      },
      "outputs": [],
      "source": [
        "planet_actor_list = list(map(init_planet, planets_data))\n\nmercury_actor = planet_actor_list[0]\nvenus_actor = planet_actor_list[1]\nearth_actor = planet_actor_list[2]\nmars_actor = planet_actor_list[3]\njupiter_actor = planet_actor_list[4]\nsaturn_actor = planet_actor_list[5]\nsaturn_rings_actor = planet_actor_list[6]\nuranus_actor = planet_actor_list[7]\nneptune_actor = planet_actor_list[8]\nsun_actor = planet_actor_list[9]"
      ]
    },
    {
      "cell_type": "markdown",
      "metadata": {},
      "source": [
        "Define the gravitational constant G, the orbital radii of each of the\nplanets, and the central mass of the sun. The gravity and mass will be\nused to calculate the orbital position, so multiply these two together to\ncreate a new constant, which we will call miu.\n\n"
      ]
    },
    {
      "cell_type": "code",
      "execution_count": null,
      "metadata": {
        "collapsed": false
      },
      "outputs": [],
      "source": [
        "g_exponent = np.float_power(10, -11)\ng_constant = 6.673 * g_exponent\n\nm_exponent = 1073741824  # np.power(10, 30)\nm_constant = 1.989 * m_exponent\n\nmiu = m_constant * g_constant"
      ]
    },
    {
      "cell_type": "markdown",
      "metadata": {},
      "source": [
        "Let's define two functions that will help us calculate the position of each\nplanet as it orbits around the sun: ``get_orbit_period`` and\n``get_orbital_position``, using the constant miu and the orbital radii\nof each planet.\n\n"
      ]
    },
    {
      "cell_type": "code",
      "execution_count": null,
      "metadata": {
        "collapsed": false
      },
      "outputs": [],
      "source": [
        "def get_orbit_period(radius):\n    return 2 * np.pi * np.sqrt(np.power(radius, 3) / miu)\n\n\ndef get_orbital_position(radius, time):\n    orbit_period = get_orbit_period(radius)\n    x = radius * np.cos((-2 * np.pi * time) / orbit_period)\n    y = radius * np.sin((-2 * np.pi * time) / orbit_period)\n    return x, y"
      ]
    },
    {
      "cell_type": "markdown",
      "metadata": {},
      "source": [
        "Let's define a function to rotate the planet actor axially, we'll be defining\naxis of each planet and angle by which it should be rotated using\n``rotate_axial`` funtction\n\n"
      ]
    },
    {
      "cell_type": "code",
      "execution_count": null,
      "metadata": {
        "collapsed": false
      },
      "outputs": [],
      "source": [
        "def rotate_axial(actor, time, radius):\n    axis = (0, radius, 0)\n    angle = 50 / time\n    fury.utils.rotate(actor, (angle, axis[0], axis[1], axis[2]))\n    return angle"
      ]
    },
    {
      "cell_type": "markdown",
      "metadata": {},
      "source": [
        "Let's change the camera position to visualize the planets better.\n\n"
      ]
    },
    {
      "cell_type": "code",
      "execution_count": null,
      "metadata": {
        "collapsed": false
      },
      "outputs": [],
      "source": [
        "scene.set_camera(position=(-20, 60, 100))"
      ]
    },
    {
      "cell_type": "markdown",
      "metadata": {},
      "source": [
        "Next, create a ShowManager object. The ShowManager class is the interface\nbetween the scene, the window and the interactor.\n\n"
      ]
    },
    {
      "cell_type": "code",
      "execution_count": null,
      "metadata": {
        "collapsed": false
      },
      "outputs": [],
      "source": [
        "showm = fury.window.ShowManager(\n    scene, size=(900, 768), reset_camera=False, order_transparent=True\n)\nscene.add(panel)"
      ]
    },
    {
      "cell_type": "markdown",
      "metadata": {},
      "source": [
        "Next, let's focus on creating the animation.\nWe can determine the duration of animation with using the ``counter``.\nUse itertools to avoid global variables.\n\n"
      ]
    },
    {
      "cell_type": "code",
      "execution_count": null,
      "metadata": {
        "collapsed": false
      },
      "outputs": [],
      "source": [
        "counter = itertools.count()"
      ]
    },
    {
      "cell_type": "markdown",
      "metadata": {},
      "source": [
        "Define one new function to use in ``timer_callback`` to update the planet\npositions ``update_planet_position``.\n\n"
      ]
    },
    {
      "cell_type": "code",
      "execution_count": null,
      "metadata": {
        "collapsed": false
      },
      "outputs": [],
      "source": [
        "def update_planet_position(r_planet, planet_actor, cnt):\n    pos_planet = get_orbital_position(r_planet, cnt)\n    planet_actor.SetPosition(pos_planet[0], 0, pos_planet[1])\n    return pos_planet"
      ]
    },
    {
      "cell_type": "markdown",
      "metadata": {},
      "source": [
        "``calculate_path`` function is for calculating the path/orbit\nof every planet.\n\n"
      ]
    },
    {
      "cell_type": "code",
      "execution_count": null,
      "metadata": {
        "collapsed": false
      },
      "outputs": [],
      "source": [
        "def calculate_path(r_planet, c):\n    planet_track = [\n        [get_orbital_position(r_planet, i)[0], 0, get_orbital_position(r_planet, i)[1]]\n        for i in range(c)\n    ]\n    return planet_track"
      ]
    },
    {
      "cell_type": "markdown",
      "metadata": {},
      "source": [
        "First we are making a list that will contain radius from `planets_data`.\nHere we are not taking the radius of orbit/path for sun and saturn ring.\n`planet_actors` will contain all the planet actors.\n`r_times` will contain time taken (in days) by the planets to rotate\naround itself.\n\n"
      ]
    },
    {
      "cell_type": "code",
      "execution_count": null,
      "metadata": {
        "collapsed": false
      },
      "outputs": [],
      "source": [
        "r_planets = [\n    p_data[\"position\"]\n    for p_data in planets_data\n    if \"sun\" not in p_data[\"filename\"]\n    if \"saturn_ring\" not in p_data[\"filename\"]\n]\n\nplanet_actors = [\n    mercury_actor,\n    venus_actor,\n    earth_actor,\n    mars_actor,\n    jupiter_actor,\n    saturn_actor,\n    uranus_actor,\n    neptune_actor,\n]\n\n\nsun_data = {\n    \"actor\": sun_actor,\n    \"position\": planets_data[9][\"position\"],\n    \"earth_days\": planets_data[9][\"earth_days\"],\n}\n\nr_times = [p_data[\"earth_days\"] for p_data in planets_data]"
      ]
    },
    {
      "cell_type": "markdown",
      "metadata": {},
      "source": [
        "Here we are calculating and updating the path/orbit before animation starts.\n\n"
      ]
    },
    {
      "cell_type": "code",
      "execution_count": null,
      "metadata": {
        "collapsed": false
      },
      "outputs": [],
      "source": [
        "planet_tracks = [calculate_path(rplanet, rplanet * 85) for rplanet in r_planets]"
      ]
    },
    {
      "cell_type": "markdown",
      "metadata": {},
      "source": [
        "This is for orbit visualization. We are using line actor for orbits.\nAfter creating an actor we add it to the scene.\n\n"
      ]
    },
    {
      "cell_type": "code",
      "execution_count": null,
      "metadata": {
        "collapsed": false
      },
      "outputs": [],
      "source": [
        "orbit_actor = fury.actor.line(planet_tracks, colors=(1, 1, 1), linewidth=0.1)\nscene.add(orbit_actor)"
      ]
    },
    {
      "cell_type": "markdown",
      "metadata": {},
      "source": [
        "Define the ``timer_callback`` function, which controls what events happen\nat certain times, using the counter. Update the position of each planet\nactor using ``update_planet_position,`` assigning the x and y values of\neach planet's position with the newly calculated ones.\n\n"
      ]
    },
    {
      "cell_type": "code",
      "execution_count": null,
      "metadata": {
        "collapsed": false
      },
      "outputs": [],
      "source": [
        "def timer_callback(_obj, _event):\n    cnt = next(counter)\n    showm.render()\n\n    # Rotating the sun actor\n    rotate_axial(sun_actor, sun_data[\"earth_days\"], 1)\n\n    for r_planet, p_actor, r_time in zip(r_planets, planet_actors, r_times):\n        # if the planet is saturn then we also need to update the position\n        # of its rings.\n        if p_actor == saturn_actor:\n            pos_saturn = update_planet_position(19, saturn_actor, cnt)\n            saturn_rings_actor.SetPosition(pos_saturn[0], 0, pos_saturn[1])\n        else:\n            update_planet_position(r_planet, p_actor, cnt)\n        rotate_axial(p_actor, r_time, r_planet)\n\n    if cnt == 2000:\n        showm.exit()"
      ]
    },
    {
      "cell_type": "markdown",
      "metadata": {},
      "source": [
        "We add a callback to each button to perform some action.\n\n"
      ]
    },
    {
      "cell_type": "code",
      "execution_count": null,
      "metadata": {
        "collapsed": false
      },
      "outputs": [],
      "source": [
        "def start_animation(i_ren, _obj, _button):\n    showm.add_timer_callback(True, 10, timer_callback)\n\n\ndef pause_animation(i_ren, _obj, _button):\n    showm.destroy_timers()\n\n\nstart_button.on_left_mouse_button_clicked = start_animation\npause_button.on_left_mouse_button_clicked = pause_animation"
      ]
    },
    {
      "cell_type": "markdown",
      "metadata": {},
      "source": [
        "Watch the planets orbit the sun in your new animation!\n\n"
      ]
    },
    {
      "cell_type": "code",
      "execution_count": null,
      "metadata": {
        "collapsed": false
      },
      "outputs": [],
      "source": [
        "showm.add_timer_callback(True, 10, timer_callback)\nshowm.start()\n\nfury.window.record(\n    showm.scene, size=(900, 768), out_path=\"viz_solar_system_animation.png\"\n)"
      ]
    }
  ],
  "metadata": {
    "kernelspec": {
      "display_name": "Python 3",
      "language": "python",
      "name": "python3"
    },
    "language_info": {
      "codemirror_mode": {
        "name": "ipython",
        "version": 3
      },
      "file_extension": ".py",
      "mimetype": "text/x-python",
      "name": "python",
      "nbconvert_exporter": "python",
      "pygments_lexer": "ipython3",
      "version": "3.9.20"
    }
  },
  "nbformat": 4,
  "nbformat_minor": 0
}