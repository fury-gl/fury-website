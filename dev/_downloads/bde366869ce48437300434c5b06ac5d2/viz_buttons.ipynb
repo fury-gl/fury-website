{
  "cells": [
    {
      "cell_type": "markdown",
      "metadata": {},
      "source": [
        "\n# Buttons & Text\n\nThis example shows how to use the UI API. We will demonstrate how to create\npanel having buttons with callbacks.\n\nFirst, some imports.\n"
      ]
    },
    {
      "cell_type": "code",
      "execution_count": null,
      "metadata": {
        "collapsed": false
      },
      "outputs": [],
      "source": [
        "import fury\nfrom fury.data import fetch_viz_icons, read_viz_icons"
      ]
    },
    {
      "cell_type": "markdown",
      "metadata": {},
      "source": [
        "First we need to fetch some icons that are included in FURY.\n\n"
      ]
    },
    {
      "cell_type": "code",
      "execution_count": null,
      "metadata": {
        "collapsed": false
      },
      "outputs": [],
      "source": [
        "fetch_viz_icons()"
      ]
    },
    {
      "cell_type": "markdown",
      "metadata": {},
      "source": [
        "Let's create some buttons and text and put them in a panel.\nFirst we'll make the panel.\n\n"
      ]
    },
    {
      "cell_type": "code",
      "execution_count": null,
      "metadata": {
        "collapsed": false
      },
      "outputs": [],
      "source": [
        "panel = fury.ui.Panel2D(size=(300, 150), color=(1, 1, 1), align=\"right\")\npanel.center = (500, 400)"
      ]
    },
    {
      "cell_type": "markdown",
      "metadata": {},
      "source": [
        "Then we'll make two text labels and place them on the panel.\nNote that we specify the position with integer numbers of pixels.\n\n"
      ]
    },
    {
      "cell_type": "code",
      "execution_count": null,
      "metadata": {
        "collapsed": false
      },
      "outputs": [],
      "source": [
        "text = fury.ui.TextBlock2D(text=\"Click me\")\ntext2 = fury.ui.TextBlock2D(text=\"Me too\")\npanel.add_element(text, (50, 100))\npanel.add_element(text2, (180, 100))"
      ]
    },
    {
      "cell_type": "markdown",
      "metadata": {},
      "source": [
        "Then we'll create two buttons and add them to the panel.\n\nNote that here we specify the positions with floats. In this case, these are\npercentages of the panel size.\n\n"
      ]
    },
    {
      "cell_type": "code",
      "execution_count": null,
      "metadata": {
        "collapsed": false
      },
      "outputs": [],
      "source": [
        "button_example = fury.ui.Button2D(\n    icon_fnames=[(\"square\", read_viz_icons(fname=\"stop2.png\"))]\n)\n\nicon_files = []\nicon_files.append((\"down\", read_viz_icons(fname=\"circle-down.png\")))\nicon_files.append((\"left\", read_viz_icons(fname=\"circle-left.png\")))\nicon_files.append((\"up\", read_viz_icons(fname=\"circle-up.png\")))\nicon_files.append((\"right\", read_viz_icons(fname=\"circle-right.png\")))\n\nsecond_button_example = fury.ui.Button2D(icon_fnames=icon_files)\n\npanel.add_element(button_example, (0.25, 0.33))\npanel.add_element(second_button_example, (0.66, 0.33))"
      ]
    },
    {
      "cell_type": "markdown",
      "metadata": {},
      "source": [
        "We can add a callback to each button to perform some action.\n\n"
      ]
    },
    {
      "cell_type": "code",
      "execution_count": null,
      "metadata": {
        "collapsed": false
      },
      "outputs": [],
      "source": [
        "def change_text_callback(i_ren, _obj, _button):\n    text.message = \"Clicked!\"\n    i_ren.force_render()\n\n\ndef change_icon_callback(i_ren, _obj, _button):\n    _button.next_icon()\n    i_ren.force_render()\n\n\nbutton_example.on_left_mouse_button_clicked = change_text_callback\nsecond_button_example.on_left_mouse_button_pressed = change_icon_callback"
      ]
    },
    {
      "cell_type": "markdown",
      "metadata": {},
      "source": [
        "Now that all the elements have been initialised, we add them to the show\nmanager.\n\n"
      ]
    },
    {
      "cell_type": "code",
      "execution_count": null,
      "metadata": {
        "collapsed": false
      },
      "outputs": [],
      "source": [
        "current_size = (800, 800)\nshow_manager = fury.window.ShowManager(size=current_size, title=\"FURY Button Example\")\n\nshow_manager.scene.add(panel)\n\ninteractive = False\n\nif interactive:\n    show_manager.start()\n\nfury.window.record(show_manager.scene, size=current_size, out_path=\"viz_button.png\")"
      ]
    }
  ],
  "metadata": {
    "kernelspec": {
      "display_name": "Python 3",
      "language": "python",
      "name": "python3"
    },
    "language_info": {
      "codemirror_mode": {
        "name": "ipython",
        "version": 3
      },
      "file_extension": ".py",
      "mimetype": "text/x-python",
      "name": "python",
      "nbconvert_exporter": "python",
      "pygments_lexer": "ipython3",
      "version": "3.9.19"
    }
  },
  "nbformat": 4,
  "nbformat_minor": 0
}