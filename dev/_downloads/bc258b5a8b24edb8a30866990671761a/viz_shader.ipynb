{
  "cells": [
    {
      "cell_type": "code",
      "execution_count": null,
      "metadata": {
        "collapsed": false
      },
      "outputs": [],
      "source": [
        "%matplotlib inline"
      ]
    },
    {
      "cell_type": "markdown",
      "metadata": {},
      "source": [
        "\n# VTK Shaders\n\n\nThis example shows how to use shaders to generate a shaded output. We will\ndemonstrate how to load polydata then use a custom shader calls to render\na custom shaded model.\nFirst, a bunch of imports.\n\n\n"
      ]
    },
    {
      "cell_type": "code",
      "execution_count": null,
      "metadata": {
        "collapsed": false
      },
      "outputs": [],
      "source": [
        "from fury import window, ui, io, utils\nimport vtk"
      ]
    },
    {
      "cell_type": "markdown",
      "metadata": {},
      "source": [
        "Let's download  and load the model\n\n"
      ]
    },
    {
      "cell_type": "code",
      "execution_count": null,
      "metadata": {
        "collapsed": false
      },
      "outputs": [],
      "source": [
        "from fury.data.fetcher import fetch_viz_models, read_viz_models\nfetch_viz_models()\nmodel = read_viz_models('utah.obj')"
      ]
    },
    {
      "cell_type": "markdown",
      "metadata": {},
      "source": [
        "Let's start by loading the polydata of choice.\nFor this example we use the standard utah teapot model.\ncurrently supported formats include OBJ, VKT, FIB, PLY, STL and XML\n\n"
      ]
    },
    {
      "cell_type": "code",
      "execution_count": null,
      "metadata": {
        "collapsed": false
      },
      "outputs": [],
      "source": [
        "utah = io.load_polydata(model)\nutah = utils.get_polymapper_from_polydata(utah)\nutah = utils.get_actor_from_polymapper(utah)\nmapper = utah.GetMapper()"
      ]
    },
    {
      "cell_type": "markdown",
      "metadata": {},
      "source": [
        "To change the default shader we add a shader replacement.\nSpecify vertex shader using vtkShader.Vertex\nSpecify fragment shader using vtkShader.Fragment\n\n"
      ]
    },
    {
      "cell_type": "code",
      "execution_count": null,
      "metadata": {
        "collapsed": false
      },
      "outputs": [],
      "source": [
        "mapper.AddShaderReplacement(\n    vtk.vtkShader.Vertex,\n    \"//VTK::Output::Dec\",\n    True,\n    \"\"\"\n    //VTK::Output::Dec\n    out vec4 myVertexVC;\n    \"\"\",\n    False\n)\n\nmapper.AddShaderReplacement(\n    vtk.vtkShader.Vertex,\n    \"//VTK::Output::Impl\",\n    True,\n    \"\"\"\n    //VTK::Output::Impl\n    myVertexVC = vertexVC;\n    \"\"\",\n    False\n)\n\nmapper.AddShaderReplacement(\n    vtk.vtkShader.Fragment,\n    \"//VTK::Light::Dec\",\n    True,\n    \"\"\"\n    //VTK::Light::Dec\n    uniform float time;\n    varying vec4 myVertexVC;\n    \"\"\",\n    False\n)\n\n\nmapper.AddShaderReplacement(\n    vtk.vtkShader.Fragment,\n    '//VTK::Light::Impl',\n    True,\n    \"\"\"\n    //VTK::Light::Impl\n    vec2 iResolution = vec2(1024,720);\n    vec2 uv = myVertexVC.xy/iResolution;\n    vec3 col = 0.5 + 0.5 * cos((time/30) + uv.xyx + vec3(0, 2, 4));\n    fragOutput0 = vec4(col, 1.0);\n    \"\"\",\n    False\n)"
      ]
    },
    {
      "cell_type": "markdown",
      "metadata": {},
      "source": [
        "Let's create a scene.\n\n"
      ]
    },
    {
      "cell_type": "code",
      "execution_count": null,
      "metadata": {
        "collapsed": false
      },
      "outputs": [],
      "source": [
        "scene = window.Scene()\n\nglobal timer\ntimer = 0"
      ]
    },
    {
      "cell_type": "markdown",
      "metadata": {},
      "source": [
        "The timer will call this user defined callback every 30 milliseconds.\n\n"
      ]
    },
    {
      "cell_type": "code",
      "execution_count": null,
      "metadata": {
        "collapsed": false
      },
      "outputs": [],
      "source": [
        "def timer_callback(obj, event):\n    global timer\n    timer += 1.0\n    showm.render()\n    scene.azimuth(5)"
      ]
    },
    {
      "cell_type": "markdown",
      "metadata": {},
      "source": [
        "We can use a decorator to callback to the shader.\n\n"
      ]
    },
    {
      "cell_type": "code",
      "execution_count": null,
      "metadata": {
        "collapsed": false
      },
      "outputs": [],
      "source": [
        "@window.vtk.calldata_type(window.vtk.VTK_OBJECT)\ndef vtk_shader_callback(caller, event, calldata=None):\n    program = calldata\n    global timer\n    if program is not None:\n        try:\n            program.SetUniformf(\"time\", timer)\n        except ValueError:\n            pass"
      ]
    },
    {
      "cell_type": "markdown",
      "metadata": {},
      "source": [
        "Let's add a textblock to the scene with a custom message\n\n"
      ]
    },
    {
      "cell_type": "code",
      "execution_count": null,
      "metadata": {
        "collapsed": false
      },
      "outputs": [],
      "source": [
        "tb = ui.TextBlock2D()\ntb.message = \"Hello Shaders\""
      ]
    },
    {
      "cell_type": "markdown",
      "metadata": {},
      "source": [
        "Change the property of the actor\n\n"
      ]
    },
    {
      "cell_type": "code",
      "execution_count": null,
      "metadata": {
        "collapsed": false
      },
      "outputs": [],
      "source": [
        "utah.GetProperty().SetOpacity(0.5)"
      ]
    },
    {
      "cell_type": "markdown",
      "metadata": {},
      "source": [
        "Invoke callbacks to any VTK object\n\n"
      ]
    },
    {
      "cell_type": "code",
      "execution_count": null,
      "metadata": {
        "collapsed": false
      },
      "outputs": [],
      "source": [
        "mapper.AddObserver(window.vtk.vtkCommand.UpdateShaderEvent,\n                   vtk_shader_callback)"
      ]
    },
    {
      "cell_type": "markdown",
      "metadata": {},
      "source": [
        "Show Manager\n\nNow that all the elements have been initialised, we add them to the show\nmanager.\n\n"
      ]
    },
    {
      "cell_type": "code",
      "execution_count": null,
      "metadata": {
        "collapsed": false
      },
      "outputs": [],
      "source": [
        "current_size = (1024, 720)\nshowm = window.ShowManager(scene, size=current_size, reset_camera=False)\n\nshowm.initialize()\nshowm.add_timer_callback(True, 30, timer_callback)\n\nscene.add(utah)\nscene.add(tb)\n\ninteractive = False\nif interactive:\n    showm.start()\n\nwindow.record(showm.scene, size=current_size, out_path=\"viz_shader.png\")"
      ]
    }
  ],
  "metadata": {
    "kernelspec": {
      "display_name": "Python 3",
      "language": "python",
      "name": "python3"
    },
    "language_info": {
      "codemirror_mode": {
        "name": "ipython",
        "version": 3
      },
      "file_extension": ".py",
      "mimetype": "text/x-python",
      "name": "python",
      "nbconvert_exporter": "python",
      "pygments_lexer": "ipython3",
      "version": "3.6.10"
    }
  },
  "nbformat": 4,
  "nbformat_minor": 0
}