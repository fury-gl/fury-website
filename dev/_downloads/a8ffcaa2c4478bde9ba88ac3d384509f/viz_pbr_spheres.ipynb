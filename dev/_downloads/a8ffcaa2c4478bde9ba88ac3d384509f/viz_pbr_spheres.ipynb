{
  "cells": [
    {
      "cell_type": "code",
      "execution_count": null,
      "metadata": {
        "collapsed": false
      },
      "outputs": [],
      "source": [
        "%matplotlib inline"
      ]
    },
    {
      "cell_type": "markdown",
      "metadata": {},
      "source": [
        "\n# Physically-Based Rendering (PBR) on spheres\n\nPBR engines aim to simulate properties of light when it interacts with objects\nin the scene in a physically plausible way. The interaction of light with an\nobject depends on the material the object is made of. In computer graphics,\nmaterials are usually divided in 2 main categories based on their conductive\nproperties: dielectrics and metals.\n\nThis tutorial, illustrates how to model some material properties in FURY by\nusing the PBR material.\n\nLet's start by importing the necessary modules:\n"
      ]
    },
    {
      "cell_type": "code",
      "execution_count": null,
      "metadata": {
        "collapsed": false
      },
      "outputs": [],
      "source": [
        "from fury import actor, material, window\nfrom fury.utils import (normals_from_actor, tangents_to_actor,\n                        tangents_from_direction_of_anisotropy)\nimport numpy as np"
      ]
    },
    {
      "cell_type": "markdown",
      "metadata": {},
      "source": [
        "Now set up a new scene.\n\n"
      ]
    },
    {
      "cell_type": "code",
      "execution_count": null,
      "metadata": {
        "collapsed": false
      },
      "outputs": [],
      "source": [
        "scene = window.Scene()\nscene.background((.9, .9, .9))"
      ]
    },
    {
      "cell_type": "markdown",
      "metadata": {},
      "source": [
        "Let's define the parameters we are going to showcase in this tutorial.\nThese subset of parameters have their values constrained in the 0 to 1 range.\n\n"
      ]
    },
    {
      "cell_type": "code",
      "execution_count": null,
      "metadata": {
        "collapsed": false
      },
      "outputs": [],
      "source": [
        "material_params = [\n    [[1, 1, 0], {'metallic': 0, 'roughness': 0}],\n    [(0, 0, 1), {'roughness': 0}],\n    [(1, 0, 1), {'anisotropy': 0, 'metallic': .25, 'roughness': .5}],\n    [(1, 0, 1), {'anisotropy_rotation': 0, 'anisotropy': 1, 'metallic': .25,\n                 'roughness': .5}],\n    [(0, 1, 1), {'coat_strength': 0, 'roughness': 0}],\n    [(0, 1, 1), {'coat_roughness': 0, 'coat_strength': 1, 'roughness': 0}]\n]"
      ]
    },
    {
      "cell_type": "markdown",
      "metadata": {},
      "source": [
        "Now we can start to add our actors to the scene and see how different values\nof the parameters produce interesting effects. For the purpose of this\ntutorial, we will see the effect of 11 different values of each parameter.\n\n"
      ]
    },
    {
      "cell_type": "code",
      "execution_count": null,
      "metadata": {
        "collapsed": false
      },
      "outputs": [],
      "source": [
        "num_values = 11\n\nfor i, mp in enumerate(material_params):\n    color = mp[0]\n    params = mp[1]\n    center = [[0, -5 * i, 0]]\n    for j in range(num_values):\n        center[0][0] = -25 + 5 * j\n        sphere = actor.sphere(center, color, radii=2, theta=32, phi=32)\n        normals = normals_from_actor(sphere)\n        tangents = tangents_from_direction_of_anisotropy(normals, (0, 1, .5))\n        tangents_to_actor(sphere, tangents)\n        keys = list(params)\n        params[keys[0]] = np.round(0.1 * j, decimals=1)\n        material.manifest_pbr(sphere, **params)\n        scene.add(sphere)"
      ]
    },
    {
      "cell_type": "markdown",
      "metadata": {},
      "source": [
        "For interpretability purposes we will add some labels to guide us through our\nvisualization.\n\n"
      ]
    },
    {
      "cell_type": "code",
      "execution_count": null,
      "metadata": {
        "collapsed": false
      },
      "outputs": [],
      "source": [
        "labels = ['Metallic', 'Roughness', 'Anisotropy', 'Anisotropy Rotation',\n          'Coat Strength', 'Coat Roughness']\n\nfor i, l in enumerate(labels):\n    pos = [-40, -5 * i, 0]\n    label = actor.vector_text(l, pos=pos, scale=(.8, .8, .8), color=(0, 0, 0))\n    scene.add(label)\n\nfor j in range(num_values):\n    pos = [-26 + 5 * j, 3, 0]\n    label = actor.vector_text(str(np.round(j * 0.1, decimals=1)), pos=pos,\n                              scale=(.8, .8, .8), color=(0, 0, 0))\n    scene.add(label)"
      ]
    },
    {
      "cell_type": "markdown",
      "metadata": {},
      "source": [
        "Some parameters of this material have their values constrained to be between\n1 and 2.3. These parameters are the Base Index of Refraction (IOR) and the\nClear coat Index of Refraction (IOR). Therefore, we will interpolate some\nvalues within this range and see how they affect the rendering.\n\n"
      ]
    },
    {
      "cell_type": "code",
      "execution_count": null,
      "metadata": {
        "collapsed": false
      },
      "outputs": [],
      "source": [
        "iors = np.round(np.linspace(1, 2.3, num=num_values), decimals=2)\n\nior_params = [\n    [(0, 1, 1), {'base_ior': iors[0], 'roughness': 0}],\n    [(0, 1, 1), {'coat_ior': iors[0], 'coat_roughness': .1, 'coat_strength': 1,\n                 'roughness': 0}]\n]\n\nfor i, iorp in enumerate(ior_params):\n    color = iorp[0]\n    params = iorp[1]\n    center = [[0, -35 - (5 * i), 0]]\n    for j in range(num_values):\n        center[0][0] = -25 + 5 * j\n        sphere = actor.sphere(center, color, radii=2, theta=32, phi=32)\n        keys = list(params)\n        params[keys[0]] = iors[j]\n        material.manifest_pbr(sphere, **params)\n        scene.add(sphere)"
      ]
    },
    {
      "cell_type": "markdown",
      "metadata": {},
      "source": [
        "Let's add the respective labels to the scene.\n\n"
      ]
    },
    {
      "cell_type": "code",
      "execution_count": null,
      "metadata": {
        "collapsed": false
      },
      "outputs": [],
      "source": [
        "labels = ['Base IoR', 'Coat IoR']\n\nfor i, l in enumerate(labels):\n    pos = [-40, -35 - (5 * i), 0]\n    label = actor.vector_text(l, pos=pos, scale=(.8, .8, .8), color=(0, 0, 0))\n    scene.add(label)\n\nfor j in range(num_values):\n    pos = [-26 + 5 * j, -32, 0]\n    label = actor.vector_text('{:.02f}'.format(iors[j]), pos=pos,\n                              scale=(.8, .8, .8), color=(0, 0, 0))\n    scene.add(label)"
      ]
    },
    {
      "cell_type": "markdown",
      "metadata": {},
      "source": [
        "Finally, let's visualize our tutorial.\n\n"
      ]
    },
    {
      "cell_type": "code",
      "execution_count": null,
      "metadata": {
        "collapsed": false
      },
      "outputs": [],
      "source": [
        "interactive = False\nif interactive:\n    window.show(scene)\n\nwindow.record(scene, size=(600, 600), out_path=\"viz_pbr_spheres.png\")"
      ]
    }
  ],
  "metadata": {
    "kernelspec": {
      "display_name": "Python 3",
      "language": "python",
      "name": "python3"
    },
    "language_info": {
      "codemirror_mode": {
        "name": "ipython",
        "version": 3
      },
      "file_extension": ".py",
      "mimetype": "text/x-python",
      "name": "python",
      "nbconvert_exporter": "python",
      "pygments_lexer": "ipython3",
      "version": "3.9.16"
    }
  },
  "nbformat": 4,
  "nbformat_minor": 0
}