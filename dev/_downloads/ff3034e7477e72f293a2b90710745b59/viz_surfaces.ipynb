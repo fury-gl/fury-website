{
  "cells": [
    {
      "cell_type": "markdown",
      "metadata": {},
      "source": [
        "\n# Visualize surfaces\n\nHere is a simple tutorial that shows how to visualize surfaces using DIPY. It\nalso shows how to load/save, get/set and update ``PolyData`` and show\nsurfaces.\n\n``PolyData`` is a structure used by VTK to represent surfaces and other data\nstructures. Here we show how to visualize a simple cube but the same idea\nshould apply for any surface.\n"
      ]
    },
    {
      "cell_type": "code",
      "execution_count": null,
      "metadata": {
        "collapsed": false
      },
      "outputs": [],
      "source": [
        "import numpy as np\n\nimport fury"
      ]
    },
    {
      "cell_type": "markdown",
      "metadata": {},
      "source": [
        "Import useful functions\n\n"
      ]
    },
    {
      "cell_type": "markdown",
      "metadata": {},
      "source": [
        "Create an empty ``PolyData``\n\n"
      ]
    },
    {
      "cell_type": "code",
      "execution_count": null,
      "metadata": {
        "collapsed": false
      },
      "outputs": [],
      "source": [
        "my_polydata = fury.lib.PolyData()"
      ]
    },
    {
      "cell_type": "markdown",
      "metadata": {},
      "source": [
        "Create a cube with vertices and triangles as numpy arrays\n\n"
      ]
    },
    {
      "cell_type": "code",
      "execution_count": null,
      "metadata": {
        "collapsed": false
      },
      "outputs": [],
      "source": [
        "my_vertices = np.array(\n    [\n        [0.0, 0.0, 0.0],\n        [0.0, 0.0, 1.0],\n        [0.0, 1.0, 0.0],\n        [0.0, 1.0, 1.0],\n        [1.0, 0.0, 0.0],\n        [1.0, 0.0, 1.0],\n        [1.0, 1.0, 0.0],\n        [1.0, 1.0, 1.0],\n    ]\n)\n# the data type is needed to mention here, numpy.int64\nmy_triangles = np.array(\n    [\n        [0, 6, 4],\n        [0, 2, 6],\n        [0, 3, 2],\n        [0, 1, 3],\n        [2, 7, 6],\n        [2, 3, 7],\n        [4, 6, 7],\n        [4, 7, 5],\n        [0, 4, 5],\n        [0, 5, 1],\n        [1, 5, 7],\n        [1, 7, 3],\n    ],\n    dtype=\"i8\",\n)"
      ]
    },
    {
      "cell_type": "markdown",
      "metadata": {},
      "source": [
        "Set vertices and triangles in the ``PolyData``\n\n"
      ]
    },
    {
      "cell_type": "code",
      "execution_count": null,
      "metadata": {
        "collapsed": false
      },
      "outputs": [],
      "source": [
        "fury.utils.set_polydata_vertices(my_polydata, my_vertices)\nfury.utils.set_polydata_triangles(my_polydata, my_triangles)"
      ]
    },
    {
      "cell_type": "markdown",
      "metadata": {},
      "source": [
        "Save the ``PolyData``\n\n"
      ]
    },
    {
      "cell_type": "code",
      "execution_count": null,
      "metadata": {
        "collapsed": false
      },
      "outputs": [],
      "source": [
        "file_name = \"my_cube.vtk\"\nfury.io.save_polydata(my_polydata, file_name)\nprint(\"Surface saved in \" + file_name)"
      ]
    },
    {
      "cell_type": "markdown",
      "metadata": {},
      "source": [
        "Load the ``PolyData``\n\n"
      ]
    },
    {
      "cell_type": "code",
      "execution_count": null,
      "metadata": {
        "collapsed": false
      },
      "outputs": [],
      "source": [
        "cube_polydata = fury.io.load_polydata(file_name)"
      ]
    },
    {
      "cell_type": "markdown",
      "metadata": {},
      "source": [
        "add color based on vertices position\n\n"
      ]
    },
    {
      "cell_type": "code",
      "execution_count": null,
      "metadata": {
        "collapsed": false
      },
      "outputs": [],
      "source": [
        "cube_vertices = fury.utils.get_polydata_vertices(cube_polydata)\ncolors = cube_vertices * 255\nfury.utils.set_polydata_colors(cube_polydata, colors)\n\nprint(\"new surface colors\")\nprint(fury.utils.get_polydata_colors(cube_polydata))"
      ]
    },
    {
      "cell_type": "markdown",
      "metadata": {},
      "source": [
        "Visualize surfaces\n\n"
      ]
    },
    {
      "cell_type": "code",
      "execution_count": null,
      "metadata": {
        "collapsed": false
      },
      "outputs": [],
      "source": [
        "# get Actor\ncube_actor = fury.utils.get_actor_from_polydata(cube_polydata)\n\n# Create a scene\nscene = fury.window.Scene()\nscene.add(cube_actor)\nscene.set_camera(position=(10, 5, 7), focal_point=(0.5, 0.5, 0.5))\nscene.zoom(3)\n\n# display\n# fury.window.show(scene, size=(600, 600), reset_camera=False)\nfury.window.record(scene, out_path=\"cube.png\", size=(600, 600))"
      ]
    }
  ],
  "metadata": {
    "kernelspec": {
      "display_name": "Python 3",
      "language": "python",
      "name": "python3"
    },
    "language_info": {
      "codemirror_mode": {
        "name": "ipython",
        "version": 3
      },
      "file_extension": ".py",
      "mimetype": "text/x-python",
      "name": "python",
      "nbconvert_exporter": "python",
      "pygments_lexer": "ipython3",
      "version": "3.9.20"
    }
  },
  "nbformat": 4,
  "nbformat_minor": 0
}