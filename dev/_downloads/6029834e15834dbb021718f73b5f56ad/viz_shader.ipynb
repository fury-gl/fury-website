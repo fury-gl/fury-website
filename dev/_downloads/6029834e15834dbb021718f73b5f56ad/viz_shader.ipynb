{
  "cells": [
    {
      "cell_type": "code",
      "execution_count": null,
      "metadata": {
        "collapsed": false
      },
      "outputs": [],
      "source": [
        "%matplotlib inline"
      ]
    },
    {
      "cell_type": "markdown",
      "metadata": {},
      "source": [
        "\n# Varying Color\n\nThis example shows how to use shaders to generate a shaded output. We will\ndemonstrate how to load polydata then use a custom shader calls to render\na custom shaded model.\nFirst, a bunch of imports.\n"
      ]
    },
    {
      "cell_type": "code",
      "execution_count": null,
      "metadata": {
        "collapsed": false
      },
      "outputs": [],
      "source": [
        "from fury import io, ui, utils, window\nfrom fury.data.fetcher import fetch_viz_models, read_viz_models\nfrom fury.shaders import add_shader_callback, shader_to_actor"
      ]
    },
    {
      "cell_type": "markdown",
      "metadata": {},
      "source": [
        "Let's download  and load the model\n\n"
      ]
    },
    {
      "cell_type": "code",
      "execution_count": null,
      "metadata": {
        "collapsed": false
      },
      "outputs": [],
      "source": [
        "fetch_viz_models()\nmodel = read_viz_models('utah.obj')"
      ]
    },
    {
      "cell_type": "markdown",
      "metadata": {},
      "source": [
        "Let's start by loading the polydata of choice.\nFor this example we use the standard utah teapot model.\ncurrently supported formats include OBJ, VTK, FIB, PLY, STL and XML\n\n"
      ]
    },
    {
      "cell_type": "code",
      "execution_count": null,
      "metadata": {
        "collapsed": false
      },
      "outputs": [],
      "source": [
        "utah = io.load_polydata(model)\nutah = utils.get_polymapper_from_polydata(utah)\nutah = utils.get_actor_from_polymapper(utah)\nmapper = utah.GetMapper()"
      ]
    },
    {
      "cell_type": "markdown",
      "metadata": {},
      "source": [
        "To change the default shader we add a shader replacement.\nSpecify vertex shader using vtkShader.Vertex\nSpecify fragment shader using vtkShader.Fragment\n\n"
      ]
    },
    {
      "cell_type": "code",
      "execution_count": null,
      "metadata": {
        "collapsed": false
      },
      "outputs": [],
      "source": [
        "vertex_shader_code_decl = \"\"\"\n    out vec4 myVertexVC;\n    \"\"\"\n\nvertex_shader_code_impl = \"\"\"\n    myVertexVC = vertexMC;\n    \"\"\"\n\nfragment_shader_code_decl = \"\"\"\n    uniform float time;\n    varying vec4 myVertexVC;\n    \"\"\"\n\nfragment_shader_code_impl = \"\"\"\n    vec2 iResolution = vec2(1024,720);\n    vec2 uv = myVertexVC.xy/iResolution;\n    vec3 col = 0.5 + 0.5 * cos((time/30) + uv.xyx + vec3(0, 2, 4));\n    fragOutput0 = vec4(col, fragOutput0.a);\n    \"\"\"\n\nshader_to_actor(\n    utah, 'vertex', impl_code=vertex_shader_code_impl, decl_code=vertex_shader_code_decl\n)\nshader_to_actor(utah, 'fragment', decl_code=fragment_shader_code_decl)\nshader_to_actor(utah, 'fragment', impl_code=fragment_shader_code_impl, block='light')"
      ]
    },
    {
      "cell_type": "markdown",
      "metadata": {},
      "source": [
        "Let's create a scene.\n\n"
      ]
    },
    {
      "cell_type": "code",
      "execution_count": null,
      "metadata": {
        "collapsed": false
      },
      "outputs": [],
      "source": [
        "scene = window.Scene()\n\nglobal timer\ntimer = 0"
      ]
    },
    {
      "cell_type": "markdown",
      "metadata": {},
      "source": [
        "The timer will call this user defined callback every 30 milliseconds.\n\n"
      ]
    },
    {
      "cell_type": "code",
      "execution_count": null,
      "metadata": {
        "collapsed": false
      },
      "outputs": [],
      "source": [
        "def timer_callback(obj, event):\n    global timer\n    timer += 1.0\n    showm.render()\n    scene.azimuth(5)"
      ]
    },
    {
      "cell_type": "markdown",
      "metadata": {},
      "source": [
        "The shader callback will update the color of our utah pot via the update of\nthe timer variable.\n\n"
      ]
    },
    {
      "cell_type": "code",
      "execution_count": null,
      "metadata": {
        "collapsed": false
      },
      "outputs": [],
      "source": [
        "def shader_callback(_caller, _event, calldata=None):\n    program = calldata\n    global timer\n    if program is not None:\n        try:\n            program.SetUniformf('time', timer)\n        except ValueError:\n            pass\n\n\nadd_shader_callback(utah, shader_callback)"
      ]
    },
    {
      "cell_type": "markdown",
      "metadata": {},
      "source": [
        "Let's add a textblock to the scene with a custom message\n\n"
      ]
    },
    {
      "cell_type": "code",
      "execution_count": null,
      "metadata": {
        "collapsed": false
      },
      "outputs": [],
      "source": [
        "tb = ui.TextBlock2D()\ntb.message = 'Hello Shaders'"
      ]
    },
    {
      "cell_type": "markdown",
      "metadata": {},
      "source": [
        "Show Manager\n\nNow that all the elements have been initialised, we add them to the show\nmanager.\n\n"
      ]
    },
    {
      "cell_type": "code",
      "execution_count": null,
      "metadata": {
        "collapsed": false
      },
      "outputs": [],
      "source": [
        "current_size = (1024, 720)\nshowm = window.ShowManager(scene, size=current_size, reset_camera=False)\n\n\nshowm.add_timer_callback(True, 30, timer_callback)\n\nscene.add(utah)\nscene.add(tb)\n\ninteractive = False\nif interactive:\n    showm.start()\n\nwindow.record(showm.scene, size=current_size, out_path='viz_shader.png')"
      ]
    }
  ],
  "metadata": {
    "kernelspec": {
      "display_name": "Python 3",
      "language": "python",
      "name": "python3"
    },
    "language_info": {
      "codemirror_mode": {
        "name": "ipython",
        "version": 3
      },
      "file_extension": ".py",
      "mimetype": "text/x-python",
      "name": "python",
      "nbconvert_exporter": "python",
      "pygments_lexer": "ipython3",
      "version": "3.9.16"
    }
  },
  "nbformat": 4,
  "nbformat_minor": 0
}