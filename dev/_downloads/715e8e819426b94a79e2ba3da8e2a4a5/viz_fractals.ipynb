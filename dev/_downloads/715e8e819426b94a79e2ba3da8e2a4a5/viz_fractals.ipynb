{
  "cells": [
    {
      "cell_type": "markdown",
      "metadata": {},
      "source": [
        "\n# Fractals\n\nFractals are geometric structures that are self-similar at any scale. These\nstructures are easy to generate using recursion. In this demo, we'll be\nimplementing the following fractals:\n\n- Sierpinski Tetrahedron or Tetrix\n- Menger Sponge\n- Moseley Snowflake\n\nLet's begin by importing some necessary modules. We need ``fury.primitive`` to\navoid having to hardcode the geometry of a tetrahedron and a cube.\n``fury.utils`` also contains a ``repeat_primitive`` function which we will use\nfor this demo.\n"
      ]
    },
    {
      "cell_type": "code",
      "execution_count": null,
      "metadata": {
        "collapsed": false
      },
      "outputs": [],
      "source": [
        "import math\n\nimport numpy as np\n\nimport fury"
      ]
    },
    {
      "cell_type": "markdown",
      "metadata": {},
      "source": [
        "Before we create our first fractal, let's set some ground rules for us to\nwork with.\n\n1. Instead of creating a new actor to represent each primitive of the\nfractal, we will compute the centers of each primitive and draw them at once\nusing ``repeat_primitive()``.\n\n2. How many primitives do we need? For each fractal, we define a depth which\nwill prevent infinite recursion. Assuming we have a depth of $N$, and\nat each level the shape is divided into $k$ smaller parts, we will need\n$k^{N}$ primitives to represent the fractal.\n\n3. Ideally, we want to allocate the array of centers upfront. To achieve\nthis, we can use the method of representing a binary tree in an array, and\nextend it to work with k-ary trees (formulas for the same can be found\n`here`_). In this scheme of representation, we represent every primitive as a\nnode, and each sub-primitive as a child node. We can also skip storing the\nfirst $\\frac{k^{N} - 1}{k - 1} + 1$ entries as we only need to render\nthe leaf nodes. This allows us to create an array of exactly the required\nsize at the start, without any additional overhead.\n\n\n-----------------------------------------------------------------------------\n\n"
      ]
    },
    {
      "cell_type": "markdown",
      "metadata": {},
      "source": [
        "The tetrix is a classic 3d fractal, a natural three-dimensional extension of\nthe Sierpinski Triangle. At each level, we need to calculate the new centers\nfor the next level. We can use the vertices of a tetrahedron as the offsets\nfor the new centers, provided that the tetrahedron is centered at the origin\n(which is the case here).\n\n"
      ]
    },
    {
      "cell_type": "code",
      "execution_count": null,
      "metadata": {
        "collapsed": false
      },
      "outputs": [],
      "source": [
        "def tetrix(N):\n    centers = np.zeros((4**N, 3))\n\n    # skipping non-leaf nodes (see above)\n    offset = (4**N - 1) // 3 + 1\n\n    # just need the vertices\n    U, _ = fury.primitive.prim_tetrahedron()\n\n    def gen_centers(depth, pos, center, dist):\n        if depth == N:\n            centers[pos - offset] = center\n        else:\n            idx = 4 * (pos - 1) + 2\n            for i in range(4):\n                # distance gets halved at each level\n                gen_centers(depth + 1, idx + i, center + dist * U[i], dist / 2)\n\n    # the division by sqrt(6) is to ensure correct scale\n    gen_centers(0, 1, np.zeros(3), 2 / (6**0.5))\n\n    vertices, faces = fury.primitive.prim_tetrahedron()\n\n    # primitive is scaled down depending on level\n    vertices /= 2 ** (N - 1)\n\n    # compute some pretty colors\n    bounds_min, bounds_max = np.min(centers, axis=0), np.max(centers, axis=0)\n    colors = (centers - bounds_min) / (bounds_max - bounds_min)\n\n    vertices, triangles, colors, _ = fury.primitive.repeat_primitive(\n        centers=centers, colors=colors, vertices=vertices, faces=faces\n    )\n    return fury.utils.get_actor_from_primitive(vertices, triangles, colors)"
      ]
    },
    {
      "cell_type": "markdown",
      "metadata": {},
      "source": [
        "For a Menger Sponge, each cube is divided into 27 smaller cubes, and we skip\nsome of them (face centers, and the center of the cube). This means that on\nevery level we get 20 new cubes.\n\nHere, to compute the points of each new center, we start at a corner cube's\ncenter and add the offsets to each smaller cube, scaled according to the\nlevel.\n\n"
      ]
    },
    {
      "cell_type": "code",
      "execution_count": null,
      "metadata": {
        "collapsed": false
      },
      "outputs": [],
      "source": [
        "def sponge(N):\n    centers = np.zeros((20**N, 3))\n    offset = (20**N - 1) // 19 + 1\n\n    # these are the offsets of the new centers at the next level of recursion\n    # each cube is divided into 20 smaller cubes for a snowflake\n    V = np.array(\n        [\n            [0, 0, 0],\n            [0, 0, 1],\n            [0, 0, 2],\n            [0, 1, 0],\n            [0, 1, 2],\n            [0, 2, 0],\n            [0, 2, 1],\n            [0, 2, 2],\n            [1, 0, 0],\n            [1, 0, 2],\n            [1, 2, 0],\n            [1, 2, 2],\n            [2, 0, 0],\n            [2, 0, 1],\n            [2, 0, 2],\n            [2, 1, 0],\n            [2, 1, 2],\n            [2, 2, 0],\n            [2, 2, 1],\n            [2, 2, 2],\n        ]\n    )\n\n    def gen_centers(depth, pos, center, dist):\n        if depth == N:\n            centers[pos - offset] = center\n        else:\n            # we consider a corner cube as our starting point\n            start = center - np.array([1, 1, 1]) * dist**0.5\n            idx = 20 * (pos - 1) + 2\n\n            # this moves from the corner cube to each new cube's center\n            for i in range(20):\n                # each cube is divided into 27 cubes so side gets divided by 3\n                gen_centers(depth + 1, idx + i, start + V[i] * dist, dist / 3)\n\n    gen_centers(0, 1, np.zeros(3), 1 / 3)\n\n    vertices, faces = fury.primitive.prim_box()\n    vertices /= 3**N\n\n    bounds_min, bounds_max = np.min(centers, axis=0), np.max(centers, axis=0)\n    colors = (centers - bounds_min) / (bounds_max - bounds_min)\n\n    vertices, triangles, colors, _ = fury.primitive.repeat_primitive(\n        centers=centers, colors=colors, vertices=vertices, faces=faces\n    )\n    return fury.utils.get_actor_from_primitive(vertices, triangles, colors)"
      ]
    },
    {
      "cell_type": "markdown",
      "metadata": {},
      "source": [
        "A snowflake is exactly the same as above, but we skip different cubes\n(corners and center). I think this looks quite interesting, and it is\npossible to see the Koch snowflake if you position the camera just right.\n\n"
      ]
    },
    {
      "cell_type": "code",
      "execution_count": null,
      "metadata": {
        "collapsed": false
      },
      "outputs": [],
      "source": [
        "def snowflake(N):\n    centers = np.zeros((18**N, 3))\n    offset = (18**N - 1) // 17 + 1\n    V = np.array(\n        [\n            [0, 0, 1],\n            [0, 1, 0],\n            [0, 1, 1],\n            [0, 1, 2],\n            [0, 2, 1],\n            [1, 0, 0],\n            [1, 0, 1],\n            [1, 0, 2],\n            [1, 1, 0],\n            [1, 1, 2],\n            [1, 2, 0],\n            [1, 2, 1],\n            [1, 2, 2],\n            [2, 0, 1],\n            [2, 1, 0],\n            [2, 1, 1],\n            [2, 1, 2],\n            [2, 2, 1],\n        ]\n    )\n\n    def gen_centers(depth, pos, center, side):\n        if depth == N:\n            centers[pos - offset] = center\n        else:\n            start = center - np.array([1, 1, 1]) * side**0.5\n            idx = 18 * (pos - 1) + 2\n            for i in range(18):\n                gen_centers(depth + 1, idx + i, start + V[i] * side, side / 3)\n\n    gen_centers(0, 1, np.zeros(3), 1 / 3)\n\n    vertices, faces = fury.primitive.prim_box()\n    vertices /= 3**N\n\n    bounds_min, bounds_max = np.min(centers, axis=0), np.max(centers, axis=0)\n    colors = (centers - bounds_min) / (bounds_max - bounds_min)\n\n    vertices, triangles, colors, _ = fury.primitive.repeat_primitive(\n        centers=centers, colors=colors, vertices=vertices, faces=faces\n    )\n    return fury.utils.get_actor_from_primitive(vertices, triangles, colors)"
      ]
    },
    {
      "cell_type": "markdown",
      "metadata": {},
      "source": [
        "Now that we have the functions to generate fractals, we can start setting up\nthe Scene and ShowManager.\n\n"
      ]
    },
    {
      "cell_type": "code",
      "execution_count": null,
      "metadata": {
        "collapsed": false
      },
      "outputs": [],
      "source": [
        "scene = fury.window.Scene()\nshowmgr = fury.window.ShowManager(scene, \"Fractals\", (800, 800), reset_camera=True)"
      ]
    },
    {
      "cell_type": "markdown",
      "metadata": {},
      "source": [
        "These values are what work nicely on my machine without lagging. If you have\na powerful machine, you could bump these up by around 2-3.\n\n"
      ]
    },
    {
      "cell_type": "code",
      "execution_count": null,
      "metadata": {
        "collapsed": false
      },
      "outputs": [],
      "source": [
        "fractals = [tetrix(6), sponge(3), snowflake(3)]"
      ]
    },
    {
      "cell_type": "markdown",
      "metadata": {},
      "source": [
        "We want to be able to switch between the three fractals. To achieve this\nwe'll create a RadioButton and register a callback which will remove existing\nfractals and add the selected one. This also resets the camera.\n\n"
      ]
    },
    {
      "cell_type": "code",
      "execution_count": null,
      "metadata": {
        "collapsed": false
      },
      "outputs": [],
      "source": [
        "options = {\n    \"Tetrix\": 0,\n    \"Sponge\": 1,\n    \"Snowflake\": 2,\n}\n\nshape_chooser = fury.ui.RadioButton(\n    options.keys(),\n    padding=10,\n    font_size=16,\n    checked_labels=[\"Tetrix\"],\n    position=(10, 10),\n)\n\n\ndef choose_shape(radio):\n    showmgr.scene.rm(*fractals)\n    showmgr.scene.add(fractals[options[radio.checked_labels[0]]])\n    showmgr.scene.reset_camera()\n\n\nshape_chooser.on_change = choose_shape\n\n# selected at start\nshowmgr.scene.add(fractals[0])\nshowmgr.scene.add(shape_chooser)"
      ]
    },
    {
      "cell_type": "markdown",
      "metadata": {},
      "source": [
        "Let's add some basic camera movement to make it look a little interesting.\nWe can use a callback here to update a counter and calculate the camera\npositions using the counter. ``sin`` and ``cos`` are used here to make smooth\nlooping movements.\n\n"
      ]
    },
    {
      "cell_type": "code",
      "execution_count": null,
      "metadata": {
        "collapsed": false
      },
      "outputs": [],
      "source": [
        "counter = 0\n\n\ndef timer_callback(_obj, _event):\n    global counter\n    counter += 1\n    showmgr.scene.azimuth(math.sin(counter * 0.01))\n    showmgr.scene.elevation(math.cos(counter * 0.01) / 4)\n    showmgr.render()\n\n\nshowmgr.add_timer_callback(True, 20, timer_callback)"
      ]
    },
    {
      "cell_type": "markdown",
      "metadata": {},
      "source": [
        "Finally, show the window if running in interactive mode or render to an image\notherwise. This is needed for generating the documentation that you are\nreading.\n\n"
      ]
    },
    {
      "cell_type": "code",
      "execution_count": null,
      "metadata": {
        "collapsed": false
      },
      "outputs": [],
      "source": [
        "interactive = False\nif interactive:\n    showmgr.start()\nelse:\n    fury.window.record(showmgr.scene, out_path=\"fractals.png\", size=(800, 800))"
      ]
    }
  ],
  "metadata": {
    "kernelspec": {
      "display_name": "Python 3",
      "language": "python",
      "name": "python3"
    },
    "language_info": {
      "codemirror_mode": {
        "name": "ipython",
        "version": 3
      },
      "file_extension": ".py",
      "mimetype": "text/x-python",
      "name": "python",
      "nbconvert_exporter": "python",
      "pygments_lexer": "ipython3",
      "version": "3.9.19"
    }
  },
  "nbformat": 4,
  "nbformat_minor": 0
}