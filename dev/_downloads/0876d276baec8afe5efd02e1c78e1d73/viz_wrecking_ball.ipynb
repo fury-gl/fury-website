{
  "cells": [
    {
      "cell_type": "markdown",
      "metadata": {},
      "source": [
        "\n# Wrecking Ball Simulation\n\nThis example simulation shows how to use pybullet to render physics simulations\nin fury. In this example we specifically render a brick wall being destroyed by\na wrecking ball.\n\nFirst some imports.\n"
      ]
    },
    {
      "cell_type": "code",
      "execution_count": null,
      "metadata": {
        "collapsed": false
      },
      "outputs": [],
      "source": [
        "import itertools\n\nimport numpy as np\nimport pybullet as p\n\nfrom fury import actor, ui, utils, window"
      ]
    },
    {
      "cell_type": "markdown",
      "metadata": {},
      "source": [
        "Initiate pybullet and enable gravity.\n\n"
      ]
    },
    {
      "cell_type": "code",
      "execution_count": null,
      "metadata": {
        "collapsed": false
      },
      "outputs": [],
      "source": [
        "p.connect(p.DIRECT)\np.setGravity(0, 0, -10)"
      ]
    },
    {
      "cell_type": "markdown",
      "metadata": {},
      "source": [
        "Define some handy parameters to customize simulation.\n\n"
      ]
    },
    {
      "cell_type": "code",
      "execution_count": null,
      "metadata": {
        "collapsed": false
      },
      "outputs": [],
      "source": [
        "# Parameters\nwall_length = 5\nwall_breadth = 5\nwall_height = 5\n\nbrick_size = np.array([0.2, 0.4, 0.2])\n\nn_links = 15\n# Size of segments\ndx_link = 0.1\nlink_mass = 0.5\nbase_mass = 0.1\n# radius of the cylindrical links or the rope\nradii = 0.1\n\nball_mass = 10\n# radius of the wrecking ball\nball_radius = 0.5\nball_color = np.array([[1, 0, 0]])\n\njoint_friction = 0.0005"
      ]
    },
    {
      "cell_type": "markdown",
      "metadata": {},
      "source": [
        "Creating the base plane actor.\n\n"
      ]
    },
    {
      "cell_type": "code",
      "execution_count": null,
      "metadata": {
        "collapsed": false
      },
      "outputs": [],
      "source": [
        "# Base\nbase_actor = actor.box(\n    centers=np.array([[0, 0, 0]]),\n    directions=[0, 0, 0],\n    scales=(5, 5, 0.2),\n    colors=(1, 1, 1),\n)\nbase_coll = p.createCollisionShape(p.GEOM_BOX, halfExtents=[2.5, 2.5, 0.1])\nbase = p.createMultiBody(\n    baseCollisionShapeIndex=base_coll,\n    basePosition=[0, 0, -0.1],\n    baseOrientation=[0, 0, 0, 1],\n)\np.changeDynamics(base, -1, lateralFriction=0.3, restitution=0.5)"
      ]
    },
    {
      "cell_type": "markdown",
      "metadata": {},
      "source": [
        "The following definitions are made to render a NxNxN brick wall.\n\n"
      ]
    },
    {
      "cell_type": "code",
      "execution_count": null,
      "metadata": {
        "collapsed": false
      },
      "outputs": [],
      "source": [
        "# Generate bricks.\nnb_bricks = wall_length * wall_breadth * wall_height\nbrick_centers = np.zeros((nb_bricks, 3))\n\nbrick_directions = np.zeros((nb_bricks, 3))\nbrick_directions[:] = np.array([1.57, 0, 0])\n\nbrick_orns = np.zeros((nb_bricks, 4))\n\nbrick_sizes = np.zeros((nb_bricks, 3))\nbrick_sizes[:] = brick_size\n\nbrick_colors = np.random.rand(nb_bricks, 3)\n\nbrick_coll = p.createCollisionShape(p.GEOM_BOX, halfExtents=brick_size / 2)\n\nbricks = np.zeros(nb_bricks, dtype=np.int16)"
      ]
    },
    {
      "cell_type": "markdown",
      "metadata": {},
      "source": [
        "The following is the logic to position the bricks in our desired location and\ngenerate the actor.\n\n"
      ]
    },
    {
      "cell_type": "code",
      "execution_count": null,
      "metadata": {
        "collapsed": false
      },
      "outputs": [],
      "source": [
        "idx = 0\n# Setting up wall\nfor i in range(wall_length):\n    for k in range(wall_height):\n        for j in range(wall_breadth):\n            center_pos = np.array([(i * 0.2) - 1.8, (j * 0.4) - 0.9, (0.2 * k) + 0.1])\n            brick_centers[idx] = center_pos\n            brick_orns[idx] = np.array([0, 0, 0, 1])\n            bricks[idx] = p.createMultiBody(\n                baseMass=0.5,\n                baseCollisionShapeIndex=brick_coll,\n                basePosition=center_pos,\n                baseOrientation=brick_orns[i],\n            )\n            p.changeDynamics(bricks[idx], -1, lateralFriction=0.1, restitution=0.1)\n            idx += 1\n\nbrick_actor = actor.box(\n    centers=brick_centers,\n    directions=brick_directions,\n    scales=brick_sizes,\n    colors=brick_colors,\n)"
      ]
    },
    {
      "cell_type": "markdown",
      "metadata": {},
      "source": [
        "Now we render the wrecking ball consisting of a fixed hinge, a ball and rope.\n\n"
      ]
    },
    {
      "cell_type": "code",
      "execution_count": null,
      "metadata": {
        "collapsed": false
      },
      "outputs": [],
      "source": [
        "# Generate wrecking ball\nlink_shape = p.createCollisionShape(\n    p.GEOM_CYLINDER,\n    radius=radii,\n    height=dx_link,\n    collisionFramePosition=[0, 0, -dx_link / 2],\n)\n\nbase_shape = p.createCollisionShape(p.GEOM_BOX, halfExtents=[0.01, 0.01, 0.01])\nball_shape = p.createCollisionShape(p.GEOM_SPHERE, radius=ball_radius)\n\nvisualShapeId = -1\n\nlink_Masses = np.zeros(n_links)\nlink_Masses[:] = link_mass\nlink_Masses[-1] = 5\nlinkCollisionShapeIndices = np.zeros(n_links)\nlinkCollisionShapeIndices[:] = np.array(link_shape)\nlinkCollisionShapeIndices[-1] = ball_shape\nlinkVisualShapeIndices = -1 * np.ones(n_links)\nlinkPositions = np.zeros((n_links, 3))\nlinkPositions[:] = np.array([0, 0, -dx_link])\nlinkOrientations = np.zeros((n_links, 4))\nlinkOrientations[:] = np.array([0, 0, 0, 1])\nlinkInertialFramePositions = np.zeros((n_links, 3))\nlinkInertialFrameOrns = np.zeros((n_links, 4))\nlinkInertialFrameOrns[:] = np.array([0, 0, 0, 1])\nindices = np.arange(n_links)\njointTypes = np.zeros(n_links)\njointTypes[:] = np.array(p.JOINT_SPHERICAL)\naxis = np.zeros((n_links, 3))\naxis[:] = np.array([1, 0, 0])\n\nlinkDirections = np.zeros((n_links, 3))\nlinkDirections[:] = np.array([1, 1, 1])\n\nlink_radii = np.zeros(n_links)\nlink_radii[:] = radii\n\nlink_heights = np.zeros(n_links)\nlink_heights[:] = dx_link\n\nrope_actor = actor.cylinder(\n    centers=linkPositions,\n    directions=linkDirections,\n    colors=np.random.rand(n_links, 3),\n    radius=radii,\n    heights=link_heights,\n    capped=True,\n)\n\nbasePosition = [0, 0, 2]\nbaseOrientation = [0, 0, 0, 1]\nrope = p.createMultiBody(\n    base_mass,\n    base_shape,\n    visualShapeId,\n    basePosition,\n    baseOrientation,\n    linkMasses=link_Masses,\n    linkCollisionShapeIndices=linkCollisionShapeIndices.astype(int),\n    linkVisualShapeIndices=linkVisualShapeIndices.astype(int),\n    linkPositions=linkPositions.astype(int),\n    linkOrientations=linkOrientations.astype(int),\n    linkInertialFramePositions=linkInertialFramePositions.astype(int),\n    linkInertialFrameOrientations=linkInertialFrameOrns.astype(int),\n    linkParentIndices=indices.astype(int),\n    linkJointTypes=jointTypes.astype(int),\n    linkJointAxis=axis.astype(int),\n)"
      ]
    },
    {
      "cell_type": "markdown",
      "metadata": {},
      "source": [
        "Next we define the frictional force between the joints of wrecking ball.\n\n"
      ]
    },
    {
      "cell_type": "code",
      "execution_count": null,
      "metadata": {
        "collapsed": false
      },
      "outputs": [],
      "source": [
        "friction_vec = [joint_friction] * 3  # same all axis\ncontrol_mode = p.POSITION_CONTROL  # set pos control mode\nfor j in range(p.getNumJoints(rope)):\n    p.setJointMotorControlMultiDof(\n        rope,\n        j,\n        control_mode,\n        targetPosition=[0, 0, 0, 1],\n        targetVelocity=[0, 0, 0],\n        positionGain=0,\n        velocityGain=1,\n        force=friction_vec,\n    )"
      ]
    },
    {
      "cell_type": "markdown",
      "metadata": {},
      "source": [
        "We add the following constraint to keep the cubical hinge fixed.\n\n"
      ]
    },
    {
      "cell_type": "code",
      "execution_count": null,
      "metadata": {
        "collapsed": false
      },
      "outputs": [],
      "source": [
        "root_robe_c = p.createConstraint(\n    rope, -1, -1, -1, p.JOINT_FIXED, [0, 0, 0], [0, 0, 0], [0, 0, 2]\n)\n\nbox_actor = actor.box(\n    centers=np.array([[0, 0, 0]]),\n    directions=np.array([[0, 0, 0]]),\n    scales=(0.02, 0.02, 0.02),\n    colors=np.array([[1, 0, 0]]),\n)\n\nball_actor = actor.sphere(\n    centers=np.array([[0, 0, 0]]), radii=ball_radius, colors=np.array([1, 0, 1])\n)"
      ]
    },
    {
      "cell_type": "markdown",
      "metadata": {},
      "source": [
        "Now we add the necessary actors to the scene and set the camera for better\nvisualization.\n\n"
      ]
    },
    {
      "cell_type": "code",
      "execution_count": null,
      "metadata": {
        "collapsed": false
      },
      "outputs": [],
      "source": [
        "scene = window.Scene()\nscene.set_camera((10.28, -7.10, 6.39), (0.0, 0.0, 0.4), (-0.35, 0.26, 1.0))\nscene.add(actor.axes(scale=(0.5, 0.5, 0.5)), base_actor, brick_actor)\nscene.add(rope_actor, box_actor, ball_actor)\n\nshowm = window.ShowManager(\n    scene, size=(900, 768), reset_camera=False, order_transparent=True\n)"
      ]
    },
    {
      "cell_type": "markdown",
      "metadata": {},
      "source": [
        "Position the base correctly.\n\n"
      ]
    },
    {
      "cell_type": "code",
      "execution_count": null,
      "metadata": {
        "collapsed": false
      },
      "outputs": [],
      "source": [
        "base_pos, base_orn = p.getBasePositionAndOrientation(base)\nbase_actor.SetPosition(*base_pos)"
      ]
    },
    {
      "cell_type": "markdown",
      "metadata": {},
      "source": [
        "Calculate the vertices of the bricks.\n\n"
      ]
    },
    {
      "cell_type": "code",
      "execution_count": null,
      "metadata": {
        "collapsed": false
      },
      "outputs": [],
      "source": [
        "brick_vertices = utils.vertices_from_actor(brick_actor)\nnum_vertices = brick_vertices.shape[0]\nnum_objects = brick_centers.shape[0]\nbrick_sec = int(num_vertices / num_objects)"
      ]
    },
    {
      "cell_type": "markdown",
      "metadata": {},
      "source": [
        "Calculate the vertices of the wrecking ball.\n\n"
      ]
    },
    {
      "cell_type": "code",
      "execution_count": null,
      "metadata": {
        "collapsed": false
      },
      "outputs": [],
      "source": [
        "chain_vertices = utils.vertices_from_actor(rope_actor)\nnum_vertices = chain_vertices.shape[0]\nnum_objects = brick_centers.shape[0]\nchain_sec = int(num_vertices / num_objects)"
      ]
    },
    {
      "cell_type": "markdown",
      "metadata": {},
      "source": [
        "We define methods to sync bricks and wrecking ball.\n\n"
      ]
    },
    {
      "cell_type": "code",
      "execution_count": null,
      "metadata": {
        "collapsed": false
      },
      "outputs": [],
      "source": [
        "# Function for syncing actors with multibodies.\ndef sync_brick(object_index, multibody):\n    pos, orn = p.getBasePositionAndOrientation(multibody)\n\n    rot_mat = np.reshape(\n        p.getMatrixFromQuaternion(\n            p.getDifferenceQuaternion(orn, brick_orns[object_index])\n        ),\n        (3, 3),\n    )\n\n    sec = brick_sec\n\n    brick_vertices[object_index * sec : object_index * sec + sec] = (\n        brick_vertices[object_index * sec : object_index * sec + sec]\n        - brick_centers[object_index]\n    ) @ rot_mat + pos\n\n    brick_centers[object_index] = pos\n    brick_orns[object_index] = orn\n\n\ndef sync_chain(actor_list, multibody):\n    for joint in range(p.getNumJoints(multibody)):\n        # `p.getLinkState` offers various information about the joints\n        # as a list and the values in 4th and 5th index refer to the joint's\n        # position and orientation respectively.\n        pos, orn = p.getLinkState(multibody, joint)[4:6]\n\n        rot_mat = np.reshape(\n            p.getMatrixFromQuaternion(\n                p.getDifferenceQuaternion(orn, linkOrientations[joint])\n            ),\n            (3, 3),\n        )\n\n        sec = chain_sec\n\n        chain_vertices[joint * sec : joint * sec + sec] = (\n            chain_vertices[joint * sec : joint * sec + sec] - linkPositions[joint]\n        ) @ rot_mat + pos\n\n        linkPositions[joint] = pos\n        linkOrientations[joint] = orn"
      ]
    },
    {
      "cell_type": "markdown",
      "metadata": {},
      "source": [
        "Some helper tools to keep track of avg. FPS and simulation steps.\n\n"
      ]
    },
    {
      "cell_type": "code",
      "execution_count": null,
      "metadata": {
        "collapsed": false
      },
      "outputs": [],
      "source": [
        "counter = itertools.count()\nfpss = np.array([])\ntb = ui.TextBlock2D(\n    position=(0, 680), font_size=30, color=(1, 0.5, 0), text='Avg. FPS: \\nSim Steps: '\n)\nscene.add(tb)"
      ]
    },
    {
      "cell_type": "markdown",
      "metadata": {},
      "source": [
        "Timer callback to sync objects, simulate steps and apply force.\n\n"
      ]
    },
    {
      "cell_type": "code",
      "execution_count": null,
      "metadata": {
        "collapsed": false
      },
      "outputs": [],
      "source": [
        "apply_force = True\n\n\n# Create timer callback which will execute at each step of simulation.\ndef timer_callback(_obj, _event):\n    global apply_force, fpss\n    cnt = next(counter)\n    showm.render()\n\n    if cnt % 1 == 0:\n        fps = showm.frame_rate\n        fpss = np.append(fpss, fps)\n        tb.message = (\n            'Avg. FPS: ' + str(np.round(np.mean(fpss), 0)) + '\\nSim Steps: ' + str(cnt)\n        )\n\n    # Updating the position and orientation of each individual brick.\n    for idx, brick in enumerate(bricks):\n        sync_brick(idx, brick)\n\n    pos, _ = p.getBasePositionAndOrientation(rope)\n\n    if apply_force:\n        p.applyExternalForce(\n            rope, -1, forceObj=[-500, 0, 0], posObj=pos, flags=p.WORLD_FRAME\n        )\n        apply_force = False\n\n    pos = p.getLinkState(rope, p.getNumJoints(rope) - 1)[4]\n    ball_actor.SetPosition(*pos)\n    sync_chain(rope_actor, rope)\n    utils.update_actor(brick_actor)\n    utils.update_actor(rope_actor)\n\n    # Simulate a step.\n    p.stepSimulation()\n\n    if cnt == 130:\n        showm.exit()\n\n\n# Add the timer callback to showmanager.\n# Increasing the duration value will slow down the simulation.\nshowm.add_timer_callback(True, 1, timer_callback)\n\ninteractive = False\n\n# start simulation\nif interactive:\n    showm.start()\n\nwindow.record(scene, size=(900, 768), out_path='viz_wrecking_ball.png')"
      ]
    }
  ],
  "metadata": {
    "kernelspec": {
      "display_name": "Python 3",
      "language": "python",
      "name": "python3"
    },
    "language_info": {
      "codemirror_mode": {
        "name": "ipython",
        "version": 3
      },
      "file_extension": ".py",
      "mimetype": "text/x-python",
      "name": "python",
      "nbconvert_exporter": "python",
      "pygments_lexer": "ipython3",
      "version": "3.9.18"
    }
  },
  "nbformat": 4,
  "nbformat_minor": 0
}