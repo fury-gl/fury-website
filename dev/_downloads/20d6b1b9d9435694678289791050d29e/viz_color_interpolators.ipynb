{
  "cells": [
    {
      "cell_type": "markdown",
      "metadata": {},
      "source": [
        "\n# Keyframe Color Interpolators\n\nColor animation explained in this tutorial and how to use different color\nspace interpolators.\n"
      ]
    },
    {
      "cell_type": "code",
      "execution_count": null,
      "metadata": {
        "collapsed": false
      },
      "outputs": [],
      "source": [
        "import numpy as np\n\nfrom fury import actor, window\nfrom fury.animation import Animation\nfrom fury.animation.interpolator import (\n    hsv_color_interpolator,\n    lab_color_interpolator,\n    step_interpolator,\n    xyz_color_interpolator,\n)\nfrom fury.animation.timeline import Timeline\nfrom fury.colormap import distinguishable_colormap\n\nscene = window.Scene()\n\nshowm = window.ShowManager(\n    scene, size=(900, 768), reset_camera=False, order_transparent=True\n)"
      ]
    },
    {
      "cell_type": "markdown",
      "metadata": {},
      "source": [
        "Initializing positions of the cubes that will be color-animated.\n\n"
      ]
    },
    {
      "cell_type": "code",
      "execution_count": null,
      "metadata": {
        "collapsed": false
      },
      "outputs": [],
      "source": [
        "cubes_pos = np.array(\n    [\n        [[-2, 0, 0]],\n        [[0, 0, 0]],\n        [[2, 0, 0]],\n        [[4, 0, 0]],\n        [[6, 0, 0]],\n    ]\n)"
      ]
    },
    {
      "cell_type": "markdown",
      "metadata": {},
      "source": [
        "Static labels for different interpolators (for show)\n\n"
      ]
    },
    {
      "cell_type": "code",
      "execution_count": null,
      "metadata": {
        "collapsed": false
      },
      "outputs": [],
      "source": [
        "linear_text = actor.vector_text('Linear', (-2.64, -1, 0))\nlab_text = actor.vector_text('LAB', (-0.37, -1, 0))\nhsv_text = actor.vector_text('HSV', (1.68, -1, 0))\nxyz_text = actor.vector_text('XYZ', (3.6, -1, 0))\nstep_text = actor.vector_text('Step', (5.7, -1, 0))\nscene.add(step_text, lab_text, linear_text, hsv_text, xyz_text)"
      ]
    },
    {
      "cell_type": "markdown",
      "metadata": {},
      "source": [
        "Creating an animation to animate the actor.\nAlso cube actor is provided for each timeline to handle as follows:\n``Animation(actor)``, ``Animation(list_of_actors)``, or actors can be added\nlater using ``animation.add()`` or ``animation.add_actor()``\n\n"
      ]
    },
    {
      "cell_type": "code",
      "execution_count": null,
      "metadata": {
        "collapsed": false
      },
      "outputs": [],
      "source": [
        "anim_linear_color = Animation(actor.cube(cubes_pos[0]))\nanim_LAB_color = Animation(actor.cube(cubes_pos[1]))\nanim_HSV_color = Animation(actor.cube(cubes_pos[2]))\nanim_XYZ_color = Animation(actor.cube(cubes_pos[3]))\nanim_step_color = Animation(actor.cube(cubes_pos[4]))"
      ]
    },
    {
      "cell_type": "markdown",
      "metadata": {},
      "source": [
        "Creating a timeline to control all the animations (one for each color\ninterpolation method)\n\n"
      ]
    },
    {
      "cell_type": "code",
      "execution_count": null,
      "metadata": {
        "collapsed": false
      },
      "outputs": [],
      "source": [
        "timeline = Timeline(playback_panel=True)"
      ]
    },
    {
      "cell_type": "markdown",
      "metadata": {},
      "source": [
        "Adding animations to a Timeline.\n\n"
      ]
    },
    {
      "cell_type": "code",
      "execution_count": null,
      "metadata": {
        "collapsed": false
      },
      "outputs": [],
      "source": [
        "timeline.add_animation(\n    [anim_linear_color, anim_LAB_color, anim_HSV_color, anim_XYZ_color, anim_step_color]\n)"
      ]
    },
    {
      "cell_type": "markdown",
      "metadata": {},
      "source": [
        "## Setting color keyframes\n\nSetting the same color keyframes to all the animations\n\n"
      ]
    },
    {
      "cell_type": "markdown",
      "metadata": {},
      "source": [
        "First, we generate some distinguishable colors\n\n"
      ]
    },
    {
      "cell_type": "code",
      "execution_count": null,
      "metadata": {
        "collapsed": false
      },
      "outputs": [],
      "source": [
        "colors = distinguishable_colormap(nb_colors=4)"
      ]
    },
    {
      "cell_type": "markdown",
      "metadata": {},
      "source": [
        "Then, we set them as keyframes for the animations\n\n"
      ]
    },
    {
      "cell_type": "code",
      "execution_count": null,
      "metadata": {
        "collapsed": false
      },
      "outputs": [],
      "source": [
        "for t in range(0, 20, 5):\n    col = colors.pop()\n    anim_linear_color.set_color(t, col)\n    anim_LAB_color.set_color(t, col)\n    anim_HSV_color.set_color(t, col)\n    anim_XYZ_color.set_color(t, col)\n    anim_step_color.set_color(t, col)"
      ]
    },
    {
      "cell_type": "markdown",
      "metadata": {},
      "source": [
        "Changing the default scale interpolator to be a step interpolator\nThe default is linear interpolator for color keyframes\n\n"
      ]
    },
    {
      "cell_type": "code",
      "execution_count": null,
      "metadata": {
        "collapsed": false
      },
      "outputs": [],
      "source": [
        "anim_HSV_color.set_color_interpolator(hsv_color_interpolator)\nanim_LAB_color.set_color_interpolator(lab_color_interpolator)\nanim_step_color.set_color_interpolator(step_interpolator)\nanim_XYZ_color.set_color_interpolator(xyz_color_interpolator)"
      ]
    },
    {
      "cell_type": "markdown",
      "metadata": {},
      "source": [
        "Adding the main timeline to the show manager\n\n"
      ]
    },
    {
      "cell_type": "code",
      "execution_count": null,
      "metadata": {
        "collapsed": false
      },
      "outputs": [],
      "source": [
        "showm.add_animation(timeline)\n\ninteractive = False\n\nif interactive:\n    showm.start()\n\nwindow.record(scene, out_path='viz_keyframe_animation_colors.png', size=(900, 768))"
      ]
    }
  ],
  "metadata": {
    "kernelspec": {
      "display_name": "Python 3",
      "language": "python",
      "name": "python3"
    },
    "language_info": {
      "codemirror_mode": {
        "name": "ipython",
        "version": 3
      },
      "file_extension": ".py",
      "mimetype": "text/x-python",
      "name": "python",
      "nbconvert_exporter": "python",
      "pygments_lexer": "ipython3",
      "version": "3.9.17"
    }
  },
  "nbformat": 4,
  "nbformat_minor": 0
}