{
  "cells": [
    {
      "cell_type": "markdown",
      "metadata": {},
      "source": [
        "\n# Brownian motion\nBrownian motion, or pedesis, is the random motion of particles\nsuspended in a medium. In this animation, path followed by 20 particles\nexhibiting brownian motion in 3D is plotted.\n\nImporting necessary modules\n"
      ]
    },
    {
      "cell_type": "code",
      "execution_count": null,
      "metadata": {
        "collapsed": false
      },
      "outputs": [],
      "source": [
        "import numpy as np\nimport fury\nfrom scipy.stats import norm"
      ]
    },
    {
      "cell_type": "markdown",
      "metadata": {},
      "source": [
        "Let's define some variable and their description:\n\n* **total_time**: time to be discretized via time_steps (default: 5)\n* **num_total_steps**: total number of steps each particle will take\n  (default: 300)\n* **time_step**: By default, it is equal to total_time / num_total_steps\n* **counter_step**: to keep track of number of steps taken\n  (initialised to 0)\n* **delta**: delta determines the \"speed\" of the Brownian motion.\n  Increase delta to speed up the motion of the particle(s). The random\n  variable of the position has a normal distribution whose mean is the\n  position at counter_step = 0 and whose variance is equal to\n  delta**2*time_step. (default: 1.8)\n* **num_particles**: number of particles whose path will be plotted\n  (default: 20)\n* **path_thickness**: thickness of line(s) that will be used to plot the\n  path(s) of the particle(s) (default: 3)\n* **origin**: coordinate from which the the particle(s) begin the motion\n  (default: [0, 0, 0])\n\n"
      ]
    },
    {
      "cell_type": "code",
      "execution_count": null,
      "metadata": {
        "collapsed": false
      },
      "outputs": [],
      "source": [
        "total_time = 5\nnum_total_steps = 300\ncounter_step = 0\ndelta = 1.8\nnum_particles = 20\npath_thickness = 3\norigin = [0, 0, 0]"
      ]
    },
    {
      "cell_type": "markdown",
      "metadata": {},
      "source": [
        "We define a particle function that will return an actor, store and update\ncoordinates of the particles (the path of the particles).\n\n"
      ]
    },
    {
      "cell_type": "code",
      "execution_count": null,
      "metadata": {
        "collapsed": false
      },
      "outputs": [],
      "source": [
        "def particle(\n    colors,\n    _origin=origin,\n    _num_total_steps=num_total_steps,\n    _total_time=total_time,\n    _delta=delta,\n    _path_thickness=path_thickness,\n):\n    _origin = np.asarray(_origin, dtype=float)\n    position = np.tile(origin, (_num_total_steps, 1))\n    path_actor = fury.actor.line([position], colors=colors, linewidth=_path_thickness)\n    path_actor.position = position\n    path_actor.delta = _delta\n    path_actor.num_total_steps = _num_total_steps\n    path_actor.time_step = _total_time / _num_total_steps\n    path_actor.vertices = fury.utils.vertices_from_actor(path_actor)\n    path_actor.no_vertices_per_point = len(path_actor.vertices) / _num_total_steps\n    path_actor.initial_vertices = path_actor.vertices.copy() - np.repeat(\n        position, path_actor.no_vertices_per_point, axis=0\n    )\n    return path_actor"
      ]
    },
    {
      "cell_type": "markdown",
      "metadata": {},
      "source": [
        "The function `update_path` will simulate the the brownian motion.\n\n"
      ]
    },
    {
      "cell_type": "code",
      "execution_count": null,
      "metadata": {
        "collapsed": false
      },
      "outputs": [],
      "source": [
        "def update_path(act, counter_step):\n    if counter_step < act.num_total_steps:\n        x, y, z = act.position[counter_step - 1]\n        x += norm.rvs(scale=act.delta**2 * act.time_step)\n        y += norm.rvs(scale=act.delta**2 * act.time_step)\n        z += norm.rvs(scale=act.delta**2 * act.time_step)\n        act.position[counter_step:] = [x, y, z]\n        act.vertices[:] = act.initial_vertices + np.repeat(\n            act.position, act.no_vertices_per_point, axis=0\n        )\n        fury.utils.update_actor(act)"
      ]
    },
    {
      "cell_type": "markdown",
      "metadata": {},
      "source": [
        "Creating a scene object and configuring the camera's position\n\n"
      ]
    },
    {
      "cell_type": "code",
      "execution_count": null,
      "metadata": {
        "collapsed": false
      },
      "outputs": [],
      "source": [
        "scene = fury.window.Scene()\nscene.background((1.0, 1.0, 1.0))\nscene.zoom(1.7)\nscene.set_camera(\n    position=(0, 0, 40), focal_point=(0.0, 0.0, 0.0), view_up=(0.0, 0.0, 0.0)\n)\nshowm = fury.window.ShowManager(\n    scene=scene, size=(600, 600), reset_camera=True, order_transparent=True\n)"
      ]
    },
    {
      "cell_type": "markdown",
      "metadata": {},
      "source": [
        "Creating a list of particle objects\n\n"
      ]
    },
    {
      "cell_type": "code",
      "execution_count": null,
      "metadata": {
        "collapsed": false
      },
      "outputs": [],
      "source": [
        "l_particle = [\n    particle(\n        colors=np.random.rand(1, 3),\n        _origin=origin,\n        _num_total_steps=num_total_steps,\n        _total_time=total_time,\n        _path_thickness=path_thickness,\n    )\n    for _ in range(num_particles)\n]\n\nscene.add(*l_particle)"
      ]
    },
    {
      "cell_type": "markdown",
      "metadata": {},
      "source": [
        "Creating a container (cube actor) inside which the particle(s) move around\n\n"
      ]
    },
    {
      "cell_type": "code",
      "execution_count": null,
      "metadata": {
        "collapsed": false
      },
      "outputs": [],
      "source": [
        "container_actor = fury.actor.box(\n    centers=np.array([[0, 0, 0]]), colors=(0.5, 0.9, 0.7, 0.4), scales=6\n)\nscene.add(container_actor)"
      ]
    },
    {
      "cell_type": "markdown",
      "metadata": {},
      "source": [
        "Initializing text box to display the name of the animation\n\n"
      ]
    },
    {
      "cell_type": "code",
      "execution_count": null,
      "metadata": {
        "collapsed": false
      },
      "outputs": [],
      "source": [
        "tb = fury.ui.TextBlock2D(bold=True, position=(235, 40), color=(0, 0, 0))\ntb.message = \"Brownian Motion\"\nscene.add(tb)"
      ]
    },
    {
      "cell_type": "markdown",
      "metadata": {},
      "source": [
        "The path of the particles exhibiting Brownian motion is plotted here\n\n"
      ]
    },
    {
      "cell_type": "code",
      "execution_count": null,
      "metadata": {
        "collapsed": false
      },
      "outputs": [],
      "source": [
        "def timer_callback(_obj, _event):\n    global counter_step, list_particle\n    counter_step += 1\n    for p in l_particle:\n        update_path(p, counter_step=counter_step)\n    showm.render()\n    scene.azimuth(2)\n    if counter_step == num_total_steps:\n        showm.exit()"
      ]
    },
    {
      "cell_type": "markdown",
      "metadata": {},
      "source": [
        "Run every 30 milliseconds\n\n"
      ]
    },
    {
      "cell_type": "code",
      "execution_count": null,
      "metadata": {
        "collapsed": false
      },
      "outputs": [],
      "source": [
        "showm.add_timer_callback(True, 30, timer_callback)\nshowm.start()\nfury.window.record(\n    scene=showm.scene, size=(600, 600), out_path=\"viz_brownian_motion.png\"\n)"
      ]
    }
  ],
  "metadata": {
    "kernelspec": {
      "display_name": "Python 3",
      "language": "python",
      "name": "python3"
    },
    "language_info": {
      "codemirror_mode": {
        "name": "ipython",
        "version": 3
      },
      "file_extension": ".py",
      "mimetype": "text/x-python",
      "name": "python",
      "nbconvert_exporter": "python",
      "pygments_lexer": "ipython3",
      "version": "3.9.20"
    }
  },
  "nbformat": 4,
  "nbformat_minor": 0
}