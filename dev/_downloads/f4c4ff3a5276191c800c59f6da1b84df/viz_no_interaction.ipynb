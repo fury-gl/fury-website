{
  "cells": [
    {
      "cell_type": "markdown",
      "metadata": {},
      "source": [
        "\n# Streaming FURY with WebRTC/MJPEG\n"
      ]
    },
    {
      "cell_type": "code",
      "execution_count": null,
      "metadata": {
        "collapsed": false
      },
      "outputs": [],
      "source": [
        "import multiprocessing\nfrom os.path import join as pjoin\n\n# if this example it's not working for you and you're using MacOs\n# uncomment the following line\n# multiprocessing.set_start_method('spawn')\nimport numpy as np\n\nimport fury\n\nif __name__ == \"__main__\":\n    interactive = False\n    ###########################################################################\n    # First we will set the resolution which it'll be used by the streamer\n\n    window_size = (400, 400)\n\n    files, folder = fury.data.fetch_viz_wiki_nw()\n    categories_file, edges_file, positions_file = sorted(files.keys())\n    positions = np.loadtxt(pjoin(folder, positions_file))\n    categories = np.loadtxt(pjoin(folder, categories_file), dtype=str)\n    edges = np.loadtxt(pjoin(folder, edges_file), dtype=int)\n    category2index = {category: i for i, category in enumerate(np.unique(categories))}\n\n    index2category = np.unique(categories)\n\n    categoryColors = fury.colormap.distinguishable_colormap(\n        nb_colors=len(index2category)\n    )\n\n    colors = np.array(\n        [categoryColors[category2index[category]] for category in categories]\n    )\n    radii = 1 + np.random.rand(len(positions))\n\n    edgesPositions = []\n    edgesColors = []\n    for source, target in edges:\n        edgesPositions.append(np.array([positions[source], positions[target]]))\n        edgesColors.append(np.array([colors[source], colors[target]]))\n\n    edgesPositions = np.array(edgesPositions)\n    edgesColors = np.average(np.array(edgesColors), axis=1)\n\n    sphere_actor = fury.actor.sdf(\n        centers=positions,\n        colors=colors,\n        primitives=\"sphere\",\n        scales=radii * 0.5,\n    )\n\n    lines_actor = fury.actor.line(\n        edgesPositions,\n        colors=edgesColors,\n        opacity=0.1,\n    )\n    scene = fury.window.Scene()\n\n    scene.add(lines_actor)\n    scene.add(sphere_actor)\n\n    scene.set_camera(\n        position=(0, 0, 1000), focal_point=(0.0, 0.0, 0.0), view_up=(0.0, 0.0, 0.0)\n    )\n\n    showm = fury.window.ShowManager(\n        scene,\n        reset_camera=False,\n        size=(window_size[0], window_size[1]),\n        order_transparent=False,\n    )\n\n    ###########################################################################\n    # ms define the amount of mileseconds that will be used in the timer event.\n\n    ms = 0\n\n    stream = fury.stream.FuryStreamClient(showm, use_raw_array=True)\n    p = multiprocessing.Process(\n        target=fury.stream.server.web_server_raw_array,\n        args=(\n            stream.img_manager.image_buffers,\n            stream.img_manager.info_buffer,\n        ),\n    )\n    p.start()\n\n    stream.start(\n        ms,\n    )\n    if interactive:\n        showm.start()\n    stream.stop()\n    stream.cleanup()\n\n    fury.window.record(showm.scene, size=window_size, out_path=\"viz_no_interaction.png\")"
      ]
    }
  ],
  "metadata": {
    "kernelspec": {
      "display_name": "Python 3",
      "language": "python",
      "name": "python3"
    },
    "language_info": {
      "codemirror_mode": {
        "name": "ipython",
        "version": 3
      },
      "file_extension": ".py",
      "mimetype": "text/x-python",
      "name": "python",
      "nbconvert_exporter": "python",
      "pygments_lexer": "ipython3",
      "version": "3.9.20"
    }
  },
  "nbformat": 4,
  "nbformat_minor": 0
}