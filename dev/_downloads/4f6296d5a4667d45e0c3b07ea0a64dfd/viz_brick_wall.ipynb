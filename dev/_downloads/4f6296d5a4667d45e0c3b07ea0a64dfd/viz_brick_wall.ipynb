{
  "cells": [
    {
      "cell_type": "markdown",
      "metadata": {},
      "source": [
        "\n# Brick Wall Simulation\n\nThis example simulation shows how to use pybullet to render physics simulations\nin fury. In this example we specifically render a ball beign thrown at a brick\nwall.\n\nFirst some imports.\n"
      ]
    },
    {
      "cell_type": "code",
      "execution_count": null,
      "metadata": {
        "collapsed": false
      },
      "outputs": [],
      "source": [
        "import itertools\n\nimport numpy as np\nimport pybullet as p\nimport fury"
      ]
    },
    {
      "cell_type": "markdown",
      "metadata": {},
      "source": [
        "Next, we initialize a pybullet client to render the physics. We use `DIRECT`\nmode to initialize pybullet without a GUI.\n\n"
      ]
    },
    {
      "cell_type": "code",
      "execution_count": null,
      "metadata": {
        "collapsed": false
      },
      "outputs": [],
      "source": [
        "p.connect(p.DIRECT)"
      ]
    },
    {
      "cell_type": "markdown",
      "metadata": {},
      "source": [
        "Apply gravity to the scene. In pybullet all values are in SI units.\n\n"
      ]
    },
    {
      "cell_type": "code",
      "execution_count": null,
      "metadata": {
        "collapsed": false
      },
      "outputs": [],
      "source": [
        "p.setGravity(0, 0, -10)"
      ]
    },
    {
      "cell_type": "markdown",
      "metadata": {},
      "source": [
        "We define some global parameters so that its easier for us to tweak the\ntweak the simulation.\n\n"
      ]
    },
    {
      "cell_type": "code",
      "execution_count": null,
      "metadata": {
        "collapsed": false
      },
      "outputs": [],
      "source": [
        "# Ball Parameters\nball_radius = 0.3\nball_color = np.array([1, 0, 0])\nball_mass = 3\nball_position = np.array([2, 0, 1.5])\nball_orientation = np.array([0, 0, 0, 1])\n\n# Base Plane Parameters\nbase_size = np.array([5, 5, 0.2])\nbase_color = np.array([1, 1, 1])\nbase_position = np.array([0, 0, -0.1])\nbase_orientation = np.array([0, 0, 0, 1])\n\n# Wall Parameters\nwall_height = 10\nwall_width = 10\nbrick_mass = 0.5\nbrick_size = np.array([0.2, 0.4, 0.2])"
      ]
    },
    {
      "cell_type": "markdown",
      "metadata": {},
      "source": [
        "Now we define the required parameters to render the Ball.\n\n"
      ]
    },
    {
      "cell_type": "code",
      "execution_count": null,
      "metadata": {
        "collapsed": false
      },
      "outputs": [],
      "source": [
        "# Ball actor\nball_actor = fury.actor.sphere(\n    centers=np.array([[0, 0, 0]]), colors=ball_color, radii=ball_radius\n)\n\n# Collision shape for the ball.\nball_coll = p.createCollisionShape(p.GEOM_SPHERE, radius=ball_radius)\n\n# Creating a multi-body which will be tracked by pybullet.\nball = p.createMultiBody(\n    baseMass=3,\n    baseCollisionShapeIndex=ball_coll,\n    basePosition=ball_position,\n    baseOrientation=ball_orientation,\n)\n\n# Change the dynamics of the ball by adding friction and restitution.\np.changeDynamics(ball, -1, lateralFriction=0.3, restitution=0.5)"
      ]
    },
    {
      "cell_type": "markdown",
      "metadata": {},
      "source": [
        "Render a base plane to support the bricks.\n\n"
      ]
    },
    {
      "cell_type": "code",
      "execution_count": null,
      "metadata": {
        "collapsed": false
      },
      "outputs": [],
      "source": [
        "base_actor = fury.actor.box(\n    centers=np.array([[0, 0, 0]]),\n    directions=[0, 0, 0],\n    scales=base_size,\n    colors=base_color,\n)\n\nbase_coll = p.createCollisionShape(p.GEOM_BOX, halfExtents=base_size / 2)\n# half of the actual size.\n\nbase = p.createMultiBody(\n    baseCollisionShapeIndex=base_coll,\n    basePosition=base_position,\n    baseOrientation=base_orientation,\n)\n\np.changeDynamics(base, -1, lateralFriction=0.3, restitution=0.5)"
      ]
    },
    {
      "cell_type": "markdown",
      "metadata": {},
      "source": [
        "Now we render the bricks. All the bricks are rendered by a single actor for\nbetter performance.\n\n"
      ]
    },
    {
      "cell_type": "code",
      "execution_count": null,
      "metadata": {
        "collapsed": false
      },
      "outputs": [],
      "source": [
        "nb_bricks = wall_height * wall_width\n\nbrick_centers = np.zeros((nb_bricks, 3))\n\nbrick_directions = np.zeros((nb_bricks, 3))\nbrick_directions[:] = np.array([1.57, 0, 0])\n\nbrick_orns = np.zeros((nb_bricks, 4))\n\nbrick_sizes = np.zeros((nb_bricks, 3))\nbrick_sizes[:] = brick_size\n\nbrick_colors = np.random.rand(nb_bricks, 3)\n\nbrick_coll = p.createCollisionShape(p.GEOM_BOX, halfExtents=brick_size / 2)\n\n# We use this array to store the reference of brick objects in pybullet world.\nbricks = np.zeros(nb_bricks, dtype=np.int8)\n\n# Logic to position the bricks appropriately to form a wall.\ni = 0\nfor k in range(wall_height):\n    for j in range(wall_width):\n        center_pos = np.array([-1, (j * 0.4) - 1.8, (0.2 * k) + 0.1])\n        brick_centers[i] = center_pos\n        brick_orns[i] = np.array([0, 0, 0, 1])\n        bricks[i] = p.createMultiBody(\n            baseMass=brick_mass,\n            baseCollisionShapeIndex=brick_coll,\n            basePosition=center_pos,\n            baseOrientation=brick_orns[i],\n        )\n        p.changeDynamics(bricks[i], -1, lateralFriction=0.1, restitution=0.1)\n        i += 1\n\nbrick_actor = fury.actor.box(\n    centers=brick_centers,\n    directions=brick_directions,\n    scales=brick_sizes,\n    colors=brick_colors,\n)"
      ]
    },
    {
      "cell_type": "markdown",
      "metadata": {},
      "source": [
        "Now, we define a scene and add actors to it.\n\n"
      ]
    },
    {
      "cell_type": "code",
      "execution_count": null,
      "metadata": {
        "collapsed": false
      },
      "outputs": [],
      "source": [
        "scene = fury.window.Scene()\nscene.add(fury.actor.axes())\nscene.add(ball_actor)\nscene.add(base_actor)\nscene.add(brick_actor)\n\n# Create show manager.\nshowm = fury.window.ShowManager(\n    scene, size=(900, 768), reset_camera=False, order_transparent=True\n)\n\n\n# Counter iterator for tracking simulation steps.\ncounter = itertools.count()\n\n# Variable for tracking applied force.\napply_force = True"
      ]
    },
    {
      "cell_type": "markdown",
      "metadata": {},
      "source": [
        "Now, we define methods to sync objects between fury and Pybullet.\n\n"
      ]
    },
    {
      "cell_type": "code",
      "execution_count": null,
      "metadata": {
        "collapsed": false
      },
      "outputs": [],
      "source": [
        "# Get the position of base and set it.\nbase_pos, _ = p.getBasePositionAndOrientation(base)\nbase_actor.SetPosition(*base_pos)\n\n# Do the same for ball.\nball_pos, _ = p.getBasePositionAndOrientation(ball)\nball_actor.SetPosition(*ball_pos)\n\n# Calculate the vertices of the bricks.\nvertices = fury.utils.vertices_from_actor(brick_actor)\nnum_vertices = vertices.shape[0]\nnum_objects = brick_centers.shape[0]\nsec = int(num_vertices / num_objects)"
      ]
    },
    {
      "cell_type": "markdown",
      "metadata": {},
      "source": [
        "# Syncing Bricks\n\nHere, we perform three major steps to sync bricks accurately.\n* Get the position and orientation of the bricks from pybullet.\n* Calculate the Rotation Matrix.\n\n  - Get the difference in orientations (Quaternion).\n  - Generate the corresponding rotation matrix according to that difference.\n  - Reshape it in a 3x3 matrix.\n\n* Perform calculations to get the required position and orientation.\n* Update the position and orientation.\n\n"
      ]
    },
    {
      "cell_type": "code",
      "execution_count": null,
      "metadata": {
        "collapsed": false
      },
      "outputs": [],
      "source": [
        "def sync_brick(object_index, multibody):\n    pos, orn = p.getBasePositionAndOrientation(multibody)\n\n    rot_mat = np.reshape(\n        p.getMatrixFromQuaternion(\n            p.getDifferenceQuaternion(orn, brick_orns[object_index])\n        ),\n        (3, 3),\n    )\n\n    vertices[object_index * sec : object_index * sec + sec] = (\n        vertices[object_index * sec : object_index * sec + sec]\n        - brick_centers[object_index]\n    ) @ rot_mat + pos\n\n    brick_centers[object_index] = pos\n    brick_orns[object_index] = orn"
      ]
    },
    {
      "cell_type": "markdown",
      "metadata": {},
      "source": [
        "A simpler but inaccurate approach is used here to update the position and\norientation.\n\n"
      ]
    },
    {
      "cell_type": "code",
      "execution_count": null,
      "metadata": {
        "collapsed": false
      },
      "outputs": [],
      "source": [
        "def sync_actor(actor, multibody):\n    pos, orn = p.getBasePositionAndOrientation(multibody)\n    actor.SetPosition(*pos)\n    orn_deg = np.degrees(p.getEulerFromQuaternion(orn))\n    actor.SetOrientation(*orn_deg)"
      ]
    },
    {
      "cell_type": "markdown",
      "metadata": {},
      "source": [
        "Here, we define a textblock to display the Avg. FPS and simulation steps.\n\n"
      ]
    },
    {
      "cell_type": "code",
      "execution_count": null,
      "metadata": {
        "collapsed": false
      },
      "outputs": [],
      "source": [
        "fpss = np.array([])\ntb = fury.ui.TextBlock2D(\n    text=\"Avg. FPS: \\nSim Steps: \", position=(0, 680), font_size=30, color=(1, 0.5, 0)\n)\nscene.add(tb)"
      ]
    },
    {
      "cell_type": "markdown",
      "metadata": {},
      "source": [
        "Set the camera for better visualization.\n\n"
      ]
    },
    {
      "cell_type": "code",
      "execution_count": null,
      "metadata": {
        "collapsed": false
      },
      "outputs": [],
      "source": [
        "scene.set_camera(\n    position=(10.46, -8.13, 6.18),\n    focal_point=(0.0, 0.0, 0.79),\n    view_up=(-0.27, 0.26, 0.90),\n)"
      ]
    },
    {
      "cell_type": "markdown",
      "metadata": {},
      "source": [
        "Timer callback is created which is responsible for calling the sync and\nsimulation methods.\n\n"
      ]
    },
    {
      "cell_type": "code",
      "execution_count": null,
      "metadata": {
        "collapsed": false
      },
      "outputs": [],
      "source": [
        "# Create timer callback which will execute at each step of simulation.\ndef timer_callback(_obj, _event):\n    global apply_force, fpss\n    cnt = next(counter)\n    showm.render()\n\n    if cnt % 1 == 0:\n        fps = showm.frame_rate\n        fpss = np.append(fpss, fps)\n        tb.message = (\n            \"Avg. FPS: \" + str(np.round(np.mean(fpss), 0)) + \"\\nSim Steps: \" + str(cnt)\n        )\n\n    # Get the position and orientation of the ball.\n    ball_pos, ball_orn = p.getBasePositionAndOrientation(ball)\n\n    # Apply force for 5 times for the first step of simulation.\n    if apply_force:\n        # Apply the force.\n        p.applyExternalForce(\n            ball, -1, forceObj=[-10000, 0, 0], posObj=ball_pos, flags=p.WORLD_FRAME\n        )\n        apply_force = False\n\n    # Set position and orientation of the ball.\n    sync_actor(ball_actor, ball)\n\n    # Updating the position and orientation of each individual brick.\n    for idx, brick in enumerate(bricks):\n        sync_brick(idx, brick)\n    fury.utils.update_actor(brick_actor)\n\n    # Simulate a step.\n    p.stepSimulation()\n\n    # Exit after 2000 steps of simulation.\n    if cnt == 130:\n        showm.exit()\n\n\n# Add the timer callback to showmanager.\n# Increasing the duration value will slow down the simulation.\nshowm.add_timer_callback(True, 1, timer_callback)\n\ninteractive = False\n\n# start simulation\nif interactive:\n    showm.start()\n\nfury.window.record(scene, out_path=\"viz_brick_wall.png\", size=(900, 768))"
      ]
    }
  ],
  "metadata": {
    "kernelspec": {
      "display_name": "Python 3",
      "language": "python",
      "name": "python3"
    },
    "language_info": {
      "codemirror_mode": {
        "name": "ipython",
        "version": 3
      },
      "file_extension": ".py",
      "mimetype": "text/x-python",
      "name": "python",
      "nbconvert_exporter": "python",
      "pygments_lexer": "ipython3",
      "version": "3.9.19"
    }
  },
  "nbformat": 4,
  "nbformat_minor": 0
}