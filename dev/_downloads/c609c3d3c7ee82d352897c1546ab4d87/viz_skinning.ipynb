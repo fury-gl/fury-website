{
  "cells": [
    {
      "cell_type": "code",
      "execution_count": null,
      "metadata": {
        "collapsed": false
      },
      "outputs": [],
      "source": [
        "%matplotlib inline"
      ]
    },
    {
      "cell_type": "markdown",
      "metadata": {},
      "source": [
        "\n# Skeletal Animation in a glTF file\nIn this tutorial, we will show how to use skeletal animations (skinning) in a\nglTF model in FURY.\n"
      ]
    },
    {
      "cell_type": "code",
      "execution_count": null,
      "metadata": {
        "collapsed": false
      },
      "outputs": [],
      "source": [
        "from fury import window\nfrom fury.gltf import glTF\nfrom fury.data import fetch_gltf, read_viz_gltf"
      ]
    },
    {
      "cell_type": "markdown",
      "metadata": {},
      "source": [
        "Retrieving the model with skeletal animations.\nWe're choosing the `RiggedFigure` model here.\n\n"
      ]
    },
    {
      "cell_type": "code",
      "execution_count": null,
      "metadata": {
        "collapsed": false
      },
      "outputs": [],
      "source": [
        "fetch_gltf('RiggedFigure', 'glTF')\nfilename = read_viz_gltf('RiggedFigure')"
      ]
    },
    {
      "cell_type": "markdown",
      "metadata": {},
      "source": [
        "Initializing the glTF object, You can additionaly set `apply_normals=True`.\nNote: Normals might not work well as intended with skinning animations.\n\n"
      ]
    },
    {
      "cell_type": "code",
      "execution_count": null,
      "metadata": {
        "collapsed": false
      },
      "outputs": [],
      "source": [
        "gltf_obj = glTF(filename, apply_normals=False)"
      ]
    },
    {
      "cell_type": "markdown",
      "metadata": {},
      "source": [
        "Get the skinning timeline using `skin_timeline` method, Choose the animation\nname you want to visualize.\nNote: If there's no name for animation, It's stored as `anim_0`, `anim_1` etc\n\n"
      ]
    },
    {
      "cell_type": "code",
      "execution_count": null,
      "metadata": {
        "collapsed": false
      },
      "outputs": [],
      "source": [
        "animation = gltf_obj.skin_animation()['anim_0']\n\n# After we get the timeline object, We want to initialise the skinning process.\n# You can set `bones=true` to visualize each bone transformation. Additionaly,\n# you can set `lenght` of bones in the `initialise_skin` method.\n# Note: Make sure to call this method before you initialize ShowManager, else\n# bones won't be added to the scene.\n\ngltf_obj.initialize_skin(animation, bones=False)"
      ]
    },
    {
      "cell_type": "markdown",
      "metadata": {},
      "source": [
        "Create a scene, and show manager.\nInitialize the show manager and add timeline to the scene (No need to add\nactors to the scene seperately).\n\n"
      ]
    },
    {
      "cell_type": "code",
      "execution_count": null,
      "metadata": {
        "collapsed": false
      },
      "outputs": [],
      "source": [
        "scene = window.Scene()\nshowm = window.ShowManager(scene, size=(900, 768), reset_camera=True,\n                           order_transparent=True)\nshowm.initialize()\nscene.add(animation)"
      ]
    },
    {
      "cell_type": "markdown",
      "metadata": {},
      "source": [
        "define a timer_callback.\nUse the `update_skin` method, It updates the timeline and applies skinning to\nactors (and bones).\n\n"
      ]
    },
    {
      "cell_type": "code",
      "execution_count": null,
      "metadata": {
        "collapsed": false
      },
      "outputs": [],
      "source": [
        "def timer_callback(_obj, _event):\n    gltf_obj.update_skin(animation)\n    showm.render()"
      ]
    },
    {
      "cell_type": "markdown",
      "metadata": {},
      "source": [
        "Optional: `timeline.play()` auto plays the animations.\n\n"
      ]
    },
    {
      "cell_type": "code",
      "execution_count": null,
      "metadata": {
        "collapsed": false
      },
      "outputs": [],
      "source": [
        "showm.add_timer_callback(True, 20, timer_callback)\nscene.reset_camera()\n\ninteractive = False\n\nif interactive:\n    showm.start()\n\nwindow.record(scene, out_path='viz_skinning.png',\n              size=(900, 768))"
      ]
    }
  ],
  "metadata": {
    "kernelspec": {
      "display_name": "Python 3",
      "language": "python",
      "name": "python3"
    },
    "language_info": {
      "codemirror_mode": {
        "name": "ipython",
        "version": 3
      },
      "file_extension": ".py",
      "mimetype": "text/x-python",
      "name": "python",
      "nbconvert_exporter": "python",
      "pygments_lexer": "ipython3",
      "version": "3.9.16"
    }
  },
  "nbformat": 4,
  "nbformat_minor": 0
}