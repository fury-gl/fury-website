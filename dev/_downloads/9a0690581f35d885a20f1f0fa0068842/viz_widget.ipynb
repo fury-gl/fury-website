{
  "cells": [
    {
      "cell_type": "markdown",
      "metadata": {},
      "source": [
        "\n# Streaming FURY with WebRTC/MJPEG using the Widget Object\n\nThe Widget Object simplifies the process of streaming\nyour data visualization with WebRTC or MJPEG. Encoding.\nOther users can view and interact with your data visualization\nin real-time using a web-browser.\n\nBy default, the widget will open a local server on port 8000.\nWith the encoding parameter you can choose between mjpeg or\nwebrtc. WebRTC is a more robust option and can be used to perform\na live streaming with a low-latency connection. However, to use\nwebRTC you need to install the aiortc library.\n\n```bash\npip install aiortc\n```\nIn addition, if you don't have ffmpeg installed, you  need\nto install it.\n\nLinux\n\n\n`apt install libavdevice-dev libavfilter-dev libopus-dev libvpx-dev pkg-config`\n\nOS X\n\n`brew install ffmpeg opus libvpx pkg-config`\n\n## Notes\nFor this example your python version should be 3.8 or greater\n"
      ]
    },
    {
      "cell_type": "code",
      "execution_count": null,
      "metadata": {
        "collapsed": false
      },
      "outputs": [],
      "source": [
        "import asyncio\nimport platform\nimport time\n\nimport numpy as np\n\nimport fury\n\ninteractive = False\nwindow_size = (720, 500)\nN = 4\ncenters = np.random.normal(size=(N, 3))\ncolors = np.random.uniform(0.1, 1.0, size=(N, 3))\nactors = fury.actor.sphere(centers, opacity=0.5, radii=0.4, colors=colors)\nscene = fury.window.Scene()\nscene.add(actors)\nshowm = fury.window.ShowManager(scene, size=(window_size[0], window_size[1]))"
      ]
    },
    {
      "cell_type": "markdown",
      "metadata": {},
      "source": [
        "Create a stream widget\n\n"
      ]
    },
    {
      "cell_type": "code",
      "execution_count": null,
      "metadata": {
        "collapsed": false
      },
      "outputs": [],
      "source": [
        "widget = fury.stream.Widget(showm, port=8000)\n\n# if you want to use webRTC, you can pass the argument to choose this encoding\n# which is a more robust option.\n# `widget = Widget(showm, port=8000, encoding='webrtc')`\n\ntime_sleep = 1000 if interactive else 1"
      ]
    },
    {
      "cell_type": "markdown",
      "metadata": {},
      "source": [
        "If you want to use the widget in a Windows environment without the WSL\nyou need to use the asyncio version of the widget.\n\n\n"
      ]
    },
    {
      "cell_type": "code",
      "execution_count": null,
      "metadata": {
        "collapsed": false
      },
      "outputs": [],
      "source": [
        "if platform.system() == \"Windows\":\n\n    async def main():\n        widget.start()\n        await asyncio.sleep(time_sleep)\n        widget.stop()\n\n    loop = asyncio.get_event_loop()\n    loop.run_until_complete(main())\nelse:\n    # Running the widget in a normal Python environment in Linux or MacOS\n    # we can use the normal version of the widget.\n    widget.start()\n    time.sleep(time_sleep)\n    widget.stop()\n\nfury.window.record(showm.scene, size=window_size, out_path=\"viz_widget.png\")"
      ]
    }
  ],
  "metadata": {
    "kernelspec": {
      "display_name": "Python 3",
      "language": "python",
      "name": "python3"
    },
    "language_info": {
      "codemirror_mode": {
        "name": "ipython",
        "version": 3
      },
      "file_extension": ".py",
      "mimetype": "text/x-python",
      "name": "python",
      "nbconvert_exporter": "python",
      "pygments_lexer": "ipython3",
      "version": "3.9.19"
    }
  },
  "nbformat": 4,
  "nbformat_minor": 0
}