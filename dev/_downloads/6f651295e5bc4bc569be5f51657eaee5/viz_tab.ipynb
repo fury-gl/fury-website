{
  "cells": [
    {
      "cell_type": "code",
      "execution_count": null,
      "metadata": {
        "collapsed": false
      },
      "outputs": [],
      "source": [
        "%matplotlib inline"
      ]
    },
    {
      "cell_type": "markdown",
      "metadata": {},
      "source": [
        "\n# Tab UI\n\nThis example shows how to use the Tab UI. We will demonstrate how to\ncreate Tabs for:\n\n1. Slider controls for a Cube\n2. Checkboxes for Cylinder and Sphere\n3. Color combobox for Fury.\n\nFirst, some imports.\n"
      ]
    },
    {
      "cell_type": "code",
      "execution_count": null,
      "metadata": {
        "collapsed": false
      },
      "outputs": [],
      "source": [
        "import numpy as np\n\nfrom fury import actor, ui, window\nfrom fury.data import fetch_viz_icons"
      ]
    },
    {
      "cell_type": "markdown",
      "metadata": {},
      "source": [
        "First we need to fetch some icons that are included in FURY.\n\n"
      ]
    },
    {
      "cell_type": "code",
      "execution_count": null,
      "metadata": {
        "collapsed": false
      },
      "outputs": [],
      "source": [
        "fetch_viz_icons()"
      ]
    },
    {
      "cell_type": "markdown",
      "metadata": {},
      "source": [
        "First, we create the Tab UI.\n\n"
      ]
    },
    {
      "cell_type": "code",
      "execution_count": null,
      "metadata": {
        "collapsed": false
      },
      "outputs": [],
      "source": [
        "tab_ui = ui.TabUI(position=(49, 94), size=(300, 300), nb_tabs=3, draggable=True)"
      ]
    },
    {
      "cell_type": "markdown",
      "metadata": {},
      "source": [
        "## Slider Controls for a Cube for Tab Index 0\n\nNow we prepare content for the first tab.\n\n"
      ]
    },
    {
      "cell_type": "code",
      "execution_count": null,
      "metadata": {
        "collapsed": false
      },
      "outputs": [],
      "source": [
        "ring_slider = ui.RingSlider2D(initial_value=0, text_template='{angle:5.1f}\u00b0')\n\nline_slider_x = ui.LineSlider2D(\n    initial_value=0,\n    min_value=-10,\n    max_value=10,\n    orientation='horizontal',\n    text_alignment='Top',\n)\n\nline_slider_y = ui.LineSlider2D(\n    initial_value=0,\n    min_value=-10,\n    max_value=10,\n    orientation='vertical',\n    text_alignment='Right',\n)\n\ncube = actor.box(\n    centers=np.array([[10, 0, 0]]),\n    directions=np.array([[0, 1, 0]]),\n    colors=np.array([[0, 0, 1]]),\n    scales=np.array([[1, 1, 1]]),\n)\ncube_x = 0\ncube_y = 0\n\n\ndef rotate_cube(slider):\n    angle = slider.value\n    previous_angle = slider.previous_value\n    rotation_angle = angle - previous_angle\n    cube.RotateX(rotation_angle)\n\n\ndef translate_cube_x(slider):\n    global cube_x, cube_y\n    cube_x = slider.value\n    cube.SetPosition(cube_x, cube_y, 0)\n\n\ndef translate_cube_y(slider):\n    global cube_x, cube_y\n    cube_y = slider.value\n    cube.SetPosition(cube_x, cube_y, 0)\n\n\nring_slider.on_change = rotate_cube\nline_slider_x.on_change = translate_cube_x\nline_slider_y.on_change = translate_cube_y"
      ]
    },
    {
      "cell_type": "markdown",
      "metadata": {},
      "source": [
        "After defining content, we define properties for the tab.\n\n"
      ]
    },
    {
      "cell_type": "code",
      "execution_count": null,
      "metadata": {
        "collapsed": false
      },
      "outputs": [],
      "source": [
        "tab_ui.tabs[0].title = 'Sliders'\ntab_ui.add_element(0, ring_slider, (0.3, 0.3))\ntab_ui.add_element(0, line_slider_x, (0.0, 0.0))\ntab_ui.add_element(0, line_slider_y, (0.0, 0.1))"
      ]
    },
    {
      "cell_type": "markdown",
      "metadata": {},
      "source": [
        "## CheckBoxes For Cylinder and Sphere for Tab Index 1\n\nNow we prepare content for second tab.\n\n"
      ]
    },
    {
      "cell_type": "code",
      "execution_count": null,
      "metadata": {
        "collapsed": false
      },
      "outputs": [],
      "source": [
        "cylinder = actor.cylinder(\n    centers=np.array([[0, 0, 0]]),\n    directions=np.array([[1, 1, 0]]),\n    colors=np.array([[0, 1, 1]]),\n    radius=1.0,\n)\n\nsphere = actor.sphere(centers=np.array([[5, 0, 0]]), colors=(1, 1, 0))\n\nfigure_dict = {'cylinder': cylinder, 'sphere': sphere}\ncheckbox = ui.Checkbox(labels=['cylinder', 'sphere'])\n\n\n# Get difference between two lists.\ndef sym_diff(l1, l2):\n    return list(set(l1).symmetric_difference(set(l2)))\n\n\n# Set Visibility of the figures\ndef set_figure_visiblity(checkboxes):\n    checked = checkboxes.checked_labels\n    unchecked = sym_diff(list(figure_dict), checked)\n\n    for visible in checked:\n        figure_dict[visible].SetVisibility(True)\n\n    for invisible in unchecked:\n        figure_dict[invisible].SetVisibility(False)\n\n\ncheckbox.on_change = set_figure_visiblity"
      ]
    },
    {
      "cell_type": "markdown",
      "metadata": {},
      "source": [
        "After defining content, we define properties for the tab.\n\n"
      ]
    },
    {
      "cell_type": "code",
      "execution_count": null,
      "metadata": {
        "collapsed": false
      },
      "outputs": [],
      "source": [
        "tab_ui.tabs[1].title = 'Checkbox'\ntab_ui.add_element(1, checkbox, (0.2, 0.2))"
      ]
    },
    {
      "cell_type": "markdown",
      "metadata": {},
      "source": [
        "## Color Combobox for Fury for Tab Index 2\n\nNow we prepare content for third tab.\n\n"
      ]
    },
    {
      "cell_type": "code",
      "execution_count": null,
      "metadata": {
        "collapsed": false
      },
      "outputs": [],
      "source": [
        "label = ui.TextBlock2D(\n    position=(600, 300),\n    font_size=40,\n    color=(1, 0.5, 0),\n    justification='center',\n    vertical_justification='top',\n    text='FURY rocks!!!',\n)\n\ncolors = {\n    'Violet': (0.6, 0, 0.8),\n    'Indigo': (0.3, 0, 0.5),\n    'Blue': (0, 0, 1),\n    'Green': (0, 1, 0),\n    'Yellow': (1, 1, 0),\n    'Orange': (1, 0.5, 0),\n    'Red': (1, 0, 0),\n}\n\ncolor_combobox = ui.ComboBox2D(\n    items=list(colors.keys()),\n    placeholder='Choose Text Color',\n    size=(250, 150),\n    draggable=True,\n)\n\n\ndef change_color(combobox):\n    label.color = colors[combobox.selected_text]\n\n\ncolor_combobox.on_change = change_color"
      ]
    },
    {
      "cell_type": "markdown",
      "metadata": {},
      "source": [
        "After defining content, we define properties for the tab.\n\n"
      ]
    },
    {
      "cell_type": "code",
      "execution_count": null,
      "metadata": {
        "collapsed": false
      },
      "outputs": [],
      "source": [
        "tab_ui.tabs[2].title = 'Colors'\ntab_ui.add_element(2, color_combobox, (0.1, 0.3))"
      ]
    },
    {
      "cell_type": "markdown",
      "metadata": {},
      "source": [
        "Define on_change & on_collapsed methods for tab ui to perform certain tasks\nwhile active tab is changed or when the tab is collapsed.\nNote: Tab UI can be collapsed by right clicking on it.\n\n"
      ]
    },
    {
      "cell_type": "code",
      "execution_count": null,
      "metadata": {
        "collapsed": false
      },
      "outputs": [],
      "source": [
        "def hide_actors(tab_ui):\n    if tab_ui.tabs[tab_ui.active_tab_idx].title == 'Sliders':\n        cube.SetVisibility(True)\n        cylinder.SetVisibility(False)\n        sphere.SetVisibility(False)\n        label.set_visibility(False)\n\n    elif tab_ui.tabs[tab_ui.active_tab_idx].title == 'Checkbox':\n        cube.SetVisibility(False)\n        set_figure_visiblity(checkbox)\n        label.set_visibility(False)\n\n    else:\n        cube.SetVisibility(False)\n        cylinder.SetVisibility(False)\n        sphere.SetVisibility(False)\n        label.set_visibility(True)\n\n\ndef collapse(tab_ui):\n    if tab_ui.collapsed:\n        cube.SetVisibility(False)\n        cylinder.SetVisibility(False)\n        sphere.SetVisibility(False)\n        label.set_visibility(False)\n\n\ntab_ui.on_change = hide_actors\ntab_ui.on_collapse = collapse"
      ]
    },
    {
      "cell_type": "markdown",
      "metadata": {},
      "source": [
        "Next we prepare the scene and render it with the help of show manager.\n\n"
      ]
    },
    {
      "cell_type": "code",
      "execution_count": null,
      "metadata": {
        "collapsed": false
      },
      "outputs": [],
      "source": [
        "sm = window.ShowManager(size=(800, 500), title='Viz Tab')\nsm.scene.add(tab_ui, cube, cylinder, sphere, label)\n\n# To interact with the ui set interactive = True\ninteractive = False\n\nif interactive:\n    sm.start()\n\nwindow.record(sm.scene, size=(500, 500), out_path='viz_tab.png')"
      ]
    }
  ],
  "metadata": {
    "kernelspec": {
      "display_name": "Python 3",
      "language": "python",
      "name": "python3"
    },
    "language_info": {
      "codemirror_mode": {
        "name": "ipython",
        "version": 3
      },
      "file_extension": ".py",
      "mimetype": "text/x-python",
      "name": "python",
      "nbconvert_exporter": "python",
      "pygments_lexer": "ipython3",
      "version": "3.9.16"
    }
  },
  "nbformat": 4,
  "nbformat_minor": 0
}