{
  "cells": [
    {
      "cell_type": "code",
      "execution_count": null,
      "metadata": {
        "collapsed": false
      },
      "outputs": [],
      "source": [
        "%matplotlib inline"
      ]
    },
    {
      "cell_type": "markdown",
      "metadata": {},
      "source": [
        "\n# Cube & Slider Control\n\nThis example shows how to use the UI API. We will demonstrate how to\ncreate a cube and control with sliders.\n\nFirst, some imports.\n"
      ]
    },
    {
      "cell_type": "code",
      "execution_count": null,
      "metadata": {
        "collapsed": false
      },
      "outputs": [],
      "source": [
        "import numpy as np\n\nfrom fury import actor, ui, window\nfrom fury.data import fetch_viz_icons"
      ]
    },
    {
      "cell_type": "markdown",
      "metadata": {},
      "source": [
        "First we need to fetch some icons that are included in FURY.\n\n"
      ]
    },
    {
      "cell_type": "code",
      "execution_count": null,
      "metadata": {
        "collapsed": false
      },
      "outputs": [],
      "source": [
        "fetch_viz_icons()"
      ]
    },
    {
      "cell_type": "markdown",
      "metadata": {},
      "source": [
        "## Cube and sliders\n\nAdd a cube to the scene .\n\n"
      ]
    },
    {
      "cell_type": "code",
      "execution_count": null,
      "metadata": {
        "collapsed": false
      },
      "outputs": [],
      "source": [
        "cube = actor.cube(\n    centers=np.array([[15, 0, 0]]),\n    colors=np.array([[0, 0, 1]]),\n    scales=np.array([[20, 20, 20]]),\n    directions=np.array([[0, 0, 1]]),\n)"
      ]
    },
    {
      "cell_type": "markdown",
      "metadata": {},
      "source": [
        "Now we'll add five sliders: 1 circular and 4 linear sliders.\nBy default the alignments are 'bottom' for horizontal and 'top' for vertical.\n\n"
      ]
    },
    {
      "cell_type": "code",
      "execution_count": null,
      "metadata": {
        "collapsed": false
      },
      "outputs": [],
      "source": [
        "ring_slider = ui.RingSlider2D(\n    center=(630, 400), initial_value=0, text_template='{angle:5.1f}\u00b0'\n)\n\nhor_line_slider_text_top = ui.LineSlider2D(\n    center=(400, 230),\n    initial_value=0,\n    orientation='horizontal',\n    min_value=-10,\n    max_value=10,\n    text_alignment='top',\n)\n\nhor_line_slider_text_bottom = ui.LineSlider2D(\n    center=(400, 200),\n    initial_value=0,\n    orientation='horizontal',\n    min_value=-10,\n    max_value=10,\n    text_alignment='bottom',\n)\n\nver_line_slider_text_left = ui.LineSlider2D(\n    center=(100, 400),\n    initial_value=0,\n    orientation='vertical',\n    min_value=-10,\n    max_value=10,\n    text_alignment='left',\n)\n\nver_line_slider_text_right = ui.LineSlider2D(\n    center=(150, 400),\n    initial_value=0,\n    orientation='vertical',\n    min_value=-10,\n    max_value=10,\n    text_alignment='right',\n)"
      ]
    },
    {
      "cell_type": "markdown",
      "metadata": {},
      "source": [
        "We can use a callback to rotate the cube with the ring slider.\n\n"
      ]
    },
    {
      "cell_type": "code",
      "execution_count": null,
      "metadata": {
        "collapsed": false
      },
      "outputs": [],
      "source": [
        "def rotate_cube(slider):\n    angle = slider.value\n    previous_angle = slider.previous_value\n    rotation_angle = angle - previous_angle\n    cube.RotateX(rotation_angle)\n\n\nring_slider.on_change = rotate_cube"
      ]
    },
    {
      "cell_type": "markdown",
      "metadata": {},
      "source": [
        "Similarly, we can translate the cube with the line slider.\n\n"
      ]
    },
    {
      "cell_type": "code",
      "execution_count": null,
      "metadata": {
        "collapsed": false
      },
      "outputs": [],
      "source": [
        "def translate_cube_ver(slider):\n    value = slider.value\n    cube.SetPosition(0, value, 0)\n\ndef translate_cube_hor(slider):\n    value = slider.value\n    cube.SetPosition(value, 0, 0)\n\n\nhor_line_slider_text_top.on_change = translate_cube_hor\nhor_line_slider_text_bottom.on_change = translate_cube_hor\nver_line_slider_text_left.on_change = translate_cube_ver\nver_line_slider_text_right.on_change = translate_cube_ver"
      ]
    },
    {
      "cell_type": "markdown",
      "metadata": {},
      "source": [
        "## Show Manager\n\nNow that all the elements have been initialised, we add them to the show\nmanager.\n\n"
      ]
    },
    {
      "cell_type": "code",
      "execution_count": null,
      "metadata": {
        "collapsed": false
      },
      "outputs": [],
      "source": [
        "current_size = (800, 800)\nshow_manager = window.ShowManager(size=current_size, title='FURY Cube Example')\n\nshow_manager.scene.add(cube)\nshow_manager.scene.add(ring_slider)\nshow_manager.scene.add(hor_line_slider_text_top)\nshow_manager.scene.add(hor_line_slider_text_bottom)\nshow_manager.scene.add(ver_line_slider_text_left)\nshow_manager.scene.add(ver_line_slider_text_right)"
      ]
    },
    {
      "cell_type": "markdown",
      "metadata": {},
      "source": [
        "Visibility by default is True\n\n"
      ]
    },
    {
      "cell_type": "code",
      "execution_count": null,
      "metadata": {
        "collapsed": false
      },
      "outputs": [],
      "source": [
        "cube.SetVisibility(True)\nring_slider.set_visibility(True)\nhor_line_slider_text_top.set_visibility(True)\nhor_line_slider_text_bottom.set_visibility(True)\nver_line_slider_text_left.set_visibility(True)\nver_line_slider_text_right.set_visibility(True)"
      ]
    },
    {
      "cell_type": "markdown",
      "metadata": {},
      "source": [
        "Set camera for better visualization\n\n"
      ]
    },
    {
      "cell_type": "code",
      "execution_count": null,
      "metadata": {
        "collapsed": false
      },
      "outputs": [],
      "source": [
        "show_manager.scene.reset_camera()\nshow_manager.scene.set_camera(position=(0, 0, 150))\nshow_manager.scene.reset_clipping_range()\nshow_manager.scene.azimuth(30)\ninteractive = False\n\nif interactive:\n    show_manager.start()\n\nwindow.record(show_manager.scene, size=current_size, out_path='viz_slider.png')"
      ]
    }
  ],
  "metadata": {
    "kernelspec": {
      "display_name": "Python 3",
      "language": "python",
      "name": "python3"
    },
    "language_info": {
      "codemirror_mode": {
        "name": "ipython",
        "version": 3
      },
      "file_extension": ".py",
      "mimetype": "text/x-python",
      "name": "python",
      "nbconvert_exporter": "python",
      "pygments_lexer": "ipython3",
      "version": "3.9.16"
    }
  },
  "nbformat": 4,
  "nbformat_minor": 0
}