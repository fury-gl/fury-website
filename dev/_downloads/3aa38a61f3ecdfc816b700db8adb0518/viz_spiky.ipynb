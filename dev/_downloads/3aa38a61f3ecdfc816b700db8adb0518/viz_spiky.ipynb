{
  "cells": [
    {
      "cell_type": "markdown",
      "metadata": {},
      "source": [
        "\n# Spiky Sphere\nIn this tutorial, we show how to create a sphere with spikes.\n"
      ]
    },
    {
      "cell_type": "code",
      "execution_count": null,
      "metadata": {
        "collapsed": false
      },
      "outputs": [],
      "source": [
        "import itertools\n\nimport numpy as np\n\nfrom fury import actor, primitive, utils, window"
      ]
    },
    {
      "cell_type": "markdown",
      "metadata": {},
      "source": [
        "Create a sphere actor. Define the center, radius and color of a sphere.\nThe sphere actor is made of points (vertices) evenly distributed on a\nsphere.\nLet's create a scene.\n\n"
      ]
    },
    {
      "cell_type": "code",
      "execution_count": null,
      "metadata": {
        "collapsed": false
      },
      "outputs": [],
      "source": [
        "scene = window.Scene()"
      ]
    },
    {
      "cell_type": "markdown",
      "metadata": {},
      "source": [
        "The vertices are connected with triangles in order to specify the direction\nof the surface normal.\n``prim_sphere`` provides a sphere with evenly distributed points\n\n"
      ]
    },
    {
      "cell_type": "code",
      "execution_count": null,
      "metadata": {
        "collapsed": false
      },
      "outputs": [],
      "source": [
        "vertices, triangles = primitive.prim_sphere(name='symmetric362', gen_faces=False)"
      ]
    },
    {
      "cell_type": "markdown",
      "metadata": {},
      "source": [
        "To be able to visualize the vertices, let's define a point actor with\ngreen color.\n\n"
      ]
    },
    {
      "cell_type": "code",
      "execution_count": null,
      "metadata": {
        "collapsed": false
      },
      "outputs": [],
      "source": [
        "point_actor = actor.point(vertices, point_radius=0.01, colors=(0, 1, 0))"
      ]
    },
    {
      "cell_type": "markdown",
      "metadata": {},
      "source": [
        "Normals are the vectors that are perpendicular to the surface at each\nvertex. We specify the normals at the vertices to tell the system\nwhether triangles represent curved surfaces.\n\n"
      ]
    },
    {
      "cell_type": "code",
      "execution_count": null,
      "metadata": {
        "collapsed": false
      },
      "outputs": [],
      "source": [
        "normals = utils.normals_from_v_f(vertices, triangles)"
      ]
    },
    {
      "cell_type": "markdown",
      "metadata": {},
      "source": [
        "The normals are usually used to calculate how the light will bounce on\nthe surface of an object. However, here we will use them to direct the\nspikes (represented with arrows).\nSo, let's create an arrow actor at the center of each vertex.\n\n"
      ]
    },
    {
      "cell_type": "code",
      "execution_count": null,
      "metadata": {
        "collapsed": false
      },
      "outputs": [],
      "source": [
        "arrow_actor = actor.arrow(\n    centers=vertices,\n    directions=normals,\n    colors=(1, 0, 0),\n    heights=0.2,\n    resolution=10,\n    vertices=None,\n    faces=None,\n)"
      ]
    },
    {
      "cell_type": "markdown",
      "metadata": {},
      "source": [
        "To be able to visualize the surface of the primitive sphere, we use\n``get_actor_from_primitive``.\n\n"
      ]
    },
    {
      "cell_type": "code",
      "execution_count": null,
      "metadata": {
        "collapsed": false
      },
      "outputs": [],
      "source": [
        "primitive_colors = np.zeros(vertices.shape)\nprimitive_colors[:, 2] = 180\nprimitive_actor = utils.get_actor_from_primitive(\n    vertices=vertices,\n    triangles=triangles,\n    colors=primitive_colors,\n    normals=normals,\n    backface_culling=True,\n)"
      ]
    },
    {
      "cell_type": "markdown",
      "metadata": {},
      "source": [
        "We add all actors (visual objects) defined above to the scene.\n\n"
      ]
    },
    {
      "cell_type": "code",
      "execution_count": null,
      "metadata": {
        "collapsed": false
      },
      "outputs": [],
      "source": [
        "scene.add(point_actor)\nscene.add(arrow_actor)\nscene.add(primitive_actor)\nscene.add(actor.axes())"
      ]
    },
    {
      "cell_type": "markdown",
      "metadata": {},
      "source": [
        "The ShowManager class is the interface between the scene, the window and the\ninteractor.\n\n"
      ]
    },
    {
      "cell_type": "code",
      "execution_count": null,
      "metadata": {
        "collapsed": false
      },
      "outputs": [],
      "source": [
        "showm = window.ShowManager(\n    scene, size=(900, 768), reset_camera=False, order_transparent=True\n)"
      ]
    },
    {
      "cell_type": "markdown",
      "metadata": {},
      "source": [
        "We want to make a small animation for fun!\nWe can determine the duration of animation with using the ``counter``.\nUse itertools to avoid global variables.\n\n"
      ]
    },
    {
      "cell_type": "code",
      "execution_count": null,
      "metadata": {
        "collapsed": false
      },
      "outputs": [],
      "source": [
        "counter = itertools.count()"
      ]
    },
    {
      "cell_type": "markdown",
      "metadata": {},
      "source": [
        "The timer will call this user defined callback every 200 milliseconds. The\napplication will exit after the callback has been called 20 times.\n\n"
      ]
    },
    {
      "cell_type": "code",
      "execution_count": null,
      "metadata": {
        "collapsed": false
      },
      "outputs": [],
      "source": [
        "def timer_callback(_obj, _event):\n    cnt = next(counter)\n    showm.scene.azimuth(0.05 * cnt)\n    primitive_actor.GetProperty().SetOpacity(cnt / 10.0)\n    showm.render()\n    if cnt == 20:\n        showm.exit()\n\n\nshowm.add_timer_callback(True, 200, timer_callback)\nshowm.start()\nwindow.record(showm.scene, size=(900, 768), out_path='viz_spiky.png')"
      ]
    },
    {
      "cell_type": "markdown",
      "metadata": {},
      "source": [
        "Instead of arrows, you can choose other geometrical objects\nsuch as cones, cubes or spheres.\n\n"
      ]
    }
  ],
  "metadata": {
    "kernelspec": {
      "display_name": "Python 3",
      "language": "python",
      "name": "python3"
    },
    "language_info": {
      "codemirror_mode": {
        "name": "ipython",
        "version": 3
      },
      "file_extension": ".py",
      "mimetype": "text/x-python",
      "name": "python",
      "nbconvert_exporter": "python",
      "pygments_lexer": "ipython3",
      "version": "3.9.19"
    }
  },
  "nbformat": 4,
  "nbformat_minor": 0
}