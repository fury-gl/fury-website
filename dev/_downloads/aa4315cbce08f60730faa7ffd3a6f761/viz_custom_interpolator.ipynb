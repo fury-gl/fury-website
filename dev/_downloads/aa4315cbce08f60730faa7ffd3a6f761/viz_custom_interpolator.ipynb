{
  "cells": [
    {
      "cell_type": "code",
      "execution_count": null,
      "metadata": {
        "collapsed": false
      },
      "outputs": [],
      "source": [
        "%matplotlib inline"
      ]
    },
    {
      "cell_type": "markdown",
      "metadata": {},
      "source": [
        "\n# Making a custom interpolator\n\nKeyframe animation using custom interpolator.\n"
      ]
    },
    {
      "cell_type": "code",
      "execution_count": null,
      "metadata": {
        "collapsed": false
      },
      "outputs": [],
      "source": [
        "import numpy as np\nfrom fury import actor, window\nfrom fury.animation import helpers, Animation"
      ]
    },
    {
      "cell_type": "markdown",
      "metadata": {},
      "source": [
        "## Implementing a custom interpolator\n\nA keyframe interpolator function must return a function which take the time\nas an argument and returns a value.\nIt's recommended to import `fury.animation.helpers`, which has some useful\nfunctions that would help to implement the interpolator.\n\n"
      ]
    },
    {
      "cell_type": "markdown",
      "metadata": {},
      "source": [
        "In glTF, animations using cubic spline interpolator needs at least two\npoints, and each point has two tangent vectors.\nThe interpolation equation for such data is in the glTF tutorials below:\nhttps://github.khronos.org/glTF-Tutorials/gltfTutorial/gltfTutorial_007_Animations.html#cubic-spline-interpolation\n\nTangent based cubic spline interpolation function:\n\n>>> def cubicSpline(previousPoint, previousTangent, nextPoint, nextTangent,\n>>>                   interpolationValue):\n>>>     t = interpolationValue\n>>>     t2 = t * t\n>>>     t3 = t2 * t\n>>>     return (2 * t3 - 3 * t2 + 1) * previousPoint +\n>>>            (t3 - 2 * t2 + t) * previousTangent +\n>>>            (-2 * t3 + 3 * t2) * nextPoint +\n>>>            (t3 - t2) * nextTangent\n\nFirst we create a function that must take a dict object that contains the\nanimation keyframes when initialized as follows:\n\n>>> def tan_cubic_spline_interpolator(keyframes):\n>>>     ...\n>>>     def interpolate(t):\n>>>           return interpolated_value\n>>>     return interpolator\n\nNote: Also any other additional arguments are ok, see `spline_interpolator`\nSecond step is to implement the `interpolate` closure that only takes the\ncurrent time as input.\n\n"
      ]
    },
    {
      "cell_type": "code",
      "execution_count": null,
      "metadata": {
        "collapsed": false
      },
      "outputs": [],
      "source": [
        "def tan_cubic_spline_interpolator(keyframes):\n    # First we must get ordered timestamps array:\n    timestamps = helpers.get_timestamps_from_keyframes(keyframes)\n\n    # keyframes should be on the following form:\n    # {\n    # 1: {'value': ndarray, 'in_tangent': ndarray, 'out_tangent': ndarray},\n    # 2: {'value': np.array([1, 2, 3], 'in_tangent': ndarray},\n    # }\n    # See here, we might get incomplete data (out_tangent) in the second\n    # keyframe. In this case we need to have a default behaviour dealing\n    # with these missing data.\n    # Setting the tangent to a zero vector in this case is the best choice\n    for time in keyframes:\n        data = keyframes.get(time)\n        value = data.get('value')\n        if data.get('in_tangent') is None:\n            data['in_tangent'] = np.zeros_like(value)\n        if data.get('in_tangent') is None:\n            data['in_tangent'] = np.zeros_like(value)\n\n    def interpolate(t):\n        # `get_previous_timestamp`and `get_next_timestamp` functions take\n        # timestamps array and current time as inputs and returns the\n        # surrounding timestamps.\n        t0 = helpers.get_previous_timestamp(timestamps, t)\n        t1 = helpers.get_next_timestamp(timestamps, t)\n\n        # `get_time_tau` function takes current time and surrounding\n        # timestamps and returns a value from 0 to 1\n        dt = helpers.get_time_tau(t, t0, t1)\n\n        time_delta = t1 - t0\n\n        # to get a keyframe data at a specific timestamp, use\n        # `keyframes.get(t0)`. This keyframe data contains `value` and any\n        # other data set as a custom argument using keyframe setters.\n        # for example:\n        # >>> animation = Animation()\n        # >>> animation.set_position(0, np.array([1, 1, 1]),\n        # >>>                       custom_field=np.array([2, 3, 1]))\n        # In this case `keyframes.get(0)` would return:\n        # {'value': array(1, 1, 1), 'custom_field': array(2, 3, 1)}\n        #\n        # now we continue with the cubic spline equation.\n        p0 = keyframes.get(t0).get('value')\n        tan_0 = keyframes.get(t0).get('out_tangent') * time_delta\n        p1 = keyframes.get(t1).get('value')\n        tan_1 = keyframes.get(t1).get('in_tangent') * time_delta\n        # cubic spline equation using tangents\n        t2 = dt * dt\n        t3 = t2 * dt\n        return (2 * t3 - 3 * t2 + 1) * p0 + (t3 - 2 * t2 + dt) * tan_0 + (\n                -2 * t3 + 3 * t2) * p1 + (t3 - t2) * tan_1\n    return interpolate\n\n\nscene = window.Scene()\nshowm = window.ShowManager(scene,\n                           size=(900, 768), reset_camera=False,\n                           order_transparent=True)"
      ]
    },
    {
      "cell_type": "markdown",
      "metadata": {},
      "source": [
        "## Cubic spline keyframes data same as the one you get from glTF file.\n\n"
      ]
    },
    {
      "cell_type": "code",
      "execution_count": null,
      "metadata": {
        "collapsed": false
      },
      "outputs": [],
      "source": [
        "#               t    in tangent     position                   out tangent\ntranslation = [[0.0, [0., 0., 0.],  [3.3051798, 6.640117, 0.], [1., 0., 0.]],\n               [1.0, [0., 0., 0.],  [3.3051798, 8., 0.],       [-1., 0., 0.]],\n               [2.0, [-1., 0., 0.], [3.3051798, 6., 0.],       [1., 0., 0.]],\n               [3.0, [0., 0., 0.],  [3.3051798, 8., 0.],       [-1., 0., 0.]],\n               [4.0, [0, -1., 0.],  [3.3051798, 6., 0.],       [0., 0., 0.]]]"
      ]
    },
    {
      "cell_type": "markdown",
      "metadata": {},
      "source": [
        "Initializing an ``Animation`` and adding sphere actor to it.\n\n"
      ]
    },
    {
      "cell_type": "code",
      "execution_count": null,
      "metadata": {
        "collapsed": false
      },
      "outputs": [],
      "source": [
        "animation = Animation(motion_path_res=100)\n\nsphere = actor.sphere(np.array([[0, 0, 0]]), (1, 0, 1), radii=0.1)\n\nanimation.add_actor(sphere)"
      ]
    },
    {
      "cell_type": "markdown",
      "metadata": {},
      "source": [
        "## Setting position keyframes\n\n"
      ]
    },
    {
      "cell_type": "code",
      "execution_count": null,
      "metadata": {
        "collapsed": false
      },
      "outputs": [],
      "source": [
        "for keyframe_data in translation:\n    t, in_tan, pos, out_tan = keyframe_data\n    # Since we used the name 'in_tangent' and 'out_tangent' in the interpolator\n    # We must use the same name as an argument to set it in the keyframe data.\n    animation.set_position(t, pos, in_tangent=in_tan, out_tangent=out_tan)"
      ]
    },
    {
      "cell_type": "markdown",
      "metadata": {},
      "source": [
        "Set the new interpolator to interpolate position keyframes\n\n"
      ]
    },
    {
      "cell_type": "code",
      "execution_count": null,
      "metadata": {
        "collapsed": false
      },
      "outputs": [],
      "source": [
        "animation.set_position_interpolator(tan_cubic_spline_interpolator)"
      ]
    },
    {
      "cell_type": "markdown",
      "metadata": {},
      "source": [
        "adding the animation to the show manager.\n\n"
      ]
    },
    {
      "cell_type": "code",
      "execution_count": null,
      "metadata": {
        "collapsed": false
      },
      "outputs": [],
      "source": [
        "showm.add_animation(animation)\n\n\ninteractive = False\n\nif interactive:\n    showm.start()\n\nwindow.record(scene, out_path='viz_keyframe_custom_interpolator.png',\n              size=(900, 768))"
      ]
    }
  ],
  "metadata": {
    "kernelspec": {
      "display_name": "Python 3",
      "language": "python",
      "name": "python3"
    },
    "language_info": {
      "codemirror_mode": {
        "name": "ipython",
        "version": 3
      },
      "file_extension": ".py",
      "mimetype": "text/x-python",
      "name": "python",
      "nbconvert_exporter": "python",
      "pygments_lexer": "ipython3",
      "version": "3.9.16"
    }
  },
  "nbformat": 4,
  "nbformat_minor": 0
}