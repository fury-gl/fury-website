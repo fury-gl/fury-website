{
  "cells": [
    {
      "cell_type": "code",
      "execution_count": null,
      "metadata": {
        "collapsed": false
      },
      "outputs": [],
      "source": [
        "%matplotlib inline"
      ]
    },
    {
      "cell_type": "markdown",
      "metadata": {},
      "source": [
        "\n# Collisions of particles in a box\n\nThis is a simple demonstration of how you can simulate moving\nparticles in a box using FURY.\n\n"
      ]
    },
    {
      "cell_type": "markdown",
      "metadata": {},
      "source": [
        "In this example, the particles collide with each other and with the walls\nof the container. When the collision happens between two particles,\nthe particle with less velocity changes its color and gets the same color\nas the particle with higher velocity. For simplicity, in this demo we\ndo not apply forces.\n\n"
      ]
    },
    {
      "cell_type": "code",
      "execution_count": null,
      "metadata": {
        "collapsed": false
      },
      "outputs": [],
      "source": [
        "import numpy as np\nfrom fury import window, actor, ui, utils\nimport itertools"
      ]
    },
    {
      "cell_type": "markdown",
      "metadata": {},
      "source": [
        "Here, we define the edges of the box.\n\n"
      ]
    },
    {
      "cell_type": "code",
      "execution_count": null,
      "metadata": {
        "collapsed": false
      },
      "outputs": [],
      "source": [
        "def box_edges(box_lx, box_ly, box_lz):\n\n    edge1 = 0.5 * np.array([[box_lx, box_ly, box_lz],\n                            [box_lx, box_ly, -box_lz],\n                            [-box_lx, box_ly, -box_lz],\n                            [-box_lx, box_ly, box_lz],\n                            [box_lx, box_ly, box_lz]])\n    edge2 = 0.5 * np.array([[box_lx, box_ly, box_lz],\n                            [box_lx, -box_ly, box_lz]])\n    edge3 = 0.5 * np.array([[box_lx, box_ly, -box_lz],\n                            [box_lx, -box_ly, -box_lz]])\n    edge4 = 0.5 * np.array([[-box_lx, box_ly, -box_lz],\n                            [-box_lx, -box_ly, -box_lz]])\n    edge5 = 0.5 * np.array([[-box_lx, box_ly, box_lz],\n                            [-box_lx, -box_ly, box_lz]])\n    lines = [edge1, -edge1, edge2, edge3, edge4, edge5]\n    return lines"
      ]
    },
    {
      "cell_type": "markdown",
      "metadata": {},
      "source": [
        "Here we define collision between walls-particles and particle-particle.\nWhen collision happens, the particle with lower velocity gets the\ncolor of the particle with higher velocity\n\n"
      ]
    },
    {
      "cell_type": "code",
      "execution_count": null,
      "metadata": {
        "collapsed": false
      },
      "outputs": [],
      "source": [
        "def collision():\n    global xyz\n    num_vertices = vertices.shape[0]\n    sec = np.int(num_vertices / num_particles)\n\n    for i, j in np.ndindex(num_particles, num_particles):\n\n        if (i == j):\n            continue\n        distance = np.linalg.norm(xyz[i] - xyz[j])\n        vel_mag_i = np.linalg.norm(vel[i])\n        vel_mag_j = np.linalg.norm(vel[j])\n        # Collision happens if the distance between the centers of two\n        # particles is less or equal to the sum of their radii\n        if (distance <= (radii[i] + radii[j])):\n            vel[i] = -vel[i]\n            vel[j] = -vel[j]\n            if vel_mag_j > vel_mag_i:\n                vcolors[i * sec: i * sec + sec] = \\\n                    vcolors[j * sec: j * sec + sec]\n            if vel_mag_i > vel_mag_j:\n                vcolors[j * sec: j * sec + sec] = \\\n                    vcolors[i * sec: i * sec + sec]\n            xyz[i] = xyz[i] + vel[i] * dt\n            xyz[j] = xyz[j] + vel[j] * dt\n    # Collision between particles-walls;\n    vel[:, 0] = np.where(((xyz[:, 0] <= - 0.5 * box_lx + radii[:]) |\n                          (xyz[:, 0] >= (0.5 * box_lx - radii[:]))),\n                         - vel[:, 0], vel[:, 0])\n    vel[:, 1] = np.where(((xyz[:, 1] <= - 0.5 * box_ly + radii[:]) |\n                          (xyz[:, 1] >= (0.5 * box_ly - radii[:]))),\n                         - vel[:, 1], vel[:, 1])\n    vel[:, 2] = np.where(((xyz[:, 2] <= -0.5 * box_lz + radii[:]) |\n                          (xyz[:, 2] >= (0.5 * box_lz - radii[:]))),\n                         - vel[:, 2], vel[:, 2])"
      ]
    },
    {
      "cell_type": "markdown",
      "metadata": {},
      "source": [
        "We define position, velocity, color and radius randomly for 50 particles\ninside the box.\n\n"
      ]
    },
    {
      "cell_type": "code",
      "execution_count": null,
      "metadata": {
        "collapsed": false
      },
      "outputs": [],
      "source": [
        "global xyz\nnum_particles = 50\nbox_lx = 20\nbox_ly = 20\nbox_lz = 10\nsteps = 1000\ndt = 0.05\nxyz = np.array([box_lx, box_ly, box_lz]) * (np.random.rand(num_particles, 3)\n                                            - 0.5) * 0.6\nvel = 4 * (np.random.rand(num_particles, 3) - 0.5)\ncolors = np.random.rand(num_particles, 3)\nradii = np.random.rand(num_particles) + 0.01"
      ]
    },
    {
      "cell_type": "markdown",
      "metadata": {},
      "source": [
        "With box, streamtube and sphere actors, we can create the box, the\nedges of the box and the spheres respectively.\n\n"
      ]
    },
    {
      "cell_type": "code",
      "execution_count": null,
      "metadata": {
        "collapsed": false
      },
      "outputs": [],
      "source": [
        "scene = window.Scene()\nbox_centers = np.array([[0, 0, 0]])\nbox_directions = np.array([[0, 1, 0]])\nbox_colors = np.array([[1, 1, 1, 0.2]])\nbox_actor = actor.box(box_centers, box_directions, box_colors,\n                      scales=(box_lx, box_ly, box_lz))\nscene.add(box_actor)\n\nlines = box_edges(box_lx, box_ly, box_lz)\nline_actor = actor.streamtube(lines, colors=(1, 0.5, 0), linewidth=0.1)\nscene.add(line_actor)\n\nsphere_actor = actor.sphere(centers=xyz,\n                            colors=colors,\n                            radii=radii)\nscene.add(sphere_actor)\n\nshowm = window.ShowManager(scene,\n                           size=(900, 768), reset_camera=True,\n                           order_transparent=True)\nshowm.initialize()\ntb = ui.TextBlock2D(bold=True)\nscene.zoom(0.8)\nscene.azimuth(30)\n\n# use itertools to avoid global variables\ncounter = itertools.count()\n\nvertices = utils.vertices_from_actor(sphere_actor)\nvcolors = utils.colors_from_actor(sphere_actor, 'colors')\nno_vertices_per_sphere = len(vertices)/num_particles\ninitial_vertices = vertices.copy() - \\\n    np.repeat(xyz, no_vertices_per_sphere, axis=0)\n\n\ndef timer_callback(_obj, _event):\n    global xyz\n    cnt = next(counter)\n    tb.message = \"Let's count up to 1000 and exit :\" + str(cnt)\n    xyz = xyz + vel * dt\n    collision()\n\n    vertices[:] = initial_vertices + \\\n        np.repeat(xyz, no_vertices_per_sphere, axis=0)\n    utils.update_actor(sphere_actor)\n\n    scene.reset_clipping_range()\n    showm.render()\n\n    if cnt == steps:\n        showm.exit()\n\n\nscene.add(tb)\nshowm.add_timer_callback(True, 50, timer_callback)\n\ninteractive = False\nif interactive:\n    showm.start()\n\nwindow.record(showm.scene, size=(900, 768), out_path=\"simple_collisions.png\")"
      ]
    }
  ],
  "metadata": {
    "kernelspec": {
      "display_name": "Python 3",
      "language": "python",
      "name": "python3"
    },
    "language_info": {
      "codemirror_mode": {
        "name": "ipython",
        "version": 3
      },
      "file_extension": ".py",
      "mimetype": "text/x-python",
      "name": "python",
      "nbconvert_exporter": "python",
      "pygments_lexer": "ipython3",
      "version": "3.6.11"
    }
  },
  "nbformat": 4,
  "nbformat_minor": 0
}