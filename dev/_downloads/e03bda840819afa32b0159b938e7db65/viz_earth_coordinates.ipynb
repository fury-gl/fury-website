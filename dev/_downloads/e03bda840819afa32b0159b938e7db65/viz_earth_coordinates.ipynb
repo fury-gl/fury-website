{
  "cells": [
    {
      "cell_type": "code",
      "execution_count": null,
      "metadata": {
        "collapsed": false
      },
      "outputs": [],
      "source": [
        "%matplotlib inline"
      ]
    },
    {
      "cell_type": "markdown",
      "metadata": {},
      "source": [
        "\n# Earth Coordinate Conversion\n\n\nIn this tutorial, we will show how to place actors on specific locations\non the surface of the Earth using a new function.\n\n"
      ]
    },
    {
      "cell_type": "code",
      "execution_count": null,
      "metadata": {
        "collapsed": false
      },
      "outputs": [],
      "source": [
        "from fury import window, actor, utils, io\nfrom fury.data import read_viz_textures, fetch_viz_textures\nimport math\nimport numpy as np\nimport itertools"
      ]
    },
    {
      "cell_type": "markdown",
      "metadata": {},
      "source": [
        "Create a new scene, and load in the image of the Earth using\n``fetch_viz_textures`` and ``read_viz_textures``. We will use a 16k\nresolution texture for maximum detail.\n\n"
      ]
    },
    {
      "cell_type": "code",
      "execution_count": null,
      "metadata": {
        "collapsed": false
      },
      "outputs": [],
      "source": [
        "scene = window.Scene()\n\nfetch_viz_textures()\nearth_file = read_viz_textures(\"1_earth_16k.jpg\")\nearth_image = io.load_image(earth_file)\nearth_actor = actor.texture_on_sphere(earth_image)\nscene.add(earth_actor)"
      ]
    },
    {
      "cell_type": "markdown",
      "metadata": {},
      "source": [
        "Rotate the Earth to make sure the texture is correctly oriented. Change it's\nscale using ``actor.SetScale()``.\n\n"
      ]
    },
    {
      "cell_type": "code",
      "execution_count": null,
      "metadata": {
        "collapsed": false
      },
      "outputs": [],
      "source": [
        "utils.rotate(earth_actor, (-90, 1, 0, 0))\nutils.rotate(earth_actor, (180, 0, 1, 0))\nearth_actor.SetScale(2, 2, 2)"
      ]
    },
    {
      "cell_type": "markdown",
      "metadata": {},
      "source": [
        "Define the function to convert geographical coordinates of a location in\nlatitude and longitude degrees to coordinates on the ``earth_actor`` surface.\nIn this function, convert to radians, then to spherical coordinates, and\nlastly, to cartesian coordinates.\n\n"
      ]
    },
    {
      "cell_type": "code",
      "execution_count": null,
      "metadata": {
        "collapsed": false
      },
      "outputs": [],
      "source": [
        "def latlong_coordinates(lat, lon):\n    # Convert latitude and longitude to spherical coordinates\n    degrees_to_radians = math.pi/180.0\n    # phi = 90 - latitude\n    phi = (90-lat)*degrees_to_radians\n    # theta = longitude\n    theta = lon*degrees_to_radians*-1\n    # now convert to cartesian\n    x = np.sin(phi)*np.cos(theta)\n    y = np.sin(phi)*np.sin(theta)\n    z = np.cos(phi)\n    # flipping z to y for FURY coordinates\n    return (x, z, y)"
      ]
    },
    {
      "cell_type": "markdown",
      "metadata": {},
      "source": [
        "Use this new function to place some sphere actors on several big cities\naround the Earth.\n\n"
      ]
    },
    {
      "cell_type": "code",
      "execution_count": null,
      "metadata": {
        "collapsed": false
      },
      "outputs": [],
      "source": [
        "locationone = latlong_coordinates(40.730610, -73.935242)  # new york city, us\nlocationtwo = latlong_coordinates(39.916668, 116.383331)  # beijing, china\nlocationthree = latlong_coordinates(48.864716, 2.349014)  # paris, france"
      ]
    },
    {
      "cell_type": "markdown",
      "metadata": {},
      "source": [
        "Set the centers, radii, and colors of these spheres, and create a new\n``sphere_actor`` for each location to add to the scene.\n\n"
      ]
    },
    {
      "cell_type": "code",
      "execution_count": null,
      "metadata": {
        "collapsed": false
      },
      "outputs": [],
      "source": [
        "centers = np.array([[*locationone], [*locationtwo], [*locationthree]])\ncolors = np.random.rand(3, 3)\nradii = np.array([0.005, 0.005, 0.005])\nsphere_actor = actor.sphere(centers, colors, radii)\nscene.add(sphere_actor)"
      ]
    },
    {
      "cell_type": "markdown",
      "metadata": {},
      "source": [
        "Create some text actors to add to the scene indicating each location and its\ngeographical coordinates.\n\n"
      ]
    },
    {
      "cell_type": "code",
      "execution_count": null,
      "metadata": {
        "collapsed": false
      },
      "outputs": [],
      "source": [
        "nyc_actor = actor.text_3d(\"New York City, New York\\n40.7128\u00b0 N, 74.0060\u00b0 W\",\n                          (locationone[0]-0.04, locationone[1],\n                           locationone[2]+0.07),\n                          window.colors.white, 0.01)\nparis_actor = actor.text_3d(\"Paris, France\\n48.8566\u00b0 N, 2.3522\u00b0 E\",\n                            (locationthree[0]-0.04, locationthree[1],\n                             locationthree[2]-0.07),\n                            window.colors.white, 0.01)\nbeijing_actor = actor.text_3d(\"Beijing, China\\n39.9042\u00b0 N, 116.4074\u00b0 E\",\n                              (locationtwo[0]-0.06, locationtwo[1],\n                               locationtwo[2]-0.07),\n                              window.colors.white, 0.01)\nutils.rotate(paris_actor, (85, 0, 1, 0))\nutils.rotate(beijing_actor, (180, 0, 1, 0))\nutils.rotate(nyc_actor, (5, 1, 0, 0))"
      ]
    },
    {
      "cell_type": "markdown",
      "metadata": {},
      "source": [
        "Create a ShowManager object, which acts as the interface between the scene,\nthe window and the interactor.\n\n"
      ]
    },
    {
      "cell_type": "code",
      "execution_count": null,
      "metadata": {
        "collapsed": false
      },
      "outputs": [],
      "source": [
        "showm = window.ShowManager(scene,\n                           size=(900, 768), reset_camera=False,\n                           order_transparent=True)"
      ]
    },
    {
      "cell_type": "markdown",
      "metadata": {},
      "source": [
        "Let's create a ``timer_callback function to add some animation to the Earth.\nChange the camera position and angle to fly over and zoom in on each new\nlocation.\n\n"
      ]
    },
    {
      "cell_type": "code",
      "execution_count": null,
      "metadata": {
        "collapsed": false
      },
      "outputs": [],
      "source": [
        "counter = itertools.count()\n\n\ndef timer_callback(_obj, _event):\n    cnt = next(counter)\n    showm.render()\n    if cnt == 0:\n        scene.set_camera(position=(1.5, 3.5, 7.0))\n    if cnt < 200 and cnt > 25:\n        scene.zoom(1.015)\n        scene.pitch(0.01)\n    if cnt == 200:\n        scene.add(nyc_actor)\n    if cnt > 250 and cnt < 350:\n        scene.zoom(0.985)\n    if cnt > 350 and cnt < 425:\n        scene.azimuth(1)\n    if cnt > 425 and cnt < 525:\n        scene.zoom(1.015)\n        scene.pitch(0.011)\n    if cnt == 525:\n        scene.add(paris_actor)\n    if cnt > 575 and cnt < 700:\n        scene.zoom(0.985)\n    if cnt > 700 and cnt < 820:\n        scene.azimuth(1)\n    if cnt > 820 and cnt < 930:\n        scene.zoom(1.015)\n    if cnt == 930:\n        scene.add(beijing_actor)\n    if cnt == 1000:\n        showm.exit()"
      ]
    },
    {
      "cell_type": "markdown",
      "metadata": {},
      "source": [
        "Initialize the ShowManager object, add the timer_callback, and watch the\nnew animation take place!\n\n"
      ]
    },
    {
      "cell_type": "code",
      "execution_count": null,
      "metadata": {
        "collapsed": false
      },
      "outputs": [],
      "source": [
        "showm.initialize()\nshowm.add_timer_callback(True, 25, timer_callback)\nshowm.start()\n\nwindow.record(showm.scene, size=(900, 768),\n              out_path=\"viz_earth_coordinates.png\")"
      ]
    }
  ],
  "metadata": {
    "kernelspec": {
      "display_name": "Python 3",
      "language": "python",
      "name": "python3"
    },
    "language_info": {
      "codemirror_mode": {
        "name": "ipython",
        "version": 3
      },
      "file_extension": ".py",
      "mimetype": "text/x-python",
      "name": "python",
      "nbconvert_exporter": "python",
      "pygments_lexer": "ipython3",
      "version": "3.6.11"
    }
  },
  "nbformat": 4,
  "nbformat_minor": 0
}