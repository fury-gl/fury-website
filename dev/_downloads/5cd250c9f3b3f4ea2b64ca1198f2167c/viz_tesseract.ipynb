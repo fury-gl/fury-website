{
  "cells": [
    {
      "cell_type": "code",
      "execution_count": null,
      "metadata": {
        "collapsed": false
      },
      "outputs": [],
      "source": [
        "%matplotlib inline"
      ]
    },
    {
      "cell_type": "markdown",
      "metadata": {},
      "source": [
        "\n# Tesseract (Hypercube)\nA tesseract is a four-dimensional cube. A tesseract can\nbe unfolded into eight cubes, Just as a cube can be unfolded into eight\nsquares.\n"
      ]
    },
    {
      "cell_type": "markdown",
      "metadata": {},
      "source": [
        "First, import some useful functions\n\n"
      ]
    },
    {
      "cell_type": "code",
      "execution_count": null,
      "metadata": {
        "collapsed": false
      },
      "outputs": [],
      "source": [
        "import itertools\n\nimport numpy as np\n\nfrom fury import actor, utils, window\nfrom fury.ui import TextBlock2D"
      ]
    },
    {
      "cell_type": "markdown",
      "metadata": {},
      "source": [
        "Let's define some variables and their descriptions:\n\nUse `wireframe = True` to show wireframe like representation of the tesseract\n`wireframe = False` will render it with point actor on each vertex.\n\n"
      ]
    },
    {
      "cell_type": "code",
      "execution_count": null,
      "metadata": {
        "collapsed": false
      },
      "outputs": [],
      "source": [
        "wireframe = False\n\n# p_color: color of the point actor (default: (0, 0.5, 1, 1))\n# e_color: color of the line actor (default: (1, 1, 1, 1))\n# dtheta: change in `angle` on each iteration. It determines the \"speed\" of the\n#        animation. Increase dtheta to increase speed of rotation, It may\n#        result in less smoother rotation (default: 0.02)\n# angle: defines the angle to be rotated to perform the animation, It changes\n#        as we run the `callback` method later on. (initial value: 0)\n\np_color = np.array([0, 0.5, 1, 1])\ne_color = np.array([1, 1, 1, 1])\ndtheta = 0.02\nangle = 0"
      ]
    },
    {
      "cell_type": "markdown",
      "metadata": {},
      "source": [
        "Let's define vertices for our 4D cube, `verts4D` contains the coordinates of\nour 4D tesseract.\n\n"
      ]
    },
    {
      "cell_type": "code",
      "execution_count": null,
      "metadata": {
        "collapsed": false
      },
      "outputs": [],
      "source": [
        "verts3D = np.array(\n    [\n        [1, 1, 1],\n        [1, -1, 1],\n        [-1, -1, 1],\n        [-1, 1, 1],\n        [-1, 1, -1],\n        [1, 1, -1],\n        [1, -1, -1],\n        [-1, -1, -1],\n    ]\n)\n\n# We can use primitive.box alternatively to get the cube's 3-D vertices.\n\nu = np.insert(verts3D, 3, 1, axis=1)\nv = np.insert(verts3D, 3, -1, axis=1)\nverts4D = np.append(u, v, axis=0)"
      ]
    },
    {
      "cell_type": "markdown",
      "metadata": {},
      "source": [
        "We define a `rotate4D` function that takes 4D matrix as parameter and rotates\nit in XY plane (Z axis) and ZW plane (an imaginary axis), projects it to the\n3D plane so that we can render it in a scene.\n\n"
      ]
    },
    {
      "cell_type": "code",
      "execution_count": null,
      "metadata": {
        "collapsed": false
      },
      "outputs": [],
      "source": [
        "def rotate4D(verts4D):\n    cos = np.cos(angle)\n    sin = np.sin(angle)\n    rotation4d_xy = np.array(\n        [[cos, -sin, 0, 0], [sin, cos, 0, 0], [0, 0, 1, 0], [0, 0, 0, 1]]\n    )\n    rotation4d_zw = np.array(\n        [[1, 0, 0, 0], [0, 1, 0, 0], [0, 0, cos, -sin], [0, 0, sin, cos]]\n    )\n    distance = 2\n    projected_marix = np.zeros((16, 3))\n    for i, vert in enumerate(verts4D):\n        rotated_3D = np.dot(rotation4d_xy, vert)\n        rotated_3D = np.dot(rotation4d_zw, rotated_3D)\n        w = 1 / (distance - rotated_3D[3])\n        proj_mat4D = np.array([[w, 0, 0, 0], [0, w, 0, 0], [0, 0, w, 0]])\n\n        projeced_mat3D = np.dot(proj_mat4D, rotated_3D)\n        projected_marix[i] = projeced_mat3D  # vertices to be proj (3D)\n    return projected_marix"
      ]
    },
    {
      "cell_type": "markdown",
      "metadata": {},
      "source": [
        "Now, We have 4D points projected to 3D. Let's define a function to connect\nlines.\n\n"
      ]
    },
    {
      "cell_type": "code",
      "execution_count": null,
      "metadata": {
        "collapsed": false
      },
      "outputs": [],
      "source": [
        "def connect_points(verts3D):\n    lines = np.array([])\n    len_vert = len(verts3D)\n\n    for i in range(len_vert - 1):\n        if i < 8:\n            lines = np.append(lines, [verts3D[i], verts3D[i + 8]])\n        if i == 7:\n            pass\n        else:\n            lines = np.append(lines, [verts3D[i], verts3D[i + 1]])\n        if i % 4 == 0:\n            lines = np.append(lines, [verts3D[i], verts3D[i + 3]])\n\n    for i in range(3):\n        lines = np.append(lines, [verts3D[i], verts3D[i + 5]])\n        lines = np.append(lines, [verts3D[i + 8], verts3D[i + 5 + 8]])\n\n    return np.reshape(lines, (-1, 2, 3))"
      ]
    },
    {
      "cell_type": "markdown",
      "metadata": {},
      "source": [
        "Creating a scene object and configuring the camera's position\n\n"
      ]
    },
    {
      "cell_type": "code",
      "execution_count": null,
      "metadata": {
        "collapsed": false
      },
      "outputs": [],
      "source": [
        "scene = window.Scene()\nscene.set_camera(\n    position=(0, 10, -1), focal_point=(0.0, 0.0, 0.0), view_up=(0.0, 0.0, 0.0)\n)\nshowm = window.ShowManager(scene, size=(1920, 1080), order_transparent=True)"
      ]
    },
    {
      "cell_type": "markdown",
      "metadata": {},
      "source": [
        "Creating vertices and points actors\n\n"
      ]
    },
    {
      "cell_type": "code",
      "execution_count": null,
      "metadata": {
        "collapsed": false
      },
      "outputs": [],
      "source": [
        "verts3D = rotate4D(verts4D)\nif not wireframe:\n    points = actor.point(verts3D, colors=p_color)\n    point_verts = utils.vertices_from_actor(points)\n    no_vertices = len(point_verts) / 16\n    initial_verts = point_verts.copy() - np.repeat(verts3D, no_vertices, axis=0)\n\n    scene.add(points)"
      ]
    },
    {
      "cell_type": "markdown",
      "metadata": {},
      "source": [
        "Connecting points with lines actor\n\n"
      ]
    },
    {
      "cell_type": "code",
      "execution_count": null,
      "metadata": {
        "collapsed": false
      },
      "outputs": [],
      "source": [
        "lines = connect_points(verts3D)\nedges = actor.line(lines=lines, colors=e_color, lod=False, fake_tube=True, linewidth=4)\nlines_verts = utils.vertices_from_actor(edges)\ninitial_lines = lines_verts.copy() - np.reshape(lines, (-1, 3))\n\nscene.add(edges)"
      ]
    },
    {
      "cell_type": "markdown",
      "metadata": {},
      "source": [
        "Initializing text box to display the name\n\n"
      ]
    },
    {
      "cell_type": "code",
      "execution_count": null,
      "metadata": {
        "collapsed": false
      },
      "outputs": [],
      "source": [
        "tb = TextBlock2D(text='Tesseract', position=(900, 950), font_size=20)\nshowm.scene.add(tb)"
      ]
    },
    {
      "cell_type": "markdown",
      "metadata": {},
      "source": [
        "Define a timer_callback in which we'll update the vertices of point and lines\nactor using `rotate4D`.\n\n"
      ]
    },
    {
      "cell_type": "code",
      "execution_count": null,
      "metadata": {
        "collapsed": false
      },
      "outputs": [],
      "source": [
        "counter = itertools.count()\nend = 200\n\n\ndef timer_callback(_obj, _event):\n    global verts3D, angle\n    cnt = next(counter)\n    verts3D = rotate4D(verts4D)\n    if not wireframe:\n        point_verts[:] = initial_verts + np.repeat(verts3D, no_vertices, axis=0)\n        utils.update_actor(points)\n\n    lines = connect_points(verts3D)\n    lines_verts[:] = initial_lines + np.reshape(lines, (-1, 3))\n    utils.update_actor(edges)\n\n    showm.render()\n    angle += dtheta\n\n    if cnt == end:\n        showm.exit()"
      ]
    },
    {
      "cell_type": "markdown",
      "metadata": {},
      "source": [
        "Run every 20 milliseconds\n\n"
      ]
    },
    {
      "cell_type": "code",
      "execution_count": null,
      "metadata": {
        "collapsed": false
      },
      "outputs": [],
      "source": [
        "showm.add_timer_callback(True, 20, timer_callback)\nshowm.start()\nwindow.record(showm.scene, size=(600, 600), out_path='viz_tesseract.png')"
      ]
    }
  ],
  "metadata": {
    "kernelspec": {
      "display_name": "Python 3",
      "language": "python",
      "name": "python3"
    },
    "language_info": {
      "codemirror_mode": {
        "name": "ipython",
        "version": 3
      },
      "file_extension": ".py",
      "mimetype": "text/x-python",
      "name": "python",
      "nbconvert_exporter": "python",
      "pygments_lexer": "ipython3",
      "version": "3.9.16"
    }
  },
  "nbformat": 4,
  "nbformat_minor": 0
}