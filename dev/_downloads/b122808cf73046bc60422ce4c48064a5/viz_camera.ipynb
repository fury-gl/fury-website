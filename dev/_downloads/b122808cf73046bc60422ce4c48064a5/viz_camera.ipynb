{
  "cells": [
    {
      "cell_type": "markdown",
      "metadata": {},
      "source": [
        "\n# Keyframe animation: Camera and opacity\n\nCamera and opacity keyframe animation explained in this tutorial.\n"
      ]
    },
    {
      "cell_type": "code",
      "execution_count": null,
      "metadata": {
        "collapsed": false
      },
      "outputs": [],
      "source": [
        "import fury\nimport numpy as np\n\nfrom fury.animation import Animation, CameraAnimation, Timeline\nfrom fury.animation.interpolator import cubic_spline_interpolator"
      ]
    },
    {
      "cell_type": "markdown",
      "metadata": {},
      "source": [
        "## The Plan\n\nThe plan here is to animate (scale and translate) 50 spheres randomly, and\nshow `FURY` text that appears at the end!\n\n"
      ]
    },
    {
      "cell_type": "code",
      "execution_count": null,
      "metadata": {
        "collapsed": false
      },
      "outputs": [],
      "source": [
        "scene = fury.window.Scene()\n\nshowm = fury.window.ShowManager(\n    scene, size=(900, 768), reset_camera=False, order_transparent=True\n)"
      ]
    },
    {
      "cell_type": "markdown",
      "metadata": {},
      "source": [
        "## Creating the main ``Timeline`` and adding static actors to it\n\nHere we create a ``Timeline``. so that we can use it as a controller for the\n50 animations we will create.\nSo, Instead of updating and adding 50 Animations to the ``ShowManager``,\nwe only need to update the main ``Timeline``. Also, a playback panel can be\nassigned to this main Timeline.\n\nBut, why we need 50 ``Animations``, you may ask.\n-> A single ``Animation`` can handle each property once at a time. So we need\n50 ``Animations`` to translate and scale our 50 spheres.\n\n"
      ]
    },
    {
      "cell_type": "markdown",
      "metadata": {},
      "source": [
        "``playback_panel=True`` assigns a playback panel that can control the\nplayback of its ``Animations``\n\n"
      ]
    },
    {
      "cell_type": "code",
      "execution_count": null,
      "metadata": {
        "collapsed": false
      },
      "outputs": [],
      "source": [
        "timeline = Timeline(playback_panel=True)"
      ]
    },
    {
      "cell_type": "markdown",
      "metadata": {},
      "source": [
        "Creating two actors for visualization, and to detect camera's animations.\n\n"
      ]
    },
    {
      "cell_type": "code",
      "execution_count": null,
      "metadata": {
        "collapsed": false
      },
      "outputs": [],
      "source": [
        "arrow = fury.actor.arrow(\n    np.array([[0, 0, 0]]), np.array([[0, 1, 0]]), np.array([[1, 1, 0]]), scales=5\n)\nplan = fury.actor.box(\n    np.array([[0, 0, 0]]),\n    colors=np.array([[1, 1, 1]]),\n    scales=np.array([[20, 0.2, 20]]),\n)"
      ]
    },
    {
      "cell_type": "markdown",
      "metadata": {},
      "source": [
        "## Creating \"FURY\" text\n\n"
      ]
    },
    {
      "cell_type": "code",
      "execution_count": null,
      "metadata": {
        "collapsed": false
      },
      "outputs": [],
      "source": [
        "fury_text = fury.actor.vector_text(\"FURY\", pos=(-4.3, 15, 0), scale=(2, 2, 2))"
      ]
    },
    {
      "cell_type": "markdown",
      "metadata": {},
      "source": [
        "Creating an ``Animation`` to animate the opacity of ``fury_text``\n\n"
      ]
    },
    {
      "cell_type": "code",
      "execution_count": null,
      "metadata": {
        "collapsed": false
      },
      "outputs": [],
      "source": [
        "text_anim = Animation(fury_text, loop=False)"
      ]
    },
    {
      "cell_type": "markdown",
      "metadata": {},
      "source": [
        "opacity is set to 0 at time 29 and set to one at time 35.\nLinear interpolator is always used by default.\n\n"
      ]
    },
    {
      "cell_type": "code",
      "execution_count": null,
      "metadata": {
        "collapsed": false
      },
      "outputs": [],
      "source": [
        "text_anim.set_opacity(29, 0)\ntext_anim.set_opacity(35, 1)"
      ]
    },
    {
      "cell_type": "markdown",
      "metadata": {},
      "source": [
        "``text_anim`` contains the text actor is added to the Timeline.\n\n"
      ]
    },
    {
      "cell_type": "code",
      "execution_count": null,
      "metadata": {
        "collapsed": false
      },
      "outputs": [],
      "source": [
        "timeline.add_animation(text_anim)"
      ]
    },
    {
      "cell_type": "markdown",
      "metadata": {},
      "source": [
        "## Creating and animating 50 Spheres\n\n\n"
      ]
    },
    {
      "cell_type": "code",
      "execution_count": null,
      "metadata": {
        "collapsed": false
      },
      "outputs": [],
      "source": [
        "for _ in range(50):\n    ###########################################################################\n    # create a sphere actor that's centered at the origin and has random color\n    # and radius.\n    actors = [\n        fury.actor.sphere(\n            np.array([[0, 0, 0]]), np.random.random([1, 3]), np.random.random([1, 3])\n        )\n    ]\n\n    ###########################################################################\n    # create a timeline to animate this actor (single actor or list of actors)\n    # Actors can be added later using `Timeline.add_actor(actor)`\n    animation = Animation(actors)\n\n    # We generate random position and scale values from time=0 to time=49 each\n    # two seconds.\n    for t in range(0, 50, 2):\n        #######################################################################\n        # Position and scale are set to a random value at the timestamps\n        # mentioned above.\n        animation.set_position(t, np.random.random(3) * 30 - np.array([15, 0, 15]))\n        animation.set_scale(t, np.repeat(np.random.random(1), 3))\n\n    ###########################################################################\n    # change the position interpolator to cubic spline interpolator.\n    animation.set_position_interpolator(cubic_spline_interpolator)\n\n    ###########################################################################\n    # Finally, the ``Animation`` is added to the ``Timeline``.\n    timeline.add_animation(animation)"
      ]
    },
    {
      "cell_type": "markdown",
      "metadata": {},
      "source": [
        "## Animating the camera\n\nSince, only one camera is needed, camera animations are preferably done using\na separate ``Animation``.\nThree properties can control the camera's animation:\nPosition, focal position (referred to by `focal`), and up-view.\n\n"
      ]
    },
    {
      "cell_type": "code",
      "execution_count": null,
      "metadata": {
        "collapsed": false
      },
      "outputs": [],
      "source": [
        "camera_anim = CameraAnimation(loop=False)\ntimeline.add_animation(camera_anim)"
      ]
    },
    {
      "cell_type": "markdown",
      "metadata": {},
      "source": [
        "Multiple keyframes can be set at once as follows.\ncamera focal positions\n\n"
      ]
    },
    {
      "cell_type": "code",
      "execution_count": null,
      "metadata": {
        "collapsed": false
      },
      "outputs": [],
      "source": [
        "camera_positions = {\n    # time: camera position\n    0: np.array([3, 3, 3]),\n    4: np.array([50, 25, -40]),\n    7: np.array([-50, 50, -40]),\n    10: np.array([-25, 25, 20]),\n    14: np.array([0, 16, 25]),\n    20: np.array([0, 14.5, 20]),\n}\n\n# camera focal positions\ncamera_focal_positions = {\n    # time: focal position\n    15: np.array([0, 0, 0]),\n    20: np.array([3, 9, 5]),\n    23: np.array([7, 5, 3]),\n    25: np.array([-2, 9, -6]),\n    27: np.array([0, 16, 0]),\n    31: np.array([0, 14.5, 0]),\n}"
      ]
    },
    {
      "cell_type": "markdown",
      "metadata": {},
      "source": [
        "``set_camera_focal`` can only set one keyframe, but\n``set_camera_focal_keyframes`` can set a dictionary of keyframes.\n\n"
      ]
    },
    {
      "cell_type": "code",
      "execution_count": null,
      "metadata": {
        "collapsed": false
      },
      "outputs": [],
      "source": [
        "camera_anim.set_focal_keyframes(camera_focal_positions)\ncamera_anim.set_position_keyframes(camera_positions)"
      ]
    },
    {
      "cell_type": "markdown",
      "metadata": {},
      "source": [
        "Change camera position and focal interpolators\n\n"
      ]
    },
    {
      "cell_type": "code",
      "execution_count": null,
      "metadata": {
        "collapsed": false
      },
      "outputs": [],
      "source": [
        "camera_anim.set_position_interpolator(cubic_spline_interpolator)\ncamera_anim.set_focal_interpolator(cubic_spline_interpolator)"
      ]
    },
    {
      "cell_type": "markdown",
      "metadata": {},
      "source": [
        "Adding non-animatable actors to the scene.\n\n"
      ]
    },
    {
      "cell_type": "code",
      "execution_count": null,
      "metadata": {
        "collapsed": false
      },
      "outputs": [],
      "source": [
        "scene.add(arrow, plan)"
      ]
    },
    {
      "cell_type": "markdown",
      "metadata": {},
      "source": [
        "Adding the timeline to the ShowManager.\n\n"
      ]
    },
    {
      "cell_type": "code",
      "execution_count": null,
      "metadata": {
        "collapsed": false
      },
      "outputs": [],
      "source": [
        "showm.add_animation(timeline)"
      ]
    },
    {
      "cell_type": "markdown",
      "metadata": {},
      "source": [
        "The ShowManager must go on!\n\n"
      ]
    },
    {
      "cell_type": "code",
      "execution_count": null,
      "metadata": {
        "collapsed": false
      },
      "outputs": [],
      "source": [
        "interactive = False\n\nif interactive:\n    showm.start()\n\nfury.window.record(scene, out_path=\"viz_keyframe_animation_camera.png\", size=(900, 768))"
      ]
    }
  ],
  "metadata": {
    "kernelspec": {
      "display_name": "Python 3",
      "language": "python",
      "name": "python3"
    },
    "language_info": {
      "codemirror_mode": {
        "name": "ipython",
        "version": 3
      },
      "file_extension": ".py",
      "mimetype": "text/x-python",
      "name": "python",
      "nbconvert_exporter": "python",
      "pygments_lexer": "ipython3",
      "version": "3.9.19"
    }
  },
  "nbformat": 4,
  "nbformat_minor": 0
}