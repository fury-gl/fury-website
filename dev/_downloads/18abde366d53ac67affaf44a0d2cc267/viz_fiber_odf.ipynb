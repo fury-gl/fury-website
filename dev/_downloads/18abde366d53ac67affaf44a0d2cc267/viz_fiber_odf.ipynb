{
  "cells": [
    {
      "cell_type": "markdown",
      "metadata": {},
      "source": [
        "\n# Brain Fiber ODF Visualisation\n\nThis example demonstrate how to create a simple viewer for fiber\norientation distribution functions (ODF) using fury's odf_slicer.\n"
      ]
    },
    {
      "cell_type": "code",
      "execution_count": null,
      "metadata": {
        "collapsed": false
      },
      "outputs": [],
      "source": [
        "from dipy.data import get_sphere\nfrom dipy.reconst.shm import sh_to_sf_matrix\nimport nibabel as nib\n\n# First, we import some useful modules and methods.\nimport numpy as np\n\nimport fury"
      ]
    },
    {
      "cell_type": "markdown",
      "metadata": {},
      "source": [
        "Here, we fetch and load the fiber ODF volume to display. The ODF are\nexpressed as spherical harmonics (SH) coefficients in a 3D grid.\n\n"
      ]
    },
    {
      "cell_type": "code",
      "execution_count": null,
      "metadata": {
        "collapsed": false
      },
      "outputs": [],
      "source": [
        "fury.data.fetch_viz_dmri()\nfury.data.fetch_viz_icons()\n\nfodf_img = nib.load(fury.data.read_viz_dmri(\"fodf.nii.gz\"))\nsh = fodf_img.get_fdata()\naffine = fodf_img.affine\ngrid_shape = sh.shape[:-1]"
      ]
    },
    {
      "cell_type": "markdown",
      "metadata": {},
      "source": [
        "We then define a low resolution sphere used to visualize SH coefficients\nas spherical functions (SF) as well as a matrix `B_low` to project SH\nonto the sphere.\n\n"
      ]
    },
    {
      "cell_type": "code",
      "execution_count": null,
      "metadata": {
        "collapsed": false
      },
      "outputs": [],
      "source": [
        "sphere_low = get_sphere(\"repulsion100\")\nB_low = sh_to_sf_matrix(sphere_low, 8, return_inv=False)"
      ]
    },
    {
      "cell_type": "markdown",
      "metadata": {},
      "source": [
        "Now, we create a slicer for each orientation to display a slice in\nthe middle of the volume and we add them to a `scene`.\n\n"
      ]
    },
    {
      "cell_type": "code",
      "execution_count": null,
      "metadata": {
        "collapsed": false
      },
      "outputs": [],
      "source": [
        "# Change these values to test various parameters combinations.\nscale = 0.5\nnorm = False\ncolormap = None\nradial_scale = True\nopacity = 1.0\nglobal_cm = False\n\n# ODF slicer for axial slice\nodf_actor_z = fury.actor.odf_slicer(\n    sh,\n    affine=affine,\n    sphere=sphere_low,\n    scale=scale,\n    norm=norm,\n    radial_scale=radial_scale,\n    opacity=opacity,\n    colormap=colormap,\n    global_cm=global_cm,\n    B_matrix=B_low,\n)\n\n# ODF slicer for coronal slice\nodf_actor_y = fury.actor.odf_slicer(\n    sh,\n    affine=affine,\n    sphere=sphere_low,\n    scale=scale,\n    norm=norm,\n    radial_scale=radial_scale,\n    opacity=opacity,\n    colormap=colormap,\n    global_cm=global_cm,\n    B_matrix=B_low,\n)\nodf_actor_y.display_extent(\n    0, grid_shape[0] - 1, grid_shape[1] // 2, grid_shape[1] // 2, 0, grid_shape[2] - 1\n)\n\n# ODF slicer for sagittal slice\nodf_actor_x = fury.actor.odf_slicer(\n    sh,\n    affine=affine,\n    sphere=sphere_low,\n    scale=scale,\n    norm=norm,\n    radial_scale=radial_scale,\n    opacity=opacity,\n    colormap=colormap,\n    global_cm=global_cm,\n    B_matrix=B_low,\n)\nodf_actor_x.display_extent(\n    grid_shape[0] // 2, grid_shape[0] // 2, 0, grid_shape[1] - 1, 0, grid_shape[2] - 1\n)\n\nscene = fury.window.Scene()\nscene.add(odf_actor_z)\nscene.add(odf_actor_y)\nscene.add(odf_actor_x)\n\nshow_m = fury.window.ShowManager(scene, reset_camera=True, size=(1200, 900))"
      ]
    },
    {
      "cell_type": "markdown",
      "metadata": {},
      "source": [
        "Now that we have a `ShowManager` containing our slicer, we can go on and\nconfigure our UI for changing the slices to visualize.\n\n"
      ]
    },
    {
      "cell_type": "code",
      "execution_count": null,
      "metadata": {
        "collapsed": false
      },
      "outputs": [],
      "source": [
        "line_slider_z = fury.ui.LineSlider2D(\n    min_value=0,\n    max_value=grid_shape[2] - 1,\n    initial_value=grid_shape[2] / 2,\n    text_template=\"{value:.0f}\",\n    length=140,\n)\n\nline_slider_y = fury.ui.LineSlider2D(\n    min_value=0,\n    max_value=grid_shape[1] - 1,\n    initial_value=grid_shape[1] / 2,\n    text_template=\"{value:.0f}\",\n    length=140,\n)\n\nline_slider_x = fury.ui.LineSlider2D(\n    min_value=0,\n    max_value=grid_shape[0] - 1,\n    initial_value=grid_shape[0] / 2,\n    text_template=\"{value:.0f}\",\n    length=140,\n)"
      ]
    },
    {
      "cell_type": "markdown",
      "metadata": {},
      "source": [
        "We also define a high resolution sphere to demonstrate the capability to\ndynamically change the sphere used for SH to SF projection.\n\n"
      ]
    },
    {
      "cell_type": "code",
      "execution_count": null,
      "metadata": {
        "collapsed": false
      },
      "outputs": [],
      "source": [
        "sphere_high = get_sphere(\"symmetric362\")\n\n# We fix the order of the faces' three vertices to a clockwise winding. This\n# ensures all faces have a normal going away from the center of the sphere.\nsphere_high.faces = fury.utils.fix_winding_order(\n    sphere_high.vertices, sphere_high.faces, True\n)\nB_high = sh_to_sf_matrix(sphere_high, 8, return_inv=False)"
      ]
    },
    {
      "cell_type": "markdown",
      "metadata": {},
      "source": [
        "We add a combobox for choosing the sphere resolution during execution.\n\n"
      ]
    },
    {
      "cell_type": "code",
      "execution_count": null,
      "metadata": {
        "collapsed": false
      },
      "outputs": [],
      "source": [
        "sphere_dict = {\n    \"Low resolution\": (sphere_low, B_low),\n    \"High resolution\": (sphere_high, B_high),\n}\ncombobox = fury.ui.ComboBox2D(items=list(sphere_dict))\nscene.add(combobox)"
      ]
    },
    {
      "cell_type": "markdown",
      "metadata": {},
      "source": [
        "Here we will write callbacks for the sliders and combo box and register them.\n\n"
      ]
    },
    {
      "cell_type": "code",
      "execution_count": null,
      "metadata": {
        "collapsed": false
      },
      "outputs": [],
      "source": [
        "def change_slice_z(slider):\n    i = int(np.round(slider.value))\n    odf_actor_z.slice_along_axis(i)\n\n\ndef change_slice_y(slider):\n    i = int(np.round(slider.value))\n    odf_actor_y.slice_along_axis(i, \"yaxis\")\n\n\ndef change_slice_x(slider):\n    i = int(np.round(slider.value))\n    odf_actor_x.slice_along_axis(i, \"xaxis\")\n\n\ndef change_sphere(combobox):\n    sphere, B = sphere_dict[combobox.selected_text]\n    odf_actor_x.update_sphere(sphere.vertices, sphere.faces, B)\n    odf_actor_y.update_sphere(sphere.vertices, sphere.faces, B)\n    odf_actor_z.update_sphere(sphere.vertices, sphere.faces, B)\n\n\nline_slider_z.on_change = change_slice_z\nline_slider_y.on_change = change_slice_y\nline_slider_x.on_change = change_slice_x\ncombobox.on_change = change_sphere"
      ]
    },
    {
      "cell_type": "markdown",
      "metadata": {},
      "source": [
        "We then add labels for the sliders and position them inside a panel.\n\n"
      ]
    },
    {
      "cell_type": "code",
      "execution_count": null,
      "metadata": {
        "collapsed": false
      },
      "outputs": [],
      "source": [
        "def build_label(text):\n    label = fury.ui.TextBlock2D()\n    label.message = text\n    label.font_size = 18\n    label.font_family = \"Arial\"\n    label.justification = \"left\"\n    label.bold = False\n    label.italic = False\n    label.shadow = False\n    label.background_color = (0, 0, 0)\n    label.color = (1, 1, 1)\n\n    return label\n\n\nline_slider_label_z = build_label(text=\"Z Slice\")\nline_slider_label_y = build_label(text=\"Y Slice\")\nline_slider_label_x = build_label(text=\"X Slice\")\n\npanel = fury.ui.Panel2D(size=(300, 200), color=(1, 1, 1), opacity=0.1, align=\"right\")\npanel.center = (1030, 120)\n\npanel.add_element(line_slider_label_x, (0.1, 0.75))\npanel.add_element(line_slider_x, (0.38, 0.75))\npanel.add_element(line_slider_label_y, (0.1, 0.55))\npanel.add_element(line_slider_y, (0.38, 0.55))\npanel.add_element(line_slider_label_z, (0.1, 0.35))\npanel.add_element(line_slider_z, (0.38, 0.35))\n\nshow_m.scene.add(panel)"
      ]
    },
    {
      "cell_type": "markdown",
      "metadata": {},
      "source": [
        "Then, we can render all the widgets and everything else in the screen and\nstart the interaction using ``show_m.start()``.\n\nHowever, if you change the window size, the panel will not update its\nposition properly. The solution to this issue is to update the position of\nthe panel using its ``re_align`` method every time the window size changes.\n\n"
      ]
    },
    {
      "cell_type": "code",
      "execution_count": null,
      "metadata": {
        "collapsed": false
      },
      "outputs": [],
      "source": [
        "size = scene.GetSize()\n\n\ndef win_callback(obj, _event):\n    global size\n    if size != obj.GetSize():\n        size_old = size\n        size = obj.GetSize()\n        size_change = [size[0] - size_old[0], 0]\n        panel.re_align(size_change)"
      ]
    },
    {
      "cell_type": "markdown",
      "metadata": {},
      "source": [
        "Finally, please set the following variable to ``True`` to interact with the\ndatasets in 3D.\n\n"
      ]
    },
    {
      "cell_type": "code",
      "execution_count": null,
      "metadata": {
        "collapsed": false
      },
      "outputs": [],
      "source": [
        "interactive = False\n\nif interactive:\n    show_m.add_window_callback(win_callback)\n    show_m.render()\n    show_m.start()\nelse:\n    fury.window.record(\n        scene, out_path=\"odf_slicer_3D.png\", size=(1200, 900), reset_camera=False\n    )\n\ndel show_m"
      ]
    }
  ],
  "metadata": {
    "kernelspec": {
      "display_name": "Python 3",
      "language": "python",
      "name": "python3"
    },
    "language_info": {
      "codemirror_mode": {
        "name": "ipython",
        "version": 3
      },
      "file_extension": ".py",
      "mimetype": "text/x-python",
      "name": "python",
      "nbconvert_exporter": "python",
      "pygments_lexer": "ipython3",
      "version": "3.9.20"
    }
  },
  "nbformat": 4,
  "nbformat_minor": 0
}