{
  "cells": [
    {
      "cell_type": "code",
      "execution_count": null,
      "metadata": {
        "collapsed": false
      },
      "outputs": [],
      "source": [
        "%matplotlib inline"
      ]
    },
    {
      "cell_type": "markdown",
      "metadata": {},
      "source": [
        "\n# Visualize surfaces\n\nHere is a simple tutorial that shows how to visualize surfaces using DIPY. It\nalso shows how to load/save, get/set and update ``vtkPolyData`` and show\nsurfaces.\n\n``vtkPolyData`` is a structure used by VTK to represent surfaces and other data\nstructures. Here we show how to visualize a simple cube but the same idea\nshould apply for any surface.\n\n"
      ]
    },
    {
      "cell_type": "code",
      "execution_count": null,
      "metadata": {
        "collapsed": false
      },
      "outputs": [],
      "source": [
        "import numpy as np"
      ]
    },
    {
      "cell_type": "markdown",
      "metadata": {},
      "source": [
        "Import useful functions\n\n"
      ]
    },
    {
      "cell_type": "code",
      "execution_count": null,
      "metadata": {
        "collapsed": false
      },
      "outputs": [],
      "source": [
        "from fury import window, utils\nfrom fury.io import save_polydata, load_polydata\nfrom fury.utils import vtk"
      ]
    },
    {
      "cell_type": "markdown",
      "metadata": {},
      "source": [
        "Create an empty ``vtkPolyData``\n\n"
      ]
    },
    {
      "cell_type": "code",
      "execution_count": null,
      "metadata": {
        "collapsed": false
      },
      "outputs": [],
      "source": [
        "my_polydata = vtk.vtkPolyData()"
      ]
    },
    {
      "cell_type": "markdown",
      "metadata": {},
      "source": [
        "Create a cube with vertices and triangles as numpy arrays\n\n"
      ]
    },
    {
      "cell_type": "code",
      "execution_count": null,
      "metadata": {
        "collapsed": false
      },
      "outputs": [],
      "source": [
        "my_vertices = np.array([[0.0, 0.0, 0.0],\n                       [0.0, 0.0, 1.0],\n                       [0.0, 1.0, 0.0],\n                       [0.0, 1.0, 1.0],\n                       [1.0, 0.0, 0.0],\n                       [1.0, 0.0, 1.0],\n                       [1.0, 1.0, 0.0],\n                       [1.0, 1.0, 1.0]])\n# the data type for vtk is needed to mention here, numpy.int64\nmy_triangles = np.array([[0, 6, 4],\n                         [0, 2, 6],\n                         [0, 3, 2],\n                         [0, 1, 3],\n                         [2, 7, 6],\n                         [2, 3, 7],\n                         [4, 6, 7],\n                         [4, 7, 5],\n                         [0, 4, 5],\n                         [0, 5, 1],\n                         [1, 5, 7],\n                         [1, 7, 3]], dtype='i8')"
      ]
    },
    {
      "cell_type": "markdown",
      "metadata": {},
      "source": [
        "Set vertices and triangles in the ``vtkPolyData``\n\n"
      ]
    },
    {
      "cell_type": "code",
      "execution_count": null,
      "metadata": {
        "collapsed": false
      },
      "outputs": [],
      "source": [
        "utils.set_polydata_vertices(my_polydata, my_vertices)\nutils.set_polydata_triangles(my_polydata, my_triangles)"
      ]
    },
    {
      "cell_type": "markdown",
      "metadata": {},
      "source": [
        "Save the ``vtkPolyData``\n\n"
      ]
    },
    {
      "cell_type": "code",
      "execution_count": null,
      "metadata": {
        "collapsed": false
      },
      "outputs": [],
      "source": [
        "file_name = \"my_cube.vtk\"\nsave_polydata(my_polydata, file_name)\nprint(\"Surface saved in \" + file_name)"
      ]
    },
    {
      "cell_type": "markdown",
      "metadata": {},
      "source": [
        "Load the ``vtkPolyData``\n\n"
      ]
    },
    {
      "cell_type": "code",
      "execution_count": null,
      "metadata": {
        "collapsed": false
      },
      "outputs": [],
      "source": [
        "cube_polydata = load_polydata(file_name)"
      ]
    },
    {
      "cell_type": "markdown",
      "metadata": {},
      "source": [
        "add color based on vertices position\n\n"
      ]
    },
    {
      "cell_type": "code",
      "execution_count": null,
      "metadata": {
        "collapsed": false
      },
      "outputs": [],
      "source": [
        "cube_vertices = utils.get_polydata_vertices(cube_polydata)\ncolors = cube_vertices * 255\nutils.set_polydata_colors(cube_polydata, colors)\n\nprint(\"new surface colors\")\nprint(utils.get_polydata_colors(cube_polydata))"
      ]
    },
    {
      "cell_type": "markdown",
      "metadata": {},
      "source": [
        "Visualize surfaces\n\n"
      ]
    },
    {
      "cell_type": "code",
      "execution_count": null,
      "metadata": {
        "collapsed": false
      },
      "outputs": [],
      "source": [
        "# get vtkActor\ncube_actor = utils.get_actor_from_polydata(cube_polydata)\n\n# Create a scene\nscene = window.Scene()\nscene.add(cube_actor)\nscene.set_camera(position=(10, 5, 7), focal_point=(0.5, 0.5, 0.5))\nscene.zoom(3)\n\n# display\n# window.show(scene, size=(600, 600), reset_camera=False)\nwindow.record(scene, out_path='cube.png', size=(600, 600))"
      ]
    }
  ],
  "metadata": {
    "kernelspec": {
      "display_name": "Python 3",
      "language": "python",
      "name": "python3"
    },
    "language_info": {
      "codemirror_mode": {
        "name": "ipython",
        "version": 3
      },
      "file_extension": ".py",
      "mimetype": "text/x-python",
      "name": "python",
      "nbconvert_exporter": "python",
      "pygments_lexer": "ipython3",
      "version": "3.6.11"
    }
  },
  "nbformat": 4,
  "nbformat_minor": 0
}