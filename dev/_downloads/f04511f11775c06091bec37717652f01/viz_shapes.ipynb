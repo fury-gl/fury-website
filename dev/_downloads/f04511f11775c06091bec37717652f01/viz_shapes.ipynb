{
  "cells": [
    {
      "cell_type": "markdown",
      "metadata": {},
      "source": [
        "\n# Simple Shapes\n\nThis example shows how to use the UI API. We will demonstrate how to draw\nsome geometric shapes from FURY UI elements.\n\nFirst, a bunch of imports.\n"
      ]
    },
    {
      "cell_type": "code",
      "execution_count": null,
      "metadata": {
        "collapsed": false
      },
      "outputs": [],
      "source": [
        "import fury"
      ]
    },
    {
      "cell_type": "markdown",
      "metadata": {},
      "source": [
        "First we need to fetch some icons that are included in FURY.\n\n"
      ]
    },
    {
      "cell_type": "code",
      "execution_count": null,
      "metadata": {
        "collapsed": false
      },
      "outputs": [],
      "source": [
        "fury.data.fetch_viz_icons()"
      ]
    },
    {
      "cell_type": "markdown",
      "metadata": {},
      "source": [
        "Let's draw some simple shapes. First, a rectangle.\n\n"
      ]
    },
    {
      "cell_type": "code",
      "execution_count": null,
      "metadata": {
        "collapsed": false
      },
      "outputs": [],
      "source": [
        "rect = fury.ui.Rectangle2D(size=(100, 100), position=(400, 400), color=(1, 0, 1))"
      ]
    },
    {
      "cell_type": "markdown",
      "metadata": {},
      "source": [
        "Then we can draw a solid circle, or disk.\n\n"
      ]
    },
    {
      "cell_type": "code",
      "execution_count": null,
      "metadata": {
        "collapsed": false
      },
      "outputs": [],
      "source": [
        "disk = fury.ui.Disk2D(outer_radius=50, center=(400, 200), color=(1, 1, 0))"
      ]
    },
    {
      "cell_type": "markdown",
      "metadata": {},
      "source": [
        "Add an inner radius to make a ring.\n\n"
      ]
    },
    {
      "cell_type": "code",
      "execution_count": null,
      "metadata": {
        "collapsed": false
      },
      "outputs": [],
      "source": [
        "ring = fury.ui.Disk2D(\n    outer_radius=50, inner_radius=45, center=(500, 600), color=(0, 1, 1)\n)"
      ]
    },
    {
      "cell_type": "markdown",
      "metadata": {},
      "source": [
        "Now that all the elements have been initialised, we add them to the show\nmanager.\n\n"
      ]
    },
    {
      "cell_type": "code",
      "execution_count": null,
      "metadata": {
        "collapsed": false
      },
      "outputs": [],
      "source": [
        "current_size = (800, 800)\nshow_manager = fury.window.ShowManager(size=current_size, title=\"FURY Shapes Example\")\n\nshow_manager.scene.add(rect)\nshow_manager.scene.add(disk)\nshow_manager.scene.add(ring)\n\ninteractive = False\n\nif interactive:\n    show_manager.start()\n\nfury.window.record(\n    scene=show_manager.scene, size=current_size, out_path=\"viz_shapes.png\"\n)"
      ]
    }
  ],
  "metadata": {
    "kernelspec": {
      "display_name": "Python 3",
      "language": "python",
      "name": "python3"
    },
    "language_info": {
      "codemirror_mode": {
        "name": "ipython",
        "version": 3
      },
      "file_extension": ".py",
      "mimetype": "text/x-python",
      "name": "python",
      "nbconvert_exporter": "python",
      "pygments_lexer": "ipython3",
      "version": "3.9.20"
    }
  },
  "nbformat": 4,
  "nbformat_minor": 0
}