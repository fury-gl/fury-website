{
  "cells": [
    {
      "cell_type": "markdown",
      "metadata": {},
      "source": [
        "\n# Keyframe animation introduction\n\nThis tutorial explains keyframe animation in FURY.\n"
      ]
    },
    {
      "cell_type": "markdown",
      "metadata": {},
      "source": [
        "## Animations in FURY\n\nFURY provides an easy-to-use animation system that enables users creating\ncomplex animations based on keyframes.\nThe user only need to provide the attributes of actors at certain\ntimes (keyframes), and the system will take care of animating everything\nthrough interpolating between those keyframes.\n\n"
      ]
    },
    {
      "cell_type": "markdown",
      "metadata": {},
      "source": [
        "## What exactly is a keyframe\n\nA Keyframe is simply a marker of time which stores the value of a property.\n\nA keyframe consists of a timestamp and some data. These data can be anything\nsuch as temperature, position, or scale.\n\n"
      ]
    },
    {
      "cell_type": "markdown",
      "metadata": {},
      "source": [
        "## What is Keyframe Animation\n\nKeyframe animations is a technique to simplify the process of animating a\nscene.\nInstead of providing the actor attributes for each frame, only a small amount\nof keyframes are needed to create a smooth animation. Each keyframe encodes\nthe state of an actor at a certain timestamp. For instance a keyframe might\ndefine that an actor should be positioned at the origin (0,0,0) at the start\nof the animation. Another keyframe may define that the actor should move to\nposition (1,0,0) after 10 seconds. The system will take care of interpolating\nthe position of that actor between these two keyframes.\n\nAlmost any parameter that you can set for FURY actors can be animated\nusing keyframes.\n\nFor example, a Keyframe might define that the position of a FURY actor is\n(0, 0, 0) at time equals 1 second.\n\nThe goal of a Keyframe is to allow for interpolated animation, meaning,\nfor example, that the user could then add another key at time equals 3\nseconds, specifying the actor's position is (1, 1, 0),\n\nThen the correct position of the actor for all the times between 3 and 10\nwill be interpolated.\n\nFor this tutorial, we are going to use the FURY animation module to translate\nFURY sphere actor.\n\n"
      ]
    },
    {
      "cell_type": "code",
      "execution_count": null,
      "metadata": {
        "collapsed": false
      },
      "outputs": [],
      "source": [
        "import numpy as np\n\nfrom fury import actor, window\nfrom fury.animation import Animation\n\nscene = window.Scene()\n\nshowm = window.ShowManager(scene, size=(900, 768))\nshowm.initialize()"
      ]
    },
    {
      "cell_type": "markdown",
      "metadata": {},
      "source": [
        "## Translating a sphere\n\nThis is a quick demo showing how to translate a sphere from (0, 0, 0) to\n(1, 1, 1).\nFirst, we create an ``Animation``. See ``viz_interpolators.py`` tutorial\n\n"
      ]
    },
    {
      "cell_type": "code",
      "execution_count": null,
      "metadata": {
        "collapsed": false
      },
      "outputs": [],
      "source": [
        "animation = Animation()"
      ]
    },
    {
      "cell_type": "markdown",
      "metadata": {},
      "source": [
        "We also create the FURY sphere actor that will be animated.\n\n"
      ]
    },
    {
      "cell_type": "code",
      "execution_count": null,
      "metadata": {
        "collapsed": false
      },
      "outputs": [],
      "source": [
        "sphere = actor.sphere(np.zeros([1, 3]), np.ones([1, 3]))"
      ]
    },
    {
      "cell_type": "markdown",
      "metadata": {},
      "source": [
        "Then lets add the sphere actor to the ``Animation``\n\n"
      ]
    },
    {
      "cell_type": "code",
      "execution_count": null,
      "metadata": {
        "collapsed": false
      },
      "outputs": [],
      "source": [
        "animation.add_actor(sphere)"
      ]
    },
    {
      "cell_type": "markdown",
      "metadata": {},
      "source": [
        "Then, we set our position keyframes at different timestamps\nHere we want the sphere's position at the beginning to be [0, 0, 0]. And then\nat time equals 3 seconds to be at [1, 1, 0] then finally at the end\n(time equals 6) to return to the initial position which is [0, 0, 0] again.\n\n"
      ]
    },
    {
      "cell_type": "code",
      "execution_count": null,
      "metadata": {
        "collapsed": false
      },
      "outputs": [],
      "source": [
        "animation.set_position(0.0, [-1, -1, 0])\nanimation.set_position(3.0, [1, 1, 0])\nanimation.set_position(6.0, [-1, -1, 0])"
      ]
    },
    {
      "cell_type": "markdown",
      "metadata": {},
      "source": [
        "The ``Animation`` must be added to the ``ShowManager`` as follows:\n\n"
      ]
    },
    {
      "cell_type": "code",
      "execution_count": null,
      "metadata": {
        "collapsed": false
      },
      "outputs": [],
      "source": [
        "showm.add_animation(animation)\nscene.camera().SetPosition(0, 0, 10)"
      ]
    },
    {
      "cell_type": "markdown",
      "metadata": {},
      "source": [
        "Animation can be added to the scene instead of the ``ShowManager`` but, the\nanimation will need to be updated and then render the scene manually.\n\n"
      ]
    },
    {
      "cell_type": "markdown",
      "metadata": {},
      "source": [
        "No need to add the sphere actor to scene, since it's now a part of the\n``Animation``.\n\n"
      ]
    },
    {
      "cell_type": "code",
      "execution_count": null,
      "metadata": {
        "collapsed": false
      },
      "outputs": [],
      "source": [
        "interactive = False\n\nif interactive:\n    showm.start()\n\nwindow.record(\n    scene, out_path='viz_keyframe_animation_introduction.png', size=(900, 768)\n)"
      ]
    }
  ],
  "metadata": {
    "kernelspec": {
      "display_name": "Python 3",
      "language": "python",
      "name": "python3"
    },
    "language_info": {
      "codemirror_mode": {
        "name": "ipython",
        "version": 3
      },
      "file_extension": ".py",
      "mimetype": "text/x-python",
      "name": "python",
      "nbconvert_exporter": "python",
      "pygments_lexer": "ipython3",
      "version": "3.9.19"
    }
  },
  "nbformat": 4,
  "nbformat_minor": 0
}