{
  "cells": [
    {
      "cell_type": "code",
      "execution_count": null,
      "metadata": {
        "collapsed": false
      },
      "outputs": [],
      "source": [
        "%matplotlib inline"
      ]
    },
    {
      "cell_type": "markdown",
      "metadata": {},
      "source": [
        "\n# Visualize SDF Actor\nHere is a simple tutorial that shows how to visualize SDF primitives using\nFURY.\n\nSDFs or Signed-distance functions when passed the coordinates of a point in\nspace, return the shortest distance between that point and some surface.\nThis property of SDFs can be used to model 3D geometry at a faster rate\ncompared to traditional polygons based modeling.\n\nIn this example we use the raymarching algorithm to render the SDF primitives\nshapes using shaders\n"
      ]
    },
    {
      "cell_type": "code",
      "execution_count": null,
      "metadata": {
        "collapsed": false
      },
      "outputs": [],
      "source": [
        "import numpy as np\nfrom fury import window, actor"
      ]
    },
    {
      "cell_type": "markdown",
      "metadata": {},
      "source": [
        "Lets define variables for the SDF Actor\n\n"
      ]
    },
    {
      "cell_type": "code",
      "execution_count": null,
      "metadata": {
        "collapsed": false
      },
      "outputs": [],
      "source": [
        "dirs = np.random.rand(4, 3)\ncolors = np.random.rand(4, 3) * 255\ncenters = np.array([[1, 0, 0], [0, 0, 0], [-1, 0, 0], [0, 1, 0]])\nscales = np.random.rand(4, 1)"
      ]
    },
    {
      "cell_type": "markdown",
      "metadata": {},
      "source": [
        "Create SDF Actor\n\n"
      ]
    },
    {
      "cell_type": "code",
      "execution_count": null,
      "metadata": {
        "collapsed": false
      },
      "outputs": [],
      "source": [
        "sdfactor = actor.sdf(centers=centers, directions=dirs, colors=colors,\n                     primitives=['sphere', 'torus', 'ellipsoid', 'capsule'],\n                     scales=scales)"
      ]
    },
    {
      "cell_type": "markdown",
      "metadata": {},
      "source": [
        "Create a scene\n\n"
      ]
    },
    {
      "cell_type": "code",
      "execution_count": null,
      "metadata": {
        "collapsed": false
      },
      "outputs": [],
      "source": [
        "scene = window.Scene()\nscene.background((1.0, 0.8, 0.8))\nscene.add(sdfactor)"
      ]
    },
    {
      "cell_type": "markdown",
      "metadata": {},
      "source": [
        "Show Manager\n\nSince all the elements have been initialised ,we add them to the show\nmanager.\n\n"
      ]
    },
    {
      "cell_type": "code",
      "execution_count": null,
      "metadata": {
        "collapsed": false
      },
      "outputs": [],
      "source": [
        "current_size = (1024, 720)\nshowm = window.ShowManager(scene, size=current_size,\n                           title=\"Visualize SDF Actor\")\n\ninteractive = False\n\nif interactive:\n    showm.start()\n\nwindow.record(scene, out_path='viz_sdfactor.png', size=current_size)"
      ]
    }
  ],
  "metadata": {
    "kernelspec": {
      "display_name": "Python 3",
      "language": "python",
      "name": "python3"
    },
    "language_info": {
      "codemirror_mode": {
        "name": "ipython",
        "version": 3
      },
      "file_extension": ".py",
      "mimetype": "text/x-python",
      "name": "python",
      "nbconvert_exporter": "python",
      "pygments_lexer": "ipython3",
      "version": "3.9.16"
    }
  },
  "nbformat": 4,
  "nbformat_minor": 0
}