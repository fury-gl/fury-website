{
  "cells": [
    {
      "cell_type": "markdown",
      "metadata": {},
      "source": [
        "\n# Visualize Interdisciplinary map of the journals network\n\nThe goal of this app is to show an overview of the journals network structure\nas a complex network. Each journal is shown as a node and their connections\nindicates a citation between two of them.\n"
      ]
    },
    {
      "cell_type": "markdown",
      "metadata": {},
      "source": [
        "First, let's import some useful functions\n\n"
      ]
    },
    {
      "cell_type": "code",
      "execution_count": null,
      "metadata": {
        "collapsed": false
      },
      "outputs": [],
      "source": [
        "from os.path import join as pjoin\n\nimport numpy as np\n\nfrom fury import actor, colormap as cmap, window\nfrom fury.data import fetch_viz_wiki_nw"
      ]
    },
    {
      "cell_type": "markdown",
      "metadata": {},
      "source": [
        "Then let's download some available datasets.\n\n"
      ]
    },
    {
      "cell_type": "code",
      "execution_count": null,
      "metadata": {
        "collapsed": false
      },
      "outputs": [],
      "source": [
        "files, folder = fetch_viz_wiki_nw()\ncategories_file, edges_file, positions_file = sorted(files.keys())"
      ]
    },
    {
      "cell_type": "markdown",
      "metadata": {},
      "source": [
        "We read our datasets\n\n"
      ]
    },
    {
      "cell_type": "code",
      "execution_count": null,
      "metadata": {
        "collapsed": false
      },
      "outputs": [],
      "source": [
        "positions = np.loadtxt(pjoin(folder, positions_file))\ncategories = np.loadtxt(pjoin(folder, categories_file), dtype=str)\nedges = np.loadtxt(pjoin(folder, edges_file), dtype=int)"
      ]
    },
    {
      "cell_type": "markdown",
      "metadata": {},
      "source": [
        "We attribute a color to each category of our dataset which correspond to our\nnodes colors.\n\n"
      ]
    },
    {
      "cell_type": "code",
      "execution_count": null,
      "metadata": {
        "collapsed": false
      },
      "outputs": [],
      "source": [
        "category2index = {category: i for i, category in enumerate(np.unique(categories))}\n\nindex2category = np.unique(categories)\n\ncategoryColors = cmap.distinguishable_colormap(nb_colors=len(index2category))\n\ncolors = np.array([categoryColors[category2index[category]] for category in categories])"
      ]
    },
    {
      "cell_type": "markdown",
      "metadata": {},
      "source": [
        "We define our node size\n\n"
      ]
    },
    {
      "cell_type": "code",
      "execution_count": null,
      "metadata": {
        "collapsed": false
      },
      "outputs": [],
      "source": [
        "radii = 1 + np.random.rand(len(positions))"
      ]
    },
    {
      "cell_type": "markdown",
      "metadata": {},
      "source": [
        "Lets create our edges now. They will indicate a citation between two nodes.\nOF course, the colors of each edges will be an interpolation between the two\nnode that it connects.\n\n"
      ]
    },
    {
      "cell_type": "code",
      "execution_count": null,
      "metadata": {
        "collapsed": false
      },
      "outputs": [],
      "source": [
        "edgesPositions = []\nedgesColors = []\nfor source, target in edges:\n    edgesPositions.append(np.array([positions[source], positions[target]]))\n    edgesColors.append(np.array([colors[source], colors[target]]))\n\nedgesPositions = np.array(edgesPositions)\nedgesColors = np.average(np.array(edgesColors), axis=1)"
      ]
    },
    {
      "cell_type": "markdown",
      "metadata": {},
      "source": [
        "Our data preparation is ready, it is time to visualize them all. We start to\nbuild 2 actors that we represent our data : sphere_actor for the nodes and\nlines_actor for the edges.\n\n"
      ]
    },
    {
      "cell_type": "code",
      "execution_count": null,
      "metadata": {
        "collapsed": false
      },
      "outputs": [],
      "source": [
        "sphere_actor = actor.sphere(\n    centers=positions,\n    colors=colors,\n    radii=radii * 0.5,\n    theta=8,\n    phi=8,\n)\n\nlines_actor = actor.line(\n    edgesPositions,\n    colors=edgesColors,\n    opacity=0.1,\n)"
      ]
    },
    {
      "cell_type": "markdown",
      "metadata": {},
      "source": [
        "All actors need to be added in a scene, so we build one and add our\nlines_actor and sphere_actor.\n\n"
      ]
    },
    {
      "cell_type": "code",
      "execution_count": null,
      "metadata": {
        "collapsed": false
      },
      "outputs": [],
      "source": [
        "scene = window.Scene()\n\nscene.add(lines_actor)\nscene.add(sphere_actor)"
      ]
    },
    {
      "cell_type": "markdown",
      "metadata": {},
      "source": [
        "The final step ! Visualize and save the result of our creation! Please,\nswitch interactive variable to True if you want to visualize it.\n\n"
      ]
    },
    {
      "cell_type": "code",
      "execution_count": null,
      "metadata": {
        "collapsed": false
      },
      "outputs": [],
      "source": [
        "interactive = False\n\nif interactive:\n    window.show(scene, size=(600, 600))\n\nwindow.record(scene, out_path=\"journal_networks.png\", size=(600, 600))"
      ]
    },
    {
      "cell_type": "markdown",
      "metadata": {},
      "source": [
        "This example can be improved by adding some interactivy with slider,\npicking, etc. Play with it, improve it!\n\n"
      ]
    }
  ],
  "metadata": {
    "kernelspec": {
      "display_name": "Python 3",
      "language": "python",
      "name": "python3"
    },
    "language_info": {
      "codemirror_mode": {
        "name": "ipython",
        "version": 3
      },
      "file_extension": ".py",
      "mimetype": "text/x-python",
      "name": "python",
      "nbconvert_exporter": "python",
      "pygments_lexer": "ipython3",
      "version": "3.9.19"
    }
  },
  "nbformat": 4,
  "nbformat_minor": 0
}