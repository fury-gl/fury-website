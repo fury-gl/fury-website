{
  "cells": [
    {
      "cell_type": "code",
      "execution_count": null,
      "metadata": {
        "collapsed": false
      },
      "outputs": [],
      "source": [
        "%matplotlib inline"
      ]
    },
    {
      "cell_type": "markdown",
      "metadata": {},
      "source": [
        "\n# DrawPanel\n\nThis example shows how to use the DrawPanel UI. We will demonstrate how to\ncreate Various shapes and transform them.\n\nFirst, some imports.\n"
      ]
    },
    {
      "cell_type": "code",
      "execution_count": null,
      "metadata": {
        "collapsed": false
      },
      "outputs": [],
      "source": [
        "from fury import ui, window\nfrom fury.data import fetch_viz_new_icons"
      ]
    },
    {
      "cell_type": "markdown",
      "metadata": {},
      "source": [
        "First we need to fetch some icons that are needed for DrawPanel.\n\n"
      ]
    },
    {
      "cell_type": "code",
      "execution_count": null,
      "metadata": {
        "collapsed": false
      },
      "outputs": [],
      "source": [
        "fetch_viz_new_icons()"
      ]
    },
    {
      "cell_type": "markdown",
      "metadata": {},
      "source": [
        "We then create a DrawPanel Object.\n\n"
      ]
    },
    {
      "cell_type": "code",
      "execution_count": null,
      "metadata": {
        "collapsed": false
      },
      "outputs": [],
      "source": [
        "drawing_canvas = ui.DrawPanel(size=(560, 560), position=(40, 10))"
      ]
    },
    {
      "cell_type": "markdown",
      "metadata": {},
      "source": [
        "## Show Manager\n\nNow we add DrawPanel to the scene.\n\n"
      ]
    },
    {
      "cell_type": "code",
      "execution_count": null,
      "metadata": {
        "collapsed": false
      },
      "outputs": [],
      "source": [
        "current_size = (650, 650)\nshowm = window.ShowManager(size=current_size, title='DrawPanel UI Example')\n\nshowm.scene.add(drawing_canvas)\n\ninteractive = False\n\nif interactive:\n    showm.start()\nelse:\n    # If the UI isn't interactive, then adding a circle to the canvas\n    drawing_canvas.current_mode = 'circle'\n    drawing_canvas.draw_shape(shape_type='circle', current_position=(275, 275))\n    drawing_canvas.shape_list[-1].resize((50, 50))\n\n    window.record(showm.scene, size=current_size, out_path='viz_drawpanel.png')"
      ]
    }
  ],
  "metadata": {
    "kernelspec": {
      "display_name": "Python 3",
      "language": "python",
      "name": "python3"
    },
    "language_info": {
      "codemirror_mode": {
        "name": "ipython",
        "version": 3
      },
      "file_extension": ".py",
      "mimetype": "text/x-python",
      "name": "python",
      "nbconvert_exporter": "python",
      "pygments_lexer": "ipython3",
      "version": "3.9.16"
    }
  },
  "nbformat": 4,
  "nbformat_minor": 0
}