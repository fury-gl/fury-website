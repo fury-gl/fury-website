{
  "cells": [
    {
      "cell_type": "markdown",
      "metadata": {},
      "source": [
        "\n# Bezier Interpolator\n\nKeyframe animation using cubic Bezier interpolator.\n"
      ]
    },
    {
      "cell_type": "code",
      "execution_count": null,
      "metadata": {
        "collapsed": false
      },
      "outputs": [],
      "source": [
        "import numpy as np\nimport fury"
      ]
    },
    {
      "cell_type": "markdown",
      "metadata": {},
      "source": [
        "## Position interpolation using cubic Bezier curve\n\nCubic bezier curve is a widely used method for interpolating motion paths.\nThis can be achieved using positions and control points between those\npositions.\n\n"
      ]
    },
    {
      "cell_type": "code",
      "execution_count": null,
      "metadata": {
        "collapsed": false
      },
      "outputs": [],
      "source": [
        "scene = fury.window.Scene()\nshowm = fury.window.ShowManager(\n    scene, size=(900, 768), reset_camera=False, order_transparent=True\n)"
      ]
    },
    {
      "cell_type": "markdown",
      "metadata": {},
      "source": [
        "## Cubic Bezier curve parameters\nIn order to make a cubic bezier curve based animation, you need four values\nfor every keyframe:\n\n1- Timestamp: The time that the keyframe is assigned to.\n\n2- Value: The value of the keyframe. This might be position, quaternion, or scale\nvalue.\n\n3- In control point: The control point used when the value is the destination value.\n\n4- Out control point: The control point used when the value is the departure\nvalue::\n\n      keyframe 0            ----------------->         keyframe 1\n      (time-0) (value-0) (out-cp-0) -----------------> (time-1) (value-1) (in-cp-1)\n      keyframe 1            ----------------->         keyframe 2\n      (time-1) (value-1) (out-cp-1) -----------------> (time-2) (value-2) (in-cp-2)\n\n\n"
      ]
    },
    {
      "cell_type": "code",
      "execution_count": null,
      "metadata": {
        "collapsed": false
      },
      "outputs": [],
      "source": [
        "keyframe_1 = {\"value\": [-2, 0, 0], \"out_cp\": [-15, 6, 0]}\nkeyframe_2 = {\"value\": [18, 0, 0], \"in_cp\": [27, 18, 0]}"
      ]
    },
    {
      "cell_type": "markdown",
      "metadata": {},
      "source": [
        "Visualizing points\n\n"
      ]
    },
    {
      "cell_type": "code",
      "execution_count": null,
      "metadata": {
        "collapsed": false
      },
      "outputs": [],
      "source": [
        "pts_actor = fury.actor.sphere(\n    np.array([keyframe_1.get(\"value\"), keyframe_2.get(\"value\")]), (1, 0, 0), radii=0.3\n)"
      ]
    },
    {
      "cell_type": "markdown",
      "metadata": {},
      "source": [
        "Visualizing the control points\n\n"
      ]
    },
    {
      "cell_type": "code",
      "execution_count": null,
      "metadata": {
        "collapsed": false
      },
      "outputs": [],
      "source": [
        "cps_actor = fury.actor.sphere(\n    np.array([keyframe_2.get(\"in_cp\"), keyframe_1.get(\"out_cp\")]), (0, 0, 1), radii=0.6\n)"
      ]
    },
    {
      "cell_type": "markdown",
      "metadata": {},
      "source": [
        "Visualizing the connection between the control points and the points\n\n"
      ]
    },
    {
      "cell_type": "code",
      "execution_count": null,
      "metadata": {
        "collapsed": false
      },
      "outputs": [],
      "source": [
        "cline_actor = fury.actor.line(\n    np.array([list(keyframe_1.values()), list(keyframe_2.values())]),\n    colors=np.array([0, 1, 0]),\n)"
      ]
    },
    {
      "cell_type": "markdown",
      "metadata": {},
      "source": [
        "Initializing an ``Animation`` and adding sphere actor to it.\n\n"
      ]
    },
    {
      "cell_type": "code",
      "execution_count": null,
      "metadata": {
        "collapsed": false
      },
      "outputs": [],
      "source": [
        "animation = fury.animation.Animation()\nsphere = fury.actor.sphere(np.array([[0, 0, 0]]), (1, 0, 1))\nanimation.add_actor(sphere)"
      ]
    },
    {
      "cell_type": "markdown",
      "metadata": {},
      "source": [
        "## Setting Cubic Bezier keyframes\n\nCubic Bezier keyframes consists of 4 data per keyframe\nTimestamp, position, in control point, and out control point.\n\n- In control point is the cubic bezier control point for the associated\n  position when this position is the destination position.\n- Out control point is the cubic bezier control point for the associated\n  position when this position is the origin position or departing position.\n\nNote: If a control point is not provided or set `None`, this control point\nwill be the same as the position itself.\n\n"
      ]
    },
    {
      "cell_type": "code",
      "execution_count": null,
      "metadata": {
        "collapsed": false
      },
      "outputs": [],
      "source": [
        "animation.set_position(\n    0.0, np.array(keyframe_1.get(\"value\")), out_cp=np.array(keyframe_1.get(\"out_cp\"))\n)\nanimation.set_position(\n    5.0, np.array(keyframe_2.get(\"value\")), in_cp=np.array(keyframe_2.get(\"in_cp\"))\n)"
      ]
    },
    {
      "cell_type": "markdown",
      "metadata": {},
      "source": [
        "Changing position interpolation into cubic bezier interpolation\n\n"
      ]
    },
    {
      "cell_type": "code",
      "execution_count": null,
      "metadata": {
        "collapsed": false
      },
      "outputs": [],
      "source": [
        "animation.set_position_interpolator(fury.animation.cubic_bezier_interpolator)"
      ]
    },
    {
      "cell_type": "markdown",
      "metadata": {},
      "source": [
        "Adding the visualization actors to the scene.\n\n"
      ]
    },
    {
      "cell_type": "code",
      "execution_count": null,
      "metadata": {
        "collapsed": false
      },
      "outputs": [],
      "source": [
        "scene.add(pts_actor, cps_actor, cline_actor)"
      ]
    },
    {
      "cell_type": "markdown",
      "metadata": {},
      "source": [
        "Adding the animation to the ``ShowManager``\n\n"
      ]
    },
    {
      "cell_type": "code",
      "execution_count": null,
      "metadata": {
        "collapsed": false
      },
      "outputs": [],
      "source": [
        "showm.add_animation(animation)\n\ninteractive = False\n\nif interactive:\n    showm.start()\n\nfury.window.record(\n    scene,\n    out_path=\"viz_keyframe_animation_bezier_1.png\",\n    size=(900, 768),\n)"
      ]
    },
    {
      "cell_type": "markdown",
      "metadata": {},
      "source": [
        "## A more complex scene scene\n\n\n"
      ]
    },
    {
      "cell_type": "code",
      "execution_count": null,
      "metadata": {
        "collapsed": false
      },
      "outputs": [],
      "source": [
        "scene = fury.window.Scene()\nshow_manager = fury.window.ShowManager(\n    scene, size=(900, 768), reset_camera=False, order_transparent=True\n)"
      ]
    },
    {
      "cell_type": "markdown",
      "metadata": {},
      "source": [
        "Note: If a control point is set to `None`, it gets the value of the\npoint it controls.\n\n"
      ]
    },
    {
      "cell_type": "code",
      "execution_count": null,
      "metadata": {
        "collapsed": false
      },
      "outputs": [],
      "source": [
        "keyframes = {\n    # time - position - in control point  - out control point\n    0.0: {\"value\": [-2, 0, 0], \"out_cp\": [-15, 6, 0]},\n    5.0: {\"value\": [18, 0, 0], \"in_cp\": [27, 18, 0], \"out_cp\": [27, -18, 0]},\n    9.0: {\"value\": [-5, -10, -10]},\n}"
      ]
    },
    {
      "cell_type": "markdown",
      "metadata": {},
      "source": [
        "Create the sphere actor.\n\n"
      ]
    },
    {
      "cell_type": "code",
      "execution_count": null,
      "metadata": {
        "collapsed": false
      },
      "outputs": [],
      "source": [
        "sphere = fury.actor.sphere(np.array([[0, 0, 0]]), (1, 0, 1))"
      ]
    },
    {
      "cell_type": "markdown",
      "metadata": {},
      "source": [
        "Create an ``Animation`` and adding the sphere actor to it.\n\n"
      ]
    },
    {
      "cell_type": "code",
      "execution_count": null,
      "metadata": {
        "collapsed": false
      },
      "outputs": [],
      "source": [
        "animation = fury.animation.Animation(sphere)"
      ]
    },
    {
      "cell_type": "markdown",
      "metadata": {},
      "source": [
        "Setting Cubic Bezier keyframes\n\n"
      ]
    },
    {
      "cell_type": "code",
      "execution_count": null,
      "metadata": {
        "collapsed": false
      },
      "outputs": [],
      "source": [
        "animation.set_position_keyframes(keyframes)"
      ]
    },
    {
      "cell_type": "markdown",
      "metadata": {},
      "source": [
        "changing position interpolation into cubic bezier interpolation\n\n"
      ]
    },
    {
      "cell_type": "code",
      "execution_count": null,
      "metadata": {
        "collapsed": false
      },
      "outputs": [],
      "source": [
        "animation.set_position_interpolator(fury.animation.cubic_bezier_interpolator)"
      ]
    },
    {
      "cell_type": "markdown",
      "metadata": {},
      "source": [
        "visualizing the points and control points (only for demonstration)\n\n"
      ]
    },
    {
      "cell_type": "code",
      "execution_count": null,
      "metadata": {
        "collapsed": false
      },
      "outputs": [],
      "source": [
        "for keyframe in keyframes.values():\n    pos = keyframe.get(\"value\")\n    in_control_point = keyframe.get(\"in_cp\")\n    out_control_point = keyframe.get(\"out_cp\")\n\n    ###########################################################################\n    # visualizing position keyframe\n    vis_point = fury.actor.sphere(np.array([pos]), (1, 0, 0), radii=0.3)\n    scene.add(vis_point)\n\n    ###########################################################################\n    # Visualizing the control points and their length (if exist)\n    for cp in [in_control_point, out_control_point]:\n        if cp is not None:\n            vis_cps = fury.actor.sphere(np.array([cp]), (0, 0, 1), radii=0.6)\n            cline_actor = fury.actor.line(\n                np.array([[pos, cp]]), colors=np.array([0, 1, 0])\n            )\n            scene.add(vis_cps, cline_actor)"
      ]
    },
    {
      "cell_type": "markdown",
      "metadata": {},
      "source": [
        "Initializing the timeline to be able to control the playback of the\nanimation.\n\n"
      ]
    },
    {
      "cell_type": "code",
      "execution_count": null,
      "metadata": {
        "collapsed": false
      },
      "outputs": [],
      "source": [
        "timeline = fury.animation.Timeline(animation, playback_panel=True)"
      ]
    },
    {
      "cell_type": "markdown",
      "metadata": {},
      "source": [
        "We only need to add the ``Timeline`` to the ``ShowManager``\n\n"
      ]
    },
    {
      "cell_type": "code",
      "execution_count": null,
      "metadata": {
        "collapsed": false
      },
      "outputs": [],
      "source": [
        "show_manager.add_animation(timeline)"
      ]
    },
    {
      "cell_type": "markdown",
      "metadata": {},
      "source": [
        "Start the animation\n\n"
      ]
    },
    {
      "cell_type": "code",
      "execution_count": null,
      "metadata": {
        "collapsed": false
      },
      "outputs": [],
      "source": [
        "if interactive:\n    show_manager.start()\n\nfury.window.record(\n    showm.scene, out_path=\"viz_keyframe_animation_bezier_2.png\", size=(900, 768)\n)"
      ]
    }
  ],
  "metadata": {
    "kernelspec": {
      "display_name": "Python 3",
      "language": "python",
      "name": "python3"
    },
    "language_info": {
      "codemirror_mode": {
        "name": "ipython",
        "version": 3
      },
      "file_extension": ".py",
      "mimetype": "text/x-python",
      "name": "python",
      "nbconvert_exporter": "python",
      "pygments_lexer": "ipython3",
      "version": "3.9.19"
    }
  },
  "nbformat": 4,
  "nbformat_minor": 0
}