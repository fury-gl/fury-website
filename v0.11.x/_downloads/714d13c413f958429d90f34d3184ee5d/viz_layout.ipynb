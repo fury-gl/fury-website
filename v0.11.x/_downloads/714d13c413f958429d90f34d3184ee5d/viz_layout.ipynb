{
  "cells": [
    {
      "cell_type": "markdown",
      "metadata": {},
      "source": [
        "\n# Using Layouts with different UI elements\n\nThis example shows how to place different UI elements in different Layouts.\nThe Layouts used here is GridLayout (with different cell shapes).\n\nFirst, let's import fury.\n"
      ]
    },
    {
      "cell_type": "code",
      "execution_count": null,
      "metadata": {
        "collapsed": false
      },
      "outputs": [],
      "source": [
        "import fury"
      ]
    },
    {
      "cell_type": "markdown",
      "metadata": {},
      "source": [
        "We create some panels and then we arrange them in a grid fashion\n\nFirst, we create some panels with different sizes/positions\n\n"
      ]
    },
    {
      "cell_type": "code",
      "execution_count": null,
      "metadata": {
        "collapsed": false
      },
      "outputs": [],
      "source": [
        "panel_1 = fury.ui.Panel2D(size=(200, 200), color=(0.4, 0.6, 0.3), position=(100, 100))\n\npanel_2 = fury.ui.Panel2D(size=(250, 250), color=(0.8, 0.3, 0.5), position=(150, 150))"
      ]
    },
    {
      "cell_type": "markdown",
      "metadata": {},
      "source": [
        "Now we create two listboxes\n\n"
      ]
    },
    {
      "cell_type": "code",
      "execution_count": null,
      "metadata": {
        "collapsed": false
      },
      "outputs": [],
      "source": [
        "listbox_1 = fury.ui.ListBox2D(size=(150, 150), values=[\"First\", \"Second\", \"Third\"])\n\nlistbox_2 = fury.ui.ListBox2D(size=(250, 250), values=[\"First\", \"Second\", \"Third\"])"
      ]
    },
    {
      "cell_type": "markdown",
      "metadata": {},
      "source": [
        "Now we create two different UI i.e. a slider and a listbox\n\n"
      ]
    },
    {
      "cell_type": "code",
      "execution_count": null,
      "metadata": {
        "collapsed": false
      },
      "outputs": [],
      "source": [
        "slider = fury.ui.LineSlider2D(length=150)\nlistbox = fury.ui.ListBox2D(size=(150, 150), values=[\"First\", \"Second\", \"Third\"])"
      ]
    },
    {
      "cell_type": "markdown",
      "metadata": {},
      "source": [
        "Now, we create grids with different shapes\n\n"
      ]
    },
    {
      "cell_type": "code",
      "execution_count": null,
      "metadata": {
        "collapsed": false
      },
      "outputs": [],
      "source": [
        "rect_grid = fury.layout.GridLayout(position_offset=(0, 0, 0))\nsquare_grid = fury.layout.GridLayout(cell_shape=\"square\", position_offset=(0, 300, 0))\ndiagonal_grid = fury.layout.GridLayout(\n    cell_shape=\"diagonal\", position_offset=(0, 600, 0)\n)"
      ]
    },
    {
      "cell_type": "markdown",
      "metadata": {},
      "source": [
        "Applying the grid to the ui elements\n\n"
      ]
    },
    {
      "cell_type": "code",
      "execution_count": null,
      "metadata": {
        "collapsed": false
      },
      "outputs": [],
      "source": [
        "rect_grid.apply([panel_1, panel_2])\nsquare_grid.apply([listbox_1, listbox_2])\ndiagonal_grid.apply([slider, listbox])\n\ncurrent_size = (1500, 1500)\nshow_manager = fury.window.ShowManager(size=current_size, title=\"FURY UI Layout\")\n\nshow_manager.scene.add(panel_1, panel_2, listbox_1, listbox_2, slider, listbox)\n\n# To interact with the UI, set interactive = True\ninteractive = False\n\nif interactive:\n    show_manager.start()\n\nfury.window.record(show_manager.scene, out_path=\"ui_layout.png\", size=(400, 400))"
      ]
    }
  ],
  "metadata": {
    "kernelspec": {
      "display_name": "Python 3",
      "language": "python",
      "name": "python3"
    },
    "language_info": {
      "codemirror_mode": {
        "name": "ipython",
        "version": 3
      },
      "file_extension": ".py",
      "mimetype": "text/x-python",
      "name": "python",
      "nbconvert_exporter": "python",
      "pygments_lexer": "ipython3",
      "version": "3.9.18"
    }
  },
  "nbformat": 4,
  "nbformat_minor": 0
}