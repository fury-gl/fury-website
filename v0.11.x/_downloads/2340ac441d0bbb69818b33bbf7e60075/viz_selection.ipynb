{
  "cells": [
    {
      "cell_type": "markdown",
      "metadata": {},
      "source": [
        "\n# Selecting multiple objects\n\nHere we show how to select objects in the\n3D world. In this example all objects to be picked are part of\na single actor.\n\nFURY likes to bundle objects in a few actors to reduce code and\nincrease speed. Nonetheless the method works for multiple actors too.\n\nThe difference with the picking tutorial is that here we will\nbe able to select more than one object. In addition we can\nselect interactively many vertices or faces.\n\nIn summary, we will create an actor with thousands of cubes and\nthen interactively we will be moving a rectangular box by\nhovering the mouse and making transparent everything that is\nbehind that box.\n"
      ]
    },
    {
      "cell_type": "code",
      "execution_count": null,
      "metadata": {
        "collapsed": false
      },
      "outputs": [],
      "source": [
        "import numpy as np\n\nimport fury"
      ]
    },
    {
      "cell_type": "markdown",
      "metadata": {},
      "source": [
        "Adding many cubes of different sizes and colors\n\n"
      ]
    },
    {
      "cell_type": "code",
      "execution_count": null,
      "metadata": {
        "collapsed": false
      },
      "outputs": [],
      "source": [
        "num_cubes = 50000\n\ncenters = 10000 * (np.random.rand(num_cubes, 3) - 0.5)\ncolors = np.random.rand(num_cubes, 4)\ncolors[:, 3] = 1.0\nradii = 100 * np.random.rand(num_cubes) + 0.1"
      ]
    },
    {
      "cell_type": "markdown",
      "metadata": {},
      "source": [
        "Keep track of total number of triangle faces\nNote that every quad of each cube has 2 triangles\nand each cube has 6 quads in total.\n\n"
      ]
    },
    {
      "cell_type": "code",
      "execution_count": null,
      "metadata": {
        "collapsed": false
      },
      "outputs": [],
      "source": [
        "num_faces = num_cubes * 6 * 2"
      ]
    },
    {
      "cell_type": "markdown",
      "metadata": {},
      "source": [
        "Build scene and add an actor with many objects.\n\n"
      ]
    },
    {
      "cell_type": "code",
      "execution_count": null,
      "metadata": {
        "collapsed": false
      },
      "outputs": [],
      "source": [
        "scene = fury.window.Scene()"
      ]
    },
    {
      "cell_type": "markdown",
      "metadata": {},
      "source": [
        "Build the actor containing all the cubes\n\n"
      ]
    },
    {
      "cell_type": "code",
      "execution_count": null,
      "metadata": {
        "collapsed": false
      },
      "outputs": [],
      "source": [
        "cube_actor = fury.actor.cube(centers, directions=(1, 0, 0), colors=colors, scales=radii)"
      ]
    },
    {
      "cell_type": "markdown",
      "metadata": {},
      "source": [
        "Access the memory of the vertices of all the cubes\n\n"
      ]
    },
    {
      "cell_type": "code",
      "execution_count": null,
      "metadata": {
        "collapsed": false
      },
      "outputs": [],
      "source": [
        "vertices = fury.utils.vertices_from_actor(cube_actor)\nnum_vertices = vertices.shape[0]\nnum_objects = centers.shape[0]"
      ]
    },
    {
      "cell_type": "markdown",
      "metadata": {},
      "source": [
        "Access the memory of the colors of all the cubes\n\n"
      ]
    },
    {
      "cell_type": "code",
      "execution_count": null,
      "metadata": {
        "collapsed": false
      },
      "outputs": [],
      "source": [
        "vcolors = fury.utils.colors_from_actor(cube_actor, \"colors\")"
      ]
    },
    {
      "cell_type": "markdown",
      "metadata": {},
      "source": [
        "Create a rectangular 2d box as a texture\n\n"
      ]
    },
    {
      "cell_type": "code",
      "execution_count": null,
      "metadata": {
        "collapsed": false
      },
      "outputs": [],
      "source": [
        "rgba = 255 * np.ones((100, 200, 4))\nrgba[1:-1, 1:-1] = np.zeros((98, 198, 4)) + 100\ntexa = fury.actor.texture_2d(rgba.astype(np.uint8))\n\nscene.add(cube_actor)\nscene.add(texa)\nscene.reset_camera()\nscene.zoom(3.0)"
      ]
    },
    {
      "cell_type": "markdown",
      "metadata": {},
      "source": [
        "Create the Selection Manager\n\n"
      ]
    },
    {
      "cell_type": "code",
      "execution_count": null,
      "metadata": {
        "collapsed": false
      },
      "outputs": [],
      "source": [
        "selm = fury.pick.SelectionManager(select=\"faces\")"
      ]
    },
    {
      "cell_type": "markdown",
      "metadata": {},
      "source": [
        "Tell Selection Manager to avoid selecting specific actors\n\n"
      ]
    },
    {
      "cell_type": "code",
      "execution_count": null,
      "metadata": {
        "collapsed": false
      },
      "outputs": [],
      "source": [
        "selm.selectable_off(texa)"
      ]
    },
    {
      "cell_type": "markdown",
      "metadata": {},
      "source": [
        "Let's make the callback which will be called\nwhen we hover the mouse\n\n"
      ]
    },
    {
      "cell_type": "code",
      "execution_count": null,
      "metadata": {
        "collapsed": false
      },
      "outputs": [],
      "source": [
        "def hover_callback(_obj, _event):\n    event_pos = selm.event_position(showm.iren)\n    # updates rectangular box around mouse\n    texa.SetPosition(event_pos[0] - 200 // 2, event_pos[1] - 100 // 2)\n\n    # defines selection region and returns information from selected objects\n    info = selm.select(event_pos, showm.scene, (200 // 2, 100 // 2))\n    for node in info.keys():\n        if info[node][\"face\"] is not None:\n            if info[node][\"actor\"] is cube_actor:\n                for face_index in info[node][\"face\"]:\n                    # generates an object_index to help with coloring\n                    # by dividing by the number of faces of each cube (6 * 2)\n                    object_index = face_index // 12\n                    sec = int(num_vertices / num_objects)\n                    color_change = np.array([150, 0, 0, 255], dtype=\"uint8\")\n                    vcolors[object_index * sec : object_index * sec + sec] = (\n                        color_change\n                    )\n                fury.utils.update_actor(cube_actor)\n    showm.render()"
      ]
    },
    {
      "cell_type": "markdown",
      "metadata": {},
      "source": [
        "Make the window appear\n\n"
      ]
    },
    {
      "cell_type": "code",
      "execution_count": null,
      "metadata": {
        "collapsed": false
      },
      "outputs": [],
      "source": [
        "showm = fury.window.ShowManager(\n    scene, size=(1024, 768), order_transparent=True, reset_camera=False\n)"
      ]
    },
    {
      "cell_type": "markdown",
      "metadata": {},
      "source": [
        "Bind the callback to the actor\n\n"
      ]
    },
    {
      "cell_type": "code",
      "execution_count": null,
      "metadata": {
        "collapsed": false
      },
      "outputs": [],
      "source": [
        "showm.add_iren_callback(hover_callback)"
      ]
    },
    {
      "cell_type": "markdown",
      "metadata": {},
      "source": [
        "Change interactive to True to start interacting with the scene\n\n"
      ]
    },
    {
      "cell_type": "code",
      "execution_count": null,
      "metadata": {
        "collapsed": false
      },
      "outputs": [],
      "source": [
        "interactive = False\n\nif interactive:\n    showm.start()"
      ]
    },
    {
      "cell_type": "markdown",
      "metadata": {},
      "source": [
        "Save the current framebuffer in a PNG file\n\n"
      ]
    },
    {
      "cell_type": "code",
      "execution_count": null,
      "metadata": {
        "collapsed": false
      },
      "outputs": [],
      "source": [
        "fury.window.record(showm.scene, size=(1024, 768), out_path=\"viz_selection.png\")"
      ]
    }
  ],
  "metadata": {
    "kernelspec": {
      "display_name": "Python 3",
      "language": "python",
      "name": "python3"
    },
    "language_info": {
      "codemirror_mode": {
        "name": "ipython",
        "version": 3
      },
      "file_extension": ".py",
      "mimetype": "text/x-python",
      "name": "python",
      "nbconvert_exporter": "python",
      "pygments_lexer": "ipython3",
      "version": "3.9.18"
    }
  },
  "nbformat": 4,
  "nbformat_minor": 0
}