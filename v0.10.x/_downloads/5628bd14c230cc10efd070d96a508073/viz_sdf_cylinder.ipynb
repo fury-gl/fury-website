{
  "cells": [
    {
      "cell_type": "markdown",
      "metadata": {},
      "source": [
        "\n# Make a Cylinder using polygons vs SDF\nThis tutorial is intended to show two ways of primitives creation with the use\nof polygons, and Signed Distance Functions (SDFs). We will use cylinders as an\nexample since they have a simpler polygonal representation. Hence, it allows us\nto see better the difference between using one or the other method.\n\nFor the cylinder representation with polygons, we will use cylinder actor\nimplementation on FURY, and for the visualization using SDFs, we will\nimplement shader code to create the cylinder and use a box actor to put our\nimplementation inside.\n\nWe start by importing the necessary modules:\n"
      ]
    },
    {
      "cell_type": "code",
      "execution_count": null,
      "metadata": {
        "collapsed": false
      },
      "outputs": [],
      "source": [
        "import os\n\nimport numpy as np\n\nfrom fury import actor, window\nfrom fury.shaders import (\n    attribute_to_actor,\n    compose_shader,\n    import_fury_shader,\n    shader_to_actor,\n)"
      ]
    },
    {
      "cell_type": "markdown",
      "metadata": {},
      "source": [
        "## Cylinder using polygons\nPolygons-based modeling, use smaller components namely triangles or polygons\nto represent 3D objects. Each polygon is defined by the position of its\nvertices and its connecting edges. In order to get a better representation\nof an object, it may be necessary to increase the number of polygons in the\nmodel, which is translated into the use of more space to store data and more\nrendering time to display the object.\n\nNow we define some properties of our actors, use them to create a set of\ncylinders, and add them to the scene.\n\n"
      ]
    },
    {
      "cell_type": "code",
      "execution_count": null,
      "metadata": {
        "collapsed": false
      },
      "outputs": [],
      "source": [
        "centers = np.array(\n    [\n        [-3.2, 0.9, 0.4],\n        [-3.5, -0.5, 1],\n        [-2.1, 0, 0.4],\n        [-0.2, 0.9, 0.4],\n        [-0.5, -0.5, 1],\n        [0.9, 0, 0.4],\n        [2.8, 0.9, 1.4],\n        [2.5, -0.5, 2],\n        [3.9, 0, 1.4],\n    ]\n)\ndirs = np.array(\n    [\n        [-0.2, 0.9, 0.4],\n        [-0.5, -0.5, 1],\n        [0.9, 0, 0.4],\n        [-0.2, 0.9, 0.4],\n        [-0.5, -0.5, 1],\n        [0.9, 0, 0.4],\n        [-0.2, 0.9, 0.4],\n        [-0.5, -0.5, 1],\n        [0.9, 0, 0.4],\n    ]\n)\ncolors = np.array(\n    [\n        [1, 0, 0],\n        [1, 0, 0],\n        [1, 0, 0],\n        [0, 1, 0],\n        [0, 1, 0],\n        [0, 1, 0],\n        [0, 0, 1],\n        [0, 0, 1],\n        [0, 0, 1],\n    ]\n)\nradius = 0.5\nheight = 1"
      ]
    },
    {
      "cell_type": "markdown",
      "metadata": {},
      "source": [
        "In order to see how cylinders are made, we set different resolutions (number\nof sides used to define the bases of the cylinder) to see how it changes the\nsurface of the primitive.\n\n"
      ]
    },
    {
      "cell_type": "code",
      "execution_count": null,
      "metadata": {
        "collapsed": false
      },
      "outputs": [],
      "source": [
        "cylinders_8 = actor.cylinder(\n    centers[:3],\n    dirs[:3],\n    colors[:3],\n    radius=radius,\n    heights=height,\n    capped=True,\n    resolution=8,\n)\ncylinders_16 = actor.cylinder(\n    centers[3:6],\n    dirs[3:6],\n    colors[3:6],\n    radius=radius,\n    heights=height,\n    capped=True,\n    resolution=16,\n)\ncylinders_32 = actor.cylinder(\n    centers[6:9],\n    dirs[6:9],\n    colors[6:9],\n    radius=radius,\n    heights=height,\n    capped=True,\n    resolution=32,\n)"
      ]
    },
    {
      "cell_type": "markdown",
      "metadata": {},
      "source": [
        "Next, we set up a new scene to add and visualize the actors created.\n\n"
      ]
    },
    {
      "cell_type": "code",
      "execution_count": null,
      "metadata": {
        "collapsed": false
      },
      "outputs": [],
      "source": [
        "scene = window.Scene()\n\nscene.add(cylinders_8)\nscene.add(cylinders_16)\nscene.add(cylinders_32)\n\ninteractive = False\n\nif interactive:\n    window.show(scene)\n\nwindow.record(scene, size=(600, 600), out_path='viz_poly_cylinder.png')"
      ]
    },
    {
      "cell_type": "markdown",
      "metadata": {},
      "source": [
        "Visualize the surface geometry representation for the object.\n\n"
      ]
    },
    {
      "cell_type": "code",
      "execution_count": null,
      "metadata": {
        "collapsed": false
      },
      "outputs": [],
      "source": [
        "cylinders_8.GetProperty().SetRepresentationToWireframe()\ncylinders_16.GetProperty().SetRepresentationToWireframe()\ncylinders_32.GetProperty().SetRepresentationToWireframe()\n\nif interactive:\n    window.show(scene)\n\nwindow.record(scene, size=(600, 600), out_path='viz_poly_cylinder_geom.png')"
      ]
    },
    {
      "cell_type": "markdown",
      "metadata": {},
      "source": [
        "Then we clean the scene to render the boxes we will use to render our\nSDF-based actors.\n\n"
      ]
    },
    {
      "cell_type": "code",
      "execution_count": null,
      "metadata": {
        "collapsed": false
      },
      "outputs": [],
      "source": [
        "scene.clear()"
      ]
    },
    {
      "cell_type": "markdown",
      "metadata": {},
      "source": [
        "## Cylinder using SDF\nSigned Distance Functions are mathematical functions that take as input a\npoint in a metric space and return the distance from that point to the\nboundary of an object.\n\nWe will use the ray marching algorithm to render the SDF primitive using\nshaders. Ray marching is a technique where you step along a ray in order to\nfind intersections with solid geometry. Objects in the scene are defined by\nSDF, and because we don\u2019t use polygonal meshes it is possible to define\nperfectly smooth surfaces and allows a faster rendering in comparison to\npolygon-based modeling (more details in [Hart1996]_).\n\n"
      ]
    },
    {
      "cell_type": "markdown",
      "metadata": {},
      "source": [
        "Now we create cylinders using box actor and SDF implementation on shaders.\nFor this, we first create a box actor.\n\n"
      ]
    },
    {
      "cell_type": "code",
      "execution_count": null,
      "metadata": {
        "collapsed": false
      },
      "outputs": [],
      "source": [
        "box_actor = actor.box(\n    centers=centers,\n    directions=dirs,\n    colors=colors,\n    scales=(height, radius * 2, radius * 2),\n)"
      ]
    },
    {
      "cell_type": "markdown",
      "metadata": {},
      "source": [
        "Now we use attribute_to_actor to link a NumPy array, with the centers and\ndirections data, with a vertex attribute. We do this to pass the data to\nthe vertex shader, with the corresponding attribute name.\n\nWe need to associate the data to each of the 8 vertices that make up the box\nsince we handle the processing of individual vertices in the vertex shader.\n\n"
      ]
    },
    {
      "cell_type": "code",
      "execution_count": null,
      "metadata": {
        "collapsed": false
      },
      "outputs": [],
      "source": [
        "rep_directions = np.repeat(dirs, 8, axis=0)\nrep_centers = np.repeat(centers, 8, axis=0)\nrep_radii = np.repeat(np.repeat(radius, 9), 8, axis=0)\nrep_heights = np.repeat(np.repeat(height, 9), 8, axis=0)\n\nattribute_to_actor(box_actor, rep_centers, 'center')\nattribute_to_actor(box_actor, rep_directions, 'direction')\nattribute_to_actor(box_actor, rep_radii, 'radius')\nattribute_to_actor(box_actor, rep_heights, 'height')"
      ]
    },
    {
      "cell_type": "markdown",
      "metadata": {},
      "source": [
        "Then we have the shader code implementation corresponding to vertex and\nfragment shader. Here we are passing data to the fragment shader through\nthe vertex shader.\n\nVertex shaders perform basic processing of each individual vertex.\n\n"
      ]
    },
    {
      "cell_type": "code",
      "execution_count": null,
      "metadata": {
        "collapsed": false
      },
      "outputs": [],
      "source": [
        "vs_dec = \"\"\"\n    in vec3 center;\n    in vec3 direction;\n    in float height;\n    in float radius;\n\n    out vec4 vertexMCVSOutput;\n    out vec3 centerMCVSOutput;\n    out vec3 directionVSOutput;\n    out float heightVSOutput;\n    out float radiusVSOutput;\n    \"\"\"\n\nvs_impl = \"\"\"\n    vertexMCVSOutput = vertexMC;\n    centerMCVSOutput = center;\n    directionVSOutput = direction;\n    heightVSOutput = height;\n    radiusVSOutput = radius;\n    \"\"\""
      ]
    },
    {
      "cell_type": "markdown",
      "metadata": {},
      "source": [
        "Then we add the vertex shader code to the box_actor. We use shader_to_actor\nto apply our implementation to the shader creation process, this function\njoins our code to the shader template that FURY has by default.\n\n"
      ]
    },
    {
      "cell_type": "code",
      "execution_count": null,
      "metadata": {
        "collapsed": false
      },
      "outputs": [],
      "source": [
        "shader_to_actor(box_actor, 'vertex', decl_code=vs_dec, impl_code=vs_impl)"
      ]
    },
    {
      "cell_type": "markdown",
      "metadata": {},
      "source": [
        "Fragment shaders are used to define the colors of each pixel being processed,\nthe program runs on each of the pixels that the object occupies on the\nscreen.\n\nFragment shaders also allow us to have control over details of movement,\nlighting, and color in a scene. In this case, we are using vertex shader not\njust to define the colors of the cylinders but to manipulate its position in\nworld space, rotation with respect to the box, and lighting of the scene.\n\n"
      ]
    },
    {
      "cell_type": "code",
      "execution_count": null,
      "metadata": {
        "collapsed": false
      },
      "outputs": [],
      "source": [
        "fs_vars_dec = \"\"\"\n    in vec4 vertexMCVSOutput;\n    in vec3 centerMCVSOutput;\n    in vec3 directionVSOutput;\n    in float heightVSOutput;\n    in float radiusVSOutput;\n\n    uniform mat4 MCVCMatrix;\n    \"\"\""
      ]
    },
    {
      "cell_type": "markdown",
      "metadata": {},
      "source": [
        "We use this function to generate an appropriate rotation matrix which help us\nto transform our position vectors in order to align the direction of\ncylinder with respect to the box.\n\n"
      ]
    },
    {
      "cell_type": "code",
      "execution_count": null,
      "metadata": {
        "collapsed": false
      },
      "outputs": [],
      "source": [
        "vec_to_vec_rot_mat = import_fury_shader(\n    os.path.join('utils', 'vec_to_vec_rot_mat.glsl')\n)"
      ]
    },
    {
      "cell_type": "markdown",
      "metadata": {},
      "source": [
        "We calculate the distance using the SDF function for the cylinder.\n\n"
      ]
    },
    {
      "cell_type": "code",
      "execution_count": null,
      "metadata": {
        "collapsed": false
      },
      "outputs": [],
      "source": [
        "sd_cylinder = import_fury_shader(os.path.join('sdf', 'sd_cylinder.frag'))"
      ]
    },
    {
      "cell_type": "markdown",
      "metadata": {},
      "source": [
        "This is used on calculations for surface normals of the cylinder.\n\n"
      ]
    },
    {
      "cell_type": "code",
      "execution_count": null,
      "metadata": {
        "collapsed": false
      },
      "outputs": [],
      "source": [
        "sdf_map = \"\"\"\n    float map(in vec3 position)\n    {\n        // the sdCylinder function creates vertical cylinders by default, that\n        // is the cylinder is created pointing in the up direction (0, 1, 0).\n        // We want to rotate that vector to be aligned with the box's direction\n        mat4 rot = vec2VecRotMat(normalize(directionVSOutput),\n                                 normalize(vec3(0, 1, 0)));\n\n        vec3 pos = (rot * vec4(position - centerMCVSOutput, 0.0)).xyz;\n\n        // distance to the cylinder's boundary\n        return sdCylinder(pos, radiusVSOutput, heightVSOutput / 2);\n    }\n    \"\"\""
      ]
    },
    {
      "cell_type": "markdown",
      "metadata": {},
      "source": [
        "We use central differences technique for computing surface normals.\n\n"
      ]
    },
    {
      "cell_type": "code",
      "execution_count": null,
      "metadata": {
        "collapsed": false
      },
      "outputs": [],
      "source": [
        "central_diffs_normal = import_fury_shader(os.path.join('sdf', 'central_diffs.frag'))"
      ]
    },
    {
      "cell_type": "markdown",
      "metadata": {},
      "source": [
        "We use cast_ray for the implementation of Ray Marching.\n\n"
      ]
    },
    {
      "cell_type": "code",
      "execution_count": null,
      "metadata": {
        "collapsed": false
      },
      "outputs": [],
      "source": [
        "cast_ray = import_fury_shader(os.path.join('ray_marching', 'cast_ray.frag'))"
      ]
    },
    {
      "cell_type": "markdown",
      "metadata": {},
      "source": [
        "For the illumination of the scene we use the Blinn-Phong model.\n\n"
      ]
    },
    {
      "cell_type": "code",
      "execution_count": null,
      "metadata": {
        "collapsed": false
      },
      "outputs": [],
      "source": [
        "blinn_phong_model = import_fury_shader(\n    os.path.join('lighting', 'blinn_phong_model.frag')\n)"
      ]
    },
    {
      "cell_type": "markdown",
      "metadata": {},
      "source": [
        "Now we use compose_shader to join our pieces of GLSL shader code.\n\n"
      ]
    },
    {
      "cell_type": "code",
      "execution_count": null,
      "metadata": {
        "collapsed": false
      },
      "outputs": [],
      "source": [
        "fs_dec = compose_shader(\n    [\n        fs_vars_dec,\n        vec_to_vec_rot_mat,\n        sd_cylinder,\n        sdf_map,\n        central_diffs_normal,\n        cast_ray,\n        blinn_phong_model,\n    ]\n)\n\nshader_to_actor(box_actor, 'fragment', decl_code=fs_dec)"
      ]
    },
    {
      "cell_type": "markdown",
      "metadata": {},
      "source": [
        "Here we have the implementation of all the previous code with all the\nnecessary variables and functions to build the cylinders.\n\n"
      ]
    },
    {
      "cell_type": "code",
      "execution_count": null,
      "metadata": {
        "collapsed": false
      },
      "outputs": [],
      "source": [
        "sdf_cylinder_frag_impl = \"\"\"\n    vec3 point = vertexMCVSOutput.xyz;\n\n    // ray origin\n    vec4 ro = -MCVCMatrix[3] * MCVCMatrix;  // camera position in world space\n\n    // ray direction\n    vec3 rd = normalize(point - ro.xyz);\n\n    // light direction\n    vec3 ld = normalize(ro.xyz - point);\n\n    ro += vec4((point - ro.xyz), 0);\n\n    float t = castRay(ro.xyz, rd);\n\n    if(t < 20.0)\n    {\n        vec3 position = ro.xyz + t * rd;\n        vec3 normal = centralDiffsNormals(position, .0001);\n        float lightAttenuation = dot(ld, normal);\n        vec3 color = blinnPhongIllumModel(\n                        lightAttenuation, lightColor0, diffuseColor,\n                        specularPower, specularColor, ambientColor);\n        fragOutput0 = vec4(color, opacity);\n    }\n    else\n    {\n        discard;\n    }\n    \"\"\"\n\nshader_to_actor(box_actor, 'fragment', impl_code=sdf_cylinder_frag_impl, block='light')"
      ]
    },
    {
      "cell_type": "markdown",
      "metadata": {},
      "source": [
        "Finally, we visualize the cylinders made using ray marching and SDFs.\n\n"
      ]
    },
    {
      "cell_type": "code",
      "execution_count": null,
      "metadata": {
        "collapsed": false
      },
      "outputs": [],
      "source": [
        "scene.add(box_actor)\n\nif interactive:\n    window.show(scene)\n\nwindow.record(scene, size=(600, 600), out_path='viz_sdf_cylinder.png')"
      ]
    },
    {
      "cell_type": "markdown",
      "metadata": {},
      "source": [
        "### References\n.. [Hart1996] Hart, John C. \"Sphere tracing: A geometric method for the\n                antialiased ray tracing of implicit surfaces.\" The Visual\n                Computer 12.10 (1996): 527-545.\n\n.. include:: ../links_names.inc\n\n"
      ]
    }
  ],
  "metadata": {
    "kernelspec": {
      "display_name": "Python 3",
      "language": "python",
      "name": "python3"
    },
    "language_info": {
      "codemirror_mode": {
        "name": "ipython",
        "version": 3
      },
      "file_extension": ".py",
      "mimetype": "text/x-python",
      "name": "python",
      "nbconvert_exporter": "python",
      "pygments_lexer": "ipython3",
      "version": "3.11.8"
    }
  },
  "nbformat": 4,
  "nbformat_minor": 0
}