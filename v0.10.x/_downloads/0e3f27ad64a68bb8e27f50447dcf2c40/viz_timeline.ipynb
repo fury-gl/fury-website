{
  "cells": [
    {
      "cell_type": "markdown",
      "metadata": {},
      "source": [
        "\n# Timeline and setting keyframes\n\nIn his tutorial, you will learn how to use Fury ``Timeline`` for playing the\nanimations.\n"
      ]
    },
    {
      "cell_type": "markdown",
      "metadata": {},
      "source": [
        "## What is ``Timeline``?\n\n``Timeline`` is responsible for handling the playback of Fury Animations.\n\n``Timeline`` has playback methods such as ``play``, ``pause``, ``stop``, ...\nwhich can be used to control the animation.\n\n"
      ]
    },
    {
      "cell_type": "code",
      "execution_count": null,
      "metadata": {
        "collapsed": false
      },
      "outputs": [],
      "source": [
        "import numpy as np\n\nfrom fury import actor, window\nfrom fury.animation import Animation, Timeline"
      ]
    },
    {
      "cell_type": "markdown",
      "metadata": {},
      "source": [
        "We create our ``Scene`` and ``ShowManager`` as usual.\n\n"
      ]
    },
    {
      "cell_type": "code",
      "execution_count": null,
      "metadata": {
        "collapsed": false
      },
      "outputs": [],
      "source": [
        "scene = window.Scene()\n\nshowm = window.ShowManager(scene, size=(900, 768))\nshowm.initialize()"
      ]
    },
    {
      "cell_type": "markdown",
      "metadata": {},
      "source": [
        "## Creating a ``Timeline``\n\nFURY ``Timeline`` has the option to attaches a very useful panel for\ncontrolling the animation by setting ``playback_panel=True``.\n\n"
      ]
    },
    {
      "cell_type": "markdown",
      "metadata": {},
      "source": [
        "Creating a ``Timeline`` with a PlaybackPanel.\n\n"
      ]
    },
    {
      "cell_type": "code",
      "execution_count": null,
      "metadata": {
        "collapsed": false
      },
      "outputs": [],
      "source": [
        "timeline = Timeline(playback_panel=True)"
      ]
    },
    {
      "cell_type": "markdown",
      "metadata": {},
      "source": [
        "Creating a Fury Animation as usual\n\n"
      ]
    },
    {
      "cell_type": "code",
      "execution_count": null,
      "metadata": {
        "collapsed": false
      },
      "outputs": [],
      "source": [
        "anim = Animation()\nsphere = actor.sphere(np.zeros([1, 3]), np.ones([1, 3]))\nanim.add_actor(sphere)\n# Now that the actor is add to the ``Animation``, setting keyframes to the\n# Animation will animate the actor accordingly."
      ]
    },
    {
      "cell_type": "markdown",
      "metadata": {},
      "source": [
        "## Setting Keyframes\n\nThere are multiple ways to set keyframes:\n\n1- To set a single keyframe, you may use ``animation.set_<property>(t, k)``,\nwhere <property> is the name of the property to be set. I.e. setting position\nto (1, 2, 3) at time 0.0 would be as following:\n\n"
      ]
    },
    {
      "cell_type": "code",
      "execution_count": null,
      "metadata": {
        "collapsed": false
      },
      "outputs": [],
      "source": [
        "anim.set_position(0.0, np.array([1, 2, 3]))"
      ]
    },
    {
      "cell_type": "markdown",
      "metadata": {},
      "source": [
        "Supported properties are: **position, rotation, scale, color, and opacity**.\n\n2- To set multiple keyframes at once, you may use\n``animation.set_<property>_keyframes(keyframes)``.\n\n"
      ]
    },
    {
      "cell_type": "code",
      "execution_count": null,
      "metadata": {
        "collapsed": false
      },
      "outputs": [],
      "source": [
        "keyframes = {1.0: np.array([0, 0, 0]), 3.0: np.array([-2, 0, 0])}\n\nanim.set_position_keyframes(keyframes)"
      ]
    },
    {
      "cell_type": "markdown",
      "metadata": {},
      "source": [
        "That's it! Now we are done setting keyframes.\n\n"
      ]
    },
    {
      "cell_type": "markdown",
      "metadata": {},
      "source": [
        "In order to control this animation by the timeline we created earlier, this\nanimation must be added to the timeline.\n\n"
      ]
    },
    {
      "cell_type": "code",
      "execution_count": null,
      "metadata": {
        "collapsed": false
      },
      "outputs": [],
      "source": [
        "timeline.add_animation(anim)"
      ]
    },
    {
      "cell_type": "markdown",
      "metadata": {},
      "source": [
        "Now we add only the ``Timeline`` to the ``ShowManager`` the same way we add\n``Animation`` to the ``ShowManager``.\n\n"
      ]
    },
    {
      "cell_type": "code",
      "execution_count": null,
      "metadata": {
        "collapsed": false
      },
      "outputs": [],
      "source": [
        "showm.add_animation(timeline)\n\nscene.set_camera(position=(0, 0, -10))\n\ninteractive = False\n\nif interactive:\n    showm.start()\n\nwindow.record(scene, out_path='viz_keyframe_animation_timeline.png', size=(900, 768))"
      ]
    }
  ],
  "metadata": {
    "kernelspec": {
      "display_name": "Python 3",
      "language": "python",
      "name": "python3"
    },
    "language_info": {
      "codemirror_mode": {
        "name": "ipython",
        "version": 3
      },
      "file_extension": ".py",
      "mimetype": "text/x-python",
      "name": "python",
      "nbconvert_exporter": "python",
      "pygments_lexer": "ipython3",
      "version": "3.11.8"
    }
  },
  "nbformat": 4,
  "nbformat_minor": 0
}