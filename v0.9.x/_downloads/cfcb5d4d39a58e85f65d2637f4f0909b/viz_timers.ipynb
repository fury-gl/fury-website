{
  "cells": [
    {
      "cell_type": "code",
      "execution_count": null,
      "metadata": {
        "collapsed": false
      },
      "outputs": [],
      "source": [
        "%matplotlib inline"
      ]
    },
    {
      "cell_type": "markdown",
      "metadata": {},
      "source": [
        "\n# Using a timer\n\nThis example shows how to create a simple animation using a timer callback.\n\nWe will use a sphere actor that generates many spheres of different colors,\nradii and opacity. Then we will animate this actor by rotating and changing\nglobal opacity levels from inside a user defined callback.\n\nThe timer will call this user defined callback every 200 milliseconds. The\napplication will exit after the callback has been called 100 times.\n"
      ]
    },
    {
      "cell_type": "code",
      "execution_count": null,
      "metadata": {
        "collapsed": false
      },
      "outputs": [],
      "source": [
        "import itertools\n\nimport numpy as np\n\nfrom fury import actor, ui, window\n\nxyz = 10 * np.random.rand(100, 3)\ncolors = np.random.rand(100, 4)\nradii = np.random.rand(100) + 0.5\n\nscene = window.Scene()\n\nsphere_actor = actor.sphere(centers=xyz, colors=colors, radii=radii)\n\nscene.add(sphere_actor)\n\nshowm = window.ShowManager(\n    scene, size=(900, 768), reset_camera=False, order_transparent=True\n)\n\n\ntb = ui.TextBlock2D(bold=True)\n\n# use itertools to avoid global variables\ncounter = itertools.count()\n\n\ndef timer_callback(_obj, _event):\n    global timer_id\n    cnt = next(counter)\n    tb.message = \"Let's count up to 300 and exit :\" + str(cnt)\n    showm.scene.azimuth(0.05 * cnt)\n    sphere_actor.GetProperty().SetOpacity(cnt / 100.0)\n    showm.render()\n\n    if cnt == 10:\n        # destroy the first timer and replace it with another faster timer\n        showm.destroy_timer(timer_id)\n        timer_id = showm.add_timer_callback(True, 10, timer_callback)\n\n    if cnt == 300:\n        # destroy the second timer and exit\n        showm.destroy_timer(timer_id)\n        showm.exit()\n\n\nscene.add(tb)\n\n# Run every 200 milliseconds\ntimer_id = showm.add_timer_callback(True, 200, timer_callback)\n\nshowm.start()\n\nwindow.record(showm.scene, size=(900, 768), out_path='viz_timer.png')"
      ]
    }
  ],
  "metadata": {
    "kernelspec": {
      "display_name": "Python 3",
      "language": "python",
      "name": "python3"
    },
    "language_info": {
      "codemirror_mode": {
        "name": "ipython",
        "version": 3
      },
      "file_extension": ".py",
      "mimetype": "text/x-python",
      "name": "python",
      "nbconvert_exporter": "python",
      "pygments_lexer": "ipython3",
      "version": "3.9.13"
    }
  },
  "nbformat": 4,
  "nbformat_minor": 0
}