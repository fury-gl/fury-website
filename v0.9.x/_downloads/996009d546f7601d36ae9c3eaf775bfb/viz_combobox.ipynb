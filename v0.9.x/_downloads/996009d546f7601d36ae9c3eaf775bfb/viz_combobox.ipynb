{
  "cells": [
    {
      "cell_type": "code",
      "execution_count": null,
      "metadata": {
        "collapsed": false
      },
      "outputs": [],
      "source": [
        "%matplotlib inline"
      ]
    },
    {
      "cell_type": "markdown",
      "metadata": {},
      "source": [
        "\n# ComboBox\n\nThis example shows how to use the Combobox UI. We will demonstrate how to\ncreate ComboBoxes for selecting colors for a label.\n\nFirst, some imports.\n"
      ]
    },
    {
      "cell_type": "code",
      "execution_count": null,
      "metadata": {
        "collapsed": false
      },
      "outputs": [],
      "source": [
        "from fury import ui, window\nfrom fury.data import fetch_viz_icons"
      ]
    },
    {
      "cell_type": "markdown",
      "metadata": {},
      "source": [
        "First we need to fetch some icons that are included in FURY.\n\n"
      ]
    },
    {
      "cell_type": "code",
      "execution_count": null,
      "metadata": {
        "collapsed": false
      },
      "outputs": [],
      "source": [
        "fetch_viz_icons()"
      ]
    },
    {
      "cell_type": "markdown",
      "metadata": {},
      "source": [
        "First, we create a label.\n\n"
      ]
    },
    {
      "cell_type": "code",
      "execution_count": null,
      "metadata": {
        "collapsed": false
      },
      "outputs": [],
      "source": [
        "label = ui.TextBlock2D(\n    position=(200, 300),\n    font_size=40,\n    color=(1, 0.5, 0),\n    justification='center',\n    vertical_justification='top',\n    text='FURY rocks!!!',\n)"
      ]
    },
    {
      "cell_type": "markdown",
      "metadata": {},
      "source": [
        "Now we create a dictionary to store colors as its key and their\nRGB values as its value.\n\n"
      ]
    },
    {
      "cell_type": "code",
      "execution_count": null,
      "metadata": {
        "collapsed": false
      },
      "outputs": [],
      "source": [
        "colors = {\n    'Violet': (0.6, 0, 0.8),\n    'Indigo': (0.3, 0, 0.5),\n    'Blue': (0, 0, 1),\n    'Green': (0, 1, 0),\n    'Yellow': (1, 1, 0),\n    'Orange': (1, 0.5, 0),\n    'Red': (1, 0, 0),\n}"
      ]
    },
    {
      "cell_type": "markdown",
      "metadata": {},
      "source": [
        "## ComboBox\n\nNow we create a ComboBox UI component for selecting colors.\n\n"
      ]
    },
    {
      "cell_type": "code",
      "execution_count": null,
      "metadata": {
        "collapsed": false
      },
      "outputs": [],
      "source": [
        "color_combobox = ui.ComboBox2D(\n    items=list(colors.keys()),\n    placeholder='Choose Text Color',\n    position=(75, 50),\n    size=(250, 150),\n)"
      ]
    },
    {
      "cell_type": "markdown",
      "metadata": {},
      "source": [
        "## Callbacks\n\nNow we create a callback for setting the chosen color.\n\n"
      ]
    },
    {
      "cell_type": "code",
      "execution_count": null,
      "metadata": {
        "collapsed": false
      },
      "outputs": [],
      "source": [
        "def change_color(combobox):\n    label.color = colors[combobox.selected_text]\n\n\n# `on_change` callback is set to `change_color` method so that\n# it's called whenever a different option is selected.\ncolor_combobox.on_change = change_color"
      ]
    },
    {
      "cell_type": "markdown",
      "metadata": {},
      "source": [
        "## Show Manager\n\nNow we add label and combobox to the scene.\n\n"
      ]
    },
    {
      "cell_type": "code",
      "execution_count": null,
      "metadata": {
        "collapsed": false
      },
      "outputs": [],
      "source": [
        "current_size = (400, 400)\nshowm = window.ShowManager(size=current_size, title='ComboBox UI Example')\nshowm.scene.add(label, color_combobox)\n\n# To interact with the UI, set interactive = True\ninteractive = False\n\nif interactive:\n    showm.start()\n\nwindow.record(showm.scene, out_path='combobox_ui.png', size=(400, 400))"
      ]
    }
  ],
  "metadata": {
    "kernelspec": {
      "display_name": "Python 3",
      "language": "python",
      "name": "python3"
    },
    "language_info": {
      "codemirror_mode": {
        "name": "ipython",
        "version": 3
      },
      "file_extension": ".py",
      "mimetype": "text/x-python",
      "name": "python",
      "nbconvert_exporter": "python",
      "pygments_lexer": "ipython3",
      "version": "3.9.13"
    }
  },
  "nbformat": 4,
  "nbformat_minor": 0
}