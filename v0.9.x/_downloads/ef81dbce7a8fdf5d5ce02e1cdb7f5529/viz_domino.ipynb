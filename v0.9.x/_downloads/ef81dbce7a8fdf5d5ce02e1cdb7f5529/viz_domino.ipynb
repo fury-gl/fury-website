{
  "cells": [
    {
      "cell_type": "code",
      "execution_count": null,
      "metadata": {
        "collapsed": false
      },
      "outputs": [],
      "source": [
        "%matplotlib inline"
      ]
    },
    {
      "cell_type": "markdown",
      "metadata": {},
      "source": [
        "\n# Domino Physics Simulation\n\nThis example simulation shows how to use pybullet to render physics simulations\nin fury. In this example we specifically render a series of Dominoes which are\nunder Domino Effect.\n\nFirst some imports.\n"
      ]
    },
    {
      "cell_type": "code",
      "execution_count": null,
      "metadata": {
        "collapsed": false
      },
      "outputs": [],
      "source": [
        "import itertools\n\nimport numpy as np\nimport pybullet as p\n\nfrom fury import actor, ui, utils, window\n\n# Next, we initialize a pybullet client to render the physics.\n# We use `DIRECT` mode to initialize pybullet without a GUI.\nclient = p.connect(p.DIRECT)\n\n# Apply gravity to the scene.\np.setGravity(0, 0, -10, physicsClientId=client)"
      ]
    },
    {
      "cell_type": "markdown",
      "metadata": {},
      "source": [
        "Set the Number of Dominoes for Simulation.\n\n"
      ]
    },
    {
      "cell_type": "code",
      "execution_count": null,
      "metadata": {
        "collapsed": false
      },
      "outputs": [],
      "source": [
        "number_of_dominoes = 10\n\n# Base Plane Parameters\nbase_size = np.array([number_of_dominoes * 2, number_of_dominoes * 2, 0.2])\nbase_color = np.array([1, 1, 1])\nbase_position = np.array([0, 0, -0.1])\nbase_orientation = np.array([0, 0, 0, 1])\n\n# Render a BASE plane to support the Dominoes.\nbase_actor = actor.box(\n    centers=np.array([[0, 0, 0]]),\n    directions=[0, 0, 0],\n    scales=base_size,\n    colors=base_color,\n)\n\n# half of the actual size.\nbase_coll = p.createCollisionShape(p.GEOM_BOX, halfExtents=base_size / 2)\n\nbase = p.createMultiBody(\n    baseCollisionShapeIndex=base_coll,\n    basePosition=base_position,\n    baseOrientation=base_orientation,\n)\n\np.changeDynamics(base, -1, lateralFriction=1, restitution=0.5)"
      ]
    },
    {
      "cell_type": "markdown",
      "metadata": {},
      "source": [
        "We define some global parameters of the Dominoes so that its easier for\nus to tweak the simulation.\n\n"
      ]
    },
    {
      "cell_type": "code",
      "execution_count": null,
      "metadata": {
        "collapsed": false
      },
      "outputs": [],
      "source": [
        "domino_mass = 0.5\ndomino_size = np.array([0.1, 1, 2])\n\ndomino_centers = np.zeros((number_of_dominoes, 3))\n\n# Keeping all the dominos Parallel\ndomino_directions = np.zeros((number_of_dominoes, 3))\ndomino_directions[:] = np.array([1.57, 0, 0])\n\ndomino_orns = np.zeros((number_of_dominoes, 4))\n\ndomino_sizes = np.zeros((number_of_dominoes, 3))\ndomino_sizes[:] = domino_size\n\ndomino_colors = np.random.rand(number_of_dominoes, 3)\n\ndomino_coll = p.createCollisionShape(p.GEOM_BOX, halfExtents=domino_size / 2)\n\n# We use this array to store the reference of domino objects in pybullet world.\ndominos = np.zeros(number_of_dominoes, dtype=np.int8)\n\ncenters_list = np.zeros((number_of_dominoes, 3))\n\n# Adding the dominoes\nfor i in range(number_of_dominoes):\n    center_pos = np.array([(i * 0.99) - 5.5, 0.4, 1])\n    domino_centers[i] = center_pos\n    domino_orns[i] = np.array([0, 0, 0, 1])\n    dominos[i] = p.createMultiBody(\n        baseMass=domino_mass,\n        baseCollisionShapeIndex=domino_coll,\n        basePosition=center_pos,\n        baseOrientation=domino_orns[i],\n    )\n    p.changeDynamics(dominos[i], -1, lateralFriction=0.2, restitution=0.1)\n\n\ndomino_actor = actor.box(\n    centers=domino_centers,\n    directions=domino_directions,\n    scales=domino_sizes,\n    colors=domino_colors,\n)"
      ]
    },
    {
      "cell_type": "markdown",
      "metadata": {},
      "source": [
        "Now, we define a scene and add actors to it.\n\n"
      ]
    },
    {
      "cell_type": "code",
      "execution_count": null,
      "metadata": {
        "collapsed": false
      },
      "outputs": [],
      "source": [
        "scene = window.Scene()\nscene.add(actor.axes())\nscene.add(base_actor)\nscene.add(domino_actor)\n\n# Create show manager.\nshowm = window.ShowManager(\n    scene, size=(900, 768), reset_camera=False, order_transparent=True\n)\n\n\n# Counter iterator for tracking simulation steps.\ncounter = itertools.count()\n\n# Variable for tracking applied force.\napply_force = True"
      ]
    },
    {
      "cell_type": "markdown",
      "metadata": {},
      "source": [
        "Now, we define methods to sync objects between fury and Pybullet.\n\n"
      ]
    },
    {
      "cell_type": "code",
      "execution_count": null,
      "metadata": {
        "collapsed": false
      },
      "outputs": [],
      "source": [
        "# Get the position of base and set it.\nbase_pos, _ = p.getBasePositionAndOrientation(base)\nbase_actor.SetPosition(*base_pos)\n\n\n# Calculate the vertices of the dominos.\nvertices = utils.vertices_from_actor(domino_actor)\nnum_vertices = vertices.shape[0]\nnum_objects = domino_centers.shape[0]\nsec = int(num_vertices / num_objects)"
      ]
    },
    {
      "cell_type": "markdown",
      "metadata": {},
      "source": [
        "# Syncing Dominoes\n\nHere, we perform three major steps to sync Dominoes accurately.\n* Get the position and orientation of the Dominoes from pybullet.\n* Calculate the Rotation Matrix.\n\n  - Get the difference in orientations (Quaternion).\n  - Generate the corresponding rotation matrix according to that difference.\n  - Reshape it in a 3x3 matrix.\n\n* Perform calculations to get the required position and orientation.\n* Update the position and orientation.\n\n"
      ]
    },
    {
      "cell_type": "code",
      "execution_count": null,
      "metadata": {
        "collapsed": false
      },
      "outputs": [],
      "source": [
        "def sync_domino(object_index, multibody):\n    pos, orn = p.getBasePositionAndOrientation(multibody)\n\n    rot_mat = np.reshape(\n        p.getMatrixFromQuaternion(\n            p.getDifferenceQuaternion(orn, domino_orns[object_index])\n        ),\n        (3, 3),\n    )\n\n    vertices[object_index * sec : object_index * sec + sec] = (\n        vertices[object_index * sec : object_index * sec + sec]\n        - domino_centers[object_index]\n    ) @ rot_mat + pos\n\n    domino_centers[object_index] = pos\n    domino_orns[object_index] = orn"
      ]
    },
    {
      "cell_type": "markdown",
      "metadata": {},
      "source": [
        "Here, we define a textblock to display the Avg. FPS and simulation steps.\n\n"
      ]
    },
    {
      "cell_type": "code",
      "execution_count": null,
      "metadata": {
        "collapsed": false
      },
      "outputs": [],
      "source": [
        "fpss = np.array([])\ntb = ui.TextBlock2D(\n    text='Avg. FPS: \\nSim Steps: ', position=(0, 680), font_size=30, color=(1, 0.5, 0)\n)\nscene.add(tb)"
      ]
    },
    {
      "cell_type": "markdown",
      "metadata": {},
      "source": [
        "Set the camera for better visualization.\n\n"
      ]
    },
    {
      "cell_type": "code",
      "execution_count": null,
      "metadata": {
        "collapsed": false
      },
      "outputs": [],
      "source": [
        "scene.set_camera(\n    position=(10.46, -8.13, 6.18),\n    focal_point=(0.0, 0.0, 0.79),\n    view_up=(-0.27, 0.26, 0.90),\n)"
      ]
    },
    {
      "cell_type": "markdown",
      "metadata": {},
      "source": [
        "Timer callback is created which is responsible for calling the sync and\nsimulation methods.\n\n"
      ]
    },
    {
      "cell_type": "code",
      "execution_count": null,
      "metadata": {
        "collapsed": false
      },
      "outputs": [],
      "source": [
        "# Create timer callback which will execute at each step of simulation.\ndef timer_callback(_obj, _event):\n    global apply_force, fpss\n    cnt = next(counter)\n    showm.render()\n\n    if cnt % 1 == 0:\n        fps = showm.frame_rate\n        fpss = np.append(fpss, fps)\n        tb.message = (\n            'Avg. FPS: ' + str(np.round(np.mean(fpss), 0)) + '\\nSim Steps: ' + str(cnt)\n        )\n\n    # Get the position and orientation of the first domino.\n    domino1_pos, domino1_orn = p.getBasePositionAndOrientation(dominos[0])\n\n    # Apply force on the First Domino (domino) above the Center of Mass.\n    if apply_force:\n        # Apply the force.\n        p.applyExternalForce(\n            dominos[0],\n            -1,\n            forceObj=[100, 0, 0],\n            posObj=domino1_pos + np.array([0, 0, 1.7]),\n            flags=p.WORLD_FRAME,\n        )\n        apply_force = False\n\n    # Updating the position and orientation of individual dominos.\n    for idx, domino in enumerate(dominos):\n        sync_domino(idx, domino)\n    utils.update_actor(domino_actor)\n\n    # Simulate a step.\n    p.stepSimulation()\n\n    # Exit after 300 steps of simulation.\n    if cnt == 300:\n        showm.exit()\n\n\n# Add the timer callback to showmanager.\n# Increasing the duration value will slow down the simulation.\nshowm.add_timer_callback(True, 1, timer_callback)\n\ninteractive = False\n\n# start simulation\nif interactive:\n    showm.start()\n\nwindow.record(scene, out_path='viz_domino.png', size=(900, 768))"
      ]
    }
  ],
  "metadata": {
    "kernelspec": {
      "display_name": "Python 3",
      "language": "python",
      "name": "python3"
    },
    "language_info": {
      "codemirror_mode": {
        "name": "ipython",
        "version": 3
      },
      "file_extension": ".py",
      "mimetype": "text/x-python",
      "name": "python",
      "nbconvert_exporter": "python",
      "pygments_lexer": "ipython3",
      "version": "3.9.13"
    }
  },
  "nbformat": 4,
  "nbformat_minor": 0
}