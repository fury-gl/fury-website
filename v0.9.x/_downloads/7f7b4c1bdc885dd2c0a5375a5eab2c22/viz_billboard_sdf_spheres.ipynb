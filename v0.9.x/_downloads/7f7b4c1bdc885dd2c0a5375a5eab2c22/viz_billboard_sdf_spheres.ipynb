{
  "cells": [
    {
      "cell_type": "code",
      "execution_count": null,
      "metadata": {
        "collapsed": false
      },
      "outputs": [],
      "source": [
        "%matplotlib inline"
      ]
    },
    {
      "cell_type": "markdown",
      "metadata": {},
      "source": [
        "\n# SDF Impostors on Billboards\n\nTraditional rendering engines discretize surfaces using triangles or\nquadrilateral polygons. The visual quality of these elements depends on the\nnumber of polygons used to build the 3D mesh, i.e., a smoother surface will\nrequire more polygons. However, increasing the amount of rendered polygons\ncomes at the cost of performance as it decreases the number of frames per\nsecond (FPS), which might compromise the real-time interactivity of a\nvisualization.\n\nBillboarding is a technique that changes an object's orientation to always face\na specific direction, in most cases, the camera. This technique became popular\nin games and applications with a high polygonal quota requirement.\n\nSigned Distance Functions (SDFs) are mathematical functions that take as input\na point in a metric space and return the distance from that point to the\nboundary of the function. Depending on whether the point is contained within\nthis boundary or outside it, the function will return negative or positive\nvalues [Hart1996]_. For visualization purposes, the task is to display only the\npoints within the boundary or, in other words, those whose distance to the\nborder is either negative or positive, depending on the definition of the SDF.\n\nThis tutorial exemplifies why FURY's billboard actor is a suitable rendering\noption when thinking about performance and how it can be used to create\nimpostors using SDFs.\n\nLet's start by importing the necessary modules:\n"
      ]
    },
    {
      "cell_type": "code",
      "execution_count": null,
      "metadata": {
        "collapsed": false
      },
      "outputs": [],
      "source": [
        "import os\n\nimport numpy as np\n\nfrom fury import actor, window\nfrom fury.shaders import compose_shader, import_fury_shader\nfrom fury.utils import represent_actor_as_wireframe"
      ]
    },
    {
      "cell_type": "markdown",
      "metadata": {},
      "source": [
        "Now set up a new scene to place our actors in.\n\n"
      ]
    },
    {
      "cell_type": "code",
      "execution_count": null,
      "metadata": {
        "collapsed": false
      },
      "outputs": [],
      "source": [
        "scene = window.Scene()"
      ]
    },
    {
      "cell_type": "markdown",
      "metadata": {},
      "source": [
        "This tutorial is divided into two parts. First, we will render spheres in the\ntraditional way and then render them using SDFs on billboards.\n\n"
      ]
    },
    {
      "cell_type": "markdown",
      "metadata": {},
      "source": [
        "## Traditional sphere rendering\nFURY provides an easy way to create sphere glyphs from numpy arrays as\nfollows:\n\n"
      ]
    },
    {
      "cell_type": "code",
      "execution_count": null,
      "metadata": {
        "collapsed": false
      },
      "outputs": [],
      "source": [
        "centers = np.array([\n    [0, 0, 0], [-6, -6, -6], [8, 8, 8], [8.5, 9.5, 9.5], [10, -10, 10],\n    [-13, 13, -13], [-17, -17, 17]])\ncolors = np.array([\n    [1, 1, 0], [1, 0, 1], [0, 0, 1], [1, 1, 1], [1, 0, 0], [0, 1, 0],\n    [0, 1, 1]])\nscales = np.array([6, 1.2, 1, .2, .7, 3, 2])\nspheres_actor = actor.sphere(\n    centers, colors, radii=scales, phi=8, theta=8, use_primitive=False)"
      ]
    },
    {
      "cell_type": "markdown",
      "metadata": {},
      "source": [
        "To interactively visualize the recently created actors, we only need to add\nthem to the previously created `scene` and set the following variable to\n**True**, otherwise, we will screenshot the scene.\n\n"
      ]
    },
    {
      "cell_type": "code",
      "execution_count": null,
      "metadata": {
        "collapsed": false
      },
      "outputs": [],
      "source": [
        "scene.add(spheres_actor)\n\ninteractive = False\n\nif interactive:\n    window.show(scene)\nelse:\n    window.record(scene, size=(600, 600), out_path='viz_regular_spheres.png')"
      ]
    },
    {
      "cell_type": "markdown",
      "metadata": {},
      "source": [
        "Now, let's explore our scene to understand what we have created. Traditional\nFURY spheres are designed using a set of interconnected triangles. To\nvisualize them, we want to transform our representation from *Surface* to\n*Wireframe* using the following command.\n\n"
      ]
    },
    {
      "cell_type": "code",
      "execution_count": null,
      "metadata": {
        "collapsed": false
      },
      "outputs": [],
      "source": [
        "represent_actor_as_wireframe(spheres_actor)\n\nif interactive:\n    window.show(scene)\nelse:\n    window.record(scene, size=(600, 600), out_path='viz_low_res_wireframe.png')"
      ]
    },
    {
      "cell_type": "markdown",
      "metadata": {},
      "source": [
        "Let's clean the scene and play with the parameters `phi` and `theta`.\n\n"
      ]
    },
    {
      "cell_type": "code",
      "execution_count": null,
      "metadata": {
        "collapsed": false
      },
      "outputs": [],
      "source": [
        "scene.clear()\nspheres_actor = actor.sphere(\n    centers, colors, radii=scales, phi=16, theta=16, use_primitive=False)\nrepresent_actor_as_wireframe(spheres_actor)\nscene.add(spheres_actor)\n\nif interactive:\n    window.show(scene)\nelse:\n    window.record(scene, size=(600, 600), out_path='viz_hi_res_wireframe.png')"
      ]
    },
    {
      "cell_type": "markdown",
      "metadata": {},
      "source": [
        "As you might have noticed, these parameters control the resolution of the\nspheres. Evidently, these parameters directly impact the quality of the\nvisualization, but increasing such resolution comes at the cost of\nperformance, i.e., more computing power will be needed and drawn to interact\nwith these actors.\n\n"
      ]
    },
    {
      "cell_type": "markdown",
      "metadata": {},
      "source": [
        "Luckily for us, a technique delivers high-resolution glyphs at a much lower\ncost. This technique is known as Signed Distance Functions (SDFs), and they\nwork as follows:\n\n"
      ]
    },
    {
      "cell_type": "markdown",
      "metadata": {},
      "source": [
        "## SDF sphere rendering\nIt is possible to render SDFs in FURY by using the following configuration,\nbut first, let's clear the scene.\n\n"
      ]
    },
    {
      "cell_type": "code",
      "execution_count": null,
      "metadata": {
        "collapsed": false
      },
      "outputs": [],
      "source": [
        "scene.clear()"
      ]
    },
    {
      "cell_type": "markdown",
      "metadata": {},
      "source": [
        "The billboard actor is suited and continuously improved to render SDFs. To\ncreate and visualize it, we can use the following instructions:\n\n"
      ]
    },
    {
      "cell_type": "code",
      "execution_count": null,
      "metadata": {
        "collapsed": false
      },
      "outputs": [],
      "source": [
        "billboards_actor = actor.billboard(centers, colors=colors, scales=scales)\nrepresent_actor_as_wireframe(billboards_actor)\nscene.add(billboards_actor)\n\nif interactive:\n    window.show(scene)\nelse:\n    window.record(\n        scene, size=(600, 600), out_path='viz_billboards_wireframe.png')"
      ]
    },
    {
      "cell_type": "markdown",
      "metadata": {},
      "source": [
        "If you interacted with this actor, you might have noticed how it always\naligned itself to the camera or, in other words, your FURY window. Now that\nwe know how billboards work, we can start working on our Signed Distance\nSpheres. Let's clear our scene first.\n\n"
      ]
    },
    {
      "cell_type": "code",
      "execution_count": null,
      "metadata": {
        "collapsed": false
      },
      "outputs": [],
      "source": [
        "scene.clear()"
      ]
    },
    {
      "cell_type": "markdown",
      "metadata": {},
      "source": [
        "FURY already includes a shader function with the definition of a Signed\nDistance Sphere. So we can load it and use it like this:\n\n"
      ]
    },
    {
      "cell_type": "code",
      "execution_count": null,
      "metadata": {
        "collapsed": false
      },
      "outputs": [],
      "source": [
        "sd_sphere = import_fury_shader(os.path.join('sdf', 'sd_sphere.frag'))"
      ]
    },
    {
      "cell_type": "markdown",
      "metadata": {},
      "source": [
        "Additionally, we need to define the radii of our spheres. Since we prefer\nthese to be determined by the billboards' size, we will use the maximum\nradius distance allowed by our billboards.\n\n"
      ]
    },
    {
      "cell_type": "code",
      "execution_count": null,
      "metadata": {
        "collapsed": false
      },
      "outputs": [],
      "source": [
        "sphere_radius = 'const float RADIUS = 1.;'"
      ]
    },
    {
      "cell_type": "markdown",
      "metadata": {},
      "source": [
        "Let's calculate the distance to the sphere by combining the previously\ndefined variables.\n\n"
      ]
    },
    {
      "cell_type": "code",
      "execution_count": null,
      "metadata": {
        "collapsed": false
      },
      "outputs": [],
      "source": [
        "sphere_dist = 'float dist = sdSphere(point, RADIUS);'"
      ]
    },
    {
      "cell_type": "markdown",
      "metadata": {},
      "source": [
        "Now, evaluate the signed distance function.\n\n"
      ]
    },
    {
      "cell_type": "code",
      "execution_count": null,
      "metadata": {
        "collapsed": false
      },
      "outputs": [],
      "source": [
        "sdf_eval = \\\n    \"\"\"\n    if (dist < 0)\n        fragOutput0 = vec4(color, opacity);\n    else\n        discard;\n    \"\"\""
      ]
    },
    {
      "cell_type": "markdown",
      "metadata": {},
      "source": [
        "Putting all of our declarations (constants and function) and implementations\n(distance calculation and evaluation) together.\n\n"
      ]
    },
    {
      "cell_type": "code",
      "execution_count": null,
      "metadata": {
        "collapsed": false
      },
      "outputs": [],
      "source": [
        "fs_dec = compose_shader([sphere_radius, sd_sphere])\nfs_impl = compose_shader([sphere_dist, sdf_eval])"
      ]
    },
    {
      "cell_type": "markdown",
      "metadata": {},
      "source": [
        "We are ready to create and visualize our SDF-billboard actors.\n\n"
      ]
    },
    {
      "cell_type": "code",
      "execution_count": null,
      "metadata": {
        "collapsed": false
      },
      "outputs": [],
      "source": [
        "spheres_actor = actor.billboard(\n    centers, colors=colors, scales=scales, fs_dec=fs_dec, fs_impl=fs_impl)\nscene.add(spheres_actor)\n\nif interactive:\n    window.show(scene)\nelse:\n    window.record(\n        scene, size=(600, 600), out_path='viz_billboards_circles.png')"
      ]
    },
    {
      "cell_type": "markdown",
      "metadata": {},
      "source": [
        "Hold on, those actors don't look exactly like the ones we created using\ntraditional techniques; they don't even look 3D but 2D. Well, that's because\nwe still need an essential component: shading. So let's clear our scene and\nadd shading to our SDF billboard actors.\n\n"
      ]
    },
    {
      "cell_type": "code",
      "execution_count": null,
      "metadata": {
        "collapsed": false
      },
      "outputs": [],
      "source": [
        "scene.clear()"
      ]
    },
    {
      "cell_type": "markdown",
      "metadata": {},
      "source": [
        "The first thing necessary to add shading to our SDF-billboard actors is to\ncalculate the normals of the SDFs. In this tutorial we are not going to get\ninto detail in the gradient and derivatives of SDFs, so we will use the\ncentral differences technique implemented in the following FURY shader\nfunction:\n\n"
      ]
    },
    {
      "cell_type": "code",
      "execution_count": null,
      "metadata": {
        "collapsed": false
      },
      "outputs": [],
      "source": [
        "central_diffs_normal = import_fury_shader(\n    os.path.join('sdf', 'central_diffs.frag'))"
      ]
    },
    {
      "cell_type": "markdown",
      "metadata": {},
      "source": [
        "To use the central differences technique, we need to define a map function\nthat wraps our SDF and evaluates only a point.\n\n"
      ]
    },
    {
      "cell_type": "code",
      "execution_count": null,
      "metadata": {
        "collapsed": false
      },
      "outputs": [],
      "source": [
        "sd_sphere_normal = \\\n    \"\"\"\n    float map(vec3 p)\n    {\n        return sdSphere(p, RADIUS);\n    }\n    \"\"\""
      ]
    },
    {
      "cell_type": "markdown",
      "metadata": {},
      "source": [
        "Then we can load the Blinn-Phong illumination model.\n\n"
      ]
    },
    {
      "cell_type": "code",
      "execution_count": null,
      "metadata": {
        "collapsed": false
      },
      "outputs": [],
      "source": [
        "blinn_phong_model = import_fury_shader(\n    os.path.join('lighting', 'blinn_phong_model.frag'))"
      ]
    },
    {
      "cell_type": "markdown",
      "metadata": {},
      "source": [
        "Again, let's bring all of our declarations (constants and functions)\ntogether.\n\n"
      ]
    },
    {
      "cell_type": "code",
      "execution_count": null,
      "metadata": {
        "collapsed": false
      },
      "outputs": [],
      "source": [
        "fs_dec = compose_shader([\n    sphere_radius, sd_sphere, sd_sphere_normal, central_diffs_normal,\n    blinn_phong_model])"
      ]
    },
    {
      "cell_type": "markdown",
      "metadata": {},
      "source": [
        "Now, we can start our fragment shader implementation with the signed distance\nfunction evaluation. You might notice that in this case, we are not using an\nif statement but a `step` function, which is a more efficient way to perform\nthis evaluation. You can also replace the `step` function with a `smoothstep`\noperation and, in that way, add a very efficient form of antialiasing.\n\n"
      ]
    },
    {
      "cell_type": "code",
      "execution_count": null,
      "metadata": {
        "collapsed": false
      },
      "outputs": [],
      "source": [
        "sdf_eval = 'opacity *= 1 - step(0, dist);'"
      ]
    },
    {
      "cell_type": "markdown",
      "metadata": {},
      "source": [
        "In this case, we also need the absolute value of the distance to compensate\nfor the depth of the SDF sphere.\n\n"
      ]
    },
    {
      "cell_type": "code",
      "execution_count": null,
      "metadata": {
        "collapsed": false
      },
      "outputs": [],
      "source": [
        "abs_dist = 'float absDist = abs(dist);'"
      ]
    },
    {
      "cell_type": "markdown",
      "metadata": {},
      "source": [
        "We are ready to calculate the normals.\n\n"
      ]
    },
    {
      "cell_type": "code",
      "execution_count": null,
      "metadata": {
        "collapsed": false
      },
      "outputs": [],
      "source": [
        "normal = 'vec3 normal = centralDiffsNormals(vec3(point.xy, absDist), .0001);'"
      ]
    },
    {
      "cell_type": "markdown",
      "metadata": {},
      "source": [
        "With the normals we can calculate a light attenuation factor.\n\n"
      ]
    },
    {
      "cell_type": "code",
      "execution_count": null,
      "metadata": {
        "collapsed": false
      },
      "outputs": [],
      "source": [
        "light_attenuation = 'float lightAttenuation = normal.z;'"
      ]
    },
    {
      "cell_type": "markdown",
      "metadata": {},
      "source": [
        "Now, we are ready to calculate the color and output it.\n\n"
      ]
    },
    {
      "cell_type": "code",
      "execution_count": null,
      "metadata": {
        "collapsed": false
      },
      "outputs": [],
      "source": [
        "color = \\\n    \"\"\"\n    color = blinnPhongIllumModel(\n        lightAttenuation, lightColor0, diffuseColor, specularPower,\n        specularColor, ambientColor);\n    \"\"\"\n\nfrag_output = 'fragOutput0 = vec4(color, opacity);'"
      ]
    },
    {
      "cell_type": "markdown",
      "metadata": {},
      "source": [
        "As before, we can bring our implementation code together.\n\n"
      ]
    },
    {
      "cell_type": "code",
      "execution_count": null,
      "metadata": {
        "collapsed": false
      },
      "outputs": [],
      "source": [
        "fs_impl = compose_shader([\n    sphere_dist, sdf_eval, abs_dist, normal, light_attenuation, color,\n    frag_output])"
      ]
    },
    {
      "cell_type": "markdown",
      "metadata": {},
      "source": [
        "Finally, recreate the SDF billboard actors and visualize them.\n\n"
      ]
    },
    {
      "cell_type": "code",
      "execution_count": null,
      "metadata": {
        "collapsed": false
      },
      "outputs": [],
      "source": [
        "spheres_actor = actor.billboard(\n    centers, colors=colors, scales=scales, fs_dec=fs_dec, fs_impl=fs_impl)\nscene.add(spheres_actor)\n\nif interactive:\n    window.show(scene)\nelse:\n    window.record(\n        scene, size=(600, 600), out_path='viz_billboards_spheres.png')"
      ]
    },
    {
      "cell_type": "markdown",
      "metadata": {},
      "source": [
        "### References\n.. [Hart1996] Hart, John C. \"Sphere tracing: A geometric method for the\n              antialiased ray tracing of implicit surfaces.\" The Visual\n              Computer 12.10 (1996): 527-545.\n\n.. include:: ../links_names.inc\n\n"
      ]
    }
  ],
  "metadata": {
    "kernelspec": {
      "display_name": "Python 3",
      "language": "python",
      "name": "python3"
    },
    "language_info": {
      "codemirror_mode": {
        "name": "ipython",
        "version": 3
      },
      "file_extension": ".py",
      "mimetype": "text/x-python",
      "name": "python",
      "nbconvert_exporter": "python",
      "pygments_lexer": "ipython3",
      "version": "3.9.13"
    }
  },
  "nbformat": 4,
  "nbformat_minor": 0
}