{
  "cells": [
    {
      "cell_type": "code",
      "execution_count": null,
      "metadata": {
        "collapsed": false
      },
      "outputs": [],
      "source": [
        "%matplotlib inline"
      ]
    },
    {
      "cell_type": "markdown",
      "metadata": {},
      "source": [
        "\n# Morphing Animation in a glTF\nIn this tutorial, we will show how to use morphing in a glTF model in FURY.\n"
      ]
    },
    {
      "cell_type": "code",
      "execution_count": null,
      "metadata": {
        "collapsed": false
      },
      "outputs": [],
      "source": [
        "from fury import window\nfrom fury.gltf import glTF\nfrom fury.data import fetch_gltf, read_viz_gltf"
      ]
    },
    {
      "cell_type": "markdown",
      "metadata": {},
      "source": [
        "Retrieving the model with morphing in it (look at Khronoos samples).\nWe're choosing the `MorphStressTest` model here.\n\n"
      ]
    },
    {
      "cell_type": "code",
      "execution_count": null,
      "metadata": {
        "collapsed": false
      },
      "outputs": [],
      "source": [
        "fetch_gltf('MorphStressTest', 'glTF')\nfilename = read_viz_gltf('MorphStressTest')"
      ]
    },
    {
      "cell_type": "markdown",
      "metadata": {},
      "source": [
        "Initializing the glTF object, You can additionaly set `apply_normals=True`.\nNote: Normals might not work as intended with morphing.\n\n"
      ]
    },
    {
      "cell_type": "code",
      "execution_count": null,
      "metadata": {
        "collapsed": false
      },
      "outputs": [],
      "source": [
        "gltf_obj = glTF(filename, apply_normals=True)"
      ]
    },
    {
      "cell_type": "markdown",
      "metadata": {},
      "source": [
        "Get the morph timeline using `morph_timeline` method, Choose the animation\nname you want to visualize.\nNote: If there's no name for animation, It's stored as `anim_0`, `anim_1` etc\n\n"
      ]
    },
    {
      "cell_type": "code",
      "execution_count": null,
      "metadata": {
        "collapsed": false
      },
      "outputs": [],
      "source": [
        "animation = gltf_obj.morph_animation()['TheWave']"
      ]
    },
    {
      "cell_type": "markdown",
      "metadata": {},
      "source": [
        "Call the `update_morph` method once, This moves initialise the morphing at\ntimestamp 0.0 seconds and ensures that camera fits all the actors perfectly.\n\n"
      ]
    },
    {
      "cell_type": "code",
      "execution_count": null,
      "metadata": {
        "collapsed": false
      },
      "outputs": [],
      "source": [
        "gltf_obj.update_morph(animation)"
      ]
    },
    {
      "cell_type": "markdown",
      "metadata": {},
      "source": [
        "Create a scene, and show manager.\nInitialize the show manager and add timeline to the scene (No need to add\nactors to the scene seperately).\n\n"
      ]
    },
    {
      "cell_type": "code",
      "execution_count": null,
      "metadata": {
        "collapsed": false
      },
      "outputs": [],
      "source": [
        "scene = window.Scene()\nshowm = window.ShowManager(scene, size=(900, 768), reset_camera=True,\n                           order_transparent=True)\n\nshowm.initialize()\nscene.add(animation)"
      ]
    },
    {
      "cell_type": "markdown",
      "metadata": {},
      "source": [
        "define a timer_callback.\nUse the `update_morph` method again, It updates the timeline and applies\nmorphing).\n\n"
      ]
    },
    {
      "cell_type": "code",
      "execution_count": null,
      "metadata": {
        "collapsed": false
      },
      "outputs": [],
      "source": [
        "def timer_callback(_obj, _event):\n    gltf_obj.update_morph(animation)\n    showm.render()"
      ]
    },
    {
      "cell_type": "markdown",
      "metadata": {},
      "source": [
        "Optional: `timeline.play()` auto plays the animations.\n\n"
      ]
    },
    {
      "cell_type": "code",
      "execution_count": null,
      "metadata": {
        "collapsed": false
      },
      "outputs": [],
      "source": [
        "showm.add_timer_callback(True, 20, timer_callback)\nscene.reset_camera()\n\ninteractive = False\n\nif interactive:\n    showm.start()\n\nwindow.record(scene, out_path='viz_morphing.png',\n              size=(900, 768))"
      ]
    }
  ],
  "metadata": {
    "kernelspec": {
      "display_name": "Python 3",
      "language": "python",
      "name": "python3"
    },
    "language_info": {
      "codemirror_mode": {
        "name": "ipython",
        "version": 3
      },
      "file_extension": ".py",
      "mimetype": "text/x-python",
      "name": "python",
      "nbconvert_exporter": "python",
      "pygments_lexer": "ipython3",
      "version": "3.9.13"
    }
  },
  "nbformat": 4,
  "nbformat_minor": 0
}