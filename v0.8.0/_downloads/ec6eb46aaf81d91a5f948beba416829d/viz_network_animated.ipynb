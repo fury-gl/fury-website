{
  "cells": [
    {
      "cell_type": "code",
      "execution_count": null,
      "metadata": {
        "collapsed": false
      },
      "outputs": [],
      "source": [
        "%matplotlib inline"
      ]
    },
    {
      "cell_type": "markdown",
      "metadata": {},
      "source": [
        "\n# Visualize Networks (Animated version)\n\nThe goal of this demo is to show how to visualize a\ncomplex network and use an force directed algorithm to\nlayout the network. A simpler animation of the network\nmade by adding some random displacements to nodes\npositions is also demoed.\n"
      ]
    },
    {
      "cell_type": "markdown",
      "metadata": {},
      "source": [
        "First, let's import some useful functions\n\n"
      ]
    },
    {
      "cell_type": "code",
      "execution_count": null,
      "metadata": {
        "collapsed": false
      },
      "outputs": [],
      "source": [
        "import math\nfrom os.path import join as pjoin\nimport numpy as np\nfrom fury import actor, window, colormap as cmap\nfrom fury.utils import update_actor, vertices_from_actor, compute_bounds"
      ]
    },
    {
      "cell_type": "markdown",
      "metadata": {},
      "source": [
        "This demo has two modes.\nUse `mode = 0` to visualize a randomly generated geographic network by\niterating it using a force-directed layout heuristic.\n\nUse `mode = 1` to visualize a large network being animated with random\ndisplacements\n\n\n"
      ]
    },
    {
      "cell_type": "code",
      "execution_count": null,
      "metadata": {
        "collapsed": false
      },
      "outputs": [],
      "source": [
        "mode = 0"
      ]
    },
    {
      "cell_type": "markdown",
      "metadata": {},
      "source": [
        "Then let's download some available datasets. (mode 1)\n\n"
      ]
    },
    {
      "cell_type": "code",
      "execution_count": null,
      "metadata": {
        "collapsed": false
      },
      "outputs": [],
      "source": [
        "if mode == 1:\n    from fury.data.fetcher import fetch_viz_wiki_nw\n\n    files, folder = fetch_viz_wiki_nw()\n    categories_file, edges_file, positions_file = sorted(files.keys())"
      ]
    },
    {
      "cell_type": "markdown",
      "metadata": {},
      "source": [
        "We read our datasets (mode 1)\n\n"
      ]
    },
    {
      "cell_type": "code",
      "execution_count": null,
      "metadata": {
        "collapsed": false
      },
      "outputs": [],
      "source": [
        "if mode == 1:\n    positions = np.loadtxt(pjoin(folder, positions_file))\n    categories = np.loadtxt(pjoin(folder, categories_file), dtype=str)\n    edges = np.loadtxt(pjoin(folder, edges_file), dtype=int)\n    vertices_count = len(positions)"
      ]
    },
    {
      "cell_type": "markdown",
      "metadata": {},
      "source": [
        "Generate a geographic random network, requires networkx package (mode 0)\n\n"
      ]
    },
    {
      "cell_type": "code",
      "execution_count": null,
      "metadata": {
        "collapsed": false
      },
      "outputs": [],
      "source": [
        "if mode == 0:\n    import networkx as nx\n    vertices_count = 100\n    view_size = 100\n    network = nx.random_geometric_graph(vertices_count, 0.2)\n    positions = view_size * \\\n        np.random.random((vertices_count, 3)) - view_size / 2.0\n    categories = np.arange(0, vertices_count)\n    edges = np.array(network.edges())\n    positions = view_size * \\\n        np.random.random((vertices_count, 3)) - view_size / 2.0"
      ]
    },
    {
      "cell_type": "markdown",
      "metadata": {},
      "source": [
        "We attribute a color to each category of our dataset which correspond to our\nnodes colors.\n\n"
      ]
    },
    {
      "cell_type": "code",
      "execution_count": null,
      "metadata": {
        "collapsed": false
      },
      "outputs": [],
      "source": [
        "category2index = {category: i\n                  for i, category in enumerate(np.unique(categories))}\n\nindex2category = np.unique(categories)\n\ncategory_colors = cmap.distinguishable_colormap(nb_colors=len(index2category))\n\ncolors = np.array([category_colors[category2index[category]]\n                   for category in categories])"
      ]
    },
    {
      "cell_type": "markdown",
      "metadata": {},
      "source": [
        "We define our node size\n\n"
      ]
    },
    {
      "cell_type": "code",
      "execution_count": null,
      "metadata": {
        "collapsed": false
      },
      "outputs": [],
      "source": [
        "radii = 1 + np.random.rand(len(positions))"
      ]
    },
    {
      "cell_type": "markdown",
      "metadata": {},
      "source": [
        "Let's create our edges now. They will indicate a citation between two nodes.\nThe colors of each edge are interpolated between the two endpoints.\n\n"
      ]
    },
    {
      "cell_type": "code",
      "execution_count": null,
      "metadata": {
        "collapsed": false
      },
      "outputs": [],
      "source": [
        "edges_colors = []\nfor source, target in edges:\n    edges_colors.append(np.array([colors[source], colors[target]]))\n\nedges_colors = np.average(np.array(edges_colors), axis=1)"
      ]
    },
    {
      "cell_type": "markdown",
      "metadata": {},
      "source": [
        "Our data preparation is ready, it is time to visualize them all. We start to\nbuild 2 actors that we represent our data : sphere_actor for the nodes and\nlines_actor for the edges.\n\n"
      ]
    },
    {
      "cell_type": "code",
      "execution_count": null,
      "metadata": {
        "collapsed": false
      },
      "outputs": [],
      "source": [
        "sphere_actor = actor.sphere(centers=np.zeros(positions.shape),\n                            colors=colors,\n                            radii=radii * 0.5,\n                            theta=8,\n                            phi=8)\n\n\nlines_actor = actor.line(np.zeros((len(edges), 2, 3)),\n                         colors=edges_colors, lod=False,\n                         fake_tube=True, linewidth=3)"
      ]
    },
    {
      "cell_type": "markdown",
      "metadata": {},
      "source": [
        "Defining timer callback and layout iterator\n\n"
      ]
    },
    {
      "cell_type": "code",
      "execution_count": null,
      "metadata": {
        "collapsed": false
      },
      "outputs": [],
      "source": [
        "def new_layout_timer(showm, edges_list, vertices_count,\n                     max_iterations=1000, vertex_initial_positions=None):\n    view_size = 500\n    viscosity = 0.10\n    alpha = 0.5\n    a = 0.0005\n    b = 1.0\n    deltaT = 1.0\n\n    sphere_geometry = np.array(vertices_from_actor(sphere_actor))\n    geometry_length = sphere_geometry.shape[0] / vertices_count\n\n    if vertex_initial_positions is not None:\n        pos = np.array(vertex_initial_positions)\n    else:\n        pos = view_size * \\\n            np.random.random((vertices_count, 3)) - view_size / 2.0\n\n    velocities = np.zeros((vertices_count, 3))\n\n    def iterate(iterationCount):\n        nonlocal pos, velocities\n        for _ in range(iterationCount):\n            forces = np.zeros((vertices_count, 3))\n            # repulstive forces\n            for vertex1 in range(vertices_count):\n                for vertex2 in range(vertex1):\n                    x1, y1, z1 = pos[vertex1]\n                    x2, y2, z2 = pos[vertex2]\n                    distance = math.sqrt(\n                        (x2 - x1) * (x2 - x1) +\n                        (y2 - y1) * (y2 - y1) +\n                        (z2 - z1) * (z2 - z1)) + alpha\n                    rx = (x2 - x1) / distance\n                    ry = (y2 - y1) / distance\n                    rz = (z2 - z1) / distance\n                    Fx = -b * rx / distance / distance\n                    Fy = -b * ry / distance / distance\n                    Fz = -b * rz / distance / distance\n                    forces[vertex1] += np.array([Fx, Fy, Fz])\n                    forces[vertex2] -= np.array([Fx, Fy, Fz])\n            # attractive forces\n            for vFrom, vTo in edges_list:\n                if vFrom == vTo:\n                    continue\n                x1, y1, z1 = pos[vFrom]\n                x2, y2, z2 = pos[vTo]\n                distance = math.sqrt(\n                    (x2 - x1) * (x2 - x1) +\n                    (y2 - y1) * (y2 - y1) +\n                    (z2 - z1) * (z2 - z1))\n                Rx = (x2 - x1)\n                Ry = (y2 - y1)\n                Rz = (z2 - z1)\n                Fx = a * Rx * distance\n                Fy = a * Ry * distance\n                Fz = a * Rz * distance\n                forces[vFrom] += np.array([Fx, Fy, Fz])\n                forces[vTo] -= np.array([Fx, Fy, Fz])\n            velocities += forces * deltaT\n            velocities *= (1.0 - viscosity)\n            pos += velocities * deltaT\n        pos[:, 0] -= np.mean(pos[:, 0])\n        pos[:, 1] -= np.mean(pos[:, 1])\n        pos[:, 2] -= np.mean(pos[:, 2])\n    counter = 0\n\n    def _timer(_obj, _event):\n        nonlocal counter, pos\n        counter += 1\n        if mode == 0:\n            iterate(1)\n        else:\n            pos[:] += (np.random.random(pos.shape) - 0.5) * 1.5\n        spheres_positions = vertices_from_actor(sphere_actor)\n        spheres_positions[:] = sphere_geometry + \\\n            np.repeat(pos, geometry_length, axis=0)\n\n        edges_positions = vertices_from_actor(lines_actor)\n        edges_positions[::2] = pos[edges_list[:, 0]]\n        edges_positions[1::2] = pos[edges_list[:, 1]]\n\n        update_actor(lines_actor)\n        compute_bounds(lines_actor)\n\n        update_actor(sphere_actor)\n        compute_bounds(lines_actor)\n        showm.scene.reset_clipping_range()\n        showm.render()\n\n        if counter >= max_iterations:\n            showm.exit()\n    return _timer"
      ]
    },
    {
      "cell_type": "markdown",
      "metadata": {},
      "source": [
        "All actors need to be added in a scene, so we build one and add our\nlines_actor and sphere_actor.\n\n"
      ]
    },
    {
      "cell_type": "code",
      "execution_count": null,
      "metadata": {
        "collapsed": false
      },
      "outputs": [],
      "source": [
        "scene = window.Scene()\n\ncamera = scene.camera()\n\nscene.add(lines_actor)\nscene.add(sphere_actor)"
      ]
    },
    {
      "cell_type": "markdown",
      "metadata": {},
      "source": [
        "The final step! Visualize the result of our creation! Also, we need to move\nthe camera a little bit farther from the network. you can increase the\nparameter max_iteractions of the timer callback to let the animation run for\nmore time.\n\n"
      ]
    },
    {
      "cell_type": "code",
      "execution_count": null,
      "metadata": {
        "collapsed": false
      },
      "outputs": [],
      "source": [
        "showm = window.ShowManager(scene, reset_camera=False, size=(\n    900, 768), order_transparent=True, multi_samples=8)\n\n\n\nscene.set_camera(position=(0, 0, -300))\n\ntimer_callback = new_layout_timer(\n    showm, edges, vertices_count,\n    max_iterations=200,\n    vertex_initial_positions=positions)\n\n\n# Run every 16 milliseconds\nshowm.add_timer_callback(True, 16, timer_callback)\n\nshowm.start()\n\nwindow.record(showm.scene, size=(900, 768),\n              out_path=\"viz_animated_networks.png\")"
      ]
    }
  ],
  "metadata": {
    "kernelspec": {
      "display_name": "Python 3",
      "language": "python",
      "name": "python3"
    },
    "language_info": {
      "codemirror_mode": {
        "name": "ipython",
        "version": 3
      },
      "file_extension": ".py",
      "mimetype": "text/x-python",
      "name": "python",
      "nbconvert_exporter": "python",
      "pygments_lexer": "ipython3",
      "version": "3.9.13"
    }
  },
  "nbformat": 4,
  "nbformat_minor": 0
}