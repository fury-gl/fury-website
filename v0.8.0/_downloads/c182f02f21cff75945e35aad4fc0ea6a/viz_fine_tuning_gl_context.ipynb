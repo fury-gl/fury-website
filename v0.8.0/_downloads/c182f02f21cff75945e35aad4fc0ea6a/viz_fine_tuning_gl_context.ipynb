{
  "cells": [
    {
      "cell_type": "code",
      "execution_count": null,
      "metadata": {
        "collapsed": false
      },
      "outputs": [],
      "source": [
        "%matplotlib inline"
      ]
    },
    {
      "cell_type": "markdown",
      "metadata": {},
      "source": [
        "\n# Fine-tuning the OpenGL state using shader callbacks\n\nSometimes we need to get more control about how\nOpenGL will render the actors. This example shows how to change the OpenGL\nstate of one or more actors. This can be useful when we need to create \nspecialized visualization effects.\n"
      ]
    },
    {
      "cell_type": "markdown",
      "metadata": {},
      "source": [
        "First, let's import some functions\n\n"
      ]
    },
    {
      "cell_type": "code",
      "execution_count": null,
      "metadata": {
        "collapsed": false
      },
      "outputs": [],
      "source": [
        "import numpy as np\n\nfrom fury.shaders import shader_apply_effects\nfrom fury.utils import remove_observer_from_actor\nfrom fury import window, actor\nimport itertools"
      ]
    },
    {
      "cell_type": "markdown",
      "metadata": {},
      "source": [
        "We just proceed as usual: creating the actors and initializing a scene in\nFURY\n\n"
      ]
    },
    {
      "cell_type": "code",
      "execution_count": null,
      "metadata": {
        "collapsed": false
      },
      "outputs": [],
      "source": [
        "centers = np.array([\n    [0, 0, 0],\n    [-.1, 0, 0],\n    [.1, 0, 0]\n])\ncolors = np.array([\n    [1, 0, 0],\n    [0, 1, 0],\n    [0, 0, 1]\n])\n\nactor_no_depth_test = actor.markers(\n    centers,\n    marker='s',\n    colors=colors,\n    marker_opacity=.5,\n    scales=.2,\n)\nactor_normal_blending = actor.markers(\n    centers - np.array([[0, -.5, 0]]),\n    marker='s',\n    colors=colors,\n    marker_opacity=.5,\n    scales=.2,\n)\nactor_add_blending = actor.markers(\n    centers - np.array([[0, -1, 0]]),\n    marker='s',\n    colors=colors,\n    marker_opacity=.5,\n    scales=.2,\n)\n\nactor_sub_blending = actor.markers(\n    centers - np.array([[0, -1.5, 0]]),\n    marker='s',\n    colors=colors,\n    marker_opacity=.5,\n    scales=.2,\n)\nactor_mul_blending = actor.markers(\n    centers - np.array([[0, -2, 0]]),\n    marker='s',\n    colors=colors,\n    marker_opacity=.5,\n    scales=.2,\n)\n\n\nscene = window.Scene()\n\n\nscene.background((.5, .5, .5))\nshowm = window.ShowManager(scene,\n                           size=(900, 768), reset_camera=False,\n                           order_transparent=False)"
      ]
    },
    {
      "cell_type": "markdown",
      "metadata": {},
      "source": [
        "All actors must be added  in the scene\n\n"
      ]
    },
    {
      "cell_type": "code",
      "execution_count": null,
      "metadata": {
        "collapsed": false
      },
      "outputs": [],
      "source": [
        "scene.add(actor_no_depth_test)\nscene.add(actor_normal_blending)\nscene.add(actor_add_blending)\nscene.add(actor_sub_blending)\nscene.add(actor_mul_blending)"
      ]
    },
    {
      "cell_type": "markdown",
      "metadata": {},
      "source": [
        "Now, we will enter in the topic of this example. First, we need to create\n(or use one of the pre-built gl_function of FURY) to\nchange the OpenGL state of a given fury window instance (showm.window).\n\nHere we're using the pre-build FURY window functions which has already a\nset of  specific behaviors to  be applied in the OpenGL context\n\n"
      ]
    },
    {
      "cell_type": "code",
      "execution_count": null,
      "metadata": {
        "collapsed": false
      },
      "outputs": [],
      "source": [
        "shader_apply_effects(\n    showm.window, actor_normal_blending,\n    effects=window.gl_set_normal_blending)\n\n# ###############################################################################\n#  It's also possible use a list of effects. The final opengl state it'll\n#  be the composition of each effect that each function has in the opengl state\n\nid_observer = shader_apply_effects(\n    showm.window, actor_no_depth_test,\n    effects=[\n        window.gl_reset_blend, window.gl_disable_blend,\n        window.gl_disable_depth])\n\nshader_apply_effects(\n    showm.window, actor_add_blending,\n    effects=[\n        window.gl_reset_blend,\n        window.gl_enable_depth, window.gl_set_additive_blending])\n\nshader_apply_effects(\n    showm.window, actor_sub_blending,\n    effects=window.gl_set_subtractive_blending)\n\nshader_apply_effects(\n    showm.window, actor_mul_blending,\n    effects=window.gl_set_multiplicative_blending)"
      ]
    },
    {
      "cell_type": "markdown",
      "metadata": {},
      "source": [
        "Finaly, just render and see the results\n\n"
      ]
    },
    {
      "cell_type": "code",
      "execution_count": null,
      "metadata": {
        "collapsed": false
      },
      "outputs": [],
      "source": [
        "counter = itertools.count()\n\n# After some steps we will remove the no_depth_test effect\n\n\ndef timer_callback(obj, event):\n    cnt = next(counter)\n    showm.render()\n    # we will rotate the visualization just to help you to see\n    # the results of each specifc opengl-state\n    showm.scene.azimuth(1)\n    if cnt == 400:\n        remove_observer_from_actor(actor_no_depth_test, id_observer)\n        shader_apply_effects(\n             showm.window, actor_no_depth_test,\n             effects=window.gl_set_additive_blending)\n    if cnt == 1000:\n        showm.exit()\n\n\ninteractive = False\nshowm.add_timer_callback(interactive, 5, timer_callback)\nif interactive:\n    showm.start()\n\nwindow.record(\n    scene, out_path='viz_fine_tuning_gl_context.png', size=(600, 600))"
      ]
    }
  ],
  "metadata": {
    "kernelspec": {
      "display_name": "Python 3",
      "language": "python",
      "name": "python3"
    },
    "language_info": {
      "codemirror_mode": {
        "name": "ipython",
        "version": 3
      },
      "file_extension": ".py",
      "mimetype": "text/x-python",
      "name": "python",
      "nbconvert_exporter": "python",
      "pygments_lexer": "ipython3",
      "version": "3.9.13"
    }
  },
  "nbformat": 4,
  "nbformat_minor": 0
}