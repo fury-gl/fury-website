{
  "cells": [
    {
      "cell_type": "code",
      "execution_count": null,
      "metadata": {
        "collapsed": false
      },
      "outputs": [],
      "source": [
        "%matplotlib inline"
      ]
    },
    {
      "cell_type": "markdown",
      "metadata": {},
      "source": [
        "\n# Fury Markers\n\nThis example shows how to use the marker actor.\n"
      ]
    },
    {
      "cell_type": "code",
      "execution_count": null,
      "metadata": {
        "collapsed": false
      },
      "outputs": [],
      "source": [
        "import numpy as np\nfrom fury import actor, window\nn = 10000"
      ]
    },
    {
      "cell_type": "markdown",
      "metadata": {},
      "source": [
        "There are nine types 2d markers: circle, square, diamond, triangle, pentagon, \nhexagon, heptagon, cross and plus.\n\n"
      ]
    },
    {
      "cell_type": "code",
      "execution_count": null,
      "metadata": {
        "collapsed": false
      },
      "outputs": [],
      "source": [
        "marker_symbols = ['o', 's', 'd', '^', 'p', 'h', 's6', 'x', '+']\nmarkers = [\n    np.random.choice(marker_symbols)\n    for i in range(n)]\n\ncenters = np.random.normal(size=(n, 3), scale=10)\n\ncolors = np.random.uniform(size=(n, 3))"
      ]
    },
    {
      "cell_type": "markdown",
      "metadata": {},
      "source": [
        "You can control the edge color and edge width for each marker\n\n"
      ]
    },
    {
      "cell_type": "code",
      "execution_count": null,
      "metadata": {
        "collapsed": false
      },
      "outputs": [],
      "source": [
        "nodes_actor = actor.markers(\n    centers,\n    marker=markers,\n    edge_width=.1,\n    edge_color=[255, 255, 0],\n    colors=colors,\n    scales=.5,\n)"
      ]
    },
    {
      "cell_type": "markdown",
      "metadata": {},
      "source": [
        "In addition, an 3D sphere it's also a valid type of marker\n\n"
      ]
    },
    {
      "cell_type": "code",
      "execution_count": null,
      "metadata": {
        "collapsed": false
      },
      "outputs": [],
      "source": [
        "nodes_3d_actor = actor.markers(\n    centers+np.ones_like(centers)*25,\n    marker='3d',\n    colors=colors,\n    scales=.5,\n)\n\nscene = window.Scene()\n\nscene.add(nodes_actor)\nscene.add(nodes_3d_actor)\n\ninteractive = False \n\nif interactive:\n    window.show(scene, size=(600, 600))\n\nwindow.record(scene, out_path='viz_markers.png', size=(600, 600))"
      ]
    }
  ],
  "metadata": {
    "kernelspec": {
      "display_name": "Python 3",
      "language": "python",
      "name": "python3"
    },
    "language_info": {
      "codemirror_mode": {
        "name": "ipython",
        "version": 3
      },
      "file_extension": ".py",
      "mimetype": "text/x-python",
      "name": "python",
      "nbconvert_exporter": "python",
      "pygments_lexer": "ipython3",
      "version": "3.7.4"
    }
  },
  "nbformat": 4,
  "nbformat_minor": 0
}