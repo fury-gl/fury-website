{
  "cells": [
    {
      "cell_type": "code",
      "execution_count": null,
      "metadata": {
        "collapsed": false
      },
      "outputs": [],
      "source": [
        "%matplotlib inline"
      ]
    },
    {
      "cell_type": "markdown",
      "metadata": {},
      "source": [
        "\n# Animated 2D functions\n\nThis is a simple demonstration of how one can\nanimate 2D functions using FURY.\n"
      ]
    },
    {
      "cell_type": "markdown",
      "metadata": {},
      "source": [
        "Importing necessary modules\n\n"
      ]
    },
    {
      "cell_type": "code",
      "execution_count": null,
      "metadata": {
        "collapsed": false
      },
      "outputs": [],
      "source": [
        "from fury import window, actor, ui, utils, colormap\nimport numpy as np\nimport itertools"
      ]
    },
    {
      "cell_type": "markdown",
      "metadata": {},
      "source": [
        "The following function is used to create and update the coordinates of the\npoints which are being used to plot the surface. It's also used to create\nand update the colormap being used to color the surface.\nKindly note that only the z coordinate is being modified with time as only\nthe z coordinate is a function of time.\n\n"
      ]
    },
    {
      "cell_type": "code",
      "execution_count": null,
      "metadata": {
        "collapsed": false
      },
      "outputs": [],
      "source": [
        "def update_surface(x, y, equation, cmap_name='viridis'):\n\n    # z is the function F i.e. F(x, y, t)\n    z = eval(equation)\n    xyz = np.vstack([x, y, z]).T\n\n    # creating the colormap\n    v = np.copy(z)\n    v /= np.max(np.abs(v), axis=0)\n    colors = colormap.create_colormap(v, name=cmap_name)\n\n    return xyz, colors"
      ]
    },
    {
      "cell_type": "markdown",
      "metadata": {},
      "source": [
        "Variables and their usage-\ntime: float\n      initial value of the time variable i.e. value of the time variable at\n      the beginning of the program; (default = 0)\ndt: float\n    amount by which ``time`` variable is incremented for every iteration\n    of timer_callback function (default = 0.1)\nlower_xbound: float\n              lower bound of the x values in which the function is plotted\n              (default = -1)\nupper_xbound: float\n              Upper bound of the x values in which the function is plotted\n              (default = 1)\nlower_ybound: float\n              lower bound of the y values in which the function is plotted\n              (default = -1)\nupper_ybound: float\n              Upper bound of the y values in which the function is plotted\n              (default = 1)\nnpoints: int\n         For high quality rendering, keep the number high but kindly note\n         that higher values for npoints slows down the animation\n         (default = 128)\n\n\n"
      ]
    },
    {
      "cell_type": "code",
      "execution_count": null,
      "metadata": {
        "collapsed": false
      },
      "outputs": [],
      "source": [
        "time = 0\ndt = 0.1\nlower_xbound = -1\nupper_xbound = 1\nlower_ybound = -1\nupper_ybound = 1\nnpoints = 128"
      ]
    },
    {
      "cell_type": "markdown",
      "metadata": {},
      "source": [
        "creating the x, y points which will be used to fit the equation to get\nelevation and generate the surface\n\n"
      ]
    },
    {
      "cell_type": "code",
      "execution_count": null,
      "metadata": {
        "collapsed": false
      },
      "outputs": [],
      "source": [
        "x = np.linspace(lower_xbound, upper_xbound, npoints)\ny = np.linspace(lower_ybound, upper_ybound, npoints)\nx, y = np.meshgrid(x, y)\nx = x.reshape(-1)\ny = y.reshape(-1)"
      ]
    },
    {
      "cell_type": "markdown",
      "metadata": {},
      "source": [
        "Function used to create surface obtained from 2D equation.\n\n"
      ]
    },
    {
      "cell_type": "code",
      "execution_count": null,
      "metadata": {
        "collapsed": false
      },
      "outputs": [],
      "source": [
        "def create_surface(x, y, equation, colormap_name):\n    xyz, colors = update_surface(x, y, equation=equation,\n                                 cmap_name=colormap_name)\n    surf = actor.surface(xyz, colors=colors)\n    surf.equation = equation\n    surf.cmap_name = colormap_name\n    surf.vertices = utils.vertices_from_actor(surf)\n    surf.no_vertices_per_point = len(surf.vertices)/npoints**2\n    surf.initial_vertices = surf.vertices.copy() - \\\n        np.repeat(xyz, surf.no_vertices_per_point, axis=0)\n    return surf"
      ]
    },
    {
      "cell_type": "markdown",
      "metadata": {},
      "source": [
        "Equations to be plotted\n\n"
      ]
    },
    {
      "cell_type": "code",
      "execution_count": null,
      "metadata": {
        "collapsed": false
      },
      "outputs": [],
      "source": [
        "eq1 = \"np.abs(np.sin(x*2*np.pi*np.cos(time/2)))**1*np.cos(time/2)*\\\n      np.abs(np.cos(y*2*np.pi*np.sin(time/2)))**1*np.sin(time/2)*1.2\"\neq2 = \"((x**2 - y**2)/(x**2 + y**2))**(2)*np.cos(6*np.pi*x*y-1.8*time)*0.24\"\neq3 = \"(np.sin(np.pi*2*x-np.sin(1.8*time))*np.cos(np.pi*2*y+np.cos(1.8*time)))\\\n      *0.48\"\neq4 = \"np.cos(24*np.sqrt(x**2 + y**2) - 2*time)*0.18\"\nequations = [eq1, eq2, eq3, eq4]"
      ]
    },
    {
      "cell_type": "markdown",
      "metadata": {},
      "source": [
        "List of colormaps to be used for the various functions.\n\n"
      ]
    },
    {
      "cell_type": "code",
      "execution_count": null,
      "metadata": {
        "collapsed": false
      },
      "outputs": [],
      "source": [
        "cmap_names = ['hot', 'plasma', 'viridis', 'ocean']"
      ]
    },
    {
      "cell_type": "markdown",
      "metadata": {},
      "source": [
        "Creating a list of surfaces.\n\n"
      ]
    },
    {
      "cell_type": "code",
      "execution_count": null,
      "metadata": {
        "collapsed": false
      },
      "outputs": [],
      "source": [
        "surfaces = []\nfor i in range(4):\n    surfaces.append(create_surface(x, y, equation=equations[i],\n                    colormap_name=cmap_names[i]))"
      ]
    },
    {
      "cell_type": "markdown",
      "metadata": {},
      "source": [
        "Creating a scene object and configuring the camera's position\n\n"
      ]
    },
    {
      "cell_type": "code",
      "execution_count": null,
      "metadata": {
        "collapsed": false
      },
      "outputs": [],
      "source": [
        "scene = window.Scene()\nscene.set_camera(position=(4.45, -21, 12), focal_point=(4.45, 0.0, 0.0),\n                 view_up=(0.0, 0.0, 1.0))\nshowm = window.ShowManager(scene, size=(600, 600))"
      ]
    },
    {
      "cell_type": "markdown",
      "metadata": {},
      "source": [
        "Creating a grid to interact with surfaces individually.\n\n"
      ]
    },
    {
      "cell_type": "code",
      "execution_count": null,
      "metadata": {
        "collapsed": false
      },
      "outputs": [],
      "source": [
        "# To store the function names\ntext = []\nfor i in range(4):\n    t_actor = actor.label('Function ' + str(i + 1), pos=(0, 0, 0),\n                          scale=(0.17, 0.2, 0.2))\n    t_actor.SetCamera(scene.camera())\n    text.append(t_actor)\n\ngrid_ui = ui.GridUI(actors=surfaces, captions=text,\n                    caption_offset=(-0.7, -2.5, 0), dim=(1, 4),\n                    cell_padding=2,\n                    aspect_ratio=1,\n                    rotation_axis=(0, 1, 0))\nshowm.scene.add(grid_ui)\n\n# Adding an axes actor to the first surface.\nshowm.scene.add(actor.axes())"
      ]
    },
    {
      "cell_type": "markdown",
      "metadata": {},
      "source": [
        "Initializing text box to print the title of the animation\n\n"
      ]
    },
    {
      "cell_type": "code",
      "execution_count": null,
      "metadata": {
        "collapsed": false
      },
      "outputs": [],
      "source": [
        "tb = ui.TextBlock2D(bold=True, position=(200, 60))\ntb.message = \"Animated 2D functions\"\nscene.add(tb)"
      ]
    },
    {
      "cell_type": "markdown",
      "metadata": {},
      "source": [
        "Initializing showm and counter\n\n"
      ]
    },
    {
      "cell_type": "code",
      "execution_count": null,
      "metadata": {
        "collapsed": false
      },
      "outputs": [],
      "source": [
        "showm.initialize()\ncounter = itertools.count()"
      ]
    },
    {
      "cell_type": "markdown",
      "metadata": {},
      "source": [
        "end is used to decide when to end the animation\n\n"
      ]
    },
    {
      "cell_type": "code",
      "execution_count": null,
      "metadata": {
        "collapsed": false
      },
      "outputs": [],
      "source": [
        "end = 200"
      ]
    },
    {
      "cell_type": "markdown",
      "metadata": {},
      "source": [
        "The 2D functions are updated and rendered here.\n\n"
      ]
    },
    {
      "cell_type": "code",
      "execution_count": null,
      "metadata": {
        "collapsed": false
      },
      "outputs": [],
      "source": [
        "def timer_callback(_obj, _event):\n    global xyz, time\n    time += dt\n    cnt = next(counter)\n\n    # updating the colors and vertices of the triangles used to form the\n    # surfaces\n    for surf in surfaces:\n        xyz, colors = update_surface(x, y, equation=surf.equation,\n                                     cmap_name=surf.cmap_name)\n        utils.update_surface_actor_colors(surf, colors)\n        surf.vertices[:] = surf.initial_vertices + \\\n            np.repeat(xyz, surf.no_vertices_per_point, axis=0)\n        utils.update_actor(surf)\n\n    showm.render()\n    # to end the animation\n    if cnt == end:\n        showm.exit()"
      ]
    },
    {
      "cell_type": "markdown",
      "metadata": {},
      "source": [
        "Run every 30 milliseconds\n\n"
      ]
    },
    {
      "cell_type": "code",
      "execution_count": null,
      "metadata": {
        "collapsed": false
      },
      "outputs": [],
      "source": [
        "showm.add_timer_callback(True, 30, timer_callback)\n\ninteractive = False\nif interactive:\n    showm.start()\n\nwindow.record(showm.scene, size=(600, 600),\n              out_path=\"viz_animated_surfaces.png\")"
      ]
    }
  ],
  "metadata": {
    "kernelspec": {
      "display_name": "Python 3",
      "language": "python",
      "name": "python3"
    },
    "language_info": {
      "codemirror_mode": {
        "name": "ipython",
        "version": 3
      },
      "file_extension": ".py",
      "mimetype": "text/x-python",
      "name": "python",
      "nbconvert_exporter": "python",
      "pygments_lexer": "ipython3",
      "version": "3.7.4"
    }
  },
  "nbformat": 4,
  "nbformat_minor": 0
}