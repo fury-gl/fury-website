{
  "cells": [
    {
      "cell_type": "code",
      "execution_count": null,
      "metadata": {
        "collapsed": false
      },
      "outputs": [],
      "source": [
        "%matplotlib inline"
      ]
    },
    {
      "cell_type": "markdown",
      "metadata": {},
      "source": [
        "\n# Figure and Color Control using Check boxes and Radio Buttons\n\nThis example shows how to use the CheckBox UI API. We will demonstrate how to\ncreate a cube, sphere, cone and arrow and control its color and visibility\nusing checkboxes.\n\nFirst, some imports.\n"
      ]
    },
    {
      "cell_type": "code",
      "execution_count": null,
      "metadata": {
        "collapsed": false
      },
      "outputs": [],
      "source": [
        "from fury import actor, ui, window, utils\nimport numpy as np\nfrom fury.data import fetch_viz_icons"
      ]
    },
    {
      "cell_type": "markdown",
      "metadata": {},
      "source": [
        "First we need to fetch some icons that are included in FURY.\n\n"
      ]
    },
    {
      "cell_type": "code",
      "execution_count": null,
      "metadata": {
        "collapsed": false
      },
      "outputs": [],
      "source": [
        "fetch_viz_icons()"
      ]
    },
    {
      "cell_type": "markdown",
      "metadata": {},
      "source": [
        "We create the corresponding object actors for cube, sphere, cone and arrow.\n\n"
      ]
    },
    {
      "cell_type": "code",
      "execution_count": null,
      "metadata": {
        "collapsed": false
      },
      "outputs": [],
      "source": [
        "cube = actor.cube(centers=np.array([[15, 0, 0]]),\n                  colors=np.array([[0, 0, 1]]),\n                  scales=np.array([[20, 20, 20]]),\n                  directions=np.array([[0, 0, 1]]))\n\nsphere = actor.sphere(centers=np.array([[50, 0, 0]]),\n                      colors=np.array([[0, 0, 1]]),\n                      radii=11.0, theta=360, phi=360)\n\ncone = actor.cone(centers=np.array([[-20, -0.5, 0]]),\n                  directions=np.array([[0, 1, 0]]),\n                  colors=np.array([[0, 0, 1]]),\n                  heights=20, resolution=100)\n\narrow = actor.arrow(centers=np.array([[0, 25, 0]]),\n                    colors=np.array([[0, 0, 1]]),\n                    directions=np.array([[1, 0, 0]]),\n                    heights=40, resolution=100)"
      ]
    },
    {
      "cell_type": "markdown",
      "metadata": {},
      "source": [
        "We perform symmetric difference to determine the unchecked options.\nWe also define methods to render visibility and color.\n\n"
      ]
    },
    {
      "cell_type": "code",
      "execution_count": null,
      "metadata": {
        "collapsed": false
      },
      "outputs": [],
      "source": [
        "# Get difference between two lists.\ndef sym_diff(l1, l2):\n    return list(set(l1).symmetric_difference(set(l2)))\n\n\n# Set Visiblity of the figures\ndef set_figure_visiblity(checkboxes):\n    checked = checkboxes.checked_labels\n    unchecked = sym_diff(list(figure_dict), checked)\n\n    for visible in checked:\n        figure_dict[visible].SetVisibility(True)\n\n    for invisible in unchecked:\n        figure_dict[invisible].SetVisibility(False)\n\n\ndef update_colors(color_array):\n    for _, figure in figure_dict.items():\n        vcolors = utils.colors_from_actor(figure)\n        vcolors[:] = color_array\n        utils.update_actor(figure)\n\n\n# Toggle colors of the figures\ndef toggle_color(checkboxes):\n    colors = checkboxes.checked_labels\n\n    color_array = np.array([0, 0, 0])\n\n    for col in colors:\n        if col == \"Red\":\n            color_array[0] = 255\n        elif col == \"Green\":\n            color_array[1] = 255\n        else:\n            color_array[2] = 255\n\n    update_colors(color_array)"
      ]
    },
    {
      "cell_type": "markdown",
      "metadata": {},
      "source": [
        "We define a dictionary to store the actors with thier names as keys.\nA checkbox is created with actor names as it's options.\n\n"
      ]
    },
    {
      "cell_type": "code",
      "execution_count": null,
      "metadata": {
        "collapsed": false
      },
      "outputs": [],
      "source": [
        "figure_dict = {'cube': cube, 'sphere': sphere, 'cone': cone, 'arrow': arrow}\ncheck_box = ui.Checkbox(list(figure_dict), list(figure_dict),\n                        padding=1, font_size=18, font_family='Arial',\n                        position=(400, 85))"
      ]
    },
    {
      "cell_type": "markdown",
      "metadata": {},
      "source": [
        "A similar checkbox is created for changing colors.\n\n"
      ]
    },
    {
      "cell_type": "code",
      "execution_count": null,
      "metadata": {
        "collapsed": false
      },
      "outputs": [],
      "source": [
        "options = {'Blue': (0, 0, 1), 'Red': (1, 0, 0), 'Green': (0, 1, 0)}\ncolor_toggler = ui.Checkbox(list(options), checked_labels=['Blue'],\n                            padding=1, font_size=16,\n                            font_family='Arial', position=(600, 120))\n\n\ncheck_box.on_change = set_figure_visiblity\ncolor_toggler.on_change = toggle_color"
      ]
    },
    {
      "cell_type": "markdown",
      "metadata": {},
      "source": [
        "## Show Manager\n\nNow that all the elements have been initialised, we add them to the show\nmanager.\n\n"
      ]
    },
    {
      "cell_type": "code",
      "execution_count": null,
      "metadata": {
        "collapsed": false
      },
      "outputs": [],
      "source": [
        "current_size = (1000, 1000)\nshow_manager = window.ShowManager(size=current_size,\n                                  title=\"FURY Checkbox Example\")\n\nshow_manager.scene.add(cube)\nshow_manager.scene.add(sphere)\nshow_manager.scene.add(cone)\nshow_manager.scene.add(arrow)\nshow_manager.scene.add(check_box)\nshow_manager.scene.add(color_toggler)"
      ]
    },
    {
      "cell_type": "markdown",
      "metadata": {},
      "source": [
        "Set camera for better visualization\n\n"
      ]
    },
    {
      "cell_type": "code",
      "execution_count": null,
      "metadata": {
        "collapsed": false
      },
      "outputs": [],
      "source": [
        "show_manager.scene.reset_camera()\nshow_manager.scene.set_camera(position=(0, 0, 150))\nshow_manager.scene.reset_clipping_range()\nshow_manager.scene.azimuth(30)\ninteractive = False\n\nif interactive:\n    show_manager.start()\n\nwindow.record(show_manager.scene,\n              size=current_size, out_path=\"viz_checkbox.png\")"
      ]
    }
  ],
  "metadata": {
    "kernelspec": {
      "display_name": "Python 3",
      "language": "python",
      "name": "python3"
    },
    "language_info": {
      "codemirror_mode": {
        "name": "ipython",
        "version": 3
      },
      "file_extension": ".py",
      "mimetype": "text/x-python",
      "name": "python",
      "nbconvert_exporter": "python",
      "pygments_lexer": "ipython3",
      "version": "3.9.13"
    }
  },
  "nbformat": 4,
  "nbformat_minor": 0
}