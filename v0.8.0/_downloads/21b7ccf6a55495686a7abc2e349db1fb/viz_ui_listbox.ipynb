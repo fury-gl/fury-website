{
  "cells": [
    {
      "cell_type": "code",
      "execution_count": null,
      "metadata": {
        "collapsed": false
      },
      "outputs": [],
      "source": [
        "%matplotlib inline"
      ]
    },
    {
      "cell_type": "markdown",
      "metadata": {},
      "source": [
        "\n# ListBox\n\n\nThis example shows how to use the UI API. We will create a list\nsome geometric shapes from FURY UI elements.\n\nFirst, a bunch of imports.\n"
      ]
    },
    {
      "cell_type": "code",
      "execution_count": null,
      "metadata": {
        "collapsed": false
      },
      "outputs": [],
      "source": [
        "from fury import ui, window\nfrom fury.data import fetch_viz_icons"
      ]
    },
    {
      "cell_type": "markdown",
      "metadata": {},
      "source": [
        "First we need to fetch some icons that are included in FURY.\n\n"
      ]
    },
    {
      "cell_type": "code",
      "execution_count": null,
      "metadata": {
        "collapsed": false
      },
      "outputs": [],
      "source": [
        "fetch_viz_icons()"
      ]
    },
    {
      "cell_type": "markdown",
      "metadata": {},
      "source": [
        "Create some text blocks that will be showm when\nlist elements will be selected\n\n"
      ]
    },
    {
      "cell_type": "code",
      "execution_count": null,
      "metadata": {
        "collapsed": false
      },
      "outputs": [],
      "source": [
        "welcome_text = ui.TextBlock2D(text=\"Welcome\", font_size=30,\n                              position=(500, 400))\nbye_text = ui.TextBlock2D(text=\"Bye\", font_size=30, position=(500, 400))\nfury_text = ui.TextBlock2D(text=\"Fury\", font_size=30, position=(500, 400))\n\nexample = [welcome_text, bye_text, fury_text]"
      ]
    },
    {
      "cell_type": "markdown",
      "metadata": {},
      "source": [
        "Hide these text blocks for now\n\n"
      ]
    },
    {
      "cell_type": "code",
      "execution_count": null,
      "metadata": {
        "collapsed": false
      },
      "outputs": [],
      "source": [
        "def hide_all_examples():\n    for element in example:\n        element.set_visibility(False)\n\n\nhide_all_examples()"
      ]
    },
    {
      "cell_type": "markdown",
      "metadata": {},
      "source": [
        "Create ListBox with the values as parameter.\n\n"
      ]
    },
    {
      "cell_type": "code",
      "execution_count": null,
      "metadata": {
        "collapsed": false
      },
      "outputs": [],
      "source": [
        "values = [\"Welcome\", \"Bye\", \"Fury\"]\nlistbox = ui.ListBox2D(\n    values=values, position=(10, 300), size=(200, 200), multiselection=False\n)"
      ]
    },
    {
      "cell_type": "markdown",
      "metadata": {},
      "source": [
        "Function to show selected element.\n\n"
      ]
    },
    {
      "cell_type": "code",
      "execution_count": null,
      "metadata": {
        "collapsed": false
      },
      "outputs": [],
      "source": [
        "def display_element():\n    hide_all_examples()\n    element = example[values.index(listbox.selected[0])]\n    element.set_visibility(True)\n\n\nlistbox.on_change = display_element"
      ]
    },
    {
      "cell_type": "markdown",
      "metadata": {},
      "source": [
        "Now that all the elements have been initialised, we add them to the show\nmanager.\n\n"
      ]
    },
    {
      "cell_type": "code",
      "execution_count": null,
      "metadata": {
        "collapsed": false
      },
      "outputs": [],
      "source": [
        "current_size = (800, 800)\nshow_manager = window.ShowManager(size=current_size,\n                                  title=\"FURY UI ListBox_Example\")\n\nshow_manager.scene.add(listbox)\nshow_manager.scene.add(welcome_text)\nshow_manager.scene.add(bye_text)\nshow_manager.scene.add(fury_text)\ninteractive = False\n\nif interactive:\n    show_manager.start()\n\nwindow.record(show_manager.scene,\n              size=current_size, out_path=\"viz_listbox.png\")"
      ]
    }
  ],
  "metadata": {
    "kernelspec": {
      "display_name": "Python 3",
      "language": "python",
      "name": "python3"
    },
    "language_info": {
      "codemirror_mode": {
        "name": "ipython",
        "version": 3
      },
      "file_extension": ".py",
      "mimetype": "text/x-python",
      "name": "python",
      "nbconvert_exporter": "python",
      "pygments_lexer": "ipython3",
      "version": "3.7.4"
    }
  },
  "nbformat": 4,
  "nbformat_minor": 0
}