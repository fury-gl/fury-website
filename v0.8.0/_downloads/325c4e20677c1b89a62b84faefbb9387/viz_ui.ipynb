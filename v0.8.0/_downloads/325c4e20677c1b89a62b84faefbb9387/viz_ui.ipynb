{
  "cells": [
    {
      "cell_type": "code",
      "execution_count": null,
      "metadata": {
        "collapsed": false
      },
      "outputs": [],
      "source": [
        "%matplotlib inline"
      ]
    },
    {
      "cell_type": "markdown",
      "metadata": {},
      "source": [
        "\n# User Interfaces\n\nThis example shows how to use the UI API. We will demonstrate how to create\nseveral FURY UI elements, then use a list box to toggle which element is shown.\n\nFirst, a bunch of imports.\n"
      ]
    },
    {
      "cell_type": "code",
      "execution_count": null,
      "metadata": {
        "collapsed": false
      },
      "outputs": [],
      "source": [
        "from fury.data import read_viz_icons, fetch_viz_icons\nfrom fury import ui, window, actor\nimport numpy as np"
      ]
    },
    {
      "cell_type": "markdown",
      "metadata": {},
      "source": [
        "## Shapes\n\nLet's start by drawing some simple shapes. First, a rectangle.\n\n"
      ]
    },
    {
      "cell_type": "code",
      "execution_count": null,
      "metadata": {
        "collapsed": false
      },
      "outputs": [],
      "source": [
        "rect = ui.Rectangle2D(size=(200, 200), position=(400, 300), color=(1, 0, 1))"
      ]
    },
    {
      "cell_type": "markdown",
      "metadata": {},
      "source": [
        "Then we can draw a solid circle, or disk.\n\n"
      ]
    },
    {
      "cell_type": "code",
      "execution_count": null,
      "metadata": {
        "collapsed": false
      },
      "outputs": [],
      "source": [
        "disk = ui.Disk2D(outer_radius=50, center=(500, 500), color=(1, 1, 0))"
      ]
    },
    {
      "cell_type": "markdown",
      "metadata": {},
      "source": [
        "Add an inner radius to make a ring.\n\n"
      ]
    },
    {
      "cell_type": "code",
      "execution_count": null,
      "metadata": {
        "collapsed": false
      },
      "outputs": [],
      "source": [
        "ring = ui.Disk2D(outer_radius=50, inner_radius=45, center=(500, 300),\n                 color=(0, 1, 1))"
      ]
    },
    {
      "cell_type": "markdown",
      "metadata": {},
      "source": [
        "## Image\n\nNow let's display an image. First we need to fetch some icons that are\nincluded in FURY.\n\n"
      ]
    },
    {
      "cell_type": "code",
      "execution_count": null,
      "metadata": {
        "collapsed": false
      },
      "outputs": [],
      "source": [
        "fetch_viz_icons()"
      ]
    },
    {
      "cell_type": "markdown",
      "metadata": {},
      "source": [
        "Now we can create an image container.\n\n"
      ]
    },
    {
      "cell_type": "code",
      "execution_count": null,
      "metadata": {
        "collapsed": false
      },
      "outputs": [],
      "source": [
        "img = ui.ImageContainer2D(img_path=read_viz_icons(fname='home3.png'),\n                          position=(450, 350))"
      ]
    },
    {
      "cell_type": "markdown",
      "metadata": {},
      "source": [
        "## Panel with buttons and text\n\nLet's create some buttons and text and put them in a panel. First we'll\nmake the panel.\n\n"
      ]
    },
    {
      "cell_type": "code",
      "execution_count": null,
      "metadata": {
        "collapsed": false
      },
      "outputs": [],
      "source": [
        "panel = ui.Panel2D(size=(300, 150), color=(1, 1, 1), align=\"right\")\npanel.center = (500, 400)"
      ]
    },
    {
      "cell_type": "markdown",
      "metadata": {},
      "source": [
        "Then we'll make two text labels and place them on the panel.\nNote that we specifiy the position with integer numbers of pixels.\n\n"
      ]
    },
    {
      "cell_type": "code",
      "execution_count": null,
      "metadata": {
        "collapsed": false
      },
      "outputs": [],
      "source": [
        "text = ui.TextBlock2D(text='Click me')\ntext2 = ui.TextBlock2D(text='Me too')\npanel.add_element(text, (50, 100))\npanel.add_element(text2, (180, 100))"
      ]
    },
    {
      "cell_type": "markdown",
      "metadata": {},
      "source": [
        "Then we'll create two buttons and add them to the panel.\n\nNote that here we specify the positions with floats. In this case, these are\npercentages of the panel size.\n\n"
      ]
    },
    {
      "cell_type": "code",
      "execution_count": null,
      "metadata": {
        "collapsed": false
      },
      "outputs": [],
      "source": [
        "button_example = ui.Button2D(\n    icon_fnames=[('square', read_viz_icons(fname='stop2.png'))])\n\nicon_files = []\nicon_files.append(('down', read_viz_icons(fname='circle-down.png')))\nicon_files.append(('left', read_viz_icons(fname='circle-left.png')))\nicon_files.append(('up', read_viz_icons(fname='circle-up.png')))\nicon_files.append(('right', read_viz_icons(fname='circle-right.png')))\n\nsecond_button_example = ui.Button2D(icon_fnames=icon_files)\n\npanel.add_element(button_example, (0.25, 0.33))\npanel.add_element(second_button_example, (0.66, 0.33))"
      ]
    },
    {
      "cell_type": "markdown",
      "metadata": {},
      "source": [
        "We can add a callback to each button to perform some action.\n\n"
      ]
    },
    {
      "cell_type": "code",
      "execution_count": null,
      "metadata": {
        "collapsed": false
      },
      "outputs": [],
      "source": [
        "def change_text_callback(i_ren, _obj, _button):\n    text.message = 'Clicked!'\n    i_ren.force_render()\n\n\ndef change_icon_callback(i_ren, _obj, _button):\n    _button.next_icon()\n    i_ren.force_render()\n\n\nbutton_example.on_left_mouse_button_clicked = change_text_callback\nsecond_button_example.on_left_mouse_button_pressed = change_icon_callback"
      ]
    },
    {
      "cell_type": "markdown",
      "metadata": {},
      "source": [
        "## Cube and sliders\n\nLet's add a cube to the scene and control it with sliders.\n\n"
      ]
    },
    {
      "cell_type": "code",
      "execution_count": null,
      "metadata": {
        "collapsed": false
      },
      "outputs": [],
      "source": [
        "cube = actor.cube(centers=np.array([[15, 0, 0]]),\n                  colors=np.array([[0, 0, 1]]),\n                  scales=np.array([[20, 20, 20]]),\n                  directions=np.array([[0, 0, 1]]))"
      ]
    },
    {
      "cell_type": "markdown",
      "metadata": {},
      "source": [
        "Now we'll add three sliders: one circular and two linear.\n\n"
      ]
    },
    {
      "cell_type": "code",
      "execution_count": null,
      "metadata": {
        "collapsed": false
      },
      "outputs": [],
      "source": [
        "ring_slider = ui.RingSlider2D(center=(740, 400), initial_value=0,\n                              text_template=\"{angle:5.1f}\u00b0\")\n\nline_slider_x = ui.LineSlider2D(center=(500, 250), initial_value=0,\n                                min_value=-10, max_value=10,\n                                orientation=\"horizontal\")\n\nline_slider_y = ui.LineSlider2D(center=(650, 350), initial_value=0,\n                                min_value=-10, max_value=10,\n                                orientation=\"vertical\")"
      ]
    },
    {
      "cell_type": "markdown",
      "metadata": {},
      "source": [
        "We can use a callback to rotate the cube with the ring slider.\n\n"
      ]
    },
    {
      "cell_type": "code",
      "execution_count": null,
      "metadata": {
        "collapsed": false
      },
      "outputs": [],
      "source": [
        "def rotate_cube(slider):\n    angle = slider.value\n    previous_angle = slider.previous_value\n    rotation_angle = angle - previous_angle\n    cube.RotateX(rotation_angle)\n\n\nring_slider.on_change = rotate_cube"
      ]
    },
    {
      "cell_type": "markdown",
      "metadata": {},
      "source": [
        "Similarly, we can translate the cube with line sliders.\nWe use global variables to keep track of the position of the cube.\n\n"
      ]
    },
    {
      "cell_type": "code",
      "execution_count": null,
      "metadata": {
        "collapsed": false
      },
      "outputs": [],
      "source": [
        "cube_x = 0\ncube_y = 0\n\n\ndef translate_cube_x(slider):\n    global cube_x, cube_y\n    cube_x = slider.value\n    cube.SetPosition(cube_x, cube_y, 0)\n\n\ndef translate_cube_y(slider):\n    global cube_x, cube_y\n    cube_y = slider.value\n    cube.SetPosition(cube_x, cube_y, 0)\n\n\nline_slider_x.on_change = translate_cube_x\nline_slider_y.on_change = translate_cube_y"
      ]
    },
    {
      "cell_type": "markdown",
      "metadata": {},
      "source": [
        "## Range Slider\n\nFinally, we can add a range slider. This element is composed of two sliders.\nThe first slider has two handles which let you set the range of the second.\n\n"
      ]
    },
    {
      "cell_type": "code",
      "execution_count": null,
      "metadata": {
        "collapsed": false
      },
      "outputs": [],
      "source": [
        "range_slider_x = ui.RangeSlider(\n    line_width=8, handle_side=25, range_slider_center=(450, 450),\n    value_slider_center=(450, 350), length=150, min_value=0,\n    max_value=10, font_size=18, range_precision=2, value_precision=4,\n    shape=\"square\")\n\nrange_slider_y = ui.RangeSlider(\n    line_width=8, handle_side=25, range_slider_center=(750, 400),\n    value_slider_center=(650, 400), length=150, min_value=0,\n    max_value=10, font_size=18, range_precision=2, value_precision=4,\n    orientation=\"vertical\", shape=\"square\")"
      ]
    },
    {
      "cell_type": "markdown",
      "metadata": {},
      "source": [
        "## Select menu\n\nWe just added many examples. If we showed them all at once, they would fill\nthe screen. Let's make a simple menu to choose which example is shown.\n\nWe'll first make a list of the examples.\n\n"
      ]
    },
    {
      "cell_type": "code",
      "execution_count": null,
      "metadata": {
        "collapsed": false
      },
      "outputs": [],
      "source": [
        "examples = [[rect], [disk, ring], [img], [panel],\n            [ring_slider, line_slider_x, line_slider_y],\n            [range_slider_x, range_slider_y]]"
      ]
    },
    {
      "cell_type": "markdown",
      "metadata": {},
      "source": [
        "Now we'll make a function to hide all the examples. Then we'll call it so\nthat none are shown initially.\n\n"
      ]
    },
    {
      "cell_type": "code",
      "execution_count": null,
      "metadata": {
        "collapsed": false
      },
      "outputs": [],
      "source": [
        "def hide_all_examples():\n    for example in examples:\n        for element in example:\n            element.set_visibility(False)\n    cube.SetVisibility(False)\n\n\nhide_all_examples()"
      ]
    },
    {
      "cell_type": "markdown",
      "metadata": {},
      "source": [
        "To make the menu, we'll first need to create a list of labels which\ncorrespond with the examples.\n\n"
      ]
    },
    {
      "cell_type": "code",
      "execution_count": null,
      "metadata": {
        "collapsed": false
      },
      "outputs": [],
      "source": [
        "values = ['Rectangle', 'Disks', 'Image', \"Button Panel\",\n          \"Line & Ring Slider\", \"Range Slider\"]"
      ]
    },
    {
      "cell_type": "markdown",
      "metadata": {},
      "source": [
        "Now we can create the menu.\n\n"
      ]
    },
    {
      "cell_type": "code",
      "execution_count": null,
      "metadata": {
        "collapsed": false
      },
      "outputs": [],
      "source": [
        "listbox = ui.ListBox2D(values=values, position=(10, 300), size=(300, 200),\n                       multiselection=False)"
      ]
    },
    {
      "cell_type": "markdown",
      "metadata": {},
      "source": [
        "Then we will use a callback to show the correct example when a label is\nclicked.\n\n"
      ]
    },
    {
      "cell_type": "code",
      "execution_count": null,
      "metadata": {
        "collapsed": false
      },
      "outputs": [],
      "source": [
        "def display_element():\n    hide_all_examples()\n    example = examples[values.index(listbox.selected[0])]\n    for element in example:\n        element.set_visibility(True)\n    if values.index(listbox.selected[0]) == 4:\n        cube.SetVisibility(True)\n\n\nlistbox.on_change = display_element"
      ]
    },
    {
      "cell_type": "markdown",
      "metadata": {},
      "source": [
        "## Show Manager\n\nNow that all the elements have been initialised, we add them to the show\nmanager.\n\n"
      ]
    },
    {
      "cell_type": "code",
      "execution_count": null,
      "metadata": {
        "collapsed": false
      },
      "outputs": [],
      "source": [
        "current_size = (800, 800)\nshow_manager = window.ShowManager(size=current_size, title=\"FURY UI Example\")\n\nshow_manager.scene.add(listbox)\nfor example in examples:\n    for element in example:\n        show_manager.scene.add(element)\nshow_manager.scene.add(cube)\nshow_manager.scene.reset_camera()\nshow_manager.scene.set_camera(position=(0, 0, 200))\nshow_manager.scene.reset_clipping_range()\nshow_manager.scene.azimuth(30)\n\n# To interact with the UI, set interactive = True\ninteractive = False\n\nif interactive:\n    show_manager.start()\n\nwindow.record(show_manager.scene, size=current_size, out_path=\"viz_ui.png\")"
      ]
    }
  ],
  "metadata": {
    "kernelspec": {
      "display_name": "Python 3",
      "language": "python",
      "name": "python3"
    },
    "language_info": {
      "codemirror_mode": {
        "name": "ipython",
        "version": 3
      },
      "file_extension": ".py",
      "mimetype": "text/x-python",
      "name": "python",
      "nbconvert_exporter": "python",
      "pygments_lexer": "ipython3",
      "version": "3.9.13"
    }
  },
  "nbformat": 4,
  "nbformat_minor": 0
}